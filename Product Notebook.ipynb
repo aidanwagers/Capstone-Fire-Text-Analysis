{
 "cells": [
  {
   "cell_type": "markdown",
   "id": "6c4c624d",
   "metadata": {},
   "source": [
    "# Table of Contents"
   ]
  },
  {
   "cell_type": "code",
   "execution_count": 1,
   "id": "51dc3619",
   "metadata": {},
   "outputs": [
    {
     "data": {
      "application/javascript": [
       "Jupyter.notebook.execute_cells([0]);\n"
      ],
      "text/plain": [
       "<IPython.core.display.Javascript object>"
      ]
     },
     "metadata": {},
     "output_type": "display_data"
    }
   ],
   "source": [
    "%%javascript\n",
    "Jupyter.notebook.execute_cells([0]);"
   ]
  },
  {
   "cell_type": "markdown",
   "id": "27ed07b6",
   "metadata": {},
   "source": [
    "# Introduction"
   ]
  },
  {
   "cell_type": "markdown",
   "id": "b377e5a2",
   "metadata": {},
   "source": [
    "## Overview"
   ]
  },
  {
   "cell_type": "code",
   "execution_count": null,
   "id": "a3780c73",
   "metadata": {},
   "outputs": [],
   "source": []
  },
  {
   "cell_type": "markdown",
   "id": "bb2858d7",
   "metadata": {},
   "source": [
    "# Imports"
   ]
  },
  {
   "cell_type": "markdown",
   "id": "f49e44ef",
   "metadata": {},
   "source": [
    "In the below cell I import a variety of python libraries and modules, preparing my notebook for text analysis, natural language processing, machine learning, and more."
   ]
  },
  {
   "cell_type": "code",
   "execution_count": 1,
   "id": "18fcc8ee",
   "metadata": {},
   "outputs": [
    {
     "name": "stderr",
     "output_type": "stream",
     "text": [
      "[nltk_data] Downloading package punkt to\n",
      "[nltk_data]     C:\\Users\\aidan\\AppData\\Roaming\\nltk_data...\n",
      "[nltk_data]   Package punkt is already up-to-date!\n",
      "[nltk_data] Downloading package words to\n",
      "[nltk_data]     C:\\Users\\aidan\\AppData\\Roaming\\nltk_data...\n",
      "[nltk_data]   Package words is already up-to-date!\n"
     ]
    }
   ],
   "source": [
    "import nltk\n",
    "from datetime import timedelta\n",
    "import os\n",
    "from nltk.corpus import stopwords\n",
    "import numpy as np\n",
    "import sqlite3\n",
    "from collections import Counter, defaultdict\n",
    "from string import punctuation\n",
    "import re\n",
    "import pandas as pd\n",
    "import matplotlib.pyplot as plt\n",
    "from pprint import pprint\n",
    "sw = stopwords.words('english')\n",
    "import janitor\n",
    "import spacy\n",
    "from textblob import TextBlob\n",
    "tb = TextBlob('')\n",
    "from spacytextblob.spacytextblob import SpacyTextBlob\n",
    "nlp = spacy.load('en_core_web_lg')\n",
    "import seaborn as sns\n",
    "import scipy.stats as stats\n",
    "from scipy.stats import kruskal\n",
    "from gensim.models import CoherenceModel\n",
    "from gensim import corpora\n",
    "from gensim.models.ldamodel import LdaModel\n",
    "import importlib\n",
    "import ipywidgets as widgets\n",
    "from ipywidgets import Layout\n",
    "from ipywidgets import interact_manual, interactive_output\n",
    "from IPython.display import display, clear_output\n",
    "import pyLDAvis.gensim_models as gensimvis\n",
    "import pyLDAvis\n",
    "import spacy\n",
    "import math\n",
    "from textblob import TextBlob\n",
    "tb = TextBlob('')\n",
    "from spacytextblob.spacytextblob import SpacyTextBlob\n",
    "from sklearn.feature_extraction.text import TfidfVectorizer\n",
    "from sklearn.model_selection import train_test_split\n",
    "from sklearn.metrics.pairwise import cosine_similarity\n",
    "from sklearn.ensemble import StackingClassifier\n",
    "from sklearn.naive_bayes import MultinomialNB\n",
    "from sklearn.metrics import accuracy_score\n",
    "from sklearn.ensemble import RandomForestClassifier\n",
    "from sklearn.ensemble import BaggingClassifier\n",
    "from sklearn.svm import SVC\n",
    "from sklearn.neighbors import KNeighborsClassifier\n",
    "from sklearn.multiclass import OneVsRestClassifier\n",
    "from sklearn.preprocessing import LabelEncoder\n",
    "from random import randint\n",
    "from sklearn.model_selection import RandomizedSearchCV\n",
    "import winsound\n",
    "from sklearn.model_selection import cross_val_score\n",
    "from sklearn.metrics import classification_report, confusion_matrix\n",
    "from sklearn.linear_model import LogisticRegression\n",
    "from spellchecker import SpellChecker\n",
    "from textblob import TextBlob\n",
    "import eli5\n",
    "from eli5.sklearn import PermutationImportance\n",
    "import warnings\n",
    "with warnings.catch_warnings():\n",
    "    warnings.simplefilter(\"ignore\")\n",
    "    nltk.download('punkt')\n",
    "    nltk.download('words')\n",
    "from sklearn.model_selection import GridSearchCV\n",
    "from nltk.tokenize import word_tokenize\n",
    "from nltk.probability import FreqDist\n",
    "from nltk.corpus import words\n",
    "from nltk.util import ngrams\n",
    "import random\n",
    "from wordcloud import WordCloud\n",
    "import xgboost as xgb\n",
    "import matplotlib.dates as mdates"
   ]
  },
  {
   "cell_type": "markdown",
   "id": "b07d36e3",
   "metadata": {},
   "source": [
    "Here I import functions I have built for cleaning the data."
   ]
  },
  {
   "cell_type": "code",
   "execution_count": 2,
   "id": "c5ac98c5",
   "metadata": {},
   "outputs": [
    {
     "name": "stderr",
     "output_type": "stream",
     "text": [
      "[nltk_data] Downloading package punkt to\n",
      "[nltk_data]     C:\\Users\\aidan\\AppData\\Roaming\\nltk_data...\n",
      "[nltk_data]   Package punkt is already up-to-date!\n"
     ]
    }
   ],
   "source": [
    "from oarrCleaning import OARR_Clean_and_Check, cl_names"
   ]
  },
  {
   "cell_type": "code",
   "execution_count": 3,
   "id": "4031c489",
   "metadata": {
    "scrolled": true
   },
   "outputs": [],
   "source": [
    "#Read in the data from a csv\n",
    "OARR = pd.read_csv(\"OA_RRA_l2.csv\", encoding='latin-1')"
   ]
  },
  {
   "cell_type": "markdown",
   "id": "5f84cec5",
   "metadata": {},
   "source": [
    "# Basic Cleaning and Prep"
   ]
  },
  {
   "cell_type": "markdown",
   "id": "43c6ff24",
   "metadata": {},
   "source": [
    "In the below cells, I first utilize pyjanitor to clean the column names in the df. I then utilize a custom function that I created to perform the following tasks on the data:\n",
    "\n",
    "- Fix an erroneous entry in the geo_area_name column\n",
    "- Check the geo_area_name column for proper completion\n",
    "- Ensure that each entry has a unique identifier\n",
    "- Check the fire_name column and print any nan values\n",
    "- Other column quality checks (see function file for a full breakdown)"
   ]
  },
  {
   "cell_type": "code",
   "execution_count": 4,
   "id": "4e175807",
   "metadata": {
    "scrolled": true
   },
   "outputs": [],
   "source": [
    "#Use a function to clean column names\n",
    "OARR = cl_names(OARR)"
   ]
  },
  {
   "cell_type": "code",
   "execution_count": 5,
   "id": "dbad6caf",
   "metadata": {},
   "outputs": [
    {
     "name": "stdout",
     "output_type": "stream",
     "text": [
      "The row(s) at index Index([3890, 4050, 8616, 16751, 16752, 16753, 16754, 16755, 16756, 16757], dtype='int64') have 'nan' string values in 'fire_name'.\n"
     ]
    }
   ],
   "source": [
    "#Multi-step cleaning function for the data\n",
    "OARR_Clean_and_Check(OARR)"
   ]
  },
  {
   "cell_type": "markdown",
   "id": "b2d9dbb9",
   "metadata": {},
   "source": [
    "# Process Text"
   ]
  },
  {
   "cell_type": "markdown",
   "id": "f0f2ccd5",
   "metadata": {},
   "source": [
    "In this section of the notebook I use functions I have built to process the text data in the fire reports. Below, I import said functions."
   ]
  },
  {
   "cell_type": "code",
   "execution_count": 6,
   "id": "11f53ca4",
   "metadata": {},
   "outputs": [
    {
     "name": "stderr",
     "output_type": "stream",
     "text": [
      "[nltk_data] Downloading package punkt to\n",
      "[nltk_data]     C:\\Users\\aidan\\AppData\\Roaming\\nltk_data...\n",
      "[nltk_data]   Package punkt is already up-to-date!\n"
     ]
    }
   ],
   "source": [
    "#Import text functions I have made\n",
    "from text_functions import set_columns_to_string, process_text_column, categorize_columns, firestops, get_last_value"
   ]
  },
  {
   "cell_type": "code",
   "execution_count": 7,
   "id": "53f0bba9",
   "metadata": {},
   "outputs": [],
   "source": [
    "OARR = OARR.assign(wfdss_risk=(OARR['wfdss_id'].astype(str) + \" - \" + OARR['rrf_rr_desc']))\n",
    "\n",
    "column_order = ['wfdss_risk'] + [col for col in OARR.columns if col != 'wfdss_risk']\n",
    "\n",
    "OARR = OARR[column_order]\n",
    "\n",
    "if 'unnamed_0' in OARR.columns:\n",
    "    OARR = OARR.drop('unnamed_0', axis=1)"
   ]
  },
  {
   "cell_type": "code",
   "execution_count": 8,
   "id": "d3282091",
   "metadata": {},
   "outputs": [],
   "source": [
    "notes = []\n",
    "for column in OARR.columns:\n",
    "    if 'notes' in column:\n",
    "        notes.append(column) \n",
    "        \n",
    "descs = []\n",
    "for column in OARR.columns:\n",
    "    if 'desc' in column:\n",
    "        descs.append(column)\n",
    "        \n",
    "ids =[]\n",
    "for column in OARR.columns:\n",
    "    if '_id' in column:\n",
    "        ids.append(column)\n",
    "        \n",
    "ctk = ids + notes + descs\n",
    "\n",
    "x_notes = notes + ['combined_text']\n",
    "\n",
    "text_risk_id = OARR[ctk]"
   ]
  },
  {
   "cell_type": "code",
   "execution_count": 9,
   "id": "42006500",
   "metadata": {},
   "outputs": [],
   "source": [
    "unique_sentence_dict = {col: {} for col in notes}\n",
    "combined_text = []"
   ]
  },
  {
   "cell_type": "code",
   "execution_count": 10,
   "id": "b7745452",
   "metadata": {
    "scrolled": true
   },
   "outputs": [],
   "source": [
    "grouped_df = OARR.groupby('wfdss_risk')\n",
    "for fire_id, group_df in grouped_df:\n",
    "    for column_name in notes:\n",
    "        tokens = process_text_column(group_df, column_name)\n",
    "        \n",
    "        # Store the unique tokens for each column in a sub-dictionary\n",
    "        unique_sentence_dict[column_name][fire_id] = tokens\n",
    "        \n",
    "        for token in tokens:\n",
    "            if token not in combined_text:\n",
    "                combined_text.append(token)"
   ]
  },
  {
   "cell_type": "code",
   "execution_count": 11,
   "id": "51d2c3a5",
   "metadata": {},
   "outputs": [],
   "source": [
    "temp = pd.DataFrame(unique_sentence_dict)\n",
    "temp.reset_index(inplace=True)\n",
    "temp.rename(columns={'index': 'wfdss_risk'}, inplace=True)\n",
    "\n",
    "for col in notes:\n",
    "    temp[col] = temp[col].apply(lambda x: ' '.join(x) if isinstance(x, list) else x)\n",
    "\n",
    "temp.replace(\"\", np.nan, inplace=True)\n",
    "temp['combined_text'] = temp.apply(lambda row: ' '.join(str(x) for x in row.drop(['wfdss_risk']) if isinstance(x, str)), axis=1)"
   ]
  },
  {
   "cell_type": "code",
   "execution_count": 12,
   "id": "a2c5f8b4",
   "metadata": {},
   "outputs": [],
   "source": [
    "if 'combined_text' in temp.columns:\n",
    "    temp = temp.drop('combined_text', axis =1)\n",
    "\n",
    "for col in notes:\n",
    "    temp[col] = temp[col].fillna(\"\")  \n",
    "    temp[col] = temp[col].apply(lambda raw: \" \".join(raw.split()) if isinstance(raw, str) else raw)\n",
    "    temp[col] = temp[col].apply(lambda raw: \" \".join([t.lower() for t in raw.split() if t.lower().isalpha() and t.lower() not in sw and t.lower() not in firestops]) if isinstance(raw, str) else \"\")"
   ]
  },
  {
   "cell_type": "code",
   "execution_count": 13,
   "id": "8d5b6c7f",
   "metadata": {},
   "outputs": [],
   "source": [
    "grouped_df2 = OARR.groupby('wfdss_risk')"
   ]
  },
  {
   "cell_type": "code",
   "execution_count": 14,
   "id": "dfae9c70",
   "metadata": {},
   "outputs": [],
   "source": [
    "result_df = grouped_df2.apply(lambda group: group.apply(get_last_value))\n",
    "\n",
    "result_df.reset_index(drop=True, inplace=True)\n"
   ]
  },
  {
   "cell_type": "code",
   "execution_count": 15,
   "id": "b165e776",
   "metadata": {},
   "outputs": [],
   "source": [
    "for column in notes:\n",
    "    result_df[column] = temp[column]\n",
    "data = result_df\n",
    "data['combined_text'] = data[[col for col in notes]].apply(lambda row: ' '.join(row), axis=1)"
   ]
  },
  {
   "cell_type": "code",
   "execution_count": 16,
   "id": "d787f1d1",
   "metadata": {},
   "outputs": [],
   "source": [
    "for id_ in data['wfdss_risk'].unique():\n",
    "    mask = data['wfdss_risk'] == id_\n",
    "\n",
    "    for col in notes:\n",
    "        for i, row in data[mask].iterrows():\n",
    "            if i > 0 and not pd.isnull(row[col]) and not pd.isnull(data.loc[i - 1, col]):\n",
    "                previous_text = data.loc[i - 1, col]\n",
    "                current_text = row[col]\n",
    "                new_text = current_text.replace(previous_text, '').strip()\n",
    "                data.at[i, col] = new_text\n",
    "\n",
    "data['combined_text'] = data[notes].apply(lambda row: ' '.join(row), axis=1)\n"
   ]
  },
  {
   "cell_type": "markdown",
   "id": "96b137aa",
   "metadata": {},
   "source": [
    "# Data Overview "
   ]
  },
  {
   "cell_type": "markdown",
   "id": "f24afd5b",
   "metadata": {},
   "source": [
    "## The Reports"
   ]
  },
  {
   "cell_type": "code",
   "execution_count": 17,
   "id": "6ba0725f",
   "metadata": {},
   "outputs": [
    {
     "name": "stdout",
     "output_type": "stream",
     "text": [
      "The earliest fire report in the data is: 2011-04-28 17:10:00\n",
      "The most recent fire report in the data is: 2022-11-23 13:27:00\n",
      "In total, the data is comprised of 7665 entries over about 4226 days and 6195 unique fire-risk combinations. \n"
     ]
    }
   ],
   "source": [
    "data['start_date_time'] = pd.to_datetime(data['start_date_time'])\n",
    "\n",
    "# Date and Fire Summary Statistics\n",
    "earliest_date_time = data['start_date_time'].min()\n",
    "newest_date_time = data['start_date_time'].max()\n",
    "date_diff = newest_date_time - earliest_date_time\n",
    "total_rows = len(data)\n",
    "total_fires = len(data['wfdss_id'].unique())\n",
    "\n",
    "print(\"The earliest fire report in the data is:\", earliest_date_time)\n",
    "print(\"The most recent fire report in the data is:\", newest_date_time)\n",
    "print(f\"In total, the data is comprised of {total_rows} entries over about {date_diff.days} days and {total_fires} unique fire-risk combinations. \")"
   ]
  },
  {
   "cell_type": "markdown",
   "id": "6332cca9",
   "metadata": {},
   "source": [
    "## Risk Changes"
   ]
  },
  {
   "cell_type": "code",
   "execution_count": 18,
   "id": "58eff4d0",
   "metadata": {},
   "outputs": [
    {
     "data": {
      "image/png": "[encoded data removed]",
      "text/plain": [
       "<Figure size 432x288 with 1 Axes>"
      ]
     },
     "metadata": {
      "needs_background": "light"
     },
     "output_type": "display_data"
    }
   ],
   "source": [
    "entry_counts = data['wfdss_id'].value_counts()\n",
    "\n",
    "# Plot the distribution of entry counts\n",
    "entry_counts.value_counts().sort_index().plot(kind='bar', color='skyblue')\n",
    "plt.title('Distribution of Entry Counts per ID')\n",
    "plt.xlabel('Number of Entries')\n",
    "plt.ylabel('Number of IDs')\n",
    "plt.show()"
   ]
  },
  {
   "cell_type": "code",
   "execution_count": null,
   "id": "d3d723f8",
   "metadata": {},
   "outputs": [],
   "source": []
  },
  {
   "cell_type": "markdown",
   "id": "cb03c0b9",
   "metadata": {},
   "source": [
    "# Text Overview"
   ]
  },
  {
   "cell_type": "markdown",
   "id": "7cb280b0",
   "metadata": {},
   "source": [
    "In this section of the notebook I provide a broad look at the text in the data, utilizing the ntotes fields for each report. This includes common tokens and n-grams, as well as basic completion statistics. More importantly, I delve into the differences in text across risks and regions, as well as provide the opportunity for exploration by tokens of an individuals choosing."
   ]
  },
  {
   "cell_type": "code",
   "execution_count": 19,
   "id": "65146ef3",
   "metadata": {},
   "outputs": [
    {
     "name": "stderr",
     "output_type": "stream",
     "text": [
      "[nltk_data] Downloading package punkt to\n",
      "[nltk_data]     C:\\Users\\aidan\\AppData\\Roaming\\nltk_data...\n",
      "[nltk_data]   Package punkt is already up-to-date!\n"
     ]
    }
   ],
   "source": [
    "from text_analysis_functions_wagers import count_ngrams, completion_percentage, basic_text"
   ]
  },
  {
   "cell_type": "markdown",
   "id": "5c83d37a",
   "metadata": {},
   "source": [
    "### Common Tokens"
   ]
  },
  {
   "cell_type": "markdown",
   "id": "5e81eb28",
   "metadata": {},
   "source": [
    "Below  is a simple wordcloud visualization of the common features in the text. This is not intended to be any form of hard-hitting analysis, but rather a visual introduction to the text."
   ]
  },
  {
   "cell_type": "code",
   "execution_count": 20,
   "id": "d3547294",
   "metadata": {},
   "outputs": [
    {
     "data": {
      "image/png": "[encoded data removed]",
      "text/plain": [
       "<Figure size 576x576 with 1 Axes>"
      ]
     },
     "metadata": {
      "needs_background": "light"
     },
     "output_type": "display_data"
    }
   ],
   "source": [
    "all_text = \"\".join(data['combined_text'])\n",
    "text = all_text\n",
    "\n",
    "colors = [\"#000000\"]\n",
    "\n",
    "wordcloud = WordCloud(background_color=\"white\", max_words=500, width=1000, height=600,\n",
    "                      color_func=lambda *args, **kwargs: colors[0])\n",
    "\n",
    "wordcloud.generate(all_text)\n",
    "\n",
    "# Display the word cloud\n",
    "plt.figure(figsize=(8, 8), facecolor=None)\n",
    "plt.imshow(wordcloud)\n",
    "plt.axis(\"off\")\n",
    "plt.tight_layout(pad=0)\n",
    "plt.show()"
   ]
  },
  {
   "cell_type": "markdown",
   "id": "ba9a6396",
   "metadata": {},
   "source": [
    "### Common N-grams"
   ]
  },
  {
   "cell_type": "code",
   "execution_count": 21,
   "id": "eca30560",
   "metadata": {},
   "outputs": [],
   "source": [
    "result = count_ngrams(text, 2)"
   ]
  },
  {
   "cell_type": "code",
   "execution_count": 22,
   "id": "0dc4d803",
   "metadata": {},
   "outputs": [
    {
     "name": "stdout",
     "output_type": "stream",
     "text": [
      "('course', 'action'): 2360 times\n",
      "('barriers', 'spread'): 2348 times\n",
      "('external', 'influences'): 2233 times\n",
      "('seasonal', 'severity'): 1994 times\n",
      "('fuel', 'moistures'): 1636 times\n",
      "('season', 'ending'): 1581 times\n",
      "('incident', 'objectives'): 1391 times\n",
      "('fuel', 'conditions'): 1355 times\n",
      "('time', 'season'): 1350 times\n",
      "('time', 'year'): 1149 times\n",
      "('weather', 'conditions'): 1079 times\n",
      "('private', 'property'): 1077 times\n",
      "('incident', 'strategies'): 1070 times\n",
      "('ending', 'event'): 1038 times\n",
      "('fuel', 'moisture'): 1024 times\n"
     ]
    }
   ],
   "source": [
    "count = 0\n",
    "for n_gram, frequency in result.items():\n",
    "    if count < 15:\n",
    "        print(f\"{n_gram}: {frequency} times\")\n",
    "        count += 1\n",
    "    else:\n",
    "        break"
   ]
  },
  {
   "cell_type": "markdown",
   "id": "002dfa65",
   "metadata": {},
   "source": [
    "## Broad Data Information"
   ]
  },
  {
   "cell_type": "markdown",
   "id": "aac4f278",
   "metadata": {},
   "source": [
    "### Completion of  Notes Fields"
   ]
  },
  {
   "cell_type": "code",
   "execution_count": 23,
   "id": "f1ee5155",
   "metadata": {
    "scrolled": true
   },
   "outputs": [
    {
     "name": "stdout",
     "output_type": "stream",
     "text": [
      "Below is the percantage of entires with at least some unique text for a fire-risk grouping:\n"
     ]
    },
    {
     "data": {
      "text/plain": [
       "{'hazf_notes': 91.29810828440965,\n",
       " 'probf_notes': 88.81930854533594,\n",
       " 'valf_notes': 91.1545988258317,\n",
       " 'rrf_notes': 86.43183300717547,\n",
       " 'spf_notes': 85.58382257012394,\n",
       " 'impdif_f_notes': 87.71037181996087,\n",
       " 'orgf_notes': 72.56360078277886}"
      ]
     },
     "execution_count": 23,
     "metadata": {},
     "output_type": "execute_result"
    }
   ],
   "source": [
    "completion_percentage(data,notes)"
   ]
  },
  {
   "cell_type": "markdown",
   "id": "939e8f3d",
   "metadata": {},
   "source": [
    "### Summary Statistics of Notes Fields"
   ]
  },
  {
   "cell_type": "code",
   "execution_count": 24,
   "id": "753a6385",
   "metadata": {
    "scrolled": false
   },
   "outputs": [
    {
     "data": {
      "text/html": [
       "<div>\n",
       "<style scoped>\n",
       "    .dataframe tbody tr th:only-of-type {\n",
       "        vertical-align: middle;\n",
       "    }\n",
       "\n",
       "    .dataframe tbody tr th {\n",
       "        vertical-align: top;\n",
       "    }\n",
       "\n",
       "    .dataframe thead th {\n",
       "        text-align: right;\n",
       "    }\n",
       "</style>\n",
       "<table border=\"1\" class=\"dataframe\">\n",
       "  <thead>\n",
       "    <tr style=\"text-align: right;\">\n",
       "      <th></th>\n",
       "      <th>total_tokens</th>\n",
       "      <th>unique_tokens</th>\n",
       "      <th>average_tokens</th>\n",
       "      <th>avg_token_length</th>\n",
       "      <th>lexical_diversity</th>\n",
       "      <th>top_10</th>\n",
       "    </tr>\n",
       "  </thead>\n",
       "  <tbody>\n",
       "    <tr>\n",
       "      <th>hazf_notes</th>\n",
       "      <td>193483</td>\n",
       "      <td>6148</td>\n",
       "      <td>25.242401</td>\n",
       "      <td>6.543438</td>\n",
       "      <td>0.031775</td>\n",
       "      <td>[(fuel, 6516), (behavior, 5146), (fuels, 5086)...</td>\n",
       "    </tr>\n",
       "    <tr>\n",
       "      <th>probf_notes</th>\n",
       "      <td>158328</td>\n",
       "      <td>6007</td>\n",
       "      <td>20.655969</td>\n",
       "      <td>6.502558</td>\n",
       "      <td>0.03794</td>\n",
       "      <td>[(barriers, 5283), (season, 4599), (spread, 34...</td>\n",
       "    </tr>\n",
       "    <tr>\n",
       "      <th>valf_notes</th>\n",
       "      <td>190057</td>\n",
       "      <td>9795</td>\n",
       "      <td>24.795434</td>\n",
       "      <td>6.934435</td>\n",
       "      <td>0.051537</td>\n",
       "      <td>[(private, 3395), (cultural, 2331), (infrastru...</td>\n",
       "    </tr>\n",
       "    <tr>\n",
       "      <th>rrf_notes</th>\n",
       "      <td>146982</td>\n",
       "      <td>6998</td>\n",
       "      <td>19.175734</td>\n",
       "      <td>6.868399</td>\n",
       "      <td>0.047611</td>\n",
       "      <td>[(relative, 2340), (fuel, 1637), (fuels, 1632)...</td>\n",
       "    </tr>\n",
       "    <tr>\n",
       "      <th>spf_notes</th>\n",
       "      <td>139675</td>\n",
       "      <td>6767</td>\n",
       "      <td>18.22244</td>\n",
       "      <td>7.315132</td>\n",
       "      <td>0.048448</td>\n",
       "      <td>[(objectives, 3843), (private, 2847), (externa...</td>\n",
       "    </tr>\n",
       "    <tr>\n",
       "      <th>impdif_f_notes</th>\n",
       "      <td>161584</td>\n",
       "      <td>6032</td>\n",
       "      <td>21.080757</td>\n",
       "      <td>7.199958</td>\n",
       "      <td>0.03733</td>\n",
       "      <td>[(incident, 2533), (functional, 2336), (limite...</td>\n",
       "    </tr>\n",
       "    <tr>\n",
       "      <th>orgf_notes</th>\n",
       "      <td>139169</td>\n",
       "      <td>6942</td>\n",
       "      <td>18.156425</td>\n",
       "      <td>7.213237</td>\n",
       "      <td>0.049882</td>\n",
       "      <td>[(type, 2667), (objectives, 2375), (incident, ...</td>\n",
       "    </tr>\n",
       "  </tbody>\n",
       "</table>\n",
       "</div>"
      ],
      "text/plain": [
       "               total_tokens unique_tokens average_tokens avg_token_length  \\\n",
       "hazf_notes           193483          6148      25.242401         6.543438   \n",
       "probf_notes          158328          6007      20.655969         6.502558   \n",
       "valf_notes           190057          9795      24.795434         6.934435   \n",
       "rrf_notes            146982          6998      19.175734         6.868399   \n",
       "spf_notes            139675          6767       18.22244         7.315132   \n",
       "impdif_f_notes       161584          6032      21.080757         7.199958   \n",
       "orgf_notes           139169          6942      18.156425         7.213237   \n",
       "\n",
       "               lexical_diversity  \\\n",
       "hazf_notes              0.031775   \n",
       "probf_notes              0.03794   \n",
       "valf_notes              0.051537   \n",
       "rrf_notes               0.047611   \n",
       "spf_notes               0.048448   \n",
       "impdif_f_notes           0.03733   \n",
       "orgf_notes              0.049882   \n",
       "\n",
       "                                                           top_10  \n",
       "hazf_notes      [(fuel, 6516), (behavior, 5146), (fuels, 5086)...  \n",
       "probf_notes     [(barriers, 5283), (season, 4599), (spread, 34...  \n",
       "valf_notes      [(private, 3395), (cultural, 2331), (infrastru...  \n",
       "rrf_notes       [(relative, 2340), (fuel, 1637), (fuels, 1632)...  \n",
       "spf_notes       [(objectives, 3843), (private, 2847), (externa...  \n",
       "impdif_f_notes  [(incident, 2533), (functional, 2336), (limite...  \n",
       "orgf_notes      [(type, 2667), (objectives, 2375), (incident, ...  "
      ]
     },
     "execution_count": 24,
     "metadata": {},
     "output_type": "execute_result"
    }
   ],
   "source": [
    "results_df = basic_text(data,notes)\n",
    "results_df.transpose()"
   ]
  },
  {
   "cell_type": "code",
   "execution_count": 25,
   "id": "92a87978",
   "metadata": {
    "scrolled": true
   },
   "outputs": [
    {
     "data": {
      "text/html": [
       "<div>\n",
       "<style scoped>\n",
       "    .dataframe tbody tr th:only-of-type {\n",
       "        vertical-align: middle;\n",
       "    }\n",
       "\n",
       "    .dataframe tbody tr th {\n",
       "        vertical-align: top;\n",
       "    }\n",
       "\n",
       "    .dataframe thead th {\n",
       "        text-align: right;\n",
       "    }\n",
       "</style>\n",
       "<table border=\"1\" class=\"dataframe\">\n",
       "  <thead>\n",
       "    <tr style=\"text-align: right;\">\n",
       "      <th></th>\n",
       "      <th>average_tokens</th>\n",
       "      <th>avg_token_length</th>\n",
       "      <th>lexical_diversity</th>\n",
       "      <th>top_10</th>\n",
       "      <th>total_tokens</th>\n",
       "      <th>unique_tokens</th>\n",
       "    </tr>\n",
       "  </thead>\n",
       "  <tbody>\n",
       "    <tr>\n",
       "      <th>combined_text</th>\n",
       "      <td>147.329159</td>\n",
       "      <td>6.917737</td>\n",
       "      <td>0.015104</td>\n",
       "      <td>[(fuel, 12415), (fuels, 10156), (private, 9326...</td>\n",
       "      <td>1129278</td>\n",
       "      <td>17057</td>\n",
       "    </tr>\n",
       "  </tbody>\n",
       "</table>\n",
       "</div>"
      ],
      "text/plain": [
       "              average_tokens avg_token_length lexical_diversity  \\\n",
       "combined_text     147.329159         6.917737          0.015104   \n",
       "\n",
       "                                                          top_10 total_tokens  \\\n",
       "combined_text  [(fuel, 12415), (fuels, 10156), (private, 9326...      1129278   \n",
       "\n",
       "              unique_tokens  \n",
       "combined_text         17057  "
      ]
     },
     "execution_count": 25,
     "metadata": {},
     "output_type": "execute_result"
    }
   ],
   "source": [
    "at_results = basic_text(data,['combined_text'])\n",
    "at_results.transpose()"
   ]
  },
  {
   "cell_type": "markdown",
   "id": "cee76486",
   "metadata": {},
   "source": [
    "## Differences By Risk - What Drives Risk?"
   ]
  },
  {
   "cell_type": "code",
   "execution_count": 26,
   "id": "65ba2f42",
   "metadata": {},
   "outputs": [
    {
     "name": "stderr",
     "output_type": "stream",
     "text": [
      "[nltk_data] Downloading package punkt to\n",
      "[nltk_data]     C:\\Users\\aidan\\AppData\\Roaming\\nltk_data...\n",
      "[nltk_data]   Package punkt is already up-to-date!\n",
      "[nltk_data] Downloading package words to\n",
      "[nltk_data]     C:\\Users\\aidan\\AppData\\Roaming\\nltk_data...\n",
      "[nltk_data]   Package words is already up-to-date!\n"
     ]
    }
   ],
   "source": [
    "from text_classification_functions import train_logistic_reg_for_one_risk, risk_other_machine\n",
    "vectorizer =TfidfVectorizer()"
   ]
  },
  {
   "cell_type": "markdown",
   "id": "3e755566",
   "metadata": {},
   "source": [
    "### High"
   ]
  },
  {
   "cell_type": "code",
   "execution_count": 27,
   "id": "bb4774d9",
   "metadata": {},
   "outputs": [],
   "source": [
    "high_other_comb_texts, high_other_labels = risk_other_machine(data, 'high')\n",
    "mod_other_comb_texts, mod_other_labels = risk_other_machine(data, 'mod')\n",
    "low_other_comb_texts, low_other_labels = risk_other_machine(data,'low')"
   ]
  },
  {
   "cell_type": "code",
   "execution_count": 28,
   "id": "218d2cc4",
   "metadata": {
    "scrolled": true
   },
   "outputs": [
    {
     "name": "stdout",
     "output_type": "stream",
     "text": [
      "The model accuracy is 0.7964774951076321\n",
      "\n",
      "Classification Report:\n",
      "              precision    recall  f1-score   support\n",
      "\n",
      "           0       0.81      0.90      0.85       981\n",
      "           1       0.77      0.62      0.69       552\n",
      "\n",
      "    accuracy                           0.80      1533\n",
      "   macro avg       0.79      0.76      0.77      1533\n",
      "weighted avg       0.79      0.80      0.79      1533\n",
      "\n"
     ]
    }
   ],
   "source": [
    "ho_model_high_risk, ho_lrx_train_high_risk, ho_lrx_test_high_risk, ho_lry_train_high_risk, ho_lry_test_high_risk \\\n",
    "    = train_logistic_reg_for_one_risk(high_other_comb_texts, high_other_labels, 'high','l2', 1, 1000)\n",
    "\n",
    "ho_lry_pred_high_risk = ho_model_high_risk.predict(ho_lrx_test_high_risk)\n",
    "ho_score_high_risk = accuracy_score(ho_lry_test_high_risk, ho_lry_pred_high_risk)\n",
    "\n",
    "print(f\"The model accuracy is {ho_score_high_risk}\")\n",
    "print(\"\\nClassification Report:\")\n",
    "print(classification_report(ho_lry_test_high_risk, ho_lry_pred_high_risk))"
   ]
  },
  {
   "cell_type": "markdown",
   "id": "697bdf95",
   "metadata": {},
   "source": [
    "#### Insights"
   ]
  },
  {
   "cell_type": "markdown",
   "id": "bbf27242",
   "metadata": {},
   "source": [
    "The penalized logistic regression model trained above predicts fire risk at a roughly 80% accuracy rate, which is significantly better than random guessing. Overall, I am satisfied with model performance. It is important to consider that the model is not perfect, and domain expertise may outweigh the models coefficient assignments.\n",
    "\n",
    "The below features are the 20 that the model has identified as the strongest evidence for a given fire being classified as high risk. Tokens such as 'extreme', 'dry', and 'structures' appear as the three strongest tokens in terms of evidence for this class. These are not necessarily too interesting in my opinion, but are worth noting. \n",
    "\n",
    "From the tokens below it is worth noting that discussions of structures, homes, and other tokens associated with human population and infrastructure make up a good chunk of these influential tokens. This would suggest, with some assumption, that this topic is one that is heavily associated with the decision to designate a fire as high risk.\n",
    "\n",
    "Additionally, the inclusion of 'team' and 'imt' (Incident Management Team) would suggest that the discussion of operational activities is possibly an indicator of a high relative risk designation."
   ]
  },
  {
   "cell_type": "code",
   "execution_count": 29,
   "id": "b94ad609",
   "metadata": {
    "scrolled": true
   },
   "outputs": [
    {
     "name": "stdout",
     "output_type": "stream",
     "text": [
      "Feature: extreme, Coefficient: 4.967278913815581\n",
      "Feature: dry, Coefficient: 3.080155686925375\n",
      "Feature: structures, Coefficient: 3.0428456532716357\n",
      "Feature: large, Coefficient: 2.495758377662233\n",
      "Feature: difficult, Coefficient: 2.472532110309322\n",
      "Feature: team, Coefficient: 2.447416885834606\n",
      "Feature: state, Coefficient: 2.3840279694045963\n",
      "Feature: homes, Coefficient: 2.2353642013571284\n",
      "Feature: continuous, Coefficient: 2.2214947352848764\n",
      "Feature: record, Coefficient: 2.1821903050749074\n",
      "Feature: imt, Coefficient: 2.0479331385162336\n",
      "Feature: evacuations, Coefficient: 2.005251263710495\n",
      "Feature: communities, Coefficient: 2.0021197332431218\n",
      "Feature: throughout, Coefficient: 1.9792924761846107\n",
      "Feature: long, Coefficient: 1.9647846303098824\n",
      "Feature: crown, Coefficient: 1.9469276657341863\n",
      "Feature: availability, Coefficient: 1.9451836488006538\n",
      "Feature: community, Coefficient: 1.9125717677077896\n",
      "Feature: spotting, Coefficient: 1.9051218781987753\n",
      "Feature: private, Coefficient: 1.8914392084734881\n"
     ]
    }
   ],
   "source": [
    "txt = vectorizer.fit_transform(high_other_comb_texts)\n",
    "\n",
    "feature_names = vectorizer.get_feature_names_out()\n",
    "\n",
    "coefficients = ho_model_high_risk.coef_[0]\n",
    "\n",
    "feature_coefficients = dict(zip(feature_names, coefficients))\n",
    "\n",
    "sorted_features = sorted(feature_coefficients.items(), key=lambda x: x[1], reverse=True)\n",
    "\n",
    "top_features = sorted_features[:20] \n",
    "for feature, coefficient in top_features:\n",
    "    print(f\"Feature: {feature}, Coefficient: {coefficient}\")"
   ]
  },
  {
   "cell_type": "markdown",
   "id": "49a541ad",
   "metadata": {},
   "source": [
    "### Moderate"
   ]
  },
  {
   "cell_type": "code",
   "execution_count": 30,
   "id": "6850cc0c",
   "metadata": {
    "scrolled": true
   },
   "outputs": [
    {
     "name": "stdout",
     "output_type": "stream",
     "text": [
      "The model accuracy is 0.6151337247227658\n",
      "\n",
      "Classification Report:\n",
      "              precision    recall  f1-score   support\n",
      "\n",
      "           0       0.64      0.87      0.74       952\n",
      "           1       0.48      0.20      0.28       581\n",
      "\n",
      "    accuracy                           0.62      1533\n",
      "   macro avg       0.56      0.53      0.51      1533\n",
      "weighted avg       0.58      0.62      0.56      1533\n",
      "\n"
     ]
    }
   ],
   "source": [
    "mod_logreg_model, modx_train, modx_test, mody_train, mody_test \\\n",
    "=train_logistic_reg_for_one_risk(mod_other_comb_texts, mod_other_labels, 'mod','l2', 1, 1000)\n",
    "mody_pred = mod_logreg_model.predict(modx_test)\n",
    "mod_logreg_acc = accuracy_score(mody_test, mody_pred)\n",
    "\n",
    "print(f\"The model accuracy is {mod_logreg_acc}\")\n",
    "print(\"\\nClassification Report:\")\n",
    "print(classification_report(mody_test, mody_pred))"
   ]
  },
  {
   "cell_type": "markdown",
   "id": "ce09a183",
   "metadata": {},
   "source": [
    "#### Insights"
   ]
  },
  {
   "cell_type": "markdown",
   "id": "c8877fd7",
   "metadata": {},
   "source": [
    "A penalized logistic regression does not perform as well predicting moderate risk fires as it does the other risks. In fact, it predicts nearly 20% less accurately! At only about 62%, this result is not too impressive. In this case, be sure to consider the models accuracy when assessing the features that drive model decisions.\n",
    "\n",
    "These top features are much less informative or immediately intuitive than those for high and low risk fires, but are still worth looking at. The presence of 'average', for example, does seem rather intuitive. Interestingly, the token 'hunting' appears in the top 20 tokens that present the strongest evidence. It may be worth exploring a connection between leisure activities and risk designation.\n",
    "\n",
    "The tokens here seem more descriptive of fire control efforts than those for high risk, which were the actual units. Tokens like 'solely', 'mitigated', 'efforts', 'sufficient', 'adequate' and 'containment' could possibly support this statement."
   ]
  },
  {
   "cell_type": "code",
   "execution_count": 31,
   "id": "bd856d06",
   "metadata": {
    "scrolled": true
   },
   "outputs": [
    {
     "name": "stdout",
     "output_type": "stream",
     "text": [
      "Feature: still, Coefficient: 2.0477254451736275\n",
      "Feature: average, Coefficient: 1.6434273518630784\n",
      "Feature: scars, Coefficient: 1.6221020963720856\n",
      "Feature: consists, Coefficient: 1.5329817089138131\n",
      "Feature: away, Coefficient: 1.4572253486806332\n",
      "Feature: mitigated, Coefficient: 1.4318488237626685\n",
      "Feature: solely, Coefficient: 1.373769420301688\n",
      "Feature: efforts, Coefficient: 1.3430590790599508\n",
      "Feature: vegetation, Coefficient: 1.332073471364472\n",
      "Feature: hunting, Coefficient: 1.2954144467171547\n",
      "Feature: slightly, Coefficient: 1.2675309330346178\n",
      "Feature: sufficient, Coefficient: 1.2356228936457827\n",
      "Feature: short, Coefficient: 1.2275438418215538\n",
      "Feature: containment, Coefficient: 1.2083918796574313\n",
      "Feature: organization, Coefficient: 1.191447300660525\n",
      "Feature: term, Coefficient: 1.1267809023489432\n",
      "Feature: surface, Coefficient: 1.1153390091515014\n",
      "Feature: joker, Coefficient: 1.1127915679735803\n",
      "Feature: although, Coefficient: 1.1069534243764918\n",
      "Feature: adequate, Coefficient: 1.1002268728063123\n"
     ]
    }
   ],
   "source": [
    "txt = vectorizer.fit_transform(mod_other_comb_texts)\n",
    "\n",
    "feature_names = vectorizer.get_feature_names_out()\n",
    "\n",
    "coefficients = mod_logreg_model.coef_[0]\n",
    "\n",
    "feature_coefficients = dict(zip(feature_names, coefficients))\n",
    "\n",
    "sorted_features = sorted(feature_coefficients.items(), key=lambda x: x[1], reverse=True)\n",
    "\n",
    "top_features = sorted_features[:20] \n",
    "for feature, coefficient in top_features:\n",
    "    print(f\"Feature: {feature}, Coefficient: {coefficient}\")"
   ]
  },
  {
   "cell_type": "markdown",
   "id": "72bb212a",
   "metadata": {},
   "source": [
    "### Low"
   ]
  },
  {
   "cell_type": "code",
   "execution_count": 32,
   "id": "cbaaae96",
   "metadata": {},
   "outputs": [
    {
     "name": "stdout",
     "output_type": "stream",
     "text": [
      "The model accuracy is 0.79191128506197\n",
      "\n",
      "Classification Report:\n",
      "              precision    recall  f1-score   support\n",
      "\n",
      "           0       0.80      0.96      0.87      1133\n",
      "           1       0.75      0.30      0.43       400\n",
      "\n",
      "    accuracy                           0.79      1533\n",
      "   macro avg       0.77      0.63      0.65      1533\n",
      "weighted avg       0.78      0.79      0.76      1533\n",
      "\n"
     ]
    }
   ],
   "source": [
    "low_logreg_model, lowx_train, lowx_test, lowy_train, lowy_test = train_logistic_reg_for_one_risk(low_other_comb_texts, low_other_labels, 'low', 'l2', 1, 1000)\n",
    "lowy_pred = low_logreg_model.predict(lowx_test)\n",
    "low_logreg_acc = accuracy_score(lowy_test, lowy_pred)\n",
    "\n",
    "print(f\"The model accuracy is {low_logreg_acc}\")\n",
    "print(\"\\nClassification Report:\")\n",
    "print(classification_report(lowy_test, lowy_pred))\n"
   ]
  },
  {
   "cell_type": "markdown",
   "id": "a0b2c983",
   "metadata": {},
   "source": [
    "#### Insights"
   ]
  },
  {
   "cell_type": "markdown",
   "id": "472d9730",
   "metadata": {},
   "source": [
    "Low risk fires are classified at nearly the same exact accuracy as high risk fires. A penalized logistic regression model classifies text to low risk fires at nearly 80% accuracy. This is definitely a satisfactory perofrmance, given the text being worked with.\n",
    "\n",
    "The model's delineation of features for low-risk fires reveals a starkly different landscape from those associated with moderate or high-risk classifications. Many of the tokens indicative of a low risk fire are intuitive, or may feel obvious, but there are interesting themes that can be observed.\n",
    "\n",
    "Meteorological conditions, indicated by 'precipitation', 'rain', 'monsoonal', 'snow', and 'moisture', emerge as significant factors in reducing fire risk. These terms collectively point to the critical role of precipitation patterns in mitigating fire potential, with moisture acting as a natural suppressant that diminishes the likelihood and severity of fires.\n",
    "\n",
    "The use of tokens like 'minimal' (the strongest evidence for a low risk fire), 'little', and easily, suggest that words that could come off as downplaying a situation are seemingly almost always used when the situation is under control. The tokens 'sparse' and 'little' indicate that discussion of scarcity could also be predictive of a low risk fire.\n",
    "\n"
   ]
  },
  {
   "cell_type": "code",
   "execution_count": 33,
   "id": "3b4b0be3",
   "metadata": {
    "scrolled": true
   },
   "outputs": [
    {
     "name": "stdout",
     "output_type": "stream",
     "text": [
      "Feature: minimal, Coefficient: 3.751127560896262\n",
      "Feature: monitor, Coefficient: 2.78498244251598\n",
      "Feature: precipitation, Coefficient: 2.6850898151898215\n",
      "Feature: sparse, Coefficient: 2.390884138982884\n",
      "Feature: little, Coefficient: 2.3076974354828557\n",
      "Feature: surrounded, Coefficient: 2.2915912629886646\n",
      "Feature: monitoring, Coefficient: 2.1893136293717492\n",
      "Feature: late, Coefficient: 2.1422054382101163\n",
      "Feature: fall, Coefficient: 2.0684302820456004\n",
      "Feature: rain, Coefficient: 2.04527895417375\n",
      "Feature: received, Coefficient: 2.0352428790090915\n",
      "Feature: repair, Coefficient: 2.0179913706566173\n",
      "Feature: contained, Coefficient: 1.9896983461735585\n",
      "Feature: smoldering, Coefficient: 1.970676454890964\n",
      "Feature: monsoonal, Coefficient: 1.9555764410773793\n",
      "Feature: monitored, Coefficient: 1.9312947793688513\n",
      "Feature: snow, Coefficient: 1.9111606152150724\n",
      "Feature: elevation, Coefficient: 1.8597346359542761\n",
      "Feature: moisture, Coefficient: 1.8501849811824986\n",
      "Feature: easily, Coefficient: 1.7273042691177096\n"
     ]
    }
   ],
   "source": [
    "txt = vectorizer.fit_transform(low_other_comb_texts)\n",
    "\n",
    "feature_names = vectorizer.get_feature_names_out()\n",
    "\n",
    "coefficients = low_logreg_model.coef_[0]\n",
    "\n",
    "feature_coefficients = dict(zip(feature_names, coefficients))\n",
    "\n",
    "sorted_features = sorted(feature_coefficients.items(), key=lambda x: x[1], reverse=True)\n",
    "\n",
    "top_features = sorted_features[:20] \n",
    "for feature, coefficient in top_features:\n",
    "    print(f\"Feature: {feature}, Coefficient: {coefficient}\")"
   ]
  },
  {
   "cell_type": "markdown",
   "id": "b5867d3d",
   "metadata": {},
   "source": [
    "## Regional Differences"
   ]
  },
  {
   "cell_type": "markdown",
   "id": "9528d101",
   "metadata": {},
   "source": [
    "### Risk"
   ]
  },
  {
   "cell_type": "code",
   "execution_count": 34,
   "id": "fcb6d6c3",
   "metadata": {},
   "outputs": [
    {
     "name": "stderr",
     "output_type": "stream",
     "text": [
      "C:\\Users\\aidan\\AppData\\Local\\Temp\\ipykernel_18620\\393998536.py:14: UserWarning: The palette list has more values (4) than needed (3), which may not be intended.\n",
      "  ax = sns.histplot(\n"
     ]
    },
    {
     "data": {
      "image/png": "[encoded data removed]",
      "text/plain": [
       "<Figure size 1440x432 with 1 Axes>"
      ]
     },
     "metadata": {
      "needs_background": "light"
     },
     "output_type": "display_data"
    }
   ],
   "source": [
    "df_grouped = data.groupby(['geo_area_name', 'rrf_rr_desc']).size().reset_index(name='count')\n",
    "\n",
    "region_total = df_grouped.groupby('geo_area_name')['count'].sum()\n",
    "df_merged = pd.merge(df_grouped, region_total, left_on='geo_area_name', right_index=True, suffixes=('', '_total'))\n",
    "df_merged['percent'] = df_merged['count'] / df_merged['count_total']\n",
    "df_result = df_merged[['count', 'geo_area_name', 'rrf_rr_desc', 'percent']].sort_values(['geo_area_name', 'count'], ascending=[True, False])\n",
    "\n",
    "custom_order = ['high', 'mod', 'low']\n",
    "\n",
    "# Reorder the 'rrf_rr_desc' column based on the custom order\n",
    "df_result['rrf_rr_desc'] = pd.Categorical(df_result['rrf_rr_desc'], categories=custom_order, ordered=True)\n",
    "\n",
    "# Plot the stacked histogram\n",
    "ax = sns.histplot(\n",
    "    df_result,\n",
    "    x='geo_area_name',\n",
    "    weights='percent',\n",
    "    hue='rrf_rr_desc',\n",
    "    multiple='stack',\n",
    "    palette=['#24b1d1', '#ae24d1','#f6e9fa','#47d124'],\n",
    "    edgecolor='white',\n",
    "    shrink=0.8\n",
    ")\n",
    "\n",
    "ax.set_title('Percent of Assigned Risk by Region')\n",
    "ax.set_ylabel(None)\n",
    "\n",
    "fig = ax.get_figure()\n",
    "fig.set_size_inches(20, 6)\n",
    "\n",
    "plt.show()"
   ]
  },
  {
   "cell_type": "code",
   "execution_count": 35,
   "id": "524d58f9",
   "metadata": {},
   "outputs": [
    {
     "name": "stdout",
     "output_type": "stream",
     "text": [
      "The percentage of fires designated as high risk has a correlation coefficient of 0.290057 with the number of total fires\n"
     ]
    }
   ],
   "source": [
    "df_result['total_fire'] = df_result.groupby('geo_area_name')['count'].transform('sum')\n",
    "df3 = df_result[df_result['rrf_rr_desc'] == (\"high\")]\n",
    "x = df3['total_fire'].corr(df3['percent'])\n",
    "print(\"The percentage of fires designated as high risk has a correlation coefficient of \" + str(round(x,6)) + \" with the number of total fires\")"
   ]
  },
  {
   "cell_type": "markdown",
   "id": "b203580a",
   "metadata": {},
   "source": [
    "### Text"
   ]
  },
  {
   "cell_type": "markdown",
   "id": "3a4b0b9d",
   "metadata": {},
   "source": [
    "##### Disproportionate Tokens"
   ]
  },
  {
   "cell_type": "code",
   "execution_count": 36,
   "id": "001a2cfb",
   "metadata": {},
   "outputs": [
    {
     "name": "stdout",
     "output_type": "stream",
     "text": [
      "Region Southern: Top Valid Words (Appearing >10 times) with Frequencies and Counts:\n",
      "'arson' (Frequency: 0.9047619047619048, Count: 19)\n",
      "'stumpy' (Frequency: 0.9, Count: 18)\n",
      "'canal' (Frequency: 0.875, Count: 14)\n",
      "'parkway' (Frequency: 0.8666666666666667, Count: 13)\n",
      "'swamp' (Frequency: 0.8305084745762712, Count: 49)\n",
      "'cypress' (Frequency: 0.8301886792452831, Count: 44)\n",
      "'irene' (Frequency: 0.8125, Count: 13)\n",
      "'clay' (Frequency: 0.7857142857142857, Count: 11)\n",
      "'organic' (Frequency: 0.7065217391304348, Count: 65)\n",
      "'outer' (Frequency: 0.6875, Count: 11)\n",
      "\n",
      "Region Southwest: Top Valid Words (Appearing >10 times) with Frequencies and Counts:\n",
      "'apache' (Frequency: 0.9821428571428571, Count: 110)\n",
      "'fe' (Frequency: 0.9629629629629629, Count: 26)\n",
      "'sunflower' (Frequency: 0.9615384615384616, Count: 25)\n",
      "'outlet' (Frequency: 0.9473684210526315, Count: 18)\n",
      "'cuckoo' (Frequency: 0.9333333333333333, Count: 14)\n",
      "'calf' (Frequency: 0.9285714285714286, Count: 13)\n",
      "'mesquite' (Frequency: 0.9285714285714286, Count: 13)\n",
      "'capitan' (Frequency: 0.9230769230769231, Count: 12)\n",
      "'hilltop' (Frequency: 0.92, Count: 23)\n",
      "'wallow' (Frequency: 0.918918918918919, Count: 34)\n",
      "\n",
      "Region Southern California: Top Valid Words (Appearing >10 times) with Frequencies and Counts:\n",
      "'ana' (Frequency: 0.9818181818181818, Count: 54)\n",
      "'kern' (Frequency: 0.968421052631579, Count: 92)\n",
      "'arroyo' (Frequency: 0.9444444444444444, Count: 17)\n",
      "'mammoth' (Frequency: 0.925, Count: 37)\n",
      "'banning' (Frequency: 0.9230769230769231, Count: 12)\n",
      "'giant' (Frequency: 0.9158878504672897, Count: 98)\n",
      "'sur' (Frequency: 0.8888888888888888, Count: 16)\n",
      "'pool' (Frequency: 0.8, Count: 16)\n",
      "'limestone' (Frequency: 0.7857142857142857, Count: 11)\n",
      "'golden' (Frequency: 0.7633587786259542, Count: 100)\n",
      "\n",
      "Region Northern California: Top Valid Words (Appearing >10 times) with Frequencies and Counts:\n",
      "'ruth' (Frequency: 0.9545454545454546, Count: 21)\n",
      "'placer' (Frequency: 0.95, Count: 38)\n",
      "'trinity' (Frequency: 0.9457013574660633, Count: 209)\n",
      "'domestic' (Frequency: 0.84375, Count: 27)\n",
      "'michigan' (Frequency: 0.8235294117647058, Count: 14)\n",
      "'cal' (Frequency: 0.8104265402843602, Count: 171)\n",
      "'ranked' (Frequency: 0.8020833333333334, Count: 77)\n",
      "'coffee' (Frequency: 0.8, Count: 36)\n",
      "'mad' (Frequency: 0.8, Count: 12)\n",
      "'rust' (Frequency: 0.8, Count: 12)\n",
      "\n",
      "Region Great Basin: Top Valid Words (Appearing >10 times) with Frequencies and Counts:\n",
      "'render' (Frequency: 0.9753086419753086, Count: 79)\n",
      "'sal' (Frequency: 0.95, Count: 19)\n",
      "'moon' (Frequency: 0.9230769230769231, Count: 24)\n",
      "'reef' (Frequency: 0.9166666666666666, Count: 11)\n",
      "'challis' (Frequency: 0.9117647058823529, Count: 31)\n",
      "'pronghorn' (Frequency: 0.8888888888888888, Count: 16)\n",
      "'receptivity' (Frequency: 0.8863636363636364, Count: 39)\n",
      "'encouraging' (Frequency: 0.875, Count: 42)\n",
      "'color' (Frequency: 0.8571428571428571, Count: 30)\n",
      "'withdrawn' (Frequency: 0.8571428571428571, Count: 12)\n",
      "\n",
      "Region Eastern: Top Valid Words (Appearing >10 times) with Frequencies and Counts:\n",
      "'canoe' (Frequency: 0.8, Count: 24)\n",
      "'corps' (Frequency: 0.7058823529411765, Count: 24)\n",
      "'blowdown' (Frequency: 0.6619718309859155, Count: 47)\n",
      "'army' (Frequency: 0.5306122448979592, Count: 26)\n",
      "'confirmed' (Frequency: 0.5, Count: 18)\n",
      "'permanent' (Frequency: 0.425, Count: 17)\n",
      "'rely' (Frequency: 0.38095238095238093, Count: 24)\n",
      "'partner' (Frequency: 0.26666666666666666, Count: 12)\n",
      "'island' (Frequency: 0.23529411764705882, Count: 28)\n",
      "'entry' (Frequency: 0.19047619047619047, Count: 12)\n",
      "\n",
      "Region Northwest: Top Valid Words (Appearing >10 times) with Frequencies and Counts:\n",
      "'conditional' (Frequency: 0.95, Count: 19)\n",
      "'crater' (Frequency: 0.9491525423728814, Count: 112)\n",
      "'attainment' (Frequency: 0.9375, Count: 15)\n",
      "'gravity' (Frequency: 0.9333333333333333, Count: 14)\n",
      "'vale' (Frequency: 0.9230769230769231, Count: 12)\n",
      "'coulee' (Frequency: 0.92, Count: 23)\n",
      "'bumping' (Frequency: 0.8888888888888888, Count: 16)\n",
      "'hood' (Frequency: 0.8651685393258427, Count: 77)\n",
      "'eclipse' (Frequency: 0.8461538461538461, Count: 44)\n",
      "'fragmented' (Frequency: 0.8285714285714286, Count: 29)\n",
      "\n",
      "Region Northern Rockies: Top Valid Words (Appearing >10 times) with Frequencies and Counts:\n",
      "'trestle' (Frequency: 0.9787234042553191, Count: 46)\n",
      "'bob' (Frequency: 0.972972972972973, Count: 36)\n",
      "'horseback' (Frequency: 0.9473684210526315, Count: 18)\n",
      "'panhandle' (Frequency: 0.9473684210526315, Count: 36)\n",
      "'hump' (Frequency: 0.9411764705882353, Count: 16)\n",
      "'endowment' (Frequency: 0.9375, Count: 15)\n",
      "'irretrievable' (Frequency: 0.9375, Count: 15)\n",
      "'plum' (Frequency: 0.9333333333333333, Count: 14)\n",
      "'save' (Frequency: 0.9322033898305084, Count: 55)\n",
      "'bitterroot' (Frequency: 0.9233038348082596, Count: 313)\n",
      "\n",
      "Region Rocky Mountain: Top Valid Words (Appearing >10 times) with Frequencies and Counts:\n",
      "'keystone' (Frequency: 0.9375, Count: 30)\n",
      "'broadway' (Frequency: 0.9285714285714286, Count: 13)\n",
      "'epidemic' (Frequency: 0.8571428571428571, Count: 36)\n",
      "'colorado' (Frequency: 0.8333333333333334, Count: 125)\n",
      "'de' (Frequency: 0.8214285714285714, Count: 23)\n",
      "'aged' (Frequency: 0.7647058823529411, Count: 13)\n",
      "'guest' (Frequency: 0.7272727272727273, Count: 16)\n",
      "'lightly' (Frequency: 0.7142857142857143, Count: 15)\n",
      "'blanco' (Frequency: 0.6666666666666666, Count: 16)\n",
      "'prevention' (Frequency: 0.6538461538461539, Count: 17)\n",
      "\n",
      "Region Alaska: Top Valid Words (Appearing >10 times) with Frequencies and Counts:\n",
      "'arisen' (Frequency: 0.9714285714285714, Count: 34)\n",
      "'corporation' (Frequency: 0.9541284403669725, Count: 104)\n",
      "'solstice' (Frequency: 0.9523809523809523, Count: 20)\n",
      "'dalton' (Frequency: 0.9322033898305084, Count: 55)\n",
      "'tundra' (Frequency: 0.9041095890410958, Count: 66)\n",
      "'seam' (Frequency: 0.9032258064516129, Count: 28)\n",
      "'slough' (Frequency: 0.8947368421052632, Count: 17)\n",
      "'corp' (Frequency: 0.88, Count: 22)\n",
      "'mac' (Frequency: 0.8780487804878049, Count: 36)\n",
      "'code' (Frequency: 0.8657718120805369, Count: 129)\n",
      "\n"
     ]
    }
   ],
   "source": [
    "valid_word_set = set(words.words())\n",
    "\n",
    "regions = data['geo_area_name'].unique()\n",
    "region_texts = {region: \" \".join(data[data['geo_area_name'] == region]['combined_text']) for region in regions}\n",
    "\n",
    "region_token_freqs = {region: FreqDist(word_tokenize(text.lower())) for region, text in region_texts.items()}\n",
    "\n",
    "tokens_relative_freq = {}\n",
    "\n",
    "for region, freq_dist in region_token_freqs.items():\n",
    "    other_regions_freq = {other_region: FreqDist(word_tokenize(text.lower())) for other_region, text in region_texts.items() if other_region != region}\n",
    "    \n",
    "    tokens_relative_freq[region] = {}\n",
    "    for token, freq in freq_dist.items():\n",
    "        other_regions_total_freq = sum([other_freq[token] for other_freq in other_regions_freq.values() if token in other_freq])\n",
    "        relative_freq = freq / (other_regions_total_freq + freq) \n",
    "        \n",
    "        tokens_relative_freq[region][token] = relative_freq\n",
    "\n",
    "for region, token_freqs in tokens_relative_freq.items():\n",
    "    text = region_texts[region]  \n",
    "    tokens = word_tokenize(text.lower())  \n",
    "    \n",
    "    region_freq_dist = FreqDist(tokens) \n",
    "    \n",
    "    top_words = [{'word': word, 'freq': freq, 'count': region_freq_dist[word]} for word, freq in token_freqs.items() if word.isalpha() and word.lower() in valid_word_set and region_freq_dist[word] > 10 and freq < 1.0]\n",
    "    top_words = sorted(top_words, key=lambda x: x['freq'], reverse=True)[:10]\n",
    "    \n",
    "    print(f\"Region {region}: Top Valid Words (Appearing >10 times) with Frequencies and Counts:\")\n",
    "    for word_info in top_words:\n",
    "        word = word_info['word']\n",
    "        word_freq = word_info['freq']\n",
    "        word_count = word_info['count']\n",
    "        print(f\"'{word}' (Frequency: {word_freq}, Count: {word_count})\")\n",
    "    print()"
   ]
  },
  {
   "cell_type": "markdown",
   "id": "e6fafd91",
   "metadata": {},
   "source": [
    "## Tokens of Interest"
   ]
  },
  {
   "cell_type": "markdown",
   "id": "18c90ec1",
   "metadata": {},
   "source": []
  },
  {
   "cell_type": "code",
   "execution_count": 37,
   "id": "f8f95e8c",
   "metadata": {},
   "outputs": [],
   "source": [
    "from text_analysis_functions_wagers import contains_target_word, percentage_with_target_words, \\\n",
    "percentage_by_risk, extract_context, extract_ordered_ngrams"
   ]
  },
  {
   "cell_type": "markdown",
   "id": "99591d88",
   "metadata": {},
   "source": [
    "###### Set target words below!"
   ]
  },
  {
   "cell_type": "code",
   "execution_count": 38,
   "id": "121443ae",
   "metadata": {},
   "outputs": [],
   "source": [
    "target_words = [\"suppression\", \"containment\", \"structure\", \"communities\", \"barriers\", \"smoke\"]"
   ]
  },
  {
   "cell_type": "code",
   "execution_count": 39,
   "id": "fa52233a",
   "metadata": {},
   "outputs": [],
   "source": [
    "toi = data[x_notes + descs]"
   ]
  },
  {
   "cell_type": "markdown",
   "id": "cdf7e040",
   "metadata": {},
   "source": [
    "### How often do they appear?"
   ]
  },
  {
   "cell_type": "code",
   "execution_count": 40,
   "id": "47770bac",
   "metadata": {},
   "outputs": [
    {
     "name": "stdout",
     "output_type": "stream",
     "text": [
      "The word 'barriers' appears in 51.64% of the combined notes fields for fires.\n",
      "The word 'structure' appears in 40.03% of the combined notes fields for fires.\n",
      "The word 'smoke' appears in 32.41% of the combined notes fields for fires.\n",
      "The word 'suppression' appears in 32.13% of the combined notes fields for fires.\n",
      "The word 'containment' appears in 16.37% of the combined notes fields for fires.\n",
      "The word 'communities' appears in 13.07% of the combined notes fields for fires.\n"
     ]
    }
   ],
   "source": [
    "percentage_with_target_words(toi,target_words)"
   ]
  },
  {
   "cell_type": "code",
   "execution_count": 41,
   "id": "86763ab2",
   "metadata": {
    "scrolled": true
   },
   "outputs": [
    {
     "name": "stdout",
     "output_type": "stream",
     "text": [
      "Risk: High\n",
      "The word 'barriers' appears in 58.63% of the texts for this risk.\n",
      "The word 'structure' appears in 52.03% of the texts for this risk.\n",
      "The word 'suppression' appears in 38.99% of the texts for this risk.\n",
      "The word 'smoke' appears in 32.22% of the texts for this risk.\n",
      "The word 'communities' appears in 19.36% of the texts for this risk.\n",
      "The word 'containment' appears in 16.46% of the texts for this risk.\n",
      "\n",
      "Risk: Mod\n",
      "The word 'barriers' appears in 48.79% of the texts for this risk.\n",
      "The word 'structure' appears in 35.42% of the texts for this risk.\n",
      "The word 'smoke' appears in 32.31% of the texts for this risk.\n",
      "The word 'suppression' appears in 31.20% of the texts for this risk.\n",
      "The word 'containment' appears in 16.52% of the texts for this risk.\n",
      "The word 'communities' appears in 10.21% of the texts for this risk.\n",
      "\n",
      "Risk: Low\n",
      "The word 'barriers' appears in 45.48% of the texts for this risk.\n",
      "The word 'smoke' appears in 32.85% of the texts for this risk.\n",
      "The word 'structure' appears in 29.03% of the texts for this risk.\n",
      "The word 'suppression' appears in 23.29% of the texts for this risk.\n",
      "The word 'containment' appears in 16.03% of the texts for this risk.\n",
      "The word 'communities' appears in 7.99% of the texts for this risk.\n",
      "\n"
     ]
    }
   ],
   "source": [
    "percentage_by_risk(toi, target_words)"
   ]
  },
  {
   "cell_type": "markdown",
   "id": "58d47173",
   "metadata": {},
   "source": [
    "### What is the context surrounding them?"
   ]
  },
  {
   "cell_type": "code",
   "execution_count": 42,
   "id": "741360c7",
   "metadata": {},
   "outputs": [],
   "source": [
    "con_dict = {}  \n",
    "context_words_dict_alpha = {}  \n",
    "context_window_size = 5\n",
    "\n",
    "for word in target_words:\n",
    "    con_dict[word] = {}\n",
    "    context_words_dict_alpha[word] = {}  # Initialize context_words_dict_alpha[word] as an empty dictionary\n",
    "    \n",
    "    for index, row in toi.iterrows():\n",
    "        text = row['combined_text']\n",
    "\n",
    "        if 'default_risk' not in con_dict[word]:\n",
    "            con_dict[word]['default_risk'] = []\n",
    "\n",
    "        contexts = extract_context(text, word, context_window_size)\n",
    "        con_dict[word]['default_risk'].extend(contexts)\n",
    "        \n",
    "    for risk_description, c in con_dict[word].items():\n",
    "        all_words = [w.lower() for context in c for w in context if not w.lower() == word]\n",
    "        common_words = Counter(all_words).most_common(5)  # Change 5 to the desired number of common words\n",
    "        context_words_dict_alpha[word]['default_risk'] = common_words"
   ]
  },
  {
   "cell_type": "code",
   "execution_count": 43,
   "id": "216d74f8",
   "metadata": {},
   "outputs": [
    {
     "data": {
      "application/vnd.jupyter.widget-view+json": {
       "model_id": "a1e6ce3f2b03480f856999cb4f7cb557",
       "version_major": 2,
       "version_minor": 0
      },
      "text/plain": [
       "HBox(children=(Button(description='suppression', style=ButtonStyle()), Button(description='containment', style…"
      ]
     },
     "metadata": {},
     "output_type": "display_data"
    },
    {
     "data": {
      "application/vnd.jupyter.widget-view+json": {
       "model_id": "6b4cb183e80243ea869294791a33c43c",
       "version_major": 2,
       "version_minor": 0
      },
      "text/plain": [
       "Output()"
      ]
     },
     "metadata": {},
     "output_type": "display_data"
    }
   ],
   "source": [
    "def plot_function(word):\n",
    "    plt.figure(figsize=(8, 6))\n",
    "    \n",
    "    # Ensure there is data for the given token in the dictionary\n",
    "    if 'default_risk' in context_words_dict_alpha.get(word, {}):  # Updated from cwd\n",
    "        common_words, counts = zip(*context_words_dict_alpha[word]['default_risk'])  # Updated from cwd\n",
    "        plt.bar(common_words, counts)\n",
    "        plt.title(f\"Common Tokens appearing in Context for '{word}'\")  # Updated title\n",
    "        plt.xlabel(\"Words\")\n",
    "        plt.ylabel(\"Count\")\n",
    "        plt.show()\n",
    "    else:\n",
    "        print(f\"No data available for combined text for {word}\")\n",
    "\n",
    "# Create buttons for user interaction\n",
    "word_buttons = [widgets.Button(description=word) for word in target_words]\n",
    "\n",
    "def button_click_handler(button):\n",
    "    with output_area:\n",
    "        clear_output(wait=True)\n",
    "        plot_function(button.description)\n",
    "\n",
    "for button in word_buttons:\n",
    "    button.on_click(button_click_handler)\n",
    "\n",
    "# Populate interactive buttons\n",
    "button_box = widgets.HBox(word_buttons)\n",
    "display(button_box)\n",
    "\n",
    "# Make a separate area for the plots to show up\n",
    "output_area = widgets.Output()\n",
    "\n",
    "# Display the plots\n",
    "display(output_area)\n",
    "\n",
    "with output_area:\n",
    "    random_button = random.choice(word_buttons)\n",
    "    plot_function(random_button.description)"
   ]
  },
  {
   "cell_type": "markdown",
   "id": "0844118c",
   "metadata": {},
   "source": [
    "###### By Risk"
   ]
  },
  {
   "cell_type": "code",
   "execution_count": 44,
   "id": "2e060f65",
   "metadata": {},
   "outputs": [
    {
     "name": "stdout",
     "output_type": "stream",
     "text": [
      "Word: suppression\n",
      "  Risk Description: mod\n",
      "    Common Words:\n",
      "      full: 333\n",
      "      actions: 300\n",
      "      incident: 234\n",
      "      efforts: 233\n",
      "      objectives: 217\n",
      "  Risk Description: high\n",
      "    Common Words:\n",
      "      full: 871\n",
      "      objectives: 536\n",
      "      incident: 433\n",
      "      actions: 382\n",
      "      strategy: 326\n",
      "  Risk Description: low\n",
      "    Common Words:\n",
      "      repair: 298\n",
      "      actions: 195\n",
      "      efforts: 134\n",
      "      incident: 103\n",
      "      objectives: 98\n",
      "Word: containment\n",
      "  Risk Description: mod\n",
      "    Common Words:\n",
      "      lines: 250\n",
      "      suppression: 147\n",
      "      spread: 122\n",
      "      barriers: 114\n",
      "      reduced: 108\n",
      "  Risk Description: high\n",
      "    Common Words:\n",
      "      lines: 195\n",
      "      growth: 114\n",
      "      barriers: 101\n",
      "      spread: 88\n",
      "      conditions: 86\n",
      "  Risk Description: low\n",
      "    Common Words:\n",
      "      lines: 252\n",
      "      suppression: 94\n",
      "      behavior: 91\n",
      "      spread: 91\n",
      "      growth: 82\n",
      "Word: structure\n",
      "  Risk Description: mod\n",
      "    Common Words:\n",
      "      protection: 135\n",
      "      historic: 40\n",
      "      one: 37\n",
      "      conditions: 37\n",
      "      composition: 37\n",
      "  Risk Description: high\n",
      "    Common Words:\n",
      "      protection: 270\n",
      "      private: 100\n",
      "      composition: 68\n",
      "      historic: 60\n",
      "      vegetation: 59\n",
      "  Risk Description: low\n",
      "    Common Words:\n",
      "      protection: 51\n",
      "      historic: 24\n",
      "      composition: 19\n",
      "      private: 17\n",
      "      trail: 17\n",
      "Word: communities\n",
      "  Risk Description: mod\n",
      "    Common Words:\n",
      "      smoke: 241\n",
      "      private: 55\n",
      "      tribal: 55\n",
      "      surrounding: 50\n",
      "      visible: 48\n",
      "  Risk Description: high\n",
      "    Common Words:\n",
      "      smoke: 418\n",
      "      private: 284\n",
      "      infrastructure: 129\n",
      "      public: 120\n",
      "      surrounding: 120\n",
      "  Risk Description: low\n",
      "    Common Words:\n",
      "      smoke: 138\n",
      "      private: 40\n",
      "      external: 38\n",
      "      visible: 31\n",
      "      influences: 25\n",
      "Word: barriers\n",
      "  Risk Description: mod\n",
      "    Common Words:\n",
      "      spread: 1242\n",
      "      season: 450\n",
      "      fuel: 406\n",
      "      seasonal: 386\n",
      "      time: 288\n",
      "  Risk Description: high\n",
      "    Common Words:\n",
      "      spread: 1669\n",
      "      season: 692\n",
      "      fuel: 656\n",
      "      seasonal: 505\n",
      "      fuels: 433\n",
      "  Risk Description: low\n",
      "    Common Words:\n",
      "      spread: 656\n",
      "      seasonal: 254\n",
      "      fuel: 239\n",
      "      season: 231\n",
      "      many: 207\n",
      "Word: smoke\n",
      "  Risk Description: mod\n",
      "    Common Words:\n",
      "      media: 358\n",
      "      external: 354\n",
      "      management: 339\n",
      "      visible: 244\n",
      "      communities: 241\n",
      "  Risk Description: high\n",
      "    Common Words:\n",
      "      external: 453\n",
      "      communities: 418\n",
      "      media: 377\n",
      "      private: 359\n",
      "      management: 346\n",
      "  Risk Description: low\n",
      "    Common Words:\n",
      "      visible: 233\n",
      "      management: 219\n",
      "      media: 191\n",
      "      external: 187\n",
      "      minimal: 152\n"
     ]
    }
   ],
   "source": [
    "con_risk_dict = {}  # Updated from conDict\n",
    "context_words_dict = {}  # Updated from cwd\n",
    "context_window_size = 5\n",
    "\n",
    "for word in target_words:\n",
    "    con_risk_dict[word] = {}\n",
    "    context_words_dict[word] = {}  # Initialize context_words_dict[word] as an empty dictionary\n",
    "    \n",
    "    for index, row in toi.iterrows():\n",
    "        risk_description = row['rrf_rr_desc']\n",
    "        text = row['combined_text']\n",
    "\n",
    "        if risk_description not in con_risk_dict[word]:\n",
    "            con_risk_dict[word][risk_description] = []\n",
    "\n",
    "        contexts = extract_context(text, word, context_window_size)\n",
    "        con_risk_dict[word][risk_description].extend(contexts)\n",
    "        \n",
    "    for risk_description, c in con_risk_dict[word].items():\n",
    "        all_words = [w.lower() for context in c for w in context if not w.lower() == word]\n",
    "        common_words = Counter(all_words).most_common(5)  # Change 5 to the desired number of common words\n",
    "        context_words_dict[word][risk_description] = common_words\n",
    "        \n",
    "for word, risk_descriptions in context_words_dict.items():\n",
    "    print(f\"Word: {word}\")\n",
    "    for risk_description, common_words in risk_descriptions.items():\n",
    "        print(f\"  Risk Description: {risk_description}\")\n",
    "        print(\"    Common Words:\")\n",
    "        for word, count in common_words:\n",
    "            print(f\"      {word}: {count}\")"
   ]
  },
  {
   "cell_type": "code",
   "execution_count": 45,
   "id": "111d7c7f",
   "metadata": {
    "scrolled": true
   },
   "outputs": [
    {
     "data": {
      "application/vnd.jupyter.widget-view+json": {
       "model_id": "82cbf17564ac4f77848619db82291312",
       "version_major": 2,
       "version_minor": 0
      },
      "text/plain": [
       "HBox(children=(Button(description='suppression', layout=Layout(width='100px'), style=ButtonStyle()), Button(de…"
      ]
     },
     "metadata": {},
     "output_type": "display_data"
    },
    {
     "data": {
      "application/vnd.jupyter.widget-view+json": {
       "model_id": "955f6a67fdeb4155be26a7a0ae845a48",
       "version_major": 2,
       "version_minor": 0
      },
      "text/plain": [
       "Output()"
      ]
     },
     "metadata": {},
     "output_type": "display_data"
    }
   ],
   "source": [
    "def plot_risks(word):\n",
    "    fig, axes = plt.subplots(1, 3, figsize=(18, 6), sharey=True)\n",
    "\n",
    "    # Ensure there is data for the given token in the dictionary\n",
    "    if word in context_words_dict:\n",
    "        # Sort risk descriptions based on counts\n",
    "        sorted_risks = sorted(context_words_dict[word].items(), key=lambda x: sum(count for word, count in x[1]), reverse=True)\n",
    "\n",
    "        for ax, (risk_description, common_words) in zip(axes, sorted_risks):\n",
    "            words, counts = zip(*common_words)\n",
    "            ax.bar(words, counts)\n",
    "            ax.set_title(risk_description)\n",
    "            ax.set_xlabel(\"Words\")\n",
    "            ax.set_ylabel(\"Count\")\n",
    "\n",
    "        plt.show()\n",
    "    else:\n",
    "        print(f\"No data available for combined text for {word}\")\n",
    "\n",
    "# Create buttons for user interaction\n",
    "word_buttons = [widgets.Button(description=word, layout=Layout(width='100px')) for word in target_words]\n",
    "\n",
    "# Function to handle button click\n",
    "def button_click_handler(button):\n",
    "    with output_area:\n",
    "        clear_output(wait=True)\n",
    "        plot_risks(button.description)\n",
    "\n",
    "# Assign a random button to be clicked automatically\n",
    "random_button = random.choice(word_buttons)\n",
    "button_click_handler(random_button)\n",
    "\n",
    "# Attach click handler to buttons\n",
    "for button in word_buttons:\n",
    "    button.on_click(button_click_handler)\n",
    "\n",
    "# Populate interactive buttons\n",
    "button_box = widgets.HBox(word_buttons)\n",
    "display(button_box)\n",
    "\n",
    "# Make a separate area for the plots to show up\n",
    "output_area = widgets.Output()\n",
    "\n",
    "# Display the plots\n",
    "display(output_area)\n",
    "\n",
    "# Use plot function to display plot\n",
    "with output_area:\n",
    "    plot_risks(random_button.description)"
   ]
  },
  {
   "cell_type": "markdown",
   "id": "9acacbe2",
   "metadata": {},
   "source": [
    "### Let's take a look at common ngrams"
   ]
  },
  {
   "cell_type": "code",
   "execution_count": 46,
   "id": "b82d831b",
   "metadata": {},
   "outputs": [
    {
     "name": "stdout",
     "output_type": "stream",
     "text": [
      "Word: suppression\n",
      "  Risk Description: mod\n",
      "    Most Common Ordered Ngrams:\n",
      "      full suppression strategy: 50\n",
      "      suppression actions taken: 29\n",
      "      conditions shortages suppression: 25\n",
      "      likelihood success least: 25\n",
      "      unusual conditions shortages: 24\n",
      "      shortage suppression response: 23\n",
      "      shortages suppression shortage: 22\n",
      "      suppression shortage suppression: 22\n",
      "      appropriate suppression protect: 22\n",
      "      suppression protect cultural: 20\n",
      "\n",
      "  Risk Description: high\n",
      "    Most Common Ordered Ngrams:\n",
      "      full suppression smallest: 143\n",
      "      full suppression strategy: 128\n",
      "      suppression smallest possible: 114\n",
      "      objectives full suppression: 105\n",
      "      full suppression objectives: 87\n",
      "      conflict full suppression: 84\n",
      "      suppression objectives full: 72\n",
      "      involved coordinated suppression: 60\n",
      "      strategies full suppression: 59\n",
      "      conducive highly involved: 56\n",
      "\n",
      "  Risk Description: low\n",
      "    Most Common Ordered Ngrams:\n",
      "      suppression repair work: 21\n",
      "      suppression actions taken: 19\n",
      "      successful suppression efforts: 14\n",
      "      mop suppression repair: 14\n",
      "      suppression suppression repair: 14\n",
      "      full suppression strategy: 12\n",
      "      monitoring suppression rehabilitation: 11\n",
      "      unusual conditions shortages: 11\n",
      "      conditions shortages suppression: 11\n",
      "      suppression repair hazard: 11\n",
      "\n",
      "\n",
      "Word: containment\n",
      "  Risk Description: mod\n",
      "    Most Common Ordered Ngrams:\n",
      "      reflect containment wet: 16\n",
      "      updated reflect containment: 11\n",
      "      barriers spread containment: 10\n",
      "      containment lines place: 10\n",
      "      containment wet updated: 10\n",
      "      wet updated reflect: 10\n",
      "      reduced containment containment: 10\n",
      "      outside containment lines: 9\n",
      "      containment line around: 9\n",
      "      containment lines holding: 8\n",
      "\n",
      "  Risk Description: high\n",
      "    Most Common Ordered Ngrams:\n",
      "      outside containment lines: 14\n",
      "      containment past conducive: 10\n",
      "      past conducive large: 10\n",
      "      conducive large growth: 9\n",
      "      strategies probability depending: 8\n",
      "      probability depending containment: 8\n",
      "      creating resistance control: 8\n",
      "      control barriers roads: 8\n",
      "      escapes containment lines: 8\n",
      "      limited containment options: 8\n",
      "\n",
      "  Risk Description: low\n",
      "    Most Common Ordered Ngrams:\n",
      "      full containment june: 12\n",
      "      containment lines place: 12\n",
      "      fuels remain barriers: 9\n",
      "      feet fuels remain: 8\n",
      "      reduced percent containment: 8\n",
      "      percent containment june: 8\n",
      "      containment june full: 8\n",
      "      june full containment: 8\n",
      "      containment june external: 8\n",
      "      containment lines around: 7\n",
      "\n",
      "\n",
      "Word: structure\n",
      "  Risk Description: mod\n",
      "    Most Common Ordered Ngrams:\n",
      "      structure protection plans: 20\n",
      "      composition structure vegetation: 17\n",
      "      structure vegetation shifted: 14\n",
      "      vegetation shifted historic: 10\n",
      "      shifted historic conditions: 10\n",
      "      historic conditions towards: 9\n",
      "      structure composition vegetation: 9\n",
      "      organizational structure adequate: 9\n",
      "      structure protection measures: 8\n",
      "      departure historic conditions: 7\n",
      "\n",
      "  Risk Description: high\n",
      "    Most Common Ordered Ngrams:\n",
      "      composition structure vegetation: 30\n",
      "      structure composition vegetation: 20\n",
      "      departure historic conditions: 18\n",
      "      composition vegetation departure: 17\n",
      "      structure vegetation shifted: 15\n",
      "      altered composition structure: 15\n",
      "      point protection structure: 14\n",
      "      highly altered composition: 14\n",
      "      landscape effects outside: 12\n",
      "      vegetation shifted historic: 11\n",
      "\n",
      "  Risk Description: low\n",
      "    Most Common Ordered Ngrams:\n",
      "      vegetative composition structure: 7\n",
      "      structure similar historic: 7\n",
      "      composition structure vegetation: 6\n",
      "      composition structure similar: 6\n",
      "      structure vegetation shifted: 5\n",
      "      key components short: 5\n",
      "      structure protection plans: 5\n",
      "      similar historic key: 5\n",
      "      historic key components: 5\n",
      "      vegetation shifted historic: 4\n",
      "\n",
      "\n",
      "Word: communities\n",
      "  Risk Description: mod\n",
      "    Most Common Ordered Ngrams:\n",
      "      tribal community tribal: 23\n",
      "      community tribal expressed: 23\n",
      "      tribal expressed effects: 23\n",
      "      expressed effects communities: 23\n",
      "      effects communities much: 19\n",
      "      communities much consists: 19\n",
      "      much consists flashy: 19\n",
      "      consists flashy fuels: 19\n",
      "      smoke impacting communities: 17\n",
      "      highly visible communities: 13\n",
      "\n",
      "  Risk Description: high\n",
      "    Most Common Ordered Ngrams:\n",
      "      threats communities infrastructure: 26\n",
      "      smoke impacting communities: 24\n",
      "      communities infrastructure california: 23\n",
      "      expressed effects communities: 19\n",
      "      tribal community tribal: 19\n",
      "      community tribal expressed: 17\n",
      "      tribal expressed effects: 16\n",
      "      highly visible communities: 15\n",
      "      experienced major related: 15\n",
      "      major related incidents: 15\n",
      "\n",
      "  Risk Description: low\n",
      "    Most Common Ordered Ngrams:\n",
      "      external influences communities: 12\n",
      "      smoke communities little: 9\n",
      "      communities little acres: 9\n",
      "      little acres consumed: 9\n",
      "      communities smoke fairly: 8\n",
      "      smoke fairly localized: 8\n",
      "      fairly localized time: 8\n",
      "      localized time communities: 8\n",
      "      influences communities communities: 8\n",
      "      communities communities ollalie: 8\n",
      "\n",
      "\n",
      "Word: barriers\n",
      "  Risk Description: mod\n",
      "    Most Common Ordered Ngrams:\n",
      "      barriers spread barriers: 107\n",
      "      spread barriers spread: 64\n",
      "      barriers present limiting: 60\n",
      "      many barriers spread: 50\n",
      "      season barriers spread: 45\n",
      "      barriers seasonal severity: 41\n",
      "      barriers fuel breaks: 39\n",
      "      presence barriers fuel: 33\n",
      "      remaining barriers spread: 31\n",
      "      man made barriers: 29\n",
      "\n",
      "  Risk Description: high\n",
      "    Most Common Ordered Ngrams:\n",
      "      barriers spread barriers: 125\n",
      "      season barriers spread: 80\n",
      "      barriers present limiting: 66\n",
      "      barriers fuel breaks: 61\n",
      "      barriers seasonal severity: 55\n",
      "      spread barriers spread: 48\n",
      "      presence barriers fuel: 43\n",
      "      barriers spread roads: 41\n",
      "      spread barriers present: 39\n",
      "      barriers spread form: 38\n",
      "\n",
      "  Risk Description: low\n",
      "    Most Common Ordered Ngrams:\n",
      "      barriers spread barriers: 59\n",
      "      many barriers spread: 39\n",
      "      barriers present limiting: 35\n",
      "      spread barriers spread: 35\n",
      "      portion barriers spread: 27\n",
      "      barriers seasonal severity: 26\n",
      "      many barriers present: 23\n",
      "      barriers spread seasonal: 22\n",
      "      spread seasonal severity: 22\n",
      "      barriers fuel breaks: 16\n",
      "\n",
      "\n",
      "Word: smoke\n",
      "  Risk Description: mod\n",
      "    Most Common Ordered Ngrams:\n",
      "      smoke management smoke: 91\n",
      "      media activity smoke: 78\n",
      "      activity smoke management: 74\n",
      "      minimal media activity: 58\n",
      "      smoke external attention: 53\n",
      "      external attention focus: 52\n",
      "      media smoke management: 48\n",
      "      attention focus elevate: 48\n",
      "      external attention focused: 44\n",
      "      focus elevate level: 40\n",
      "\n",
      "  Risk Description: high\n",
      "    Most Common Ordered Ngrams:\n",
      "      smoke smoke sensitive: 142\n",
      "      likelihood smoke smoke: 120\n",
      "      smoke management smoke: 104\n",
      "      media activity smoke: 81\n",
      "      smoke sensitive complex: 80\n",
      "      sensitive complex mitigation: 80\n",
      "      complex mitigation actions: 80\n",
      "      activity smoke management: 74\n",
      "      minimal media activity: 67\n",
      "      external attention focus: 58\n",
      "\n",
      "  Risk Description: low\n",
      "    Most Common Ordered Ngrams:\n",
      "      smoke management smoke: 44\n",
      "      media smoke management: 42\n",
      "      media activity smoke: 31\n",
      "      activity smoke management: 30\n",
      "      sensitive media smoke: 28\n",
      "      attention focused level: 26\n",
      "      smoke external attention: 24\n",
      "      minimal media activity: 24\n",
      "      external attention focused: 22\n",
      "      media interest sensitive: 21\n",
      "\n",
      "\n"
     ]
    }
   ],
   "source": [
    "common_ordered_ngrams_by_risk = {}\n",
    "\n",
    "for word in target_words:\n",
    "    common_ordered_ngrams_by_risk[word] = {}\n",
    "    for risk_description, contexts in con_risk_dict[word].items(): \n",
    "\n",
    "        ordered_ngrams = extract_ordered_ngrams(contexts, 3)\n",
    "\n",
    "        ordered_ngram_counts = Counter(ordered_ngrams)\n",
    "\n",
    "        most_common_ordered_ngrams = ordered_ngram_counts.most_common(10)\n",
    "\n",
    "        common_ordered_ngrams_by_risk[word][risk_description] = most_common_ordered_ngrams\n",
    "\n",
    "for word, risk_descriptions in common_ordered_ngrams_by_risk.items():\n",
    "    print(f\"Word: {word}\")\n",
    "    for risk_description, ngram_counts in risk_descriptions.items():\n",
    "        print(f\"  Risk Description: {risk_description}\")\n",
    "        print(\"    Most Common Ordered Ngrams:\")\n",
    "        for ngram, count in ngram_counts:\n",
    "            print(f\"      {ngram}: {count}\")\n",
    "        print()  # Add an empty line between risk descriptions\n",
    "    print()  # Add an empty line between words"
   ]
  },
  {
   "cell_type": "markdown",
   "id": "be9da3ab",
   "metadata": {},
   "source": [
    "## Text Differences Between Relative Risks"
   ]
  },
  {
   "cell_type": "code",
   "execution_count": null,
   "id": "e7e8f5fe",
   "metadata": {},
   "outputs": [],
   "source": []
  },
  {
   "cell_type": "markdown",
   "id": "2af3f26b",
   "metadata": {},
   "source": [
    "# Topic Modeling"
   ]
  },
  {
   "cell_type": "code",
   "execution_count": null,
   "id": "8e8eaf10",
   "metadata": {},
   "outputs": [],
   "source": []
  },
  {
   "cell_type": "markdown",
   "id": "ace181ac",
   "metadata": {},
   "source": [
    "# Sentiment Analyses "
   ]
  },
  {
   "cell_type": "code",
   "execution_count": null,
   "id": "e7b42997",
   "metadata": {},
   "outputs": [],
   "source": []
  },
  {
   "cell_type": "markdown",
   "id": "898916ea",
   "metadata": {},
   "source": [
    "## Sentiment in Relationship to Risk Decision"
   ]
  },
  {
   "cell_type": "code",
   "execution_count": null,
   "id": "d54353f2",
   "metadata": {},
   "outputs": [],
   "source": []
  },
  {
   "cell_type": "markdown",
   "id": "e8289834",
   "metadata": {},
   "source": [
    "# Risk Classification - Individual Tokens"
   ]
  },
  {
   "cell_type": "code",
   "execution_count": null,
   "id": "32673044",
   "metadata": {},
   "outputs": [],
   "source": []
  },
  {
   "cell_type": "code",
   "execution_count": 47,
   "id": "a9bc64ef",
   "metadata": {},
   "outputs": [
    {
     "data": {
      "text/plain": [
       "rrf_rr_desc\n",
       "mod     2888\n",
       "high    2862\n",
       "low     1915\n",
       "Name: count, dtype: int64"
      ]
     },
     "execution_count": 47,
     "metadata": {},
     "output_type": "execute_result"
    }
   ],
   "source": [
    "risk_levels = data['rrf_rr_desc'].value_counts()\n",
    "risk_levels"
   ]
  },
  {
   "cell_type": "code",
   "execution_count": null,
   "id": "41ebcc19",
   "metadata": {},
   "outputs": [],
   "source": []
  },
  {
   "cell_type": "markdown",
   "id": "57b127e9",
   "metadata": {},
   "source": [
    "Placeholder Text"
   ]
  },
  {
   "cell_type": "markdown",
   "id": "52b5a09b",
   "metadata": {},
   "source": [
    "## Relative Risk Decision and All Text"
   ]
  },
  {
   "cell_type": "markdown",
   "id": "f16410e6",
   "metadata": {},
   "source": [
    "In this section of the notebook, I explore using the combined text for each fire-risk combination to predict risk. By doing so, I am hopeful that I can gain insight into tokens potentially driving risk decisions. I'll explore different techniques, ensembles, and whatever is necessary to produce the most accurate model."
   ]
  },
  {
   "cell_type": "code",
   "execution_count": 48,
   "id": "d78b89b5",
   "metadata": {},
   "outputs": [],
   "source": [
    "combined_texts = data['combined_text']\n",
    "risk_labels = data['rrf_rr_desc']\n",
    "\n",
    "for label in risk_labels:\n",
    "    if label not in [\"high\", \"mod\", \"low\"]:\n",
    "        print(\"Within the data, there is a risk label that is erroneous. This should be looked into as soon as possible\")\n",
    "\n",
    "vectorizer =TfidfVectorizer()"
   ]
  },
  {
   "cell_type": "markdown",
   "id": "919a0bae",
   "metadata": {},
   "source": [
    "Explain Why I am doing"
   ]
  },
  {
   "cell_type": "code",
   "execution_count": 49,
   "id": "d87f097a",
   "metadata": {},
   "outputs": [],
   "source": [
    "high_other = data.copy()\n",
    "high_other['rrf_rr_desc'] = high_other['rrf_rr_desc'].apply(lambda x: 'other' if x in ['low', 'mod'] else x)\n",
    "\n",
    "high_other_comb_texts = high_other['combined_text']\n",
    "high_other_labels = high_other['rrf_rr_desc']"
   ]
  },
  {
   "cell_type": "markdown",
   "id": "3abda1c7",
   "metadata": {},
   "source": [
    "### Naive Bayes"
   ]
  },
  {
   "cell_type": "code",
   "execution_count": 50,
   "id": "4b064577",
   "metadata": {},
   "outputs": [],
   "source": [
    "from text_classification_functions import train_nb_classifier"
   ]
  },
  {
   "cell_type": "markdown",
   "id": "0e36aed3",
   "metadata": {},
   "source": [
    "Placeholder Text to describe what is happening"
   ]
  },
  {
   "cell_type": "markdown",
   "id": "ab0cc96e",
   "metadata": {},
   "source": [
    "#### 3 Risks"
   ]
  },
  {
   "cell_type": "code",
   "execution_count": 51,
   "id": "f69642fd",
   "metadata": {},
   "outputs": [],
   "source": [
    "nb_classifier, x_nb_train, x_nb_test, \\\n",
    "y_nb_train, y_nb_test = train_nb_classifier(combined_texts,risk_labels,.2,1,2);"
   ]
  },
  {
   "cell_type": "code",
   "execution_count": 52,
   "id": "54aa5b18",
   "metadata": {
    "scrolled": true
   },
   "outputs": [
    {
     "name": "stdout",
     "output_type": "stream",
     "text": [
      "The Naive Bayes classifier accuracy is 0.5388 or 53.88%\n",
      "\n",
      "\n",
      "Classification Report:\n",
      "              precision    recall  f1-score   support\n",
      "\n",
      "        high       0.63      0.81      0.71       552\n",
      "         low       0.56      0.01      0.02       400\n",
      "         mod       0.46      0.64      0.53       581\n",
      "\n",
      "    accuracy                           0.54      1533\n",
      "   macro avg       0.55      0.49      0.42      1533\n",
      "weighted avg       0.55      0.54      0.46      1533\n",
      "\n"
     ]
    }
   ],
   "source": [
    "y_nb_pred = nb_classifier.predict(x_nb_test)\n",
    "y_nb_train_pred = nb_classifier.predict(x_nb_train)\n",
    "\n",
    "nb_accuracy = accuracy_score(y_nb_test, y_nb_pred)\n",
    "\n",
    "print(f\"The Naive Bayes classifier accuracy is {nb_accuracy:.4f} or {nb_accuracy:.2%}\")\n",
    "print(\"\\n\")\n",
    "print(\"Classification Report:\")\n",
    "print(classification_report(y_nb_test, y_nb_pred))\n"
   ]
  },
  {
   "cell_type": "markdown",
   "id": "fb9ece58",
   "metadata": {},
   "source": [
    "###### Thoughts"
   ]
  },
  {
   "cell_type": "markdown",
   "id": "06234589",
   "metadata": {},
   "source": [
    "In this three class model, the model performs better than chance guessing. This is a start! However, I am not satisfied with the performance of the model. The macro average of f1-score being .42 is not where I would like it to be by any means. It is interesting thast the model performs significantly better on predicting high risk fires versus low, or moderate risk fires. It is also interesting just how poorly the model performs predicting low risk fires."
   ]
  },
  {
   "cell_type": "markdown",
   "id": "2aa6f43c",
   "metadata": {},
   "source": [
    "#### High vs Mod + Low"
   ]
  },
  {
   "cell_type": "code",
   "execution_count": 53,
   "id": "e43c10f0",
   "metadata": {},
   "outputs": [],
   "source": [
    "honb_classifier, x_honb_train, x_honb_test, \\\n",
    "y_honb_train, y_honb_test = train_nb_classifier(high_other_comb_texts, high_other_labels, 0.2)"
   ]
  },
  {
   "cell_type": "code",
   "execution_count": 54,
   "id": "af1427ad",
   "metadata": {},
   "outputs": [
    {
     "name": "stdout",
     "output_type": "stream",
     "text": [
      "The Naive Bayes classifier accuracy is 0.6960 or 69.60%\n",
      "\n",
      "\n",
      "Classification Report:\n",
      "              precision    recall  f1-score   support\n",
      "\n",
      "        high       0.84      0.19      0.31       552\n",
      "       other       0.68      0.98      0.80       981\n",
      "\n",
      "    accuracy                           0.70      1533\n",
      "   macro avg       0.76      0.59      0.56      1533\n",
      "weighted avg       0.74      0.70      0.63      1533\n",
      "\n"
     ]
    }
   ],
   "source": [
    "y_honb_pred = honb_classifier.predict(x_honb_test)\n",
    "y_honb_train_pred = honb_classifier.predict(x_honb_train)\n",
    "\n",
    "honb_accuracy = accuracy_score(y_honb_test, y_honb_pred)\n",
    "\n",
    "print(f\"The Naive Bayes classifier accuracy is {honb_accuracy:.4f} or {honb_accuracy:.2%}\")\n",
    "print(\"\\n\")\n",
    "print(\"Classification Report:\")\n",
    "print(classification_report(y_honb_test, y_honb_pred))"
   ]
  },
  {
   "cell_type": "markdown",
   "id": "6c5333c5",
   "metadata": {},
   "source": [
    "### K Nearest Neighbors"
   ]
  },
  {
   "cell_type": "code",
   "execution_count": 55,
   "id": "2cf8d743",
   "metadata": {},
   "outputs": [],
   "source": [
    "from text_classification_functions import train_knn_classifier, neighbor_number_search"
   ]
  },
  {
   "cell_type": "code",
   "execution_count": 56,
   "id": "6a87fed5",
   "metadata": {},
   "outputs": [],
   "source": [
    "warnings.filterwarnings(\"ignore\", category=FutureWarning, module=\"sklearn.neighbors._classification\")\n",
    "\n",
    "knn_classifier, xnn_train, xnn_test, ynn_train, ynn_test \\\n",
    "    = train_knn_classifier(combined_texts, risk_labels, 6, .2, 2)"
   ]
  },
  {
   "cell_type": "code",
   "execution_count": 57,
   "id": "3a753656",
   "metadata": {},
   "outputs": [],
   "source": [
    "knn_pred = knn_classifier.predict(xnn_test)"
   ]
  },
  {
   "cell_type": "code",
   "execution_count": 58,
   "id": "2b4bc87d",
   "metadata": {},
   "outputs": [
    {
     "name": "stdout",
     "output_type": "stream",
     "text": [
      "0.3561643835616438\n"
     ]
    }
   ],
   "source": [
    "knn_score = knn_classifier.score(xnn_test,ynn_test)\n",
    "print(knn_score)"
   ]
  },
  {
   "cell_type": "code",
   "execution_count": 59,
   "id": "640cf1e0",
   "metadata": {},
   "outputs": [
    {
     "data": {
      "image/png": "[encoded data removed]",
      "text/plain": [
       "<Figure size 432x288 with 1 Axes>"
      ]
     },
     "metadata": {
      "needs_background": "light"
     },
     "output_type": "display_data"
    }
   ],
   "source": [
    "neighbor_number_search(xnn_train,xnn_test,ynn_train,ynn_test,5,17)"
   ]
  },
  {
   "cell_type": "markdown",
   "id": "52b22064",
   "metadata": {},
   "source": [
    "###### K Nearest Neighbors Summary"
   ]
  },
  {
   "cell_type": "markdown",
   "id": "71508dc9",
   "metadata": {},
   "source": [
    "K Nearest Neighbors did not perform particularly well, even on the training data. After attempts at hyperparamater tuning I did not find any further success. With this in mind I am going to move on from attempts modeling with KNN moving forward."
   ]
  },
  {
   "cell_type": "markdown",
   "id": "5b508571",
   "metadata": {},
   "source": [
    "### Penalized Logistic Regression"
   ]
  },
  {
   "cell_type": "code",
   "execution_count": 60,
   "id": "9ce22ed2",
   "metadata": {},
   "outputs": [],
   "source": [
    "from text_classification_functions import train_logistic_reg"
   ]
  },
  {
   "cell_type": "markdown",
   "id": "88ed52b2",
   "metadata": {},
   "source": [
    "#### 3 Risks"
   ]
  },
  {
   "cell_type": "code",
   "execution_count": 61,
   "id": "ccf054e7",
   "metadata": {
    "scrolled": true
   },
   "outputs": [],
   "source": [
    "plr_model, lrx_train, lrx_test,\\\n",
    "lry_train, lry_test = train_logistic_reg(combined_texts,risk_labels,'l2',1,1000)"
   ]
  },
  {
   "cell_type": "code",
   "execution_count": 62,
   "id": "685fa0ec",
   "metadata": {},
   "outputs": [],
   "source": [
    "lry_pred = plr_model.predict(lrx_test)\n",
    "plr_score = accuracy_score(lry_test, lry_pred)"
   ]
  },
  {
   "cell_type": "code",
   "execution_count": 63,
   "id": "730c4ceb",
   "metadata": {
    "scrolled": true
   },
   "outputs": [
    {
     "name": "stdout",
     "output_type": "stream",
     "text": [
      "A penalized logistic regression model classifying risk has an accuracy of 0.6060013046314416\n",
      "\n",
      "Classification Report:\n",
      "              precision    recall  f1-score   support\n",
      "\n",
      "        high       0.69      0.75      0.72       552\n",
      "         low       0.64      0.46      0.54       400\n",
      "         mod       0.51      0.56      0.54       581\n",
      "\n",
      "    accuracy                           0.61      1533\n",
      "   macro avg       0.61      0.59      0.60      1533\n",
      "weighted avg       0.61      0.61      0.60      1533\n",
      "\n"
     ]
    }
   ],
   "source": [
    "print(f\"A penalized logistic regression model classifying risk has an accuracy of {plr_score}\\n\")\n",
    "print(\"Classification Report:\")\n",
    "print(classification_report(lry_test, lry_pred))"
   ]
  },
  {
   "cell_type": "markdown",
   "id": "81027ec3",
   "metadata": {},
   "source": [
    "#### High vs Mod + Low"
   ]
  },
  {
   "cell_type": "code",
   "execution_count": 64,
   "id": "b4af51c3",
   "metadata": {},
   "outputs": [],
   "source": [
    "ho_model, ho_lrx_train, ho_lrx_test, ho_lry_train, ho_lry_test \\\n",
    "= train_logistic_reg(high_other_comb_texts, high_other_labels, 'l2', 1, 1000)"
   ]
  },
  {
   "cell_type": "code",
   "execution_count": 65,
   "id": "f24db94b",
   "metadata": {},
   "outputs": [],
   "source": [
    "ho_lry_pred = ho_model.predict(ho_lrx_test)\n",
    "ho_score = accuracy_score(ho_lry_test, ho_lry_pred)"
   ]
  },
  {
   "cell_type": "code",
   "execution_count": 66,
   "id": "7ceec19d",
   "metadata": {},
   "outputs": [
    {
     "name": "stdout",
     "output_type": "stream",
     "text": [
      "The model accuracy is 0.7964774951076321\n",
      " \n",
      "Classification Report:\n",
      "              precision    recall  f1-score   support\n",
      "\n",
      "        high       0.77      0.62      0.69       552\n",
      "       other       0.81      0.90      0.85       981\n",
      "\n",
      "    accuracy                           0.80      1533\n",
      "   macro avg       0.79      0.76      0.77      1533\n",
      "weighted avg       0.79      0.80      0.79      1533\n",
      "\n"
     ]
    }
   ],
   "source": [
    "print(f\"The model accuracy is {ho_score}\")\n",
    "print(\" \\nClassification Report:\")\n",
    "print(classification_report(ho_lry_test, ho_lry_pred))"
   ]
  },
  {
   "cell_type": "code",
   "execution_count": null,
   "id": "0a1927cd",
   "metadata": {},
   "outputs": [],
   "source": []
  },
  {
   "cell_type": "markdown",
   "id": "9d2a4e54",
   "metadata": {},
   "source": [
    "### Random Forest "
   ]
  },
  {
   "cell_type": "code",
   "execution_count": 67,
   "id": "2723836e",
   "metadata": {},
   "outputs": [],
   "source": [
    "from text_classification_functions import train_random_forest, best_random_forest"
   ]
  },
  {
   "cell_type": "code",
   "execution_count": null,
   "id": "a1306d36",
   "metadata": {},
   "outputs": [],
   "source": []
  },
  {
   "cell_type": "code",
   "execution_count": 68,
   "id": "f9c60c66",
   "metadata": {},
   "outputs": [],
   "source": [
    "rf_classifier,rfx_train, rfx_test, rfy_train, rfy_test = train_random_forest(combined_texts,risk_labels)"
   ]
  },
  {
   "cell_type": "code",
   "execution_count": 69,
   "id": "139316ca",
   "metadata": {},
   "outputs": [
    {
     "name": "stdout",
     "output_type": "stream",
     "text": [
      "Accuracy: 0.5649054142204827\n"
     ]
    }
   ],
   "source": [
    "rfy_pred = rf_classifier.predict(rfx_test)\n",
    "rf_accuracy = accuracy_score(rfy_test, rfy_pred)\n",
    "print(\"Accuracy:\", rf_accuracy)"
   ]
  },
  {
   "cell_type": "code",
   "execution_count": 70,
   "id": "11a387be",
   "metadata": {},
   "outputs": [
    {
     "name": "stdout",
     "output_type": "stream",
     "text": [
      "Classification Report:\n",
      "               precision    recall  f1-score   support\n",
      "\n",
      "        high       0.63      0.78      0.70       552\n",
      "         low       0.66      0.30      0.41       400\n",
      "         mod       0.47      0.55      0.51       581\n",
      "\n",
      "    accuracy                           0.56      1533\n",
      "   macro avg       0.59      0.54      0.54      1533\n",
      "weighted avg       0.58      0.56      0.55      1533\n",
      "\n"
     ]
    }
   ],
   "source": [
    " print(\"Classification Report:\\n\", classification_report(rfy_test, rfy_pred))"
   ]
  },
  {
   "cell_type": "markdown",
   "id": "e3549b76",
   "metadata": {},
   "source": [
    "Now, I try some hyperparamater tuning to see if model performance can be improved without overfitting."
   ]
  },
  {
   "cell_type": "code",
   "execution_count": 71,
   "id": "a6c4d5fd",
   "metadata": {},
   "outputs": [],
   "source": [
    "#best_rf_classifier, rfx_train, rfx_test, rfy_train, rfy_test = best_random_forest(combined_texts, risk_labels)\n",
    "#rfy_pred = best_rf_classifier.predict(rfx_test)\n",
    "#brf_accuracy = accuracy_score(rfy_test, rfy_pred)\n",
    "#print(\"Best Model Accuracy:\", brf_accuracy)\n",
    "#print(\"Best Model Parameters:\", best_rf_classifier.get_params())"
   ]
  },
  {
   "cell_type": "markdown",
   "id": "5f493337",
   "metadata": {},
   "source": [
    "### Ensemble"
   ]
  },
  {
   "cell_type": "code",
   "execution_count": 72,
   "id": "580853f5",
   "metadata": {},
   "outputs": [],
   "source": [
    "x = vectorizer.fit_transform(combined_texts)\n",
    "y = risk_labels.tolist()\n",
    "\n",
    "x_train, x_test, y_train, y_test = train_test_split(x, y, test_size = 0.2, random_state = 2)"
   ]
  },
  {
   "cell_type": "markdown",
   "id": "754a30cd",
   "metadata": {},
   "source": [
    "#### Base Models"
   ]
  },
  {
   "cell_type": "markdown",
   "id": "fb951a34",
   "metadata": {},
   "source": [
    "#####  Naive Bayes"
   ]
  },
  {
   "cell_type": "code",
   "execution_count": 73,
   "id": "649811be",
   "metadata": {},
   "outputs": [
    {
     "name": "stdout",
     "output_type": "stream",
     "text": [
      "Classification Report for Naive Bayes Classifier:\n",
      "              precision    recall  f1-score   support\n",
      "\n",
      "        high       0.63      0.81      0.71       552\n",
      "         low       0.56      0.01      0.02       400\n",
      "         mod       0.46      0.64      0.53       581\n",
      "\n",
      "    accuracy                           0.54      1533\n",
      "   macro avg       0.55      0.49      0.42      1533\n",
      "weighted avg       0.55      0.54      0.46      1533\n",
      "\n"
     ]
    }
   ],
   "source": [
    "en_nb_classifier,*_ = train_nb_classifier(combined_texts,risk_labels,.2)\n",
    "\n",
    "y_pred_nb = en_nb_classifier.predict(x_test)\n",
    "\n",
    "classification_rep = classification_report(y_test, y_pred_nb)\n",
    "\n",
    "print(\"Classification Report for Naive Bayes Classifier:\")\n",
    "print(classification_rep)"
   ]
  },
  {
   "cell_type": "code",
   "execution_count": 74,
   "id": "a94303ba",
   "metadata": {},
   "outputs": [
    {
     "name": "stdout",
     "output_type": "stream",
     "text": [
      "Classification Report for Naive Bayes Classifier:\n",
      "              precision    recall  f1-score   support\n",
      "\n",
      "        high       0.64      0.71      0.67       552\n",
      "         low       0.58      0.29      0.39       400\n",
      "         mod       0.47      0.58      0.52       581\n",
      "\n",
      "    accuracy                           0.55      1533\n",
      "   macro avg       0.56      0.53      0.53      1533\n",
      "weighted avg       0.56      0.55      0.54      1533\n",
      "\n"
     ]
    }
   ],
   "source": [
    "en_bestalpha_nb_classifier, *_ = train_nb_classifier(combined_texts,risk_labels,.2,.1)\n",
    "\n",
    "y_pred_nb = en_bestalpha_nb_classifier.predict(x_test)\n",
    "\n",
    "classification_rep = classification_report(y_test, y_pred_nb)\n",
    "\n",
    "print(\"Classification Report for Naive Bayes Classifier:\")\n",
    "print(classification_rep)"
   ]
  },
  {
   "cell_type": "markdown",
   "id": "cb498d04",
   "metadata": {},
   "source": [
    "##### Random Forest"
   ]
  },
  {
   "cell_type": "code",
   "execution_count": 75,
   "id": "c40dc703",
   "metadata": {},
   "outputs": [],
   "source": [
    "en_rf_classifier, *_ = train_random_forest(combined_texts, risk_labels,750) "
   ]
  },
  {
   "cell_type": "code",
   "execution_count": null,
   "id": "0bfe90e0",
   "metadata": {},
   "outputs": [],
   "source": []
  },
  {
   "cell_type": "markdown",
   "id": "1845dd93",
   "metadata": {},
   "source": [
    "###### Penalized Logistic Regression"
   ]
  },
  {
   "cell_type": "code",
   "execution_count": 76,
   "id": "973c46cb",
   "metadata": {},
   "outputs": [],
   "source": [
    "en_plr_model, *_ = train_logistic_reg(combined_texts,risk_labels)"
   ]
  },
  {
   "cell_type": "code",
   "execution_count": null,
   "id": "eae6dd63",
   "metadata": {},
   "outputs": [],
   "source": []
  },
  {
   "cell_type": "code",
   "execution_count": null,
   "id": "2e9dbdc1",
   "metadata": {},
   "outputs": [],
   "source": []
  },
  {
   "cell_type": "markdown",
   "id": "ee8bad16",
   "metadata": {},
   "source": [
    "#### Stacker Model"
   ]
  },
  {
   "cell_type": "code",
   "execution_count": 77,
   "id": "4c0647bf",
   "metadata": {},
   "outputs": [
    {
     "data": {
      "text/plain": [
       "StackingClassifier(estimators=[('PLR',\n",
       "                                LogisticRegression(C=1, max_iter=500,\n",
       "                                                   random_state=2)),\n",
       "                               ('RF',\n",
       "                                RandomForestClassifier(n_estimators=750,\n",
       "                                                       random_state=2)),\n",
       "                               ('NB', MultinomialNB()),\n",
       "                               ('NB_alpha', MultinomialNB(alpha=0.1))],\n",
       "                   final_estimator=LogisticRegression())"
      ]
     },
     "execution_count": 77,
     "metadata": {},
     "output_type": "execute_result"
    }
   ],
   "source": [
    "estimators = [('PLR',en_plr_model),('RF', en_rf_classifier), ('NB', en_nb_classifier), ('NB_alpha', en_bestalpha_nb_classifier)]\n",
    "stacker = StackingClassifier(estimators=estimators, final_estimator=LogisticRegression())\n",
    "\n",
    "stacker.fit(x_train,y_train)"
   ]
  },
  {
   "cell_type": "code",
   "execution_count": 78,
   "id": "ef8a9557",
   "metadata": {},
   "outputs": [
    {
     "data": {
      "text/plain": [
       "0.6353555120678408"
      ]
     },
     "execution_count": 78,
     "metadata": {},
     "output_type": "execute_result"
    }
   ],
   "source": [
    "stack_pred = stacker.predict(x_test)\n",
    "\n",
    "stack_score = accuracy_score(y_test, stack_pred)\n",
    "\n",
    "stack_score"
   ]
  },
  {
   "cell_type": "markdown",
   "id": "7bf08691",
   "metadata": {},
   "source": [
    "### Flip It Around"
   ]
  },
  {
   "cell_type": "markdown",
   "id": "47279b2e",
   "metadata": {},
   "source": [
    "Here I am going to use risk to try to predict text."
   ]
  },
  {
   "cell_type": "code",
   "execution_count": null,
   "id": "b65f1cdc",
   "metadata": {},
   "outputs": [],
   "source": []
  },
  {
   "cell_type": "code",
   "execution_count": null,
   "id": "2948832a",
   "metadata": {},
   "outputs": [],
   "source": []
  },
  {
   "cell_type": "markdown",
   "id": "a0e3cd01",
   "metadata": {},
   "source": [
    "### Insights"
   ]
  },
  {
   "cell_type": "markdown",
   "id": "a2c7e913",
   "metadata": {},
   "source": [
    "#### Best Performing Method"
   ]
  },
  {
   "cell_type": "code",
   "execution_count": null,
   "id": "abc77b94",
   "metadata": {},
   "outputs": [],
   "source": []
  },
  {
   "cell_type": "code",
   "execution_count": 79,
   "id": "2789a518",
   "metadata": {},
   "outputs": [
    {
     "data": {
      "image/png": "[encoded data removed]",
      "text/plain": [
       "<Figure size 720x432 with 1 Axes>"
      ]
     },
     "metadata": {
      "needs_background": "light"
     },
     "output_type": "display_data"
    }
   ],
   "source": [
    "model_names = ['Naive Bayes', 'K Nearest Neighbors', 'Penalized Linear Regression', 'Random Forest']\n",
    "accuracy_scores = [nb_accuracy, knn_score, plr_score, rf_accuracy]\n",
    "\n",
    "sorted_indices = sorted(range(len(accuracy_scores)), key=lambda k: accuracy_scores[k], reverse=True)\n",
    "sorted_model_names = [model_names[i] for i in sorted_indices]\n",
    "sorted_accuracy_scores = [accuracy_scores[i] for i in sorted_indices]\n",
    "\n",
    "plt.figure(figsize=(10, 6))\n",
    "plt.bar(sorted_model_names, sorted_accuracy_scores, color=['blue', 'green', 'orange', 'red'])\n",
    "plt.title('Accuracy Scores of Different Models (Descending Order)')\n",
    "plt.xlabel('Models')\n",
    "plt.ylabel('Accuracy Score')\n",
    "plt.ylim(0, 1) \n",
    "\n",
    "for i, v in enumerate(sorted_accuracy_scores):\n",
    "    plt.text(i, v + 0.01, f'{v:.2f}', ha='center', va='bottom', fontsize=10)\n",
    "\n",
    "plt.show()"
   ]
  },
  {
   "cell_type": "code",
   "execution_count": null,
   "id": "6f326952",
   "metadata": {},
   "outputs": [],
   "source": []
  },
  {
   "cell_type": "code",
   "execution_count": null,
   "id": "c1ddf7db",
   "metadata": {},
   "outputs": [],
   "source": []
  },
  {
   "cell_type": "code",
   "execution_count": null,
   "id": "fc3bf2e4",
   "metadata": {},
   "outputs": [],
   "source": []
  },
  {
   "cell_type": "code",
   "execution_count": null,
   "id": "5ced11f1",
   "metadata": {},
   "outputs": [],
   "source": []
  },
  {
   "cell_type": "markdown",
   "id": "9129c882",
   "metadata": {},
   "source": [
    "#### Important Features"
   ]
  },
  {
   "cell_type": "code",
   "execution_count": null,
   "id": "f5ea9fd9",
   "metadata": {},
   "outputs": [],
   "source": []
  },
  {
   "cell_type": "markdown",
   "id": "f63bc3d9",
   "metadata": {},
   "source": [
    "#### Closing Thoughts"
   ]
  },
  {
   "cell_type": "code",
   "execution_count": null,
   "id": "b37c4184",
   "metadata": {},
   "outputs": [],
   "source": []
  },
  {
   "cell_type": "markdown",
   "id": "1b3bda98",
   "metadata": {},
   "source": [
    "## Relative Risk Decision and rrf_notes"
   ]
  },
  {
   "cell_type": "markdown",
   "id": "6df9a7e4",
   "metadata": {},
   "source": []
  },
  {
   "cell_type": "code",
   "execution_count": 80,
   "id": "5ea1a5d4",
   "metadata": {},
   "outputs": [],
   "source": [
    "rrf_texts = data['rrf_notes']"
   ]
  },
  {
   "cell_type": "code",
   "execution_count": 81,
   "id": "e41dcc3d",
   "metadata": {},
   "outputs": [],
   "source": [
    "plr_model, lrx_train, lrx_test,\\\n",
    "lry_train, lry_test = train_logistic_reg(rrf_texts,risk_labels,'l2',1,1000)"
   ]
  },
  {
   "cell_type": "code",
   "execution_count": 82,
   "id": "c3512c36",
   "metadata": {},
   "outputs": [
    {
     "name": "stdout",
     "output_type": "stream",
     "text": [
      "A penalized logistic regression model classifying risk has an accuracy of 0.49510763209393344\n",
      "\n",
      "Classification Report:\n",
      "              precision    recall  f1-score   support\n",
      "\n",
      "        high       0.56      0.60      0.58       552\n",
      "         low       0.53      0.30      0.39       400\n",
      "         mod       0.43      0.53      0.47       581\n",
      "\n",
      "    accuracy                           0.50      1533\n",
      "   macro avg       0.51      0.48      0.48      1533\n",
      "weighted avg       0.50      0.50      0.49      1533\n",
      "\n"
     ]
    }
   ],
   "source": [
    "lry_pred = plr_model.predict(lrx_test)\n",
    "plr_score = accuracy_score(lry_test, lry_pred)\n",
    "print(f\"A penalized logistic regression model classifying risk has an accuracy of {plr_score}\\n\")\n",
    "print(\"Classification Report:\")\n",
    "print(classification_report(lry_test, lry_pred))"
   ]
  },
  {
   "cell_type": "code",
   "execution_count": 83,
   "id": "34bbac63",
   "metadata": {},
   "outputs": [],
   "source": [
    "nb_classifier, x_nb_train, x_nb_test, \\\n",
    "y_nb_train, y_nb_test = train_nb_classifier(rrf_texts,risk_labels,.2,1,2);"
   ]
  },
  {
   "cell_type": "code",
   "execution_count": 84,
   "id": "80b2a113",
   "metadata": {},
   "outputs": [
    {
     "name": "stdout",
     "output_type": "stream",
     "text": [
      "The Naive Bayes classifier accuracy is 0.4618 or 46.18%\n",
      "\n",
      "\n",
      "Classification Report:\n",
      "              precision    recall  f1-score   support\n",
      "\n",
      "        high       0.48      0.76      0.59       552\n",
      "         low       0.60      0.07      0.13       400\n",
      "         mod       0.42      0.45      0.44       581\n",
      "\n",
      "    accuracy                           0.46      1533\n",
      "   macro avg       0.50      0.43      0.38      1533\n",
      "weighted avg       0.49      0.46      0.41      1533\n",
      "\n"
     ]
    }
   ],
   "source": [
    "y_nb_pred = nb_classifier.predict(x_nb_test)\n",
    "y_nb_train_pred = nb_classifier.predict(x_nb_train)\n",
    "\n",
    "nb_accuracy = accuracy_score(y_nb_test, y_nb_pred)\n",
    "\n",
    "print(f\"The Naive Bayes classifier accuracy is {nb_accuracy:.4f} or {nb_accuracy:.2%}\")\n",
    "print(\"\\n\")\n",
    "print(\"Classification Report:\")\n",
    "print(classification_report(y_nb_test, y_nb_pred))"
   ]
  },
  {
   "cell_type": "markdown",
   "id": "6c8918b3",
   "metadata": {},
   "source": [
    "###  Choosing a Model"
   ]
  },
  {
   "cell_type": "code",
   "execution_count": 85,
   "id": "e8d89ea2",
   "metadata": {},
   "outputs": [],
   "source": [
    "# # Example usage\n",
    "# best_model, reports_df, comparison_df = train_and_evaluate_models_v3(combined_texts, risk_labels)\n",
    "# print(\"Best Model:\", best_model)\n"
   ]
  },
  {
   "cell_type": "markdown",
   "id": "cd64b0ae",
   "metadata": {},
   "source": [
    "### Tuning the Model"
   ]
  },
  {
   "cell_type": "code",
   "execution_count": null,
   "id": "07dbe49d",
   "metadata": {},
   "outputs": [],
   "source": []
  },
  {
   "cell_type": "markdown",
   "id": "cb1aaf12",
   "metadata": {},
   "source": [
    "## Individual Risk Category Decisions"
   ]
  },
  {
   "cell_type": "code",
   "execution_count": null,
   "id": "46b2e048",
   "metadata": {},
   "outputs": [],
   "source": []
  },
  {
   "cell_type": "markdown",
   "id": "44f5ddf2",
   "metadata": {},
   "source": [
    "# Risk Classification - N-Grams"
   ]
  },
  {
   "cell_type": "code",
   "execution_count": 86,
   "id": "2cd517e3",
   "metadata": {},
   "outputs": [],
   "source": [
    "from text_classification_functions import try_variety_of_models\n",
    "from text_analysis_functions_wagers import vectorize_text_with_ngrams"
   ]
  },
  {
   "cell_type": "code",
   "execution_count": null,
   "id": "7b7112ba",
   "metadata": {},
   "outputs": [],
   "source": []
  },
  {
   "cell_type": "markdown",
   "id": "4476669d",
   "metadata": {},
   "source": [
    "## Bigrams"
   ]
  },
  {
   "cell_type": "code",
   "execution_count": 87,
   "id": "35cc37f7",
   "metadata": {},
   "outputs": [],
   "source": [
    "ngram_range = (1, 2)    # You can adjust the n-gram range as needed\n",
    "ng_x_train_tfidf, ng_x_test_tfidf, ng_y_train, ng_y_test = vectorize_text_with_ngrams(combined_texts, risk_labels, ngram_range=ngram_range, test_size=0.2)"
   ]
  },
  {
   "cell_type": "code",
   "execution_count": 88,
   "id": "0eb5dcd3",
   "metadata": {},
   "outputs": [
    {
     "name": "stdout",
     "output_type": "stream",
     "text": [
      "Accuracy: 0.47423352902804955\n",
      "Classification Report:\n",
      "              precision    recall  f1-score   support\n",
      "\n",
      "        high       0.52      0.90      0.66       552\n",
      "         low       0.00      0.00      0.00       400\n",
      "         mod       0.40      0.40      0.40       581\n",
      "\n",
      "    accuracy                           0.47      1533\n",
      "   macro avg       0.31      0.43      0.35      1533\n",
      "weighted avg       0.34      0.47      0.39      1533\n",
      "\n"
     ]
    }
   ],
   "source": [
    "nb_classifier = MultinomialNB()\n",
    "nb_classifier.fit(ng_x_train_tfidf, ng_y_train)\n",
    "\n",
    "ng_y_pred = nb_classifier.predict(ng_x_test_tfidf)\n",
    "\n",
    "accuracy = accuracy_score(ng_y_test, ng_y_pred)\n",
    "print(\"Accuracy:\", accuracy)\n",
    "\n",
    "\n",
    "print(\"Classification Report:\")\n",
    "print(classification_report(ng_y_test, ng_y_pred))"
   ]
  },
  {
   "cell_type": "code",
   "execution_count": 89,
   "id": "855a35ea",
   "metadata": {},
   "outputs": [
    {
     "name": "stdout",
     "output_type": "stream",
     "text": [
      "Accuracy: 0.6007827788649707\n"
     ]
    }
   ],
   "source": [
    "from scipy.sparse import hstack\n",
    "logistic_reg = LogisticRegression(random_state=2)\n",
    "logistic_reg.fit(ng_x_train_tfidf, ng_y_train)\n",
    "\n",
    "# Make predictions on the test set\n",
    "ng_y_pred = logistic_reg.predict(ng_x_test_tfidf)\n",
    "\n",
    "# Evaluate the model\n",
    "accuracy = accuracy_score(ng_y_test, ng_y_pred)\n",
    "print(\"Accuracy:\", accuracy)"
   ]
  },
  {
   "cell_type": "code",
   "execution_count": 90,
   "id": "8c37c249",
   "metadata": {},
   "outputs": [],
   "source": [
    "ngram_rf = RandomForestClassifier(random_state=2)\n",
    "ngram_rf.fit(ng_x_train_tfidf,ng_y_train)\n",
    "\n",
    "ngram_rf_pred = ngram_rf.predict(ng_x_test_tfidf)\n",
    "\n",
    "accuracy = accuracy_score(ng_y_test, ngram_rf_pred)"
   ]
  },
  {
   "cell_type": "code",
   "execution_count": 91,
   "id": "fcd770c7",
   "metadata": {
    "scrolled": true
   },
   "outputs": [
    {
     "data": {
      "text/plain": [
       "0.5551206784083497"
      ]
     },
     "execution_count": 91,
     "metadata": {},
     "output_type": "execute_result"
    }
   ],
   "source": [
    "accuracy"
   ]
  },
  {
   "cell_type": "code",
   "execution_count": null,
   "id": "12e02684",
   "metadata": {},
   "outputs": [],
   "source": []
  },
  {
   "cell_type": "code",
   "execution_count": 92,
   "id": "ed653064",
   "metadata": {},
   "outputs": [
    {
     "name": "stdout",
     "output_type": "stream",
     "text": [
      "Results for Multinomial Naive Bayes:\n",
      "Cross-Validation Scores: [0.50448248 0.51833741 0.49429038 0.49021207 0.48939641]\n",
      "Test Set Classification Report:\n",
      "              precision    recall  f1-score   support\n",
      "\n",
      "        high       0.52      0.90      0.66       552\n",
      "         low       0.00      0.00      0.00       400\n",
      "         mod       0.40      0.40      0.40       581\n",
      "\n",
      "    accuracy                           0.47      1533\n",
      "   macro avg       0.31      0.43      0.35      1533\n",
      "weighted avg       0.34      0.47      0.39      1533\n",
      "\n",
      "\n",
      "\n",
      "Results for Logistic Regression:\n",
      "Cross-Validation Scores: [0.60798696 0.59739201 0.58482871 0.58890701 0.58564437]\n",
      "Test Set Classification Report:\n",
      "              precision    recall  f1-score   support\n",
      "\n",
      "        high       0.67      0.80      0.73       552\n",
      "         low       0.68      0.40      0.50       400\n",
      "         mod       0.50      0.55      0.53       581\n",
      "\n",
      "    accuracy                           0.60      1533\n",
      "   macro avg       0.62      0.58      0.58      1533\n",
      "weighted avg       0.61      0.60      0.59      1533\n",
      "\n",
      "\n",
      "\n",
      "Results for Random Forest:\n",
      "Cross-Validation Scores: [0.5403423  0.57212714 0.55628059 0.54893964 0.56280587]\n",
      "Test Set Classification Report:\n",
      "              precision    recall  f1-score   support\n",
      "\n",
      "        high       0.62      0.73      0.67       552\n",
      "         low       0.66      0.25      0.36       400\n",
      "         mod       0.46      0.58      0.51       581\n",
      "\n",
      "    accuracy                           0.55      1533\n",
      "   macro avg       0.58      0.52      0.51      1533\n",
      "weighted avg       0.57      0.55      0.53      1533\n",
      "\n",
      "\n",
      "\n",
      "Results for Support Vector Machine:\n",
      "Cross-Validation Scores: [0.57131214 0.56642217 0.55872757 0.55628059 0.55546493]\n",
      "Test Set Classification Report:\n",
      "              precision    recall  f1-score   support\n",
      "\n",
      "        high       0.68      0.74      0.71       552\n",
      "         low       0.69      0.23      0.34       400\n",
      "         mod       0.47      0.65      0.54       581\n",
      "\n",
      "    accuracy                           0.57      1533\n",
      "   macro avg       0.61      0.54      0.53      1533\n",
      "weighted avg       0.60      0.57      0.55      1533\n",
      "\n",
      "\n",
      "\n"
     ]
    }
   ],
   "source": [
    "results = try_variety_of_models(ng_x_train_tfidf, ng_y_train, ng_x_test_tfidf, ng_y_test)\n",
    "\n",
    "# Print the results\n",
    "for model_name, result in results.items():\n",
    "    print(f\"Results for {model_name}:\")\n",
    "    print(\"Cross-Validation Scores:\", result['Cross-Validation Scores'])\n",
    "    print(\"Test Set Classification Report:\")\n",
    "    print(result['Test Set Classification Report'])\n",
    "    print(\"\\n\")"
   ]
  },
  {
   "cell_type": "markdown",
   "id": "1cd050ed",
   "metadata": {},
   "source": [
    "## Trigrams"
   ]
  },
  {
   "cell_type": "code",
   "execution_count": 93,
   "id": "ffe09e0c",
   "metadata": {},
   "outputs": [],
   "source": [
    "ngram_range = (1, 3)    # You can adjust the n-gram range as needed\n",
    "trig_x_train_tfidf, trig_x_test_tfidf, trig_y_train, trig_y_test = vectorize_text_with_ngrams(combined_texts, risk_labels, ngram_range=ngram_range, test_size=0.2)"
   ]
  },
  {
   "cell_type": "code",
   "execution_count": 94,
   "id": "c2ac2f15",
   "metadata": {},
   "outputs": [
    {
     "name": "stdout",
     "output_type": "stream",
     "text": [
      "Results for Multinomial Naive Bayes:\n",
      "Cross-Validation Scores: [0.48899756 0.49796251 0.47879282 0.48205546 0.47960848]\n",
      "Test Set Classification Report:\n",
      "              precision    recall  f1-score   support\n",
      "\n",
      "        high       0.50      0.88      0.64       552\n",
      "         low       0.00      0.00      0.00       400\n",
      "         mod       0.39      0.36      0.37       581\n",
      "\n",
      "    accuracy                           0.46      1533\n",
      "   macro avg       0.29      0.42      0.34      1533\n",
      "weighted avg       0.32      0.46      0.37      1533\n",
      "\n",
      "\n",
      "\n",
      "Results for Logistic Regression:\n",
      "Cross-Validation Scores: [0.58679707 0.58353708 0.56688418 0.56443719 0.57911909]\n",
      "Test Set Classification Report:\n",
      "              precision    recall  f1-score   support\n",
      "\n",
      "        high       0.64      0.82      0.72       552\n",
      "         low       0.68      0.34      0.46       400\n",
      "         mod       0.49      0.52      0.50       581\n",
      "\n",
      "    accuracy                           0.58      1533\n",
      "   macro avg       0.60      0.56      0.56      1533\n",
      "weighted avg       0.59      0.58      0.57      1533\n",
      "\n",
      "\n",
      "\n",
      "Results for Random Forest:\n",
      "Cross-Validation Scores: [0.55745721 0.56886716 0.53915171 0.5228385  0.57014682]\n",
      "Test Set Classification Report:\n",
      "              precision    recall  f1-score   support\n",
      "\n",
      "        high       0.63      0.72      0.67       552\n",
      "         low       0.62      0.27      0.38       400\n",
      "         mod       0.46      0.57      0.51       581\n",
      "\n",
      "    accuracy                           0.55      1533\n",
      "   macro avg       0.57      0.52      0.52      1533\n",
      "weighted avg       0.56      0.55      0.53      1533\n",
      "\n",
      "\n",
      "\n",
      "Results for Support Vector Machine:\n",
      "Cross-Validation Scores: [0.53871231 0.54604727 0.53425775 0.52773246 0.53099511]\n",
      "Test Set Classification Report:\n",
      "              precision    recall  f1-score   support\n",
      "\n",
      "        high       0.64      0.77      0.70       552\n",
      "         low       0.70      0.15      0.25       400\n",
      "         mod       0.45      0.60      0.51       581\n",
      "\n",
      "    accuracy                           0.54      1533\n",
      "   macro avg       0.59      0.51      0.49      1533\n",
      "weighted avg       0.58      0.54      0.51      1533\n",
      "\n",
      "\n",
      "\n"
     ]
    }
   ],
   "source": [
    "results = try_variety_of_models(trig_x_train_tfidf, trig_y_train, trig_x_test_tfidf, trig_y_test)\n",
    "\n",
    "# Print the results\n",
    "for model_name, result in results.items():\n",
    "    print(f\"Results for {model_name}:\")\n",
    "    print(\"Cross-Validation Scores:\", result['Cross-Validation Scores'])\n",
    "    print(\"Test Set Classification Report:\")\n",
    "    print(result['Test Set Classification Report'])\n",
    "    print(\"\\n\")"
   ]
  },
  {
   "cell_type": "code",
   "execution_count": null,
   "id": "fac52a7c",
   "metadata": {},
   "outputs": [],
   "source": []
  },
  {
   "cell_type": "code",
   "execution_count": null,
   "id": "42db4c57",
   "metadata": {},
   "outputs": [],
   "source": []
  },
  {
   "cell_type": "code",
   "execution_count": null,
   "id": "c35874f7",
   "metadata": {},
   "outputs": [],
   "source": []
  },
  {
   "cell_type": "code",
   "execution_count": 95,
   "id": "79ac9198",
   "metadata": {},
   "outputs": [],
   "source": [
    "ngram_range = (1, 5)\n",
    "fivegram_x_train_tfidf, fivegram_x_test_tfidf, fivegram_y_train, fivegram_y_test = vectorize_text_with_ngrams(combined_texts, risk_labels, ngram_range=ngram_range, test_size=0.2)\n"
   ]
  },
  {
   "cell_type": "code",
   "execution_count": 96,
   "id": "1e541e46",
   "metadata": {},
   "outputs": [
    {
     "name": "stdout",
     "output_type": "stream",
     "text": [
      "Results for Multinomial Naive Bayes with 5-grams:\n",
      "Cross-Validation Scores: [0.48247759 0.49307253 0.46982055 0.47389886 0.47389886]\n",
      "Test Set Classification Report:\n",
      "              precision    recall  f1-score   support\n",
      "\n",
      "        high       0.48      0.88      0.62       552\n",
      "         low       0.50      0.01      0.01       400\n",
      "         mod       0.37      0.34      0.35       581\n",
      "\n",
      "    accuracy                           0.44      1533\n",
      "   macro avg       0.45      0.41      0.33      1533\n",
      "weighted avg       0.45      0.44      0.36      1533\n",
      "\n",
      "\n",
      "\n",
      "Results for Logistic Regression with 5-grams:\n",
      "Cross-Validation Scores: [0.55419723 0.55501222 0.54078303 0.54893964 0.55383361]\n",
      "Test Set Classification Report:\n",
      "              precision    recall  f1-score   support\n",
      "\n",
      "        high       0.59      0.84      0.69       552\n",
      "         low       0.67      0.29      0.41       400\n",
      "         mod       0.46      0.46      0.46       581\n",
      "\n",
      "    accuracy                           0.55      1533\n",
      "   macro avg       0.58      0.53      0.52      1533\n",
      "weighted avg       0.56      0.55      0.53      1533\n",
      "\n",
      "\n",
      "\n",
      "Results for Random Forest with 5-grams:\n",
      "Cross-Validation Scores: [0.54686227 0.53789731 0.52446982 0.5187602  0.53670473]\n",
      "Test Set Classification Report:\n",
      "              precision    recall  f1-score   support\n",
      "\n",
      "        high       0.64      0.70      0.67       552\n",
      "         low       0.66      0.28      0.39       400\n",
      "         mod       0.46      0.60      0.52       581\n",
      "\n",
      "    accuracy                           0.55      1533\n",
      "   macro avg       0.59      0.53      0.53      1533\n",
      "weighted avg       0.58      0.55      0.54      1533\n",
      "\n",
      "\n",
      "\n",
      "Results for Support Vector Machine with 5-grams:\n",
      "Cross-Validation Scores: [0.53056235 0.5395273  0.5187602  0.51549755 0.52936378]\n",
      "Test Set Classification Report:\n",
      "              precision    recall  f1-score   support\n",
      "\n",
      "        high       0.61      0.80      0.69       552\n",
      "         low       0.59      0.08      0.14       400\n",
      "         mod       0.43      0.55      0.48       581\n",
      "\n",
      "    accuracy                           0.52      1533\n",
      "   macro avg       0.54      0.48      0.44      1533\n",
      "weighted avg       0.54      0.52      0.47      1533\n",
      "\n",
      "\n",
      "\n"
     ]
    }
   ],
   "source": [
    "results_fivegram = try_variety_of_models(fivegram_x_train_tfidf, fivegram_y_train, fivegram_x_test_tfidf, fivegram_y_test)\n",
    "\n",
    "# Print the results\n",
    "for model_name, result in results_fivegram.items():\n",
    "    print(f\"Results for {model_name} with 5-grams:\")\n",
    "    print(\"Cross-Validation Scores:\", result['Cross-Validation Scores'])\n",
    "    print(\"Test Set Classification Report:\")\n",
    "    print(result['Test Set Classification Report'])\n",
    "    print(\"\\n\")"
   ]
  },
  {
   "cell_type": "markdown",
   "id": "1b011c54",
   "metadata": {},
   "source": [
    "# SVOs"
   ]
  },
  {
   "cell_type": "code",
   "execution_count": 97,
   "id": "3edc2469",
   "metadata": {},
   "outputs": [
    {
     "name": "stdout",
     "output_type": "stream",
     "text": [
      "✔ Download and installation successful\n",
      "You can now load the package via spacy.load('en_core_web_sm')\n"
     ]
    }
   ],
   "source": [
    "import spacy\n",
    "from subject_object_extraction import findSVOs\n",
    "\n",
    "# Download the English model\n",
    "spacy.cli.download(\"en_core_web_sm\")\n",
    "parser = spacy.load('en_core_web_sm')\n",
    "svo_data = data.copy()"
   ]
  },
  {
   "cell_type": "code",
   "execution_count": 98,
   "id": "b311bb97",
   "metadata": {},
   "outputs": [],
   "source": [
    "svo_data['combined_text_svo'] = ''\n",
    "\n",
    "for index, row in svo_data.iterrows():\n",
    "    text = row['combined_text']\n",
    "    parsed_text = parser(text)\n",
    "    svos = findSVOs(parsed_text)\n",
    "    svo_data.at[index, 'combined_text_svo'] = svos\n",
    "    "
   ]
  },
  {
   "cell_type": "code",
   "execution_count": null,
   "id": "1bd143cf",
   "metadata": {},
   "outputs": [],
   "source": []
  },
  {
   "cell_type": "code",
   "execution_count": 99,
   "id": "9290d073",
   "metadata": {
    "scrolled": true
   },
   "outputs": [
    {
     "data": {
      "text/html": [
       "<div>\n",
       "<style scoped>\n",
       "    .dataframe tbody tr th:only-of-type {\n",
       "        vertical-align: middle;\n",
       "    }\n",
       "\n",
       "    .dataframe tbody tr th {\n",
       "        vertical-align: top;\n",
       "    }\n",
       "\n",
       "    .dataframe thead th {\n",
       "        text-align: right;\n",
       "    }\n",
       "</style>\n",
       "<table border=\"1\" class=\"dataframe\">\n",
       "  <thead>\n",
       "    <tr style=\"text-align: right;\">\n",
       "      <th></th>\n",
       "      <th>wfdss_risk</th>\n",
       "      <th>wfdss_org_id</th>\n",
       "      <th>wfdss_id</th>\n",
       "      <th>orgneed_id</th>\n",
       "      <th>rr_id</th>\n",
       "      <th>fire_name</th>\n",
       "      <th>latitude</th>\n",
       "      <th>longitude</th>\n",
       "      <th>geographic_area</th>\n",
       "      <th>geo_area_name</th>\n",
       "      <th>...</th>\n",
       "      <th>rrf_values_desc</th>\n",
       "      <th>rrf_rr_desc_1</th>\n",
       "      <th>orgf_org_value_desc</th>\n",
       "      <th>orgf_org_value_desc2</th>\n",
       "      <th>orgf_notes</th>\n",
       "      <th>disttowild</th>\n",
       "      <th>name</th>\n",
       "      <th>acreage</th>\n",
       "      <th>combined_text</th>\n",
       "      <th>combined_text_svo</th>\n",
       "    </tr>\n",
       "  </thead>\n",
       "  <tbody>\n",
       "    <tr>\n",
       "      <th>0</th>\n",
       "      <td>1129395 - mod</td>\n",
       "      <td>1129395-1137632</td>\n",
       "      <td>1129395</td>\n",
       "      <td>1137632</td>\n",
       "      <td>1137625.0</td>\n",
       "      <td>Buck #1</td>\n",
       "      <td>29.92550</td>\n",
       "      <td>-84.94720</td>\n",
       "      <td>1</td>\n",
       "      <td>Southern</td>\n",
       "      <td>...</td>\n",
       "      <td>low</td>\n",
       "      <td>mod</td>\n",
       "      <td>T3 Organization</td>\n",
       "      <td>Type 3</td>\n",
       "      <td>based relative organizational needs indicated ...</td>\n",
       "      <td>13729.609590</td>\n",
       "      <td>Mud Swamp/New River Wilderness</td>\n",
       "      <td>8075.0</td>\n",
       "      <td>fuel conditions close based lack control lines...</td>\n",
       "      <td>[(conditions, persist, behavior), (conditions,...</td>\n",
       "    </tr>\n",
       "    <tr>\n",
       "      <th>1</th>\n",
       "      <td>1145279 - high</td>\n",
       "      <td>1145279-1145712</td>\n",
       "      <td>1145279</td>\n",
       "      <td>1145712</td>\n",
       "      <td>1145711.0</td>\n",
       "      <td>49er</td>\n",
       "      <td>34.84439</td>\n",
       "      <td>-92.80926</td>\n",
       "      <td>1</td>\n",
       "      <td>Southern</td>\n",
       "      <td>...</td>\n",
       "      <td>mod</td>\n",
       "      <td>high</td>\n",
       "      <td>Short T2 IMT</td>\n",
       "      <td>Type 2</td>\n",
       "      <td>type organization available final estimated si...</td>\n",
       "      <td>7723.559640</td>\n",
       "      <td>Flatside Wilderness</td>\n",
       "      <td>10180.0</td>\n",
       "      <td>rugged terrain parts starting remote indirect ...</td>\n",
       "      <td>[(parts, starting, tactics), (tactics, using, ...</td>\n",
       "    </tr>\n",
       "    <tr>\n",
       "      <th>2</th>\n",
       "      <td>1145279 - mod</td>\n",
       "      <td>1145279-1145720</td>\n",
       "      <td>1145279</td>\n",
       "      <td>1145720</td>\n",
       "      <td>1145719.0</td>\n",
       "      <td>49er</td>\n",
       "      <td>34.84439</td>\n",
       "      <td>-92.80926</td>\n",
       "      <td>1</td>\n",
       "      <td>Southern</td>\n",
       "      <td>...</td>\n",
       "      <td>mod</td>\n",
       "      <td>mod</td>\n",
       "      <td>T3 Organization</td>\n",
       "      <td>Type 3</td>\n",
       "      <td></td>\n",
       "      <td>7723.559640</td>\n",
       "      <td>Flatside Wilderness</td>\n",
       "      <td>10180.0</td>\n",
       "      <td>predicted winds put smoke little rock</td>\n",
       "      <td>[(winds, put, smoke)]</td>\n",
       "    </tr>\n",
       "    <tr>\n",
       "      <th>3</th>\n",
       "      <td>1148295 - mod</td>\n",
       "      <td>1148295-1148479</td>\n",
       "      <td>1148295</td>\n",
       "      <td>1148479</td>\n",
       "      <td>1148477.0</td>\n",
       "      <td>Clear-Cut</td>\n",
       "      <td>26.21003</td>\n",
       "      <td>-81.36806</td>\n",
       "      <td>1</td>\n",
       "      <td>Southern</td>\n",
       "      <td>...</td>\n",
       "      <td>low</td>\n",
       "      <td>mod</td>\n",
       "      <td>T3 Organization</td>\n",
       "      <td>Type 3</td>\n",
       "      <td>managed type qualified type type helicopter sa...</td>\n",
       "      <td>35199.123460</td>\n",
       "      <td>Marjory Stoneman Douglas Wilderness</td>\n",
       "      <td>1296500.0</td>\n",
       "      <td>behavior mainly creeping hardwood hits torches...</td>\n",
       "      <td>[(behavior, creeping, hardwood), (torches, thr...</td>\n",
       "    </tr>\n",
       "    <tr>\n",
       "      <th>4</th>\n",
       "      <td>1154074 - mod</td>\n",
       "      <td>1154074-1157125</td>\n",
       "      <td>1154074</td>\n",
       "      <td>1157125</td>\n",
       "      <td>1157122.0</td>\n",
       "      <td>Hopkins Prairie</td>\n",
       "      <td>29.28650</td>\n",
       "      <td>-81.71430</td>\n",
       "      <td>1</td>\n",
       "      <td>Southern</td>\n",
       "      <td>...</td>\n",
       "      <td>mod</td>\n",
       "      <td>mod</td>\n",
       "      <td>T3 Organization</td>\n",
       "      <td>Type 3</td>\n",
       "      <td>although indicies measures ensure containment ...</td>\n",
       "      <td>4272.071047</td>\n",
       "      <td>Juniper Prairie Wilderness</td>\n",
       "      <td>14293.0</td>\n",
       "      <td>smoldering active unburned fuel lines continue...</td>\n",
       "      <td>[(smoldering, continues, structures), (activit...</td>\n",
       "    </tr>\n",
       "    <tr>\n",
       "      <th>...</th>\n",
       "      <td>...</td>\n",
       "      <td>...</td>\n",
       "      <td>...</td>\n",
       "      <td>...</td>\n",
       "      <td>...</td>\n",
       "      <td>...</td>\n",
       "      <td>...</td>\n",
       "      <td>...</td>\n",
       "      <td>...</td>\n",
       "      <td>...</td>\n",
       "      <td>...</td>\n",
       "      <td>...</td>\n",
       "      <td>...</td>\n",
       "      <td>...</td>\n",
       "      <td>...</td>\n",
       "      <td>...</td>\n",
       "      <td>...</td>\n",
       "      <td>...</td>\n",
       "      <td>...</td>\n",
       "      <td>...</td>\n",
       "      <td>...</td>\n",
       "    </tr>\n",
       "    <tr>\n",
       "      <th>7660</th>\n",
       "      <td>864752 - low</td>\n",
       "      <td>864752-865386</td>\n",
       "      <td>864752</td>\n",
       "      <td>865386</td>\n",
       "      <td>865381.0</td>\n",
       "      <td>Raspberry Mountain</td>\n",
       "      <td>34.38083</td>\n",
       "      <td>-93.99472</td>\n",
       "      <td>1</td>\n",
       "      <td>Southern</td>\n",
       "      <td>...</td>\n",
       "      <td>low</td>\n",
       "      <td>low</td>\n",
       "      <td>T3 Organization</td>\n",
       "      <td>Type 3</td>\n",
       "      <td>type ic assigned daily complexity analysis tim...</td>\n",
       "      <td>1953.154026</td>\n",
       "      <td>Caney Creek Wilderness</td>\n",
       "      <td>14262.0</td>\n",
       "      <td>fuel model steep trending mountain slope sprea...</td>\n",
       "      <td>[(model, trending, slope), (months, scattered,...</td>\n",
       "    </tr>\n",
       "    <tr>\n",
       "      <th>7661</th>\n",
       "      <td>867259 - low</td>\n",
       "      <td>867259-868253</td>\n",
       "      <td>867259</td>\n",
       "      <td>868253</td>\n",
       "      <td>868252.0</td>\n",
       "      <td>Skegg Again</td>\n",
       "      <td>37.25854</td>\n",
       "      <td>-82.34452</td>\n",
       "      <td>1</td>\n",
       "      <td>Southern</td>\n",
       "      <td>...</td>\n",
       "      <td>low</td>\n",
       "      <td>low</td>\n",
       "      <td>T3 Organization</td>\n",
       "      <td>Type 3</td>\n",
       "      <td>although functional primarily difficult access...</td>\n",
       "      <td>68002.602360</td>\n",
       "      <td>Stone Mountain Wilderness</td>\n",
       "      <td>3273.0</td>\n",
       "      <td>although weeks since last abnormally dry accor...</td>\n",
       "      <td>[(winds, distance, homes), (homes, distance, h...</td>\n",
       "    </tr>\n",
       "    <tr>\n",
       "      <th>7662</th>\n",
       "      <td>867259 - mod</td>\n",
       "      <td>867259-867920</td>\n",
       "      <td>867259</td>\n",
       "      <td>867920</td>\n",
       "      <td>867919.0</td>\n",
       "      <td>Skegg Again</td>\n",
       "      <td>37.25854</td>\n",
       "      <td>-82.34452</td>\n",
       "      <td>1</td>\n",
       "      <td>Southern</td>\n",
       "      <td>...</td>\n",
       "      <td>mod</td>\n",
       "      <td>mod</td>\n",
       "      <td>Short T2 IMT</td>\n",
       "      <td>Type 2</td>\n",
       "      <td></td>\n",
       "      <td>68002.602360</td>\n",
       "      <td>Stone Mountain Wilderness</td>\n",
       "      <td>3273.0</td>\n",
       "      <td>primary homes forecast winds remain homes im...</td>\n",
       "      <td>[(winds, remain, homes), (rain, considered, fo...</td>\n",
       "    </tr>\n",
       "    <tr>\n",
       "      <th>7663</th>\n",
       "      <td>867813 - mod</td>\n",
       "      <td>867813-868713</td>\n",
       "      <td>867813</td>\n",
       "      <td>868713</td>\n",
       "      <td>868670.0</td>\n",
       "      <td>MORU WILDFIRE</td>\n",
       "      <td>43.87558</td>\n",
       "      <td>-103.44956</td>\n",
       "      <td>2</td>\n",
       "      <td>Rocky Mountain</td>\n",
       "      <td>...</td>\n",
       "      <td>low</td>\n",
       "      <td>mod</td>\n",
       "      <td>T3 Organization</td>\n",
       "      <td>Type 3</td>\n",
       "      <td>strong type organization staff functions fille...</td>\n",
       "      <td>841.695208</td>\n",
       "      <td>Black Elk Wilderness</td>\n",
       "      <td>13534.0</td>\n",
       "      <td>surface torching slash heavy fuels become stan...</td>\n",
       "      <td>[(surface, torching, fuels), (surface, become,...</td>\n",
       "    </tr>\n",
       "    <tr>\n",
       "      <th>7664</th>\n",
       "      <td>873657 - mod</td>\n",
       "      <td>873657-873701</td>\n",
       "      <td>873657</td>\n",
       "      <td>873701</td>\n",
       "      <td>873677.0</td>\n",
       "      <td>Stoney Point</td>\n",
       "      <td>35.61278</td>\n",
       "      <td>-93.58667</td>\n",
       "      <td>1</td>\n",
       "      <td>Southern</td>\n",
       "      <td>...</td>\n",
       "      <td>low</td>\n",
       "      <td>mod</td>\n",
       "      <td>T3 Organization</td>\n",
       "      <td>Type 3</td>\n",
       "      <td></td>\n",
       "      <td>25999.997500</td>\n",
       "      <td>Upper Buffalo Wilderness</td>\n",
       "      <td>11978.0</td>\n",
       "      <td>dry conditions  private structures close</td>\n",
       "      <td>[]</td>\n",
       "    </tr>\n",
       "  </tbody>\n",
       "</table>\n",
       "<p>7665 rows × 91 columns</p>\n",
       "</div>"
      ],
      "text/plain": [
       "          wfdss_risk     wfdss_org_id  wfdss_id  orgneed_id      rr_id  \\\n",
       "0      1129395 - mod  1129395-1137632   1129395     1137632  1137625.0   \n",
       "1     1145279 - high  1145279-1145712   1145279     1145712  1145711.0   \n",
       "2      1145279 - mod  1145279-1145720   1145279     1145720  1145719.0   \n",
       "3      1148295 - mod  1148295-1148479   1148295     1148479  1148477.0   \n",
       "4      1154074 - mod  1154074-1157125   1154074     1157125  1157122.0   \n",
       "...              ...              ...       ...         ...        ...   \n",
       "7660    864752 - low    864752-865386    864752      865386   865381.0   \n",
       "7661    867259 - low    867259-868253    867259      868253   868252.0   \n",
       "7662    867259 - mod    867259-867920    867259      867920   867919.0   \n",
       "7663    867813 - mod    867813-868713    867813      868713   868670.0   \n",
       "7664    873657 - mod    873657-873701    873657      873701   873677.0   \n",
       "\n",
       "               fire_name  latitude  longitude  geographic_area  \\\n",
       "0                Buck #1  29.92550  -84.94720                1   \n",
       "1                   49er  34.84439  -92.80926                1   \n",
       "2                   49er  34.84439  -92.80926                1   \n",
       "3              Clear-Cut  26.21003  -81.36806                1   \n",
       "4        Hopkins Prairie  29.28650  -81.71430                1   \n",
       "...                  ...       ...        ...              ...   \n",
       "7660  Raspberry Mountain  34.38083  -93.99472                1   \n",
       "7661         Skegg Again  37.25854  -82.34452                1   \n",
       "7662         Skegg Again  37.25854  -82.34452                1   \n",
       "7663       MORU WILDFIRE  43.87558 -103.44956                2   \n",
       "7664      Stoney Point    35.61278  -93.58667                1   \n",
       "\n",
       "       geo_area_name  ... rrf_values_desc  rrf_rr_desc_1  orgf_org_value_desc  \\\n",
       "0           Southern  ...             low            mod      T3 Organization   \n",
       "1           Southern  ...             mod           high         Short T2 IMT   \n",
       "2           Southern  ...             mod            mod      T3 Organization   \n",
       "3           Southern  ...             low            mod      T3 Organization   \n",
       "4           Southern  ...             mod            mod      T3 Organization   \n",
       "...              ...  ...             ...            ...                  ...   \n",
       "7660        Southern  ...             low            low      T3 Organization   \n",
       "7661        Southern  ...             low            low      T3 Organization   \n",
       "7662        Southern  ...             mod            mod         Short T2 IMT   \n",
       "7663  Rocky Mountain  ...             low            mod      T3 Organization   \n",
       "7664        Southern  ...             low            mod      T3 Organization   \n",
       "\n",
       "     orgf_org_value_desc2                                         orgf_notes  \\\n",
       "0                  Type 3  based relative organizational needs indicated ...   \n",
       "1                  Type 2  type organization available final estimated si...   \n",
       "2                  Type 3                                                      \n",
       "3                  Type 3  managed type qualified type type helicopter sa...   \n",
       "4                  Type 3  although indicies measures ensure containment ...   \n",
       "...                   ...                                                ...   \n",
       "7660               Type 3  type ic assigned daily complexity analysis tim...   \n",
       "7661               Type 3  although functional primarily difficult access...   \n",
       "7662               Type 2                                                      \n",
       "7663               Type 3  strong type organization staff functions fille...   \n",
       "7664               Type 3                                                      \n",
       "\n",
       "        disttowild                                 name    acreage  \\\n",
       "0     13729.609590       Mud Swamp/New River Wilderness     8075.0   \n",
       "1      7723.559640                  Flatside Wilderness    10180.0   \n",
       "2      7723.559640                  Flatside Wilderness    10180.0   \n",
       "3     35199.123460  Marjory Stoneman Douglas Wilderness  1296500.0   \n",
       "4      4272.071047           Juniper Prairie Wilderness    14293.0   \n",
       "...            ...                                  ...        ...   \n",
       "7660   1953.154026               Caney Creek Wilderness    14262.0   \n",
       "7661  68002.602360            Stone Mountain Wilderness     3273.0   \n",
       "7662  68002.602360            Stone Mountain Wilderness     3273.0   \n",
       "7663    841.695208                 Black Elk Wilderness    13534.0   \n",
       "7664  25999.997500             Upper Buffalo Wilderness    11978.0   \n",
       "\n",
       "                                          combined_text  \\\n",
       "0     fuel conditions close based lack control lines...   \n",
       "1     rugged terrain parts starting remote indirect ...   \n",
       "2             predicted winds put smoke little rock       \n",
       "3     behavior mainly creeping hardwood hits torches...   \n",
       "4     smoldering active unburned fuel lines continue...   \n",
       "...                                                 ...   \n",
       "7660  fuel model steep trending mountain slope sprea...   \n",
       "7661  although weeks since last abnormally dry accor...   \n",
       "7662    primary homes forecast winds remain homes im...   \n",
       "7663  surface torching slash heavy fuels become stan...   \n",
       "7664       dry conditions  private structures close       \n",
       "\n",
       "                                      combined_text_svo  \n",
       "0     [(conditions, persist, behavior), (conditions,...  \n",
       "1     [(parts, starting, tactics), (tactics, using, ...  \n",
       "2                                 [(winds, put, smoke)]  \n",
       "3     [(behavior, creeping, hardwood), (torches, thr...  \n",
       "4     [(smoldering, continues, structures), (activit...  \n",
       "...                                                 ...  \n",
       "7660  [(model, trending, slope), (months, scattered,...  \n",
       "7661  [(winds, distance, homes), (homes, distance, h...  \n",
       "7662  [(winds, remain, homes), (rain, considered, fo...  \n",
       "7663  [(surface, torching, fuels), (surface, become,...  \n",
       "7664                                                 []  \n",
       "\n",
       "[7665 rows x 91 columns]"
      ]
     },
     "execution_count": 99,
     "metadata": {},
     "output_type": "execute_result"
    }
   ],
   "source": [
    "svo_data"
   ]
  },
  {
   "cell_type": "code",
   "execution_count": 100,
   "id": "c6ff6342",
   "metadata": {},
   "outputs": [],
   "source": [
    "svos = svo_data['combined_text_svo']\n",
    "labels = svo_data['rrf_rr_desc']\n",
    "\n",
    "svo_strings = [' '.join(map(str, svo)) for svo in svos]\n",
    "\n",
    "subjects = [' '.join([svo[0] for svo in svo_pair]) for svo_pair in svos]\n",
    "verbs = [' '.join([svo[1] for svo in svo_pair]) for svo_pair in svos]\n",
    "objects = [' '.join([svo[2] for svo in svo_pair]) for svo_pair in svos]\n"
   ]
  },
  {
   "cell_type": "code",
   "execution_count": 101,
   "id": "9739ed34",
   "metadata": {},
   "outputs": [],
   "source": [
    "assert len(subjects) == len(labels), \"Inconsistent lengths of subjects and labels\""
   ]
  },
  {
   "cell_type": "code",
   "execution_count": 102,
   "id": "572a7cc1",
   "metadata": {},
   "outputs": [
    {
     "name": "stdout",
     "output_type": "stream",
     "text": [
      "\n",
      "Top SVOs for Risk Category: mod\n",
      "('season', 'ending', 'event'): 103 occurrences\n",
      "('terrain', 'pose', 'problems'): 29 occurrences\n",
      "('range', 'spotting', 'rates'): 28 occurrences\n",
      "('barriers', 'spread', 'barriers'): 25 occurrences\n",
      "('barriers', 'spread', 'fuels'): 19 occurrences\n",
      "\n",
      "Top SVOs for Risk Category: high\n",
      "('season', 'ending', 'event'): 135 occurrences\n",
      "('operations', 'taking', 'place'): 85 occurrences\n",
      "('range', 'spotting', 'rates'): 52 occurrences\n",
      "('barriers', 'spread', 'barriers'): 52 occurrences\n",
      "('action', 'supporting', 'units'): 42 occurrences\n",
      "\n",
      "Top SVOs for Risk Category: low\n",
      "('season', 'ending', 'event'): 98 occurrences\n",
      "('smoke', 'turned', 'unit'): 18 occurrences\n",
      "('support', 'use', 'role'): 16 occurrences\n",
      "('barriers', 'spread', 'barriers'): 15 occurrences\n",
      "('season', 'ending', 'events'): 12 occurrences\n"
     ]
    }
   ],
   "source": [
    "for risk_category in labels.unique():\n",
    "    print(f\"\\nTop SVOs for Risk Category: {risk_category}\")\n",
    "    \n",
    "    # Filter rows for the current risk category\n",
    "    rows_for_risk = svo_data[labels == risk_category]\n",
    "    \n",
    "    # Flatten the list of SVOs for these rows\n",
    "    all_svos = [svo for svo_pair in rows_for_risk['combined_text_svo'] for svo in svo_pair]\n",
    "    \n",
    "    # Get the most common SVOs and their counts\n",
    "    most_common_svos = Counter(all_svos).most_common(5)  # Change 5 to the desired number of top SVOs\n",
    "    \n",
    "    # Print the most common SVOs and their counts\n",
    "    for svo, count in most_common_svos:\n",
    "        print(f\"{svo}: {count} occurrences\")"
   ]
  },
  {
   "cell_type": "code",
   "execution_count": 103,
   "id": "710c672f",
   "metadata": {},
   "outputs": [
    {
     "name": "stdout",
     "output_type": "stream",
     "text": [
      "\n",
      "Top Disproportionately Common SVOs for Risk Category: mod\n",
      "('cooperators', 'neighboring', 'neighbors'): Relative Frequency 0.9000\n",
      "('frequency', 'iaps', 'issues'): Relative Frequency 0.8750\n",
      "('activity', 'projected', 'part'): Relative Frequency 0.8750\n",
      "('smoke', 'reduce', 'infrastructure'): Relative Frequency 0.8750\n",
      "('number', 'using', 'agency'): Relative Frequency 0.8571\n",
      "\n",
      "Top Disproportionately Common SVOs for Risk Category: high\n",
      "('levels', 'varied', 'frequency'): Relative Frequency 0.9000\n",
      "('effectiveness', 'needed', 'measures'): Relative Frequency 0.9000\n",
      "('actions', 'required', 'agency'): Relative Frequency 0.9000\n",
      "('operations', 'taking', 'place'): Relative Frequency 0.8947\n",
      "('rates', 'spread', 'growth'): Relative Frequency 0.8889\n",
      "\n",
      "Top Disproportionately Common SVOs for Risk Category: low\n",
      "('growth', 'remain', 'category'): Relative Frequency 0.8889\n",
      "('option', 'share', 'managing'): Relative Frequency 0.8750\n",
      "('discussions', 'taken', 'wildlife'): Relative Frequency 0.8571\n",
      "('option', 'share', 'objective'): Relative Frequency 0.8571\n",
      "('barriers', 'spread', 'cffdrs'): Relative Frequency 0.8333\n"
     ]
    }
   ],
   "source": [
    "all_svos = [svo for svo_pair in svos for svo in svo_pair]\n",
    "overall_counts = Counter(all_svos)\n",
    "\n",
    "cutoff_threshold = 0.9\n",
    "\n",
    "# Iterate through unique risk categories\n",
    "for risk_category in labels.unique():\n",
    "    print(f\"\\nTop Disproportionately Common SVOs for Risk Category: {risk_category}\")\n",
    "    \n",
    "    # Filter rows for the current risk category\n",
    "    rows_for_risk = svo_data[labels == risk_category]\n",
    "    \n",
    "    # Flatten the list of SVOs for these rows\n",
    "    svo_counts_for_risk = [svo for svo_pair in rows_for_risk['combined_text_svo'] for svo in svo_pair]\n",
    "    \n",
    "    # Calculate the distribution of SVOs within the current risk category\n",
    "    counts_for_risk = Counter(svo_counts_for_risk)\n",
    "    \n",
    "    # Calculate the relative frequencies and find disproportionately common SVOs\n",
    "    disproportionate_svos = {\n",
    "        svo: (count / overall_counts[svo]) for svo, count in counts_for_risk.items()\n",
    "        if overall_counts[svo] > 0 and (count / overall_counts[svo]) <= cutoff_threshold\n",
    "    }\n",
    "    \n",
    "    # Sort and print the most disproportionately common SVOs\n",
    "    for svo, relative_frequency in sorted(disproportionate_svos.items(), key=lambda x: x[1], reverse=True)[:5]:\n",
    "        print(f\"{svo}: Relative Frequency {relative_frequency:.4f}\")"
   ]
  },
  {
   "cell_type": "code",
   "execution_count": 104,
   "id": "356be7ff",
   "metadata": {},
   "outputs": [
    {
     "name": "stdout",
     "output_type": "stream",
     "text": [
      "\n",
      "### Subjects ###\n",
      "Accuracy: 0.45\n",
      "Classification Report:\n",
      "               precision    recall  f1-score   support\n",
      "\n",
      "        high       0.52      0.57      0.54       552\n",
      "         low       0.39      0.23      0.29       400\n",
      "         mod       0.42      0.50      0.45       581\n",
      "\n",
      "    accuracy                           0.45      1533\n",
      "   macro avg       0.44      0.43      0.43      1533\n",
      "weighted avg       0.45      0.45      0.44      1533\n",
      "\n",
      "\n",
      "### Verbs ###\n",
      "Accuracy: 0.45\n",
      "Classification Report:\n",
      "               precision    recall  f1-score   support\n",
      "\n",
      "        high       0.50      0.55      0.52       552\n",
      "         low       0.43      0.24      0.31       400\n",
      "         mod       0.40      0.49      0.44       581\n",
      "\n",
      "    accuracy                           0.45      1533\n",
      "   macro avg       0.44      0.43      0.42      1533\n",
      "weighted avg       0.45      0.45      0.44      1533\n",
      "\n",
      "\n",
      "### Objects ###\n",
      "Accuracy: 0.45\n",
      "Classification Report:\n",
      "               precision    recall  f1-score   support\n",
      "\n",
      "        high       0.51      0.58      0.54       552\n",
      "         low       0.42      0.23      0.29       400\n",
      "         mod       0.41      0.48      0.44       581\n",
      "\n",
      "    accuracy                           0.45      1533\n",
      "   macro avg       0.45      0.43      0.43      1533\n",
      "weighted avg       0.45      0.45      0.44      1533\n",
      "\n"
     ]
    }
   ],
   "source": [
    "# Split the data into training and testing sets for subjects\n",
    "x_train_sub, x_test_sub, y_train_sub, y_test_sub = train_test_split(subjects, labels, test_size=0.2, random_state=2)\n",
    "\n",
    "# Use TF-IDF vectorization for subjects\n",
    "tfidf_vectorizer_sub = TfidfVectorizer()\n",
    "x_train_tfidf_sub = tfidf_vectorizer_sub.fit_transform(x_train_sub)\n",
    "x_test_tfidf_sub = tfidf_vectorizer_sub.transform(x_test_sub)\n",
    "\n",
    "# Create a Logistic Regression model for subjects\n",
    "model_sub = LogisticRegression(random_state=2)\n",
    "model_sub.fit(x_train_tfidf_sub, y_train_sub)\n",
    "y_pred_sub = model_sub.predict(x_test_tfidf_sub)\n",
    "accuracy_sub = accuracy_score(y_test_sub, y_pred_sub)\n",
    "report_sub = classification_report(y_test_sub, y_pred_sub)\n",
    "\n",
    "# Display evaluation metrics for Subjects\n",
    "print(\"\\n### Subjects ###\")\n",
    "print(f\"Accuracy: {accuracy_sub:.2f}\")\n",
    "print(\"Classification Report:\\n\", report_sub)\n",
    "\n",
    "\n",
    "# Split the data into training and testing sets for verbs\n",
    "x_train_verb, x_test_verb, y_train_verb, y_test_verb = train_test_split(verbs, labels, test_size=0.2, random_state=2)\n",
    "\n",
    "# Use TF-IDF vectorization for verbs\n",
    "tfidf_vectorizer_verb = TfidfVectorizer()\n",
    "x_train_tfidf_verb = tfidf_vectorizer_verb.fit_transform(x_train_verb)\n",
    "x_test_tfidf_verb = tfidf_vectorizer_verb.transform(x_test_verb)\n",
    "\n",
    "# Create a Logistic Regression model for verbs\n",
    "model_verb = LogisticRegression(random_state=2)\n",
    "model_verb.fit(x_train_tfidf_verb, y_train_verb)\n",
    "y_pred_verb = model_verb.predict(x_test_tfidf_verb)\n",
    "accuracy_verb = accuracy_score(y_test_verb, y_pred_verb)\n",
    "report_verb = classification_report(y_test_verb, y_pred_verb)\n",
    "\n",
    "# Display evaluation metrics for Verbs\n",
    "print(\"\\n### Verbs ###\")\n",
    "print(f\"Accuracy: {accuracy_verb:.2f}\")\n",
    "print(\"Classification Report:\\n\", report_verb)\n",
    "\n",
    "\n",
    "# Split the data into training and testing sets for objects\n",
    "x_train_obj, x_test_obj, y_train_obj, y_test_obj = train_test_split(objects, labels, test_size=0.2, random_state=2)\n",
    "\n",
    "# Use TF-IDF vectorization for objects\n",
    "tfidf_vectorizer_obj = TfidfVectorizer()\n",
    "x_train_tfidf_obj = tfidf_vectorizer_obj.fit_transform(x_train_obj)\n",
    "x_test_tfidf_obj = tfidf_vectorizer_obj.transform(x_test_obj)\n",
    "\n",
    "# Create a Logistic Regression model for objects\n",
    "model_obj = LogisticRegression(random_state=2)\n",
    "model_obj.fit(x_train_tfidf_obj, y_train_obj)\n",
    "y_pred_obj = model_obj.predict(x_test_tfidf_obj)\n",
    "accuracy_obj = accuracy_score(y_test_obj, y_pred_obj)\n",
    "report_obj = classification_report(y_test_obj, y_pred_obj)\n",
    "\n",
    "# Display evaluation metrics for Objects\n",
    "print(\"\\n### Objects ###\")\n",
    "print(f\"Accuracy: {accuracy_obj:.2f}\")\n",
    "print(\"Classification Report:\\n\", report_obj)"
   ]
  },
  {
   "cell_type": "code",
   "execution_count": 105,
   "id": "61763a36",
   "metadata": {},
   "outputs": [],
   "source": [
    "x_train, x_test, y_train, y_test = train_test_split(svo_strings, labels, test_size=0.2, random_state=2)\n",
    "\n",
    "tfidf_vectorizer = TfidfVectorizer()\n",
    "x_train_tfidf = tfidf_vectorizer.fit_transform(x_train)\n",
    "x_test_tfidf = tfidf_vectorizer.transform(x_test)\n"
   ]
  },
  {
   "cell_type": "code",
   "execution_count": 106,
   "id": "01e0ef4b",
   "metadata": {},
   "outputs": [
    {
     "name": "stdout",
     "output_type": "stream",
     "text": [
      "Accuracy: 0.48\n",
      "Classification Report:\n",
      "               precision    recall  f1-score   support\n",
      "\n",
      "        high       0.53      0.63      0.58       552\n",
      "         low       0.53      0.22      0.31       400\n",
      "         mod       0.42      0.51      0.46       581\n",
      "\n",
      "    accuracy                           0.48      1533\n",
      "   macro avg       0.49      0.46      0.45      1533\n",
      "weighted avg       0.49      0.48      0.46      1533\n",
      "\n"
     ]
    }
   ],
   "source": [
    "model = RandomForestClassifier()\n",
    "\n",
    "model.fit(x_train_tfidf, y_train)\n",
    "\n",
    "y_pred = model.predict(x_test_tfidf)\n",
    "\n",
    "accuracy = accuracy_score(y_test, y_pred)\n",
    "report = classification_report(y_test, y_pred)\n",
    "\n",
    "print(f\"Accuracy: {accuracy:.2f}\")\n",
    "print(\"Classification Report:\\n\", report)"
   ]
  },
  {
   "cell_type": "code",
   "execution_count": null,
   "id": "c95d6494",
   "metadata": {},
   "outputs": [],
   "source": []
  },
  {
   "cell_type": "markdown",
   "id": "3adf024b",
   "metadata": {},
   "source": [
    "# Final Model and Insights"
   ]
  },
  {
   "cell_type": "markdown",
   "id": "bcfba751",
   "metadata": {},
   "source": [
    "## Best Individual Model - Penalized Logistic Regression"
   ]
  },
  {
   "cell_type": "code",
   "execution_count": 108,
   "id": "14c910cc",
   "metadata": {},
   "outputs": [
    {
     "name": "stdout",
     "output_type": "stream",
     "text": [
      "A penalized logistic regression model classifying risk has an accuracy of 0.6033920417482062\n",
      "\n",
      "Classification Report:\n",
      "              precision    recall  f1-score   support\n",
      "\n",
      "        high       0.69      0.75      0.72       552\n",
      "         low       0.62      0.46      0.53       400\n",
      "         mod       0.51      0.56      0.53       581\n",
      "\n",
      "    accuracy                           0.60      1533\n",
      "   macro avg       0.61      0.59      0.60      1533\n",
      "weighted avg       0.61      0.60      0.60      1533\n",
      "\n"
     ]
    }
   ],
   "source": [
    "plr_model, lrx_train, lrx_test,\\\n",
    "lry_train, lry_test = train_logistic_reg(combined_texts,risk_labels,'l2',1.1,1000)\n",
    "\n",
    "lry_pred = plr_model.predict(lrx_test)\n",
    "plr_score = accuracy_score(lry_test, lry_pred)\n",
    "\n",
    "print(f\"A penalized logistic regression model classifying risk has an accuracy of {plr_score}\\n\")\n",
    "print(\"Classification Report:\")\n",
    "print(classification_report(lry_test, lry_pred))"
   ]
  },
  {
   "cell_type": "markdown",
   "id": "2ed5468b",
   "metadata": {},
   "source": [
    "### Insights"
   ]
  },
  {
   "cell_type": "code",
   "execution_count": 109,
   "id": "27652248",
   "metadata": {},
   "outputs": [
    {
     "name": "stdout",
     "output_type": "stream",
     "text": [
      "Top features for class 'high':\n",
      "- extreme: 3.9464\n",
      "- dry: 2.6941\n",
      "- structures: 2.3348\n",
      "- difficult: 2.0321\n",
      "- large: 1.9933\n",
      "- continuous: 1.9717\n",
      "- team: 1.9574\n",
      "- record: 1.7920\n",
      "- state: 1.7695\n",
      "- homes: 1.7367\n",
      "- availability: 1.7285\n",
      "- spotting: 1.7110\n",
      "- imt: 1.6947\n",
      "- crown: 1.6884\n",
      "- long: 1.6599\n",
      "- throughout: 1.6411\n",
      "- evacuations: 1.5379\n",
      "- drought: 1.5169\n",
      "- communities: 1.5147\n",
      "- private: 1.4996\n",
      "\n",
      "\n",
      "Top features for class 'low':\n",
      "- minimal: 3.2678\n",
      "- monitor: 2.3398\n",
      "- precipitation: 2.2201\n",
      "- sparse: 1.9610\n",
      "- monitoring: 1.9457\n",
      "- surrounded: 1.9362\n",
      "- little: 1.9046\n",
      "- late: 1.8475\n",
      "- fall: 1.8441\n",
      "- reduced: 1.7946\n",
      "- smoldering: 1.7719\n",
      "- contained: 1.7648\n",
      "- repair: 1.7197\n",
      "- monitored: 1.6926\n",
      "- snow: 1.6850\n",
      "- rain: 1.6716\n",
      "- moisture: 1.6268\n",
      "- elevation: 1.6131\n",
      "- received: 1.6087\n",
      "- monsoonal: 1.5831\n",
      "\n",
      "\n",
      "Top features for class 'mod':\n",
      "- still: 1.6637\n",
      "- consists: 1.4142\n",
      "- scars: 1.3709\n",
      "- average: 1.2759\n",
      "- away: 1.1493\n",
      "- vegetation: 1.1411\n",
      "- solely: 1.0872\n",
      "- mitigated: 1.0593\n",
      "- sufficient: 1.0435\n",
      "- adequate: 1.0066\n",
      "- efforts: 1.0057\n",
      "- added: 1.0057\n",
      "- slightly: 0.9806\n",
      "- accessibility: 0.9631\n",
      "- surface: 0.9539\n",
      "- hunting: 0.9414\n",
      "- joker: 0.9137\n",
      "- term: 0.8905\n",
      "- maintaining: 0.8889\n",
      "- containment: 0.8837\n",
      "\n",
      "\n"
     ]
    }
   ],
   "source": [
    "feature_names = vectorizer.get_feature_names_out()\n",
    "\n",
    "coefficients = plr_model.coef_\n",
    "\n",
    "num_top_features = 20\n",
    "for class_index, class_name in enumerate(plr_model.classes_):\n",
    "\n",
    "    class_coefficients = coefficients[class_index]\n",
    "\n",
    "    top_feature_indices = np.argsort(class_coefficients)[-num_top_features:][::-1]\n",
    "\n",
    "    top_features = [feature_names[i] for i in top_feature_indices]\n",
    "\n",
    "    print(f\"Top features for class '{class_name}':\")\n",
    "    for feature in top_features:\n",
    "        coefficient_value = class_coefficients[np.where(feature_names == feature)[0][0]]  # Get the coefficient value\n",
    "        print(f\"- {feature}: {coefficient_value:.4f}\")\n",
    "    print(\"\\n\")\n"
   ]
  },
  {
   "cell_type": "markdown",
   "id": "4242aebd",
   "metadata": {},
   "source": [
    "## Best Ensemble - Stacker"
   ]
  },
  {
   "cell_type": "code",
   "execution_count": null,
   "id": "ea92dfde",
   "metadata": {
    "scrolled": true
   },
   "outputs": [],
   "source": [
    "best_nb_classifier, *_ = train_nb_classifier(combined_texts,risk_labels,.2,.1)"
   ]
  },
  {
   "cell_type": "code",
   "execution_count": null,
   "id": "e45fe28e",
   "metadata": {},
   "outputs": [],
   "source": [
    "estimators = [('PLR',plr_model),('RF', en_rf_classifier), ('NB_alpha', best_nb_classifier)]"
   ]
  },
  {
   "cell_type": "code",
   "execution_count": null,
   "id": "bbef0280",
   "metadata": {},
   "outputs": [],
   "source": [
    "stacker = StackingClassifier(estimators=estimators, final_estimator=LogisticRegression())\n",
    "\n",
    "stacker.fit(lrx_train,lry_train)\n",
    ";"
   ]
  },
  {
   "cell_type": "code",
   "execution_count": null,
   "id": "9dda5b21",
   "metadata": {},
   "outputs": [],
   "source": [
    "stack_pred = stacker.predict(lrx_test)\n",
    "\n",
    "stack_score = accuracy_score(lry_test, stack_pred)\n",
    "\n",
    "stack_score"
   ]
  },
  {
   "cell_type": "markdown",
   "id": "0809feb0",
   "metadata": {},
   "source": [
    "# How Does Text Change Across Agency Involvement?"
   ]
  },
  {
   "cell_type": "code",
   "execution_count": 110,
   "id": "bcf15abf",
   "metadata": {},
   "outputs": [
    {
     "name": "stderr",
     "output_type": "stream",
     "text": [
      "[nltk_data] Downloading package punkt to\n",
      "[nltk_data]     C:\\Users\\aidan\\AppData\\Roaming\\nltk_data...\n",
      "[nltk_data]   Package punkt is already up-to-date!\n",
      "[nltk_data] Downloading package words to\n",
      "[nltk_data]     C:\\Users\\aidan\\AppData\\Roaming\\nltk_data...\n",
      "[nltk_data]   Package words is already up-to-date!\n"
     ]
    }
   ],
   "source": [
    "from agency_involvement_functions import get_most_common_words, analyze_agency_involvement, get_agency_stats"
   ]
  },
  {
   "cell_type": "code",
   "execution_count": 111,
   "id": "e94033b5",
   "metadata": {},
   "outputs": [],
   "source": [
    "agencies = ['usfs', 'ancsa', 'blm', 'bia_tribal', 'c_l', 'nps', 'other', 'state', 'usfws', 'doi', 'federal']"
   ]
  },
  {
   "cell_type": "code",
   "execution_count": null,
   "id": "97cc9dee",
   "metadata": {},
   "outputs": [],
   "source": [
    "from sklearn.feature_extraction.text import CountVectorizer\n",
    "from sklearn.metrics import precision_score, recall_score, f1_score\n",
    "from scipy.stats import pearsonr\n",
    "def get_most_common_words(texts, n_top=10):\n",
    "    vectorizer = CountVectorizer(stop_words='english')\n",
    "    word_matrix = vectorizer.fit_transform(texts)\n",
    "    sum_words = word_matrix.sum(axis=0) \n",
    "    words_freq = [(word, sum_words[0, idx]) for word, idx in vectorizer.vocabulary_.items()]\n",
    "    words_freq = sorted(words_freq, key=lambda x: x[1], reverse=True)\n",
    "    return words_freq[:n_top]\n"
   ]
  },
  {
   "cell_type": "code",
   "execution_count": null,
   "id": "5a33e9a3",
   "metadata": {},
   "outputs": [],
   "source": [
    "def analyze_agency_involvement(data, agency_list):\n",
    "    results = {}\n",
    "    \n",
    "    for agency in agency_list:\n",
    "        agency_data = {\n",
    "            'involvement_percentage': (data[agency].mean()) * 100,\n",
    "            'text_analysis': {},\n",
    "            'model_performance': {},\n",
    "            'feature_importance': {}\n",
    "        }\n",
    "        \n",
    "        # Splitting text based on agency involvement\n",
    "        agency_present_text = data[data[agency] == 1]['combined_text'].dropna()\n",
    "        agency_absent_text = data[data[agency] == 0]['combined_text'].dropna()\n",
    "        \n",
    "        # Common words analysis\n",
    "        common_words_present = get_most_common_words(agency_present_text)\n",
    "        common_words_absent = get_most_common_words(agency_absent_text)\n",
    "        \n",
    "        # Relative frequency analysis\n",
    "        total_words_present = sum(freq for _, freq in common_words_present)\n",
    "        total_words_absent = sum(freq for _, freq in common_words_absent)\n",
    "        relative_freq_present = {word: freq / total_words_present for word, freq in common_words_present}\n",
    "        relative_freq_absent = {word: freq / total_words_absent for word, freq in common_words_absent}\n",
    "        \n",
    "        # Comparative frequency\n",
    "        comparative_freq = {word: relative_freq_present.get(word, 0) - relative_freq_absent.get(word, 0) for word in set(relative_freq_present) | set(relative_freq_absent)}\n",
    "        sorted_comparative_freq = sorted(comparative_freq.items(), key=lambda x: abs(x[1]), reverse=True)\n",
    "        \n",
    "        agency_data['text_analysis'] = {\n",
    "            'common_words_present': common_words_present,\n",
    "            'common_words_absent': common_words_absent,\n",
    "            'relative_freq_present' : relative_freq_present,\n",
    "            'relative_freq_absent' : relative_freq_absent,\n",
    "            'sorted_comparative_freq': sorted_comparative_freq\n",
    "        }\n",
    "        \n",
    "        # Model training and evaluation\n",
    "        X = tfidf_vectorizer.fit_transform(data['combined_text'].fillna(''))\n",
    "        y = data[agency]\n",
    "        \n",
    "        X_train, X_test, y_train, y_test = train_test_split(X, y, test_size=0.2, random_state=42)\n",
    "        lr_model = LogisticRegression(max_iter=1000)\n",
    "        lr_model.fit(X_train, y_train)\n",
    "        \n",
    "        y_pred = lr_model.predict(X_test)\n",
    "        \n",
    "        # Storing model performance\n",
    "        agency_data['model_performance'] = {\n",
    "            'accuracy': accuracy_score(y_test, y_pred),\n",
    "            'precision': precision_score(y_test, y_pred),\n",
    "            'recall': recall_score(y_test, y_pred),\n",
    "            'f1': f1_score(y_test, y_pred)\n",
    "        }\n",
    "        \n",
    "        # Feature importance\n",
    "        feature_names = tfidf_vectorizer.get_feature_names_out()\n",
    "        coefficients = lr_model.coef_[0]\n",
    "        features_df = pd.DataFrame({'Feature': feature_names, 'Coefficient': coefficients})\n",
    "        features_sorted = features_df.sort_values(by='Coefficient', ascending=False)\n",
    "        \n",
    "        agency_data['feature_importance'] = {\n",
    "            'positive': features_sorted.head(10).to_dict('records'),\n",
    "            'negative': features_sorted.tail(10).to_dict('records')\n",
    "        }\n",
    "        \n",
    "        # Store results for current agency\n",
    "        results[agency] = agency_data\n",
    "    \n",
    "    return results"
   ]
  },
  {
   "cell_type": "code",
   "execution_count": 112,
   "id": "abbded95",
   "metadata": {},
   "outputs": [],
   "source": [
    "data_copy = data.copy()"
   ]
  },
  {
   "cell_type": "code",
   "execution_count": 113,
   "id": "a7c85fc7",
   "metadata": {},
   "outputs": [
    {
     "ename": "NameError",
     "evalue": "name 'tfidf_vectorizer' is not defined",
     "output_type": "error",
     "traceback": [
      "\u001b[1;31m---------------------------------------------------------------------------\u001b[0m",
      "\u001b[1;31mNameError\u001b[0m                                 Traceback (most recent call last)",
      "Input \u001b[1;32mIn [113]\u001b[0m, in \u001b[0;36m<cell line: 1>\u001b[1;34m()\u001b[0m\n\u001b[1;32m----> 1\u001b[0m agency_involvement \u001b[38;5;241m=\u001b[39m \u001b[43manalyze_agency_involvement\u001b[49m\u001b[43m(\u001b[49m\u001b[43mdata_copy\u001b[49m\u001b[43m,\u001b[49m\u001b[43m \u001b[49m\u001b[43magencies\u001b[49m\u001b[43m)\u001b[49m\n\u001b[0;32m      2\u001b[0m agency_involvement\n",
      "File \u001b[1;32m~\\Fire Project\\Fire-Project\\Final Product\\agency_involvement_functions.py:133\u001b[0m, in \u001b[0;36manalyze_agency_involvement\u001b[1;34m(data, agency_list)\u001b[0m\n\u001b[0;32m    124\u001b[0m agency_data[\u001b[38;5;124m'\u001b[39m\u001b[38;5;124mtext_analysis\u001b[39m\u001b[38;5;124m'\u001b[39m] \u001b[38;5;241m=\u001b[39m {\n\u001b[0;32m    125\u001b[0m     \u001b[38;5;124m'\u001b[39m\u001b[38;5;124mcommon_words_present\u001b[39m\u001b[38;5;124m'\u001b[39m: common_words_present,\n\u001b[0;32m    126\u001b[0m     \u001b[38;5;124m'\u001b[39m\u001b[38;5;124mcommon_words_absent\u001b[39m\u001b[38;5;124m'\u001b[39m: common_words_absent,\n\u001b[1;32m   (...)\u001b[0m\n\u001b[0;32m    129\u001b[0m     \u001b[38;5;124m'\u001b[39m\u001b[38;5;124msorted_comparative_freq\u001b[39m\u001b[38;5;124m'\u001b[39m: sorted_comparative_freq\n\u001b[0;32m    130\u001b[0m }\n\u001b[0;32m    132\u001b[0m \u001b[38;5;66;03m# Model training and evaluation\u001b[39;00m\n\u001b[1;32m--> 133\u001b[0m X \u001b[38;5;241m=\u001b[39m \u001b[43mtfidf_vectorizer\u001b[49m\u001b[38;5;241m.\u001b[39mfit_transform(data[\u001b[38;5;124m'\u001b[39m\u001b[38;5;124mcombined_text\u001b[39m\u001b[38;5;124m'\u001b[39m]\u001b[38;5;241m.\u001b[39mfillna(\u001b[38;5;124m'\u001b[39m\u001b[38;5;124m'\u001b[39m))\n\u001b[0;32m    134\u001b[0m y \u001b[38;5;241m=\u001b[39m data[agency]\n\u001b[0;32m    136\u001b[0m X_train, X_test, y_train, y_test \u001b[38;5;241m=\u001b[39m train_test_split(X, y, test_size\u001b[38;5;241m=\u001b[39m\u001b[38;5;241m0.2\u001b[39m, random_state\u001b[38;5;241m=\u001b[39m\u001b[38;5;241m42\u001b[39m)\n",
      "\u001b[1;31mNameError\u001b[0m: name 'tfidf_vectorizer' is not defined"
     ]
    }
   ],
   "source": [
    "agency_involvement = analyze_agency_involvement(data_copy, agencies)\n",
    "agency_involvement;"
   ]
  },
  {
   "cell_type": "markdown",
   "id": "717dcbf5",
   "metadata": {},
   "source": [
    "## Overview Data"
   ]
  },
  {
   "cell_type": "markdown",
   "id": "e34fe6b0",
   "metadata": {},
   "source": [
    "###### Percentage Involvement"
   ]
  },
  {
   "cell_type": "markdown",
   "id": "6702b7ee",
   "metadata": {},
   "source": [
    "The below chart visualizes the percentage of risk-report entries that have a positive value for a given agencies involvement. It is noteworthy that 98% of fires have some amount of federal involvement. Roughly two-thirds of fires have U.S. Forest Service (USFS) involvement, and roughly half have Department of The Interior (DOI) involvement. The other agencies have a much smaller share of reports, ranging from roughly 3% to roughly 33% of fire-risk combinations."
   ]
  },
  {
   "cell_type": "code",
   "execution_count": 112,
   "id": "01f9b91b",
   "metadata": {},
   "outputs": [
    {
     "data": {
      "image/png": "[encoded data removed]",
      "text/plain": [
       "<Figure size 792x432 with 1 Axes>"
      ]
     },
     "metadata": {
      "needs_background": "light"
     },
     "output_type": "display_data"
    }
   ],
   "source": [
    "involvement_percentages = {agency: data['involvement_percentage'] for agency, data in agency_involvement.items()}\n",
    "\n",
    "agencies = list(involvement_percentages.keys())\n",
    "percentages = list(involvement_percentages.values())\n",
    "\n",
    "fig, ax = plt.subplots(figsize=(11, 6))\n",
    "bars = ax.bar(agencies, percentages, color='skyblue')\n",
    "\n",
    "# Adding labels and title\n",
    "ax.set_xlabel('Agency')\n",
    "ax.set_ylabel('Involvement Percentage')\n",
    "ax.set_title('Agency Involvement in Fire-Risk Combinations')\n",
    "ax.set_ylim(0, max(percentages) + 10)  \n",
    "\n",
    "# Adding percentage labels above bars\n",
    "for bar in bars:\n",
    "    height = bar.get_height()\n",
    "    ax.annotate(f'{height:.2f}%',\n",
    "                xy=(bar.get_x() + bar.get_width() / 2, height),\n",
    "                xytext=(0, 3),  # 3 points vertical offset\n",
    "                textcoords=\"offset points\",\n",
    "                ha='center', va='bottom')\n",
    "    \n",
    "plt.tight_layout()\n",
    "plt.show()"
   ]
  },
  {
   "cell_type": "markdown",
   "id": "c4bfeabb",
   "metadata": {},
   "source": [
    "###### Prediction Accuracy"
   ]
  },
  {
   "cell_type": "markdown",
   "id": "2115f49d",
   "metadata": {},
   "source": [
    "The below chart plots the accuracy of a logistic regression model at predicting whether or not an agency is involved in a fire report using the text for a fire. This was fairly succesful! The model predicts at between 79% and 98% accuracy across agencies. Later, we will use the feature-coefficient pairings to determine the features that are potentially predictive of agency involvement in a given fire."
   ]
  },
  {
   "cell_type": "code",
   "execution_count": 113,
   "id": "a7cb4cb6",
   "metadata": {
    "scrolled": true
   },
   "outputs": [
    {
     "data": {
      "image/png": "[encoded data removed]",
      "text/plain": [
       "<Figure size 792x504 with 1 Axes>"
      ]
     },
     "metadata": {
      "needs_background": "light"
     },
     "output_type": "display_data"
    }
   ],
   "source": [
    "model_accuracies = {agency: data['model_performance']['accuracy'] for agency, data in agency_involvement.items()}\n",
    "agencies = list(model_accuracies.keys())\n",
    "accuracies = list(model_accuracies.values())\n",
    "\n",
    "# Creating a bar chart for model accuracies\n",
    "fig, ax = plt.subplots(figsize=(11,7))\n",
    "bars = ax.bar(agencies, accuracies, color='lightgreen')\n",
    "\n",
    "# Adding labels and title\n",
    "ax.set_xlabel('Agency')\n",
    "ax.set_ylabel('Model Accuracy')\n",
    "ax.set_title('Prediction Model Accuracy by Agency')\n",
    "ax.set_ylim(0, 1)  # Accuracy range is 0 to 1\n",
    "\n",
    "# Adding accuracy labels above bars\n",
    "for bar in bars:\n",
    "    height = bar.get_height()\n",
    "    ax.annotate(f'{height:.2f}',\n",
    "                xy=(bar.get_x() + bar.get_width() / 2, height),\n",
    "                xytext=(0, 3),  # 3 points vertical offset\n",
    "                textcoords=\"offset points\",\n",
    "                ha='center', va='bottom')\n",
    "\n",
    "plt.tight_layout()\n",
    "plt.show()"
   ]
  },
  {
   "cell_type": "markdown",
   "id": "f1ed82b0",
   "metadata": {},
   "source": [
    "###### Multi-Jurisdictional Fires"
   ]
  },
  {
   "cell_type": "markdown",
   "id": "142f1a1d",
   "metadata": {},
   "source": [
    "In the cell below, the percentage of fires that are multi-jurisdictional (defined here as having involvement from more than one agency). This is the vast majority of fires."
   ]
  },
  {
   "cell_type": "code",
   "execution_count": 114,
   "id": "e50ec988",
   "metadata": {},
   "outputs": [
    {
     "name": "stdout",
     "output_type": "stream",
     "text": [
      "98.52576647097196\n"
     ]
    }
   ],
   "source": [
    "data['multi-jurisdictional'] = data.apply(lambda row: 1 if sum(row[col] >= 1 for \\\n",
    "col in ['usfs', 'ancsa', 'blm', 'bia_tribal', 'c_l', 'nps', 'other', 'state', 'usfws', 'doi', 'federal']) \\\n",
    "> 1 else 0, axis=1)\n",
    "\n",
    "percentage_multi_jurisdictional = (data['multi-jurisdictional'].sum() / len(data)) * 100\n",
    "\n",
    "print(f\"{percentage_multi_jurisdictional}\")"
   ]
  },
  {
   "cell_type": "markdown",
   "id": "ac861e44",
   "metadata": {},
   "source": [
    "## Agency Specific Insights"
   ]
  },
  {
   "cell_type": "code",
   "execution_count": 115,
   "id": "86862881",
   "metadata": {},
   "outputs": [],
   "source": [
    "flattened_data = defaultdict(list)\n",
    "\n",
    "for key, value in agency_involvement.items():\n",
    "    # Initialize/reset a temporary dictionary for the current row\n",
    "    temp_dict = defaultdict(list)\n",
    "    \n",
    "    # Assign the agency name for the current row\n",
    "    temp_dict['agency'] = [key]\n",
    "    \n",
    "    # Iterate through the nested dictionaries\n",
    "    for sub_key, sub_value in value.items():\n",
    "        if isinstance(sub_value, dict):\n",
    "            for sub_sub_key, sub_sub_value in sub_value.items():\n",
    "                if isinstance(sub_sub_value, list):\n",
    "                    # Assuming we want to capture lists as they are, consider how to represent them\n",
    "                    # Here, we append the whole list for simplicity; adjust based on your needs\n",
    "                    temp_dict[sub_sub_key].append(sub_sub_value)\n",
    "                else:\n",
    "                    temp_dict[sub_sub_key].append(sub_sub_value)\n",
    "        else:\n",
    "            temp_dict[sub_key].append(sub_value)\n",
    "    \n",
    "    # Now, merge temp_dict into flattened_data, ensuring each key gets its corresponding value\n",
    "    for temp_key, temp_value in temp_dict.items():\n",
    "        flattened_data[temp_key].extend(temp_value)\n",
    "\n",
    "# Convert the flattened dictionary to a DataFrame\n",
    "flat = pd.DataFrame(flattened_data)"
   ]
  },
  {
   "cell_type": "code",
   "execution_count": 116,
   "id": "0ce838e7",
   "metadata": {},
   "outputs": [],
   "source": [
    "flat['agency'] = flat['agency'].astype(str)"
   ]
  },
  {
   "cell_type": "code",
   "execution_count": 117,
   "id": "cd94e421",
   "metadata": {},
   "outputs": [
    {
     "data": {
      "text/html": [
       "<div>\n",
       "<style scoped>\n",
       "    .dataframe tbody tr th:only-of-type {\n",
       "        vertical-align: middle;\n",
       "    }\n",
       "\n",
       "    .dataframe tbody tr th {\n",
       "        vertical-align: top;\n",
       "    }\n",
       "\n",
       "    .dataframe thead th {\n",
       "        text-align: right;\n",
       "    }\n",
       "</style>\n",
       "<table border=\"1\" class=\"dataframe\">\n",
       "  <thead>\n",
       "    <tr style=\"text-align: right;\">\n",
       "      <th></th>\n",
       "      <th>agency</th>\n",
       "      <th>involvement_percentage</th>\n",
       "      <th>common_words_present</th>\n",
       "      <th>common_words_absent</th>\n",
       "      <th>relative_freq_present</th>\n",
       "      <th>relative_freq_absent</th>\n",
       "      <th>sorted_comparative_freq</th>\n",
       "      <th>accuracy</th>\n",
       "      <th>precision</th>\n",
       "      <th>recall</th>\n",
       "      <th>f1</th>\n",
       "      <th>positive</th>\n",
       "      <th>negative</th>\n",
       "    </tr>\n",
       "  </thead>\n",
       "  <tbody>\n",
       "    <tr>\n",
       "      <th>0</th>\n",
       "      <td>usfs</td>\n",
       "      <td>67.358121</td>\n",
       "      <td>[(fuel, 9100), (private, 7646), (fuels, 7256),...</td>\n",
       "      <td>[(fuel, 3315), (fuels, 2900), (spread, 2460), ...</td>\n",
       "      <td>{'fuel': 0.1405513939300332, 'private': 0.1180...</td>\n",
       "      <td>{'fuel': 0.1458360828824073, 'fuels': 0.127579...</td>\n",
       "      <td>[(private, 0.11809406131747625), (suppression,...</td>\n",
       "      <td>0.830398</td>\n",
       "      <td>0.814575</td>\n",
       "      <td>0.970106</td>\n",
       "      <td>0.885563</td>\n",
       "      <td>[{'Feature': 'fs', 'Coefficient': 4.1635490661...</td>\n",
       "      <td>[{'Feature': 'spruce', 'Coefficient': -2.36156...</td>\n",
       "    </tr>\n",
       "    <tr>\n",
       "      <th>1</th>\n",
       "      <td>ancsa</td>\n",
       "      <td>2.831050</td>\n",
       "      <td>[(native, 463), (spread, 358), (protection, 35...</td>\n",
       "      <td>[(fuel, 12185), (fuels, 9830), (private, 9247)...</td>\n",
       "      <td>{'native': 0.14211172498465316, 'spread': 0.10...</td>\n",
       "      <td>{'fuel': 0.1438165380166655, 'fuels': 0.116021...</td>\n",
       "      <td>[(fuel, -0.1438165380166655), (native, 0.14211...</td>\n",
       "      <td>0.973255</td>\n",
       "      <td>1.000000</td>\n",
       "      <td>0.068182</td>\n",
       "      <td>0.127660</td>\n",
       "      <td>[{'Feature': 'native', 'Coefficient': 5.539224...</td>\n",
       "      <td>[{'Feature': 'cultural', 'Coefficient': -0.671...</td>\n",
       "    </tr>\n",
       "    <tr>\n",
       "      <th>2</th>\n",
       "      <td>blm</td>\n",
       "      <td>32.981083</td>\n",
       "      <td>[(fuel, 4992), (private, 4345), (fuels, 4026),...</td>\n",
       "      <td>[(fuel, 7423), (fuels, 6130), (spread, 5554), ...</td>\n",
       "      <td>{'fuel': 0.14242510699001426, 'private': 0.123...</td>\n",
       "      <td>{'fuel': 0.14024977799610786, 'fuels': 0.11581...</td>\n",
       "      <td>[(suppression, 0.09426533523537803), (incident...</td>\n",
       "      <td>0.811481</td>\n",
       "      <td>0.837545</td>\n",
       "      <td>0.487395</td>\n",
       "      <td>0.616202</td>\n",
       "      <td>[{'Feature': 'blm', 'Coefficient': 9.584882465...</td>\n",
       "      <td>[{'Feature': 'close', 'Coefficient': -1.662836...</td>\n",
       "    </tr>\n",
       "    <tr>\n",
       "      <th>3</th>\n",
       "      <td>bia_tribal</td>\n",
       "      <td>14.155251</td>\n",
       "      <td>[(fuel, 1965), (fuels, 1762), (suppression, 15...</td>\n",
       "      <td>[(fuel, 10450), (fuels, 8394), (private, 8110)...</td>\n",
       "      <td>{'fuel': 0.1334737128107594, 'fuels': 0.119684...</td>\n",
       "      <td>{'fuel': 0.14264458974323974, 'fuels': 0.11457...</td>\n",
       "      <td>[(suppression, 0.10528460806955577), (weather,...</td>\n",
       "      <td>0.893020</td>\n",
       "      <td>0.846154</td>\n",
       "      <td>0.302752</td>\n",
       "      <td>0.445946</td>\n",
       "      <td>[{'Feature': 'tribal', 'Coefficient': 7.157142...</td>\n",
       "      <td>[{'Feature': 'type', 'Coefficient': -1.2012563...</td>\n",
       "    </tr>\n",
       "    <tr>\n",
       "      <th>4</th>\n",
       "      <td>c_l</td>\n",
       "      <td>5.740378</td>\n",
       "      <td>[(fuel, 776), (private, 712), (fuels, 579), (s...</td>\n",
       "      <td>[(fuel, 11639), (fuels, 9577), (private, 8614)...</td>\n",
       "      <td>{'fuel': 0.14341156902605803, 'private': 0.131...</td>\n",
       "      <td>{'fuel': 0.14172816054163317, 'fuels': 0.11661...</td>\n",
       "      <td>[(suppression, 0.10534097209388284), (season, ...</td>\n",
       "      <td>0.949772</td>\n",
       "      <td>0.000000</td>\n",
       "      <td>0.000000</td>\n",
       "      <td>0.000000</td>\n",
       "      <td>[{'Feature': 'structures', 'Coefficient': 2.47...</td>\n",
       "      <td>[{'Feature': 'smoke', 'Coefficient': -0.891464...</td>\n",
       "    </tr>\n",
       "    <tr>\n",
       "      <th>5</th>\n",
       "      <td>nps</td>\n",
       "      <td>12.393999</td>\n",
       "      <td>[(fuel, 1729), (fuels, 1443), (behavior, 1395)...</td>\n",
       "      <td>[(fuel, 10686), (fuels, 8713), (private, 8395)...</td>\n",
       "      <td>{'fuel': 0.13631346578366446, 'fuels': 0.11376...</td>\n",
       "      <td>{'fuel': 0.14252370727022953, 'fuels': 0.11620...</td>\n",
       "      <td>[(private, -0.11196767008549288), (growth, 0.0...</td>\n",
       "      <td>0.909328</td>\n",
       "      <td>0.980392</td>\n",
       "      <td>0.265957</td>\n",
       "      <td>0.418410</td>\n",
       "      <td>[{'Feature': 'park', 'Coefficient': 9.36031907...</td>\n",
       "      <td>[{'Feature': 'team', 'Coefficient': -1.1221569...</td>\n",
       "    </tr>\n",
       "    <tr>\n",
       "      <th>6</th>\n",
       "      <td>other</td>\n",
       "      <td>11.559035</td>\n",
       "      <td>[(fuel, 1435), (private, 1393), (fuels, 1144),...</td>\n",
       "      <td>[(fuel, 10980), (fuels, 9012), (spread, 8048),...</td>\n",
       "      <td>{'fuel': 0.14032857422256992, 'private': 0.136...</td>\n",
       "      <td>{'fuel': 0.14201458947695172, 'fuels': 0.11656...</td>\n",
       "      <td>[(suppression, 0.09867005671816938), (time, -0...</td>\n",
       "      <td>0.887802</td>\n",
       "      <td>0.750000</td>\n",
       "      <td>0.017241</td>\n",
       "      <td>0.033708</td>\n",
       "      <td>[{'Feature': 'jurisdictions', 'Coefficient': 1...</td>\n",
       "      <td>[{'Feature': 'old', 'Coefficient': -1.32825025...</td>\n",
       "    </tr>\n",
       "    <tr>\n",
       "      <th>7</th>\n",
       "      <td>state</td>\n",
       "      <td>20.861057</td>\n",
       "      <td>[(fuel, 3239), (fuels, 2826), (private, 2636),...</td>\n",
       "      <td>[(fuel, 9176), (fuels, 7330), (spread, 6722), ...</td>\n",
       "      <td>{'fuel': 0.13507089241034195, 'fuels': 0.11784...</td>\n",
       "      <td>{'fuel': 0.14390790897542463, 'fuels': 0.11495...</td>\n",
       "      <td>[(suppression, 0.09603836530442035), (time, -0...</td>\n",
       "      <td>0.825832</td>\n",
       "      <td>0.761905</td>\n",
       "      <td>0.205788</td>\n",
       "      <td>0.324051</td>\n",
       "      <td>[{'Feature': 'state', 'Coefficient': 4.8350268...</td>\n",
       "      <td>[{'Feature': 'would', 'Coefficient': -1.345329...</td>\n",
       "    </tr>\n",
       "    <tr>\n",
       "      <th>8</th>\n",
       "      <td>usfws</td>\n",
       "      <td>5.583823</td>\n",
       "      <td>[(spread, 780), (fuel, 720), (fuels, 676), (ob...</td>\n",
       "      <td>[(fuel, 11695), (fuels, 9480), (private, 8832)...</td>\n",
       "      <td>{'spread': 0.13231552162849872, 'fuel': 0.1221...</td>\n",
       "      <td>{'fuel': 0.1435215865302015, 'fuels': 0.116339...</td>\n",
       "      <td>[(private, -0.10838671673661733), (objectives,...</td>\n",
       "      <td>0.938030</td>\n",
       "      <td>0.500000</td>\n",
       "      <td>0.010526</td>\n",
       "      <td>0.020619</td>\n",
       "      <td>[{'Feature': 'refuge', 'Coefficient': 4.993842...</td>\n",
       "      <td>[{'Feature': 'minimal', 'Coefficient': -0.8686...</td>\n",
       "    </tr>\n",
       "    <tr>\n",
       "      <th>9</th>\n",
       "      <td>doi</td>\n",
       "      <td>50.619700</td>\n",
       "      <td>[(fuel, 7015), (fuels, 5727), (spread, 5084), ...</td>\n",
       "      <td>[(fuel, 5400), (fuels, 4429), (private, 4255),...</td>\n",
       "      <td>{'fuel': 0.14465707097785294, 'fuels': 0.11809...</td>\n",
       "      <td>{'fuel': 0.1378324569911685, 'fuels': 0.113048...</td>\n",
       "      <td>[(suppression, 0.08947498659627995), (barriers...</td>\n",
       "      <td>0.778213</td>\n",
       "      <td>0.783747</td>\n",
       "      <td>0.756649</td>\n",
       "      <td>0.769959</td>\n",
       "      <td>[{'Feature': 'blm', 'Coefficient': 7.104019138...</td>\n",
       "      <td>[{'Feature': 'manage', 'Coefficient': -1.56031...</td>\n",
       "    </tr>\n",
       "    <tr>\n",
       "      <th>10</th>\n",
       "      <td>federal</td>\n",
       "      <td>98.056099</td>\n",
       "      <td>[(fuel, 12290), (fuels, 10028), (private, 9235...</td>\n",
       "      <td>[(fuels, 128), (fuel, 125), (incident, 114), (...</td>\n",
       "      <td>{'fuel': 0.14262835391328568, 'fuels': 0.11637...</td>\n",
       "      <td>{'fuels': 0.12439261418853255, 'fuel': 0.12147...</td>\n",
       "      <td>[(suppression, -0.08454810495626822), (barrier...</td>\n",
       "      <td>0.975864</td>\n",
       "      <td>0.975864</td>\n",
       "      <td>1.000000</td>\n",
       "      <td>0.987785</td>\n",
       "      <td>[{'Feature': 'wilderness', 'Coefficient': 1.12...</td>\n",
       "      <td>[{'Feature': 'looks', 'Coefficient': -1.056631...</td>\n",
       "    </tr>\n",
       "  </tbody>\n",
       "</table>\n",
       "</div>"
      ],
      "text/plain": [
       "        agency  involvement_percentage  \\\n",
       "0         usfs               67.358121   \n",
       "1        ancsa                2.831050   \n",
       "2          blm               32.981083   \n",
       "3   bia_tribal               14.155251   \n",
       "4          c_l                5.740378   \n",
       "5          nps               12.393999   \n",
       "6        other               11.559035   \n",
       "7        state               20.861057   \n",
       "8        usfws                5.583823   \n",
       "9          doi               50.619700   \n",
       "10     federal               98.056099   \n",
       "\n",
       "                                 common_words_present  \\\n",
       "0   [(fuel, 9100), (private, 7646), (fuels, 7256),...   \n",
       "1   [(native, 463), (spread, 358), (protection, 35...   \n",
       "2   [(fuel, 4992), (private, 4345), (fuels, 4026),...   \n",
       "3   [(fuel, 1965), (fuels, 1762), (suppression, 15...   \n",
       "4   [(fuel, 776), (private, 712), (fuels, 579), (s...   \n",
       "5   [(fuel, 1729), (fuels, 1443), (behavior, 1395)...   \n",
       "6   [(fuel, 1435), (private, 1393), (fuels, 1144),...   \n",
       "7   [(fuel, 3239), (fuels, 2826), (private, 2636),...   \n",
       "8   [(spread, 780), (fuel, 720), (fuels, 676), (ob...   \n",
       "9   [(fuel, 7015), (fuels, 5727), (spread, 5084), ...   \n",
       "10  [(fuel, 12290), (fuels, 10028), (private, 9235...   \n",
       "\n",
       "                                  common_words_absent  \\\n",
       "0   [(fuel, 3315), (fuels, 2900), (spread, 2460), ...   \n",
       "1   [(fuel, 12185), (fuels, 9830), (private, 9247)...   \n",
       "2   [(fuel, 7423), (fuels, 6130), (spread, 5554), ...   \n",
       "3   [(fuel, 10450), (fuels, 8394), (private, 8110)...   \n",
       "4   [(fuel, 11639), (fuels, 9577), (private, 8614)...   \n",
       "5   [(fuel, 10686), (fuels, 8713), (private, 8395)...   \n",
       "6   [(fuel, 10980), (fuels, 9012), (spread, 8048),...   \n",
       "7   [(fuel, 9176), (fuels, 7330), (spread, 6722), ...   \n",
       "8   [(fuel, 11695), (fuels, 9480), (private, 8832)...   \n",
       "9   [(fuel, 5400), (fuels, 4429), (private, 4255),...   \n",
       "10  [(fuels, 128), (fuel, 125), (incident, 114), (...   \n",
       "\n",
       "                                relative_freq_present  \\\n",
       "0   {'fuel': 0.1405513939300332, 'private': 0.1180...   \n",
       "1   {'native': 0.14211172498465316, 'spread': 0.10...   \n",
       "2   {'fuel': 0.14242510699001426, 'private': 0.123...   \n",
       "3   {'fuel': 0.1334737128107594, 'fuels': 0.119684...   \n",
       "4   {'fuel': 0.14341156902605803, 'private': 0.131...   \n",
       "5   {'fuel': 0.13631346578366446, 'fuels': 0.11376...   \n",
       "6   {'fuel': 0.14032857422256992, 'private': 0.136...   \n",
       "7   {'fuel': 0.13507089241034195, 'fuels': 0.11784...   \n",
       "8   {'spread': 0.13231552162849872, 'fuel': 0.1221...   \n",
       "9   {'fuel': 0.14465707097785294, 'fuels': 0.11809...   \n",
       "10  {'fuel': 0.14262835391328568, 'fuels': 0.11637...   \n",
       "\n",
       "                                 relative_freq_absent  \\\n",
       "0   {'fuel': 0.1458360828824073, 'fuels': 0.127579...   \n",
       "1   {'fuel': 0.1438165380166655, 'fuels': 0.116021...   \n",
       "2   {'fuel': 0.14024977799610786, 'fuels': 0.11581...   \n",
       "3   {'fuel': 0.14264458974323974, 'fuels': 0.11457...   \n",
       "4   {'fuel': 0.14172816054163317, 'fuels': 0.11661...   \n",
       "5   {'fuel': 0.14252370727022953, 'fuels': 0.11620...   \n",
       "6   {'fuel': 0.14201458947695172, 'fuels': 0.11656...   \n",
       "7   {'fuel': 0.14390790897542463, 'fuels': 0.11495...   \n",
       "8   {'fuel': 0.1435215865302015, 'fuels': 0.116339...   \n",
       "9   {'fuel': 0.1378324569911685, 'fuels': 0.113048...   \n",
       "10  {'fuels': 0.12439261418853255, 'fuel': 0.12147...   \n",
       "\n",
       "                              sorted_comparative_freq  accuracy  precision  \\\n",
       "0   [(private, 0.11809406131747625), (suppression,...  0.830398   0.814575   \n",
       "1   [(fuel, -0.1438165380166655), (native, 0.14211...  0.973255   1.000000   \n",
       "2   [(suppression, 0.09426533523537803), (incident...  0.811481   0.837545   \n",
       "3   [(suppression, 0.10528460806955577), (weather,...  0.893020   0.846154   \n",
       "4   [(suppression, 0.10534097209388284), (season, ...  0.949772   0.000000   \n",
       "5   [(private, -0.11196767008549288), (growth, 0.0...  0.909328   0.980392   \n",
       "6   [(suppression, 0.09867005671816938), (time, -0...  0.887802   0.750000   \n",
       "7   [(suppression, 0.09603836530442035), (time, -0...  0.825832   0.761905   \n",
       "8   [(private, -0.10838671673661733), (objectives,...  0.938030   0.500000   \n",
       "9   [(suppression, 0.08947498659627995), (barriers...  0.778213   0.783747   \n",
       "10  [(suppression, -0.08454810495626822), (barrier...  0.975864   0.975864   \n",
       "\n",
       "      recall        f1                                           positive  \\\n",
       "0   0.970106  0.885563  [{'Feature': 'fs', 'Coefficient': 4.1635490661...   \n",
       "1   0.068182  0.127660  [{'Feature': 'native', 'Coefficient': 5.539224...   \n",
       "2   0.487395  0.616202  [{'Feature': 'blm', 'Coefficient': 9.584882465...   \n",
       "3   0.302752  0.445946  [{'Feature': 'tribal', 'Coefficient': 7.157142...   \n",
       "4   0.000000  0.000000  [{'Feature': 'structures', 'Coefficient': 2.47...   \n",
       "5   0.265957  0.418410  [{'Feature': 'park', 'Coefficient': 9.36031907...   \n",
       "6   0.017241  0.033708  [{'Feature': 'jurisdictions', 'Coefficient': 1...   \n",
       "7   0.205788  0.324051  [{'Feature': 'state', 'Coefficient': 4.8350268...   \n",
       "8   0.010526  0.020619  [{'Feature': 'refuge', 'Coefficient': 4.993842...   \n",
       "9   0.756649  0.769959  [{'Feature': 'blm', 'Coefficient': 7.104019138...   \n",
       "10  1.000000  0.987785  [{'Feature': 'wilderness', 'Coefficient': 1.12...   \n",
       "\n",
       "                                             negative  \n",
       "0   [{'Feature': 'spruce', 'Coefficient': -2.36156...  \n",
       "1   [{'Feature': 'cultural', 'Coefficient': -0.671...  \n",
       "2   [{'Feature': 'close', 'Coefficient': -1.662836...  \n",
       "3   [{'Feature': 'type', 'Coefficient': -1.2012563...  \n",
       "4   [{'Feature': 'smoke', 'Coefficient': -0.891464...  \n",
       "5   [{'Feature': 'team', 'Coefficient': -1.1221569...  \n",
       "6   [{'Feature': 'old', 'Coefficient': -1.32825025...  \n",
       "7   [{'Feature': 'would', 'Coefficient': -1.345329...  \n",
       "8   [{'Feature': 'minimal', 'Coefficient': -0.8686...  \n",
       "9   [{'Feature': 'manage', 'Coefficient': -1.56031...  \n",
       "10  [{'Feature': 'looks', 'Coefficient': -1.056631...  "
      ]
     },
     "execution_count": 117,
     "metadata": {},
     "output_type": "execute_result"
    }
   ],
   "source": [
    "flat"
   ]
  },
  {
   "cell_type": "markdown",
   "id": "3d0017f4",
   "metadata": {},
   "source": [
    "### National Park Service"
   ]
  },
  {
   "cell_type": "code",
   "execution_count": 118,
   "id": "317ae315",
   "metadata": {},
   "outputs": [],
   "source": [
    "import pprint\n",
    "def get_agency_stats(df = flat, agency = 'nps'):\n",
    "    f_rows = df[df['agency'] == agency]\n",
    "    \n",
    "    agency_rf_pres = f_rows['relative_freq_present'].iloc[0]\n",
    "    agency_rf_abs = f_rows['relative_freq_absent'].iloc[0]\n",
    "    agency_involvement_percentage = f_rows['involvement_percentage']\n",
    "    agency_common_words_present = f_rows['common_words_present']\n",
    "    agency_common_words_absent = f_rows['common_words_absent']\n",
    "    agency_relative_freq_present = f_rows['relative_freq_present']\n",
    "    agency_relative_freq_absent = f_rows['relative_freq_absent']\n",
    "    agency_sorted_comparative_freq = f_rows['sorted_comparative_freq']\n",
    "    agency_accuracy = f_rows['accuracy']\n",
    "    agency_precision = f_rows['precision']\n",
    "    agency_recall = f_rows['recall']\n",
    "    agency_f1 = f_rows['f1']\n",
    "    agency_positive = f_rows['positive']\n",
    "    agency_negative = f_rows['negative']\n",
    "\n",
    "    # Return all extracted values\n",
    "    return {\n",
    "        'involvement_percentage': agency_involvement_percentage,\n",
    "        'common_words_present': agency_common_words_present,\n",
    "        'common_words_absent': agency_common_words_absent,\n",
    "        'relative_freq_present': agency_relative_freq_present,\n",
    "        'relative_freq_absent': agency_relative_freq_absent,\n",
    "        'sorted_comparative_freq': agency_sorted_comparative_freq,\n",
    "        'accuracy': agency_accuracy,\n",
    "        'precision': agency_precision,\n",
    "        'recall': agency_recall,\n",
    "        'f1': agency_f1,\n",
    "        'positive': agency_positive,\n",
    "        'negative': agency_negative\n",
    "    }\n",
    "    return agency_rf_pres, agency_rf_abs\n",
    "\n",
    "def pretty_print_results(results):\n",
    "    # Initialize PrettyPrinter\n",
    "    pp = pprint.PrettyPrinter(indent=4)\n",
    "    \n",
    "    print(\"Agency Stats Overview:\\n\")\n",
    "    \n",
    "    # Table header\n",
    "    print(f\"{'Metric':<25} | {'Value'}\")\n",
    "    print(\"-\" * 50)\n",
    "    \n",
    "    # Loop through each result, print formatted string for numbers and use pprint for complex types\n",
    "    for key, value in results.items():\n",
    "        if isinstance(value.iloc[0], (float, int)):\n",
    "            # Format numbers to two decimal places if it's a float/int\n",
    "            print(f\"{key:<25} | {value.iloc[0]:.2f}\")\n",
    "        else:\n",
    "            # Use pretty print for dictionaries, lists, etc.\n",
    "            print(f\"{key:<25} :\")\n",
    "            pp.pprint(value.iloc[0])\n",
    "            print(\"-\" * 50)"
   ]
  },
  {
   "cell_type": "code",
   "execution_count": 119,
   "id": "2e19b585",
   "metadata": {},
   "outputs": [],
   "source": [
    "#CONTAINMENT IS IN THE NEGATIVES FOR NPS."
   ]
  },
  {
   "cell_type": "code",
   "execution_count": null,
   "id": "593dd63f",
   "metadata": {},
   "outputs": [],
   "source": []
  },
  {
   "cell_type": "markdown",
   "id": "8e086089",
   "metadata": {},
   "source": [
    "### ANCSA"
   ]
  },
  {
   "cell_type": "code",
   "execution_count": 120,
   "id": "6b5004f6",
   "metadata": {},
   "outputs": [
    {
     "name": "stdout",
     "output_type": "stream",
     "text": [
      "Agency Stats Overview:\n",
      "\n",
      "Metric                    | Value\n",
      "--------------------------------------------------\n",
      "involvement_percentage    | 2.83\n",
      "common_words_present      :\n",
      "[   ('native', 463),\n",
      "    ('spread', 358),\n",
      "    ('protection', 358),\n",
      "    ('allotments', 335),\n",
      "    ('conditions', 333),\n",
      "    ('fuels', 326),\n",
      "    ('weather', 304),\n",
      "    ('smoke', 261),\n",
      "    ('behavior', 261),\n",
      "    ('season', 259)]\n",
      "--------------------------------------------------\n",
      "common_words_absent       :\n",
      "[   ('fuel', 12185),\n",
      "    ('fuels', 9830),\n",
      "    ('private', 9247),\n",
      "    ('spread', 8715),\n",
      "    ('behavior', 8311),\n",
      "    ('season', 8240),\n",
      "    ('time', 7224),\n",
      "    ('incident', 7125),\n",
      "    ('conditions', 6939),\n",
      "    ('barriers', 6910)]\n",
      "--------------------------------------------------\n",
      "relative_freq_present     :\n",
      "{   'allotments': 0.10282381829343155,\n",
      "    'behavior': 0.08011049723756906,\n",
      "    'conditions': 0.10220994475138122,\n",
      "    'fuels': 0.10006138735420503,\n",
      "    'native': 0.14211172498465316,\n",
      "    'protection': 0.10988336402701043,\n",
      "    'season': 0.07949662369551873,\n",
      "    'smoke': 0.08011049723756906,\n",
      "    'spread': 0.10988336402701043,\n",
      "    'weather': 0.09330877839165132}\n",
      "--------------------------------------------------\n",
      "relative_freq_absent      :\n",
      "{   'barriers': 0.08155701909685338,\n",
      "    'behavior': 0.09809267521185941,\n",
      "    'conditions': 0.08189929891650732,\n",
      "    'fuel': 0.1438165380166655,\n",
      "    'fuels': 0.11602105611028492,\n",
      "    'incident': 0.08409461086325332,\n",
      "    'private': 0.10914005146000047,\n",
      "    'season': 0.09725467979132733,\n",
      "    'spread': 0.10286098718221089,\n",
      "    'time': 0.08526308335103747}\n",
      "--------------------------------------------------\n",
      "sorted_comparative_freq   :\n",
      "[   ('fuel', -0.1438165380166655),\n",
      "    ('native', 0.14211172498465316),\n",
      "    ('protection', 0.10988336402701043),\n",
      "    ('private', -0.10914005146000047),\n",
      "    ('allotments', 0.10282381829343155),\n",
      "    ('weather', 0.09330877839165132),\n",
      "    ('time', -0.08526308335103747),\n",
      "    ('incident', -0.08409461086325332),\n",
      "    ('barriers', -0.08155701909685338),\n",
      "    ('smoke', 0.08011049723756906),\n",
      "    ('conditions', 0.020310645834873894),\n",
      "    ('behavior', -0.017982177974290345),\n",
      "    ('season', -0.017758056095808605),\n",
      "    ('fuels', -0.01595966875607989),\n",
      "    ('spread', 0.007022376844799547)]\n",
      "--------------------------------------------------\n",
      "accuracy                  | 0.97\n",
      "precision                 | 1.00\n",
      "recall                    | 0.07\n",
      "f1                        | 0.13\n",
      "positive                  :\n",
      "[   {'Coefficient': 5.539224386133632, 'Feature': 'native'},\n",
      "    {'Coefficient': 2.857773291662151, 'Feature': 'allotments'},\n",
      "    {'Coefficient': 2.800814652138669, 'Feature': 'village'},\n",
      "    {'Coefficient': 2.635776674685875, 'Feature': 'alaska'},\n",
      "    {'Coefficient': 2.545469402194192, 'Feature': 'yukon'},\n",
      "    {'Coefficient': 2.1993341466882264, 'Feature': 'community'},\n",
      "    {'Coefficient': 1.927049824677603, 'Feature': 'tanana'},\n",
      "    {'Coefficient': 1.8872640351617647, 'Feature': 'spruce'},\n",
      "    {'Coefficient': 1.8808751666942103, 'Feature': 'protection'},\n",
      "    {'Coefficient': 1.815049738666811, 'Feature': 'ancsa'}]\n",
      "--------------------------------------------------\n",
      "negative                  :\n",
      "[   {'Coefficient': -0.6715058529248222, 'Feature': 'cultural'},\n",
      "    {'Coefficient': -0.7552642991422632, 'Feature': 'habitat'},\n",
      "    {'Coefficient': -0.7699193838202112, 'Feature': 'short'},\n",
      "    {'Coefficient': -0.7756879934761501, 'Feature': 'fuel'},\n",
      "    {'Coefficient': -0.8496137853934362, 'Feature': 'roads'},\n",
      "    {'Coefficient': -0.9807525152377184, 'Feature': 'steep'},\n",
      "    {'Coefficient': -0.9846961345527415, 'Feature': 'terrain'},\n",
      "    {'Coefficient': -1.037174835482833, 'Feature': 'type'},\n",
      "    {'Coefficient': -1.1521558158375695, 'Feature': 'wilderness'},\n",
      "    {'Coefficient': -1.7468978994132756, 'Feature': 'private'}]\n",
      "--------------------------------------------------\n"
     ]
    }
   ],
   "source": [
    "ancsa_results = get_agency_stats(flat,'ancsa')\n",
    "pretty_print_results(ancsa_results)"
   ]
  },
  {
   "cell_type": "markdown",
   "id": "04919e58",
   "metadata": {},
   "source": [
    "### Bureau of Land Management"
   ]
  },
  {
   "cell_type": "code",
   "execution_count": 121,
   "id": "53962ac4",
   "metadata": {},
   "outputs": [
    {
     "name": "stdout",
     "output_type": "stream",
     "text": [
      "Agency Stats Overview:\n",
      "\n",
      "Metric                    | Value\n",
      "--------------------------------------------------\n",
      "involvement_percentage    | 32.98\n",
      "common_words_present      :\n",
      "[   ('fuel', 4992),\n",
      "    ('private', 4345),\n",
      "    ('fuels', 4026),\n",
      "    ('spread', 3519),\n",
      "    ('suppression', 3304),\n",
      "    ('behavior', 3139),\n",
      "    ('incident', 3053),\n",
      "    ('season', 3007),\n",
      "    ('conditions', 2838),\n",
      "    ('time', 2827)]\n",
      "--------------------------------------------------\n",
      "common_words_absent       :\n",
      "[   ('fuel', 7423),\n",
      "    ('fuels', 6130),\n",
      "    ('spread', 5554),\n",
      "    ('season', 5492),\n",
      "    ('behavior', 5433),\n",
      "    ('private', 4981),\n",
      "    ('time', 4575),\n",
      "    ('barriers', 4528),\n",
      "    ('conditions', 4434),\n",
      "    ('smoke', 4377)]\n",
      "--------------------------------------------------\n",
      "relative_freq_present     :\n",
      "{   'behavior': 0.08955777460770328,\n",
      "    'conditions': 0.08097004279600571,\n",
      "    'fuel': 0.14242510699001426,\n",
      "    'fuels': 0.1148644793152639,\n",
      "    'incident': 0.08710413694721826,\n",
      "    'private': 0.12396576319543509,\n",
      "    'season': 0.08579172610556349,\n",
      "    'spread': 0.10039942938659059,\n",
      "    'suppression': 0.09426533523537803,\n",
      "    'time': 0.0806562054208274}\n",
      "--------------------------------------------------\n",
      "relative_freq_absent      :\n",
      "{   'barriers': 0.08555179775917773,\n",
      "    'behavior': 0.10265082094205226,\n",
      "    'conditions': 0.08377576662195099,\n",
      "    'fuel': 0.14024977799610786,\n",
      "    'fuels': 0.1158199028851059,\n",
      "    'private': 0.09411075632474919,\n",
      "    'season': 0.10376556388988607,\n",
      "    'smoke': 0.08269881157065392,\n",
      "    'spread': 0.10493698868252499,\n",
      "    'time': 0.0864398133277911}\n",
      "--------------------------------------------------\n",
      "sorted_comparative_freq   :\n",
      "[   ('suppression', 0.09426533523537803),\n",
      "    ('incident', 0.08710413694721826),\n",
      "    ('barriers', -0.08555179775917773),\n",
      "    ('smoke', -0.08269881157065392),\n",
      "    ('private', 0.029855006870685902),\n",
      "    ('season', -0.017973837784322585),\n",
      "    ('behavior', -0.013093046334348976),\n",
      "    ('time', -0.005783607906963709),\n",
      "    ('spread', -0.0045375592959343986),\n",
      "    ('conditions', -0.0028057238259452805),\n",
      "    ('fuel', 0.0021753289939064058),\n",
      "    ('fuels', -0.00095542356984199)]\n",
      "--------------------------------------------------\n",
      "accuracy                  | 0.81\n",
      "precision                 | 0.84\n",
      "recall                    | 0.49\n",
      "f1                        | 0.62\n",
      "positive                  :\n",
      "[   {'Coefficient': 9.584882465611896, 'Feature': 'blm'},\n",
      "    {'Coefficient': 2.9528229517687876, 'Feature': 'sage'},\n",
      "    {'Coefficient': 2.811062026477558, 'Feature': 'grouse'},\n",
      "    {'Coefficient': 2.727956077465113, 'Feature': 'priority'},\n",
      "    {'Coefficient': 2.5391291671791225, 'Feature': 'repair'},\n",
      "    {'Coefficient': 2.506805177392654, 'Feature': 'agencies'},\n",
      "    {'Coefficient': 2.4168757449312572, 'Feature': 'habitat'},\n",
      "    {'Coefficient': 2.365073998830919, 'Feature': 'grazing'},\n",
      "    {'Coefficient': 2.3401027652065847, 'Feature': 'suppression'},\n",
      "    {'Coefficient': 2.2568049422117453, 'Feature': 'structures'}]\n",
      "--------------------------------------------------\n",
      "negative                  :\n",
      "[   {'Coefficient': -1.6628362557509302, 'Feature': 'close'},\n",
      "    {'Coefficient': -1.6641988505697072, 'Feature': 'nf'},\n",
      "    {'Coefficient': -1.6712476167201824, 'Feature': 'commercial'},\n",
      "    {'Coefficient': -1.71847863606183, 'Feature': 'surrounded'},\n",
      "    {'Coefficient': -1.7577742061046766, 'Feature': 'wilderness'},\n",
      "    {'Coefficient': -1.7784107211299494, 'Feature': 'mile'},\n",
      "    {'Coefficient': -1.8460092393846725, 'Feature': 'trails'},\n",
      "    {'Coefficient': -1.871582952719697, 'Feature': 'manage'},\n",
      "    {'Coefficient': -2.085470623255744, 'Feature': 'fs'},\n",
      "    {'Coefficient': -2.8937437865860667, 'Feature': 'smoke'}]\n",
      "--------------------------------------------------\n"
     ]
    }
   ],
   "source": [
    "blm_results = get_agency_stats(flat,'blm')\n",
    "pretty_print_results(blm_results)"
   ]
  },
  {
   "cell_type": "markdown",
   "id": "b2bcfcac",
   "metadata": {},
   "source": [
    "### Bureau of Indian Affairs - Tribal"
   ]
  },
  {
   "cell_type": "code",
   "execution_count": 122,
   "id": "38eea4ac",
   "metadata": {},
   "outputs": [
    {
     "name": "stdout",
     "output_type": "stream",
     "text": [
      "Agency Stats Overview:\n",
      "\n",
      "Metric                    | Value\n",
      "--------------------------------------------------\n",
      "involvement_percentage    | 14.16\n",
      "common_words_present      :\n",
      "[   ('fuel', 1965),\n",
      "    ('fuels', 1762),\n",
      "    ('suppression', 1550),\n",
      "    ('spread', 1500),\n",
      "    ('conditions', 1424),\n",
      "    ('behavior', 1402),\n",
      "    ('season', 1339),\n",
      "    ('weather', 1319),\n",
      "    ('incident', 1245),\n",
      "    ('private', 1216)]\n",
      "--------------------------------------------------\n",
      "common_words_absent       :\n",
      "[   ('fuel', 10450),\n",
      "    ('fuels', 8394),\n",
      "    ('private', 8110),\n",
      "    ('spread', 7573),\n",
      "    ('behavior', 7170),\n",
      "    ('season', 7160),\n",
      "    ('time', 6366),\n",
      "    ('incident', 6125),\n",
      "    ('barriers', 6063),\n",
      "    ('conditions', 5848)]\n",
      "--------------------------------------------------\n",
      "relative_freq_present     :\n",
      "{   'behavior': 0.09523162613775302,\n",
      "    'conditions': 0.09672598831680478,\n",
      "    'fuel': 0.1334737128107594,\n",
      "    'fuels': 0.11968482543132726,\n",
      "    'incident': 0.08456731422361093,\n",
      "    'private': 0.08259747316940633,\n",
      "    'season': 0.09095231626137754,\n",
      "    'spread': 0.10188833038989267,\n",
      "    'suppression': 0.10528460806955577,\n",
      "    'weather': 0.0895938051895123}\n",
      "--------------------------------------------------\n",
      "relative_freq_absent      :\n",
      "{   'barriers': 0.08276116245102991,\n",
      "    'behavior': 0.09787193382383053,\n",
      "    'conditions': 0.07982636945631254,\n",
      "    'fuel': 0.14264458974323974,\n",
      "    'fuels': 0.1145797785937564,\n",
      "    'incident': 0.08360747484950655,\n",
      "    'private': 0.11070312180073438,\n",
      "    'season': 0.09773543182407622,\n",
      "    'spread': 0.10337296441392867,\n",
      "    'time': 0.08689717304358509}\n",
      "--------------------------------------------------\n",
      "sorted_comparative_freq   :\n",
      "[   ('suppression', 0.10528460806955577),\n",
      "    ('weather', 0.0895938051895123),\n",
      "    ('time', -0.08689717304358509),\n",
      "    ('barriers', -0.08276116245102991),\n",
      "    ('private', -0.028105648631328056),\n",
      "    ('conditions', 0.016899618860492238),\n",
      "    ('fuel', -0.009170876932480337),\n",
      "    ('season', -0.0067831155626986855),\n",
      "    ('fuels', 0.005105046837570862),\n",
      "    ('behavior', -0.0026403076860775088),\n",
      "    ('spread', -0.001484634024035994),\n",
      "    ('incident', 0.0009598393741043765)]\n",
      "--------------------------------------------------\n",
      "accuracy                  | 0.89\n",
      "precision                 | 0.85\n",
      "recall                    | 0.30\n",
      "f1                        | 0.45\n",
      "positive                  :\n",
      "[   {'Coefficient': 7.157142645267498, 'Feature': 'tribal'},\n",
      "    {'Coefficient': 5.159968106436126, 'Feature': 'native'},\n",
      "    {'Coefficient': 4.416479906248341, 'Feature': 'reservation'},\n",
      "    {'Coefficient': 3.6504816217614224, 'Feature': 'bia'},\n",
      "    {'Coefficient': 3.5766204188875346, 'Feature': 'allotments'},\n",
      "    {'Coefficient': 3.183297863592293, 'Feature': 'trust'},\n",
      "    {'Coefficient': 3.0993557960866815, 'Feature': 'commercial'},\n",
      "    {'Coefficient': 2.290972543053628, 'Feature': 'alaska'},\n",
      "    {'Coefficient': 2.2335777730798605, 'Feature': 'suppression'},\n",
      "    {'Coefficient': 2.209960659049767, 'Feature': 'tribe'}]\n",
      "--------------------------------------------------\n",
      "negative                  :\n",
      "[   {'Coefficient': -1.2012563474039595, 'Feature': 'type'},\n",
      "    {'Coefficient': -1.2314623915625973, 'Feature': 'dead'},\n",
      "    {'Coefficient': -1.2571630041343016, 'Feature': 'would'},\n",
      "    {'Coefficient': -1.2687918120031176, 'Feature': 'habitat'},\n",
      "    {'Coefficient': -1.2820114619282954, 'Feature': 'smoke'},\n",
      "    {'Coefficient': -1.3280136448178539, 'Feature': 'trail'},\n",
      "    {'Coefficient': -1.6717514918043013, 'Feature': 'single'},\n",
      "    {'Coefficient': -1.7297193783042861, 'Feature': 'wilderness'},\n",
      "    {'Coefficient': -1.7490200140000716, 'Feature': 'visible'},\n",
      "    {'Coefficient': -3.1865449523282026, 'Feature': 'private'}]\n",
      "--------------------------------------------------\n"
     ]
    }
   ],
   "source": [
    "biat_results = get_agency_stats(flat,'bia_tribal')\n",
    "pretty_print_results(biat_results)"
   ]
  },
  {
   "cell_type": "markdown",
   "id": "d750af98",
   "metadata": {},
   "source": [
    "### C_L"
   ]
  },
  {
   "cell_type": "code",
   "execution_count": 123,
   "id": "7b35bd4c",
   "metadata": {},
   "outputs": [
    {
     "name": "stdout",
     "output_type": "stream",
     "text": [
      "Agency Stats Overview:\n",
      "\n",
      "Metric                    | Value\n",
      "--------------------------------------------------\n",
      "involvement_percentage    | 5.74\n",
      "common_words_present      :\n",
      "[   ('fuel', 776),\n",
      "    ('private', 712),\n",
      "    ('fuels', 579),\n",
      "    ('suppression', 570),\n",
      "    ('behavior', 534),\n",
      "    ('spread', 482),\n",
      "    ('incident', 456),\n",
      "    ('type', 441),\n",
      "    ('weather', 434),\n",
      "    ('barriers', 427)]\n",
      "--------------------------------------------------\n",
      "common_words_absent       :\n",
      "[   ('fuel', 11639),\n",
      "    ('fuels', 9577),\n",
      "    ('private', 8614),\n",
      "    ('spread', 8591),\n",
      "    ('season', 8160),\n",
      "    ('behavior', 8038),\n",
      "    ('time', 7039),\n",
      "    ('incident', 6914),\n",
      "    ('conditions', 6877),\n",
      "    ('barriers', 6673)]\n",
      "--------------------------------------------------\n",
      "relative_freq_present     :\n",
      "{   'barriers': 0.07891332470892626,\n",
      "    'behavior': 0.09868785806690075,\n",
      "    'fuel': 0.14341156902605803,\n",
      "    'fuels': 0.10700425060062835,\n",
      "    'incident': 0.08427277767510627,\n",
      "    'private': 0.13158381075586767,\n",
      "    'spread': 0.0890778044723711,\n",
      "    'suppression': 0.10534097209388284,\n",
      "    'type': 0.0815006468305304,\n",
      "    'weather': 0.08020698576972833}\n",
      "--------------------------------------------------\n",
      "relative_freq_absent      :\n",
      "{   'barriers': 0.08125715399040452,\n",
      "    'behavior': 0.09787876573877889,\n",
      "    'conditions': 0.08374126299895278,\n",
      "    'fuel': 0.14172816054163317,\n",
      "    'fuels': 0.1166191763473856,\n",
      "    'incident': 0.08419181218187574,\n",
      "    'private': 0.10489272058644455,\n",
      "    'season': 0.0993643603419303,\n",
      "    'spread': 0.10461264947273569,\n",
      "    'time': 0.08571393779985875}\n",
      "--------------------------------------------------\n",
      "sorted_comparative_freq   :\n",
      "[   ('suppression', 0.10534097209388284),\n",
      "    ('season', -0.0993643603419303),\n",
      "    ('time', -0.08571393779985875),\n",
      "    ('conditions', -0.08374126299895278),\n",
      "    ('type', 0.0815006468305304),\n",
      "    ('weather', 0.08020698576972833),\n",
      "    ('private', 0.026691090169423115),\n",
      "    ('spread', -0.015534845000364589),\n",
      "    ('fuels', -0.00961492574675725),\n",
      "    ('barriers', -0.002343829281478263),\n",
      "    ('fuel', 0.0016834084844248587),\n",
      "    ('behavior', 0.0008090923281218604),\n",
      "    ('incident', 8.096549323052815e-05)]\n",
      "--------------------------------------------------\n",
      "accuracy                  | 0.95\n",
      "precision                 | 0.00\n",
      "recall                    | 0.00\n",
      "f1                        | 0.00\n",
      "positive                  :\n",
      "[   {'Coefficient': 2.477002140870401, 'Feature': 'structures'},\n",
      "    {'Coefficient': 1.760187026599646, 'Feature': 'team'},\n",
      "    {'Coefficient': 1.6425095859018468, 'Feature': 'county'},\n",
      "    {'Coefficient': 1.631210984405089, 'Feature': 'unified'},\n",
      "    {'Coefficient': 1.5956475511332957, 'Feature': 'grass'},\n",
      "    {'Coefficient': 1.562724710153253, 'Feature': 'containment'},\n",
      "    {'Coefficient': 1.526515615501612, 'Feature': 'communities'},\n",
      "    {'Coefficient': 1.515778257728691, 'Feature': 'agreement'},\n",
      "    {'Coefficient': 1.4597425815682425, 'Feature': 'residences'},\n",
      "    {'Coefficient': 1.3805410908330134, 'Feature': 'flag'}]\n",
      "--------------------------------------------------\n",
      "negative                  :\n",
      "[   {'Coefficient': -0.891464651006838, 'Feature': 'smoke'},\n",
      "    {'Coefficient': -0.8986209386594854, 'Feature': 'given'},\n",
      "    {'Coefficient': -0.9052547033272018, 'Feature': 'middle'},\n",
      "    {'Coefficient': -1.0052578882115826, 'Feature': 'trail'},\n",
      "    {'Coefficient': -1.0098802739068857, 'Feature': 'monitor'},\n",
      "    {'Coefficient': -1.0141732698393837, 'Feature': 'monsoonal'},\n",
      "    {'Coefficient': -1.0582897335954153, 'Feature': 'probability'},\n",
      "    {'Coefficient': -1.2092633073192043, 'Feature': 'would'},\n",
      "    {'Coefficient': -1.6880927822796121, 'Feature': 'season'},\n",
      "    {'Coefficient': -1.7845782713813447, 'Feature': 'remote'}]\n",
      "--------------------------------------------------\n"
     ]
    }
   ],
   "source": [
    "cl_results = get_agency_stats(flat,'c_l')\n",
    "pretty_print_results(cl_results)"
   ]
  },
  {
   "cell_type": "markdown",
   "id": "550e5c8f",
   "metadata": {},
   "source": [
    "### National Park Service"
   ]
  },
  {
   "cell_type": "code",
   "execution_count": 124,
   "id": "a295f5fc",
   "metadata": {},
   "outputs": [
    {
     "name": "stdout",
     "output_type": "stream",
     "text": [
      "Agency Stats Overview:\n",
      "\n",
      "Metric                    | Value\n",
      "--------------------------------------------------\n",
      "involvement_percentage    | 12.39\n",
      "common_words_present      :\n",
      "[   ('fuel', 1729),\n",
      "    ('fuels', 1443),\n",
      "    ('behavior', 1395),\n",
      "    ('spread', 1394),\n",
      "    ('season', 1195),\n",
      "    ('growth', 1181),\n",
      "    ('smoke', 1175),\n",
      "    ('barriers', 1087),\n",
      "    ('conditions', 1061),\n",
      "    ('time', 1024)]\n",
      "--------------------------------------------------\n",
      "common_words_absent       :\n",
      "[   ('fuel', 10686),\n",
      "    ('fuels', 8713),\n",
      "    ('private', 8395),\n",
      "    ('spread', 7679),\n",
      "    ('season', 7304),\n",
      "    ('behavior', 7177),\n",
      "    ('incident', 6421),\n",
      "    ('time', 6378),\n",
      "    ('conditions', 6211),\n",
      "    ('barriers', 6013)]\n",
      "--------------------------------------------------\n",
      "relative_freq_present     :\n",
      "{   'barriers': 0.08569851781772311,\n",
      "    'behavior': 0.10998107852412488,\n",
      "    'conditions': 0.08364869126458531,\n",
      "    'fuel': 0.13631346578366446,\n",
      "    'fuels': 0.11376537369914853,\n",
      "    'growth': 0.09310942920214443,\n",
      "    'season': 0.09421318196152634,\n",
      "    'smoke': 0.09263639230526648,\n",
      "    'spread': 0.10990223904131188,\n",
      "    'time': 0.08073163040050457}\n",
      "--------------------------------------------------\n",
      "relative_freq_absent      :\n",
      "{   'barriers': 0.08019792736439174,\n",
      "    'behavior': 0.09572268829107593,\n",
      "    'conditions': 0.08283873721274525,\n",
      "    'fuel': 0.14252370727022953,\n",
      "    'fuels': 0.11620897075103032,\n",
      "    'incident': 0.08563959614281713,\n",
      "    'private': 0.11196767008549288,\n",
      "    'season': 0.09741654107259559,\n",
      "    'spread': 0.1024180748762954,\n",
      "    'time': 0.08506608693332622}\n",
      "--------------------------------------------------\n",
      "sorted_comparative_freq   :\n",
      "[   ('private', -0.11196767008549288),\n",
      "    ('growth', 0.09310942920214443),\n",
      "    ('smoke', 0.09263639230526648),\n",
      "    ('incident', -0.08563959614281713),\n",
      "    ('behavior', 0.014258390233048951),\n",
      "    ('spread', 0.007484164165016488),\n",
      "    ('fuel', -0.006210241486565071),\n",
      "    ('barriers', 0.005500590453331372),\n",
      "    ('time', -0.004334456532821648),\n",
      "    ('season', -0.003203359111069254),\n",
      "    ('fuels', -0.0024435970518817823),\n",
      "    ('conditions', 0.0008099540518400616)]\n",
      "--------------------------------------------------\n",
      "accuracy                  | 0.91\n",
      "precision                 | 0.98\n",
      "recall                    | 0.27\n",
      "f1                        | 0.42\n",
      "positive                  :\n",
      "[   {'Coefficient': 9.36031907451506, 'Feature': 'park'},\n",
      "    {'Coefficient': 7.006245217803414, 'Feature': 'nps'},\n",
      "    {'Coefficient': 2.93050096533203, 'Feature': 'lava'},\n",
      "    {'Coefficient': 2.406770174020958, 'Feature': 'yosemite'},\n",
      "    {'Coefficient': 1.9378216632856493, 'Feature': 'preserve'},\n",
      "    {'Coefficient': 1.8823737801152547, 'Feature': 'grand'},\n",
      "    {'Coefficient': 1.8543396083300865, 'Feature': 'tioga'},\n",
      "    {'Coefficient': 1.817556852775723, 'Feature': 'information'},\n",
      "    {'Coefficient': 1.7566339988764674, 'Feature': 'yellowstone'},\n",
      "    {'Coefficient': 1.6779836330405162, 'Feature': 'levels'}]\n",
      "--------------------------------------------------\n",
      "negative                  :\n",
      "[   {'Coefficient': -1.1221569356179502, 'Feature': 'team'},\n",
      "    {'Coefficient': -1.1663613306026108, 'Feature': 'range'},\n",
      "    {'Coefficient': -1.1826130072009848, 'Feature': 'brush'},\n",
      "    {'Coefficient': -1.2010570075805966, 'Feature': 'bitterroot'},\n",
      "    {'Coefficient': -1.2767351763919248, 'Feature': 'extremely'},\n",
      "    {'Coefficient': -1.4047733277372978, 'Feature': 'suppression'},\n",
      "    {'Coefficient': -1.8728576035460442, 'Feature': 'hunting'},\n",
      "    {'Coefficient': -2.0099024204538183, 'Feature': 'type'},\n",
      "    {'Coefficient': -2.4958854628985785, 'Feature': 'timber'},\n",
      "    {'Coefficient': -2.722992773070021, 'Feature': 'private'}]\n",
      "--------------------------------------------------\n"
     ]
    }
   ],
   "source": [
    "nps_results = get_agency_stats(flat,'nps')\n",
    "pretty_print_results(nps_results)"
   ]
  },
  {
   "cell_type": "markdown",
   "id": "ce07157b",
   "metadata": {},
   "source": [
    "### State Agencies"
   ]
  },
  {
   "cell_type": "code",
   "execution_count": 125,
   "id": "6c53edb2",
   "metadata": {},
   "outputs": [
    {
     "name": "stdout",
     "output_type": "stream",
     "text": [
      "Agency Stats Overview:\n",
      "\n",
      "Metric                    | Value\n",
      "--------------------------------------------------\n",
      "involvement_percentage    | 20.86\n",
      "common_words_present      :\n",
      "[   ('fuel', 3239),\n",
      "    ('fuels', 2826),\n",
      "    ('private', 2636),\n",
      "    ('spread', 2351),\n",
      "    ('season', 2305),\n",
      "    ('suppression', 2303),\n",
      "    ('behavior', 2200),\n",
      "    ('incident', 2126),\n",
      "    ('conditions', 2038),\n",
      "    ('weather', 1956)]\n",
      "--------------------------------------------------\n",
      "common_words_absent       :\n",
      "[   ('fuel', 9176),\n",
      "    ('fuels', 7330),\n",
      "    ('spread', 6722),\n",
      "    ('private', 6690),\n",
      "    ('behavior', 6372),\n",
      "    ('season', 6194),\n",
      "    ('time', 5491),\n",
      "    ('barriers', 5310),\n",
      "    ('incident', 5244),\n",
      "    ('conditions', 5234)]\n",
      "--------------------------------------------------\n",
      "relative_freq_present     :\n",
      "{   'behavior': 0.09174311926605505,\n",
      "    'conditions': 0.08498748957464554,\n",
      "    'fuel': 0.13507089241034195,\n",
      "    'fuels': 0.11784820683903252,\n",
      "    'incident': 0.08865721434528774,\n",
      "    'private': 0.10992493744787322,\n",
      "    'season': 0.09612176814011676,\n",
      "    'spread': 0.09804003336113427,\n",
      "    'suppression': 0.09603836530442035,\n",
      "    'weather': 0.08156797331109257}\n",
      "--------------------------------------------------\n",
      "relative_freq_absent      :\n",
      "{   'barriers': 0.08327713564292771,\n",
      "    'behavior': 0.09993256277151326,\n",
      "    'conditions': 0.08208522183711557,\n",
      "    'fuel': 0.14390790897542463,\n",
      "    'fuels': 0.11495694995530323,\n",
      "    'incident': 0.08224205260103822,\n",
      "    'private': 0.10491978106425356,\n",
      "    'season': 0.09714097517369007,\n",
      "    'spread': 0.10542163950880605,\n",
      "    'time': 0.0861157724699277}\n",
      "--------------------------------------------------\n",
      "sorted_comparative_freq   :\n",
      "[   ('suppression', 0.09603836530442035),\n",
      "    ('time', -0.0861157724699277),\n",
      "    ('barriers', -0.08327713564292771),\n",
      "    ('weather', 0.08156797331109257),\n",
      "    ('fuel', -0.008837016565082678),\n",
      "    ('behavior', -0.008189443505458208),\n",
      "    ('spread', -0.0073816061476717765),\n",
      "    ('incident', 0.006415161744249526),\n",
      "    ('private', 0.0050051563836196605),\n",
      "    ('conditions', 0.0029022677375299677),\n",
      "    ('fuels', 0.002891256883729293),\n",
      "    ('season', -0.001019207033573305)]\n",
      "--------------------------------------------------\n",
      "accuracy                  | 0.83\n",
      "precision                 | 0.76\n",
      "recall                    | 0.21\n",
      "f1                        | 0.32\n",
      "positive                  :\n",
      "[   {'Coefficient': 4.83502687088994, 'Feature': 'state'},\n",
      "    {'Coefficient': 2.663919301911193, 'Feature': 'structures'},\n",
      "    {'Coefficient': 2.290350860528344, 'Feature': 'alaska'},\n",
      "    {'Coefficient': 2.1394010241521118, 'Feature': 'extreme'},\n",
      "    {'Coefficient': 2.1338490717794354, 'Feature': 'agencies'},\n",
      "    {'Coefficient': 2.014516145224821, 'Feature': 'communities'},\n",
      "    {'Coefficient': 1.9630314708078214, 'Feature': 'extremely'},\n",
      "    {'Coefficient': 1.79310632273269, 'Feature': 'repair'},\n",
      "    {'Coefficient': 1.7823773601398665, 'Feature': 'record'},\n",
      "    {'Coefficient': 1.7365660999767967, 'Feature': 'chena'}]\n",
      "--------------------------------------------------\n",
      "negative                  :\n",
      "[   {'Coefficient': -1.3453296863521054, 'Feature': 'would'},\n",
      "    {'Coefficient': -1.3711986352256589, 'Feature': 'unit'},\n",
      "    {'Coefficient': -1.3865018204920867, 'Feature': 'wilderness'},\n",
      "    {'Coefficient': -1.4040407162685216, 'Feature': 'steep'},\n",
      "    {'Coefficient': -1.4441573647318746, 'Feature': 'away'},\n",
      "    {'Coefficient': -1.5162507186460699, 'Feature': 'short'},\n",
      "    {'Coefficient': -1.6489680946246046, 'Feature': 'single'},\n",
      "    {'Coefficient': -1.6619093320643314, 'Feature': 'mile'},\n",
      "    {'Coefficient': -2.022389036899891, 'Feature': 'smoke'},\n",
      "    {'Coefficient': -2.08826234878514, 'Feature': 'managed'}]\n",
      "--------------------------------------------------\n"
     ]
    }
   ],
   "source": [
    "st_results = get_agency_stats(flat,'state')\n",
    "pretty_print_results(st_results)"
   ]
  },
  {
   "cell_type": "markdown",
   "id": "b3cd7dc3",
   "metadata": {},
   "source": [
    "### U.S. Fish and Wildlife Service"
   ]
  },
  {
   "cell_type": "code",
   "execution_count": 126,
   "id": "1e669553",
   "metadata": {},
   "outputs": [
    {
     "name": "stdout",
     "output_type": "stream",
     "text": [
      "Agency Stats Overview:\n",
      "\n",
      "Metric                    | Value\n",
      "--------------------------------------------------\n",
      "involvement_percentage    | 5.58\n",
      "common_words_present      :\n",
      "[   ('spread', 780),\n",
      "    ('fuel', 720),\n",
      "    ('fuels', 676),\n",
      "    ('objectives', 560),\n",
      "    ('behavior', 550),\n",
      "    ('suppression', 546),\n",
      "    ('season', 542),\n",
      "    ('conditions', 521),\n",
      "    ('smoke', 502),\n",
      "    ('incident', 498)]\n",
      "--------------------------------------------------\n",
      "common_words_absent       :\n",
      "[   ('fuel', 11695),\n",
      "    ('fuels', 9480),\n",
      "    ('private', 8832),\n",
      "    ('spread', 8293),\n",
      "    ('behavior', 8022),\n",
      "    ('season', 7957),\n",
      "    ('time', 6942),\n",
      "    ('incident', 6872),\n",
      "    ('conditions', 6751),\n",
      "    ('barriers', 6642)]\n",
      "--------------------------------------------------\n",
      "relative_freq_present     :\n",
      "{   'behavior': 0.09329940627650551,\n",
      "    'conditions': 0.08837998303647158,\n",
      "    'fuel': 0.12213740458015267,\n",
      "    'fuels': 0.11467345207803223,\n",
      "    'incident': 0.08447837150127227,\n",
      "    'objectives': 0.09499575911789652,\n",
      "    'season': 0.09194232400339271,\n",
      "    'smoke': 0.08515691263782867,\n",
      "    'spread': 0.13231552162849872,\n",
      "    'suppression': 0.0926208651399491}\n",
      "--------------------------------------------------\n",
      "relative_freq_absent      :\n",
      "{   'barriers': 0.08151093439363817,\n",
      "    'behavior': 0.09844635888373462,\n",
      "    'conditions': 0.08284858748742115,\n",
      "    'fuel': 0.1435215865302015,\n",
      "    'fuels': 0.1163390030189235,\n",
      "    'incident': 0.08433350514198758,\n",
      "    'private': 0.10838671673661733,\n",
      "    'season': 0.09764867584615762,\n",
      "    'spread': 0.10177208354809415,\n",
      "    'time': 0.08519254841322436}\n",
      "--------------------------------------------------\n",
      "sorted_comparative_freq   :\n",
      "[   ('private', -0.10838671673661733),\n",
      "    ('objectives', 0.09499575911789652),\n",
      "    ('suppression', 0.0926208651399491),\n",
      "    ('time', -0.08519254841322436),\n",
      "    ('smoke', 0.08515691263782867),\n",
      "    ('barriers', -0.08151093439363817),\n",
      "    ('spread', 0.030543438080404564),\n",
      "    ('fuel', -0.021384181950048833),\n",
      "    ('season', -0.005706351842764912),\n",
      "    ('conditions', 0.0055313955490504385),\n",
      "    ('behavior', -0.0051469526072291105),\n",
      "    ('fuels', -0.0016655509408912694),\n",
      "    ('incident', 0.00014486635928469271)]\n",
      "--------------------------------------------------\n",
      "accuracy                  | 0.94\n",
      "precision                 | 0.50\n",
      "recall                    | 0.01\n",
      "f1                        | 0.02\n",
      "positive                  :\n",
      "[   {'Coefficient': 4.993842117467459, 'Feature': 'refuge'},\n",
      "    {'Coefficient': 3.4429505833535976, 'Feature': 'native'},\n",
      "    {'Coefficient': 3.0125965499004375, 'Feature': 'fws'},\n",
      "    {'Coefficient': 3.0045298666425344, 'Feature': 'allotments'},\n",
      "    {'Coefficient': 2.5365208862197317, 'Feature': 'usfws'},\n",
      "    {'Coefficient': 1.7281985635824633, 'Feature': 'sterling'},\n",
      "    {'Coefficient': 1.3553918263292613, 'Feature': 'protection'},\n",
      "    {'Coefficient': 1.3306942893293492, 'Feature': 'village'},\n",
      "    {'Coefficient': 1.3100982940443706, 'Feature': 'organic'},\n",
      "    {'Coefficient': 1.2276630028620645, 'Feature': 'rated'}]\n",
      "--------------------------------------------------\n",
      "negative                  :\n",
      "[   {'Coefficient': -0.8686014666289712, 'Feature': 'minimal'},\n",
      "    {'Coefficient': -0.8989665344936524, 'Feature': 'service'},\n",
      "    {'Coefficient': -0.9402215461705477, 'Feature': 'rock'},\n",
      "    {'Coefficient': -1.064544154232346, 'Feature': 'ercs'},\n",
      "    {'Coefficient': -1.0651632530450057, 'Feature': 'moisture'},\n",
      "    {'Coefficient': -1.0909566729018374, 'Feature': 'monsoon'},\n",
      "    {'Coefficient': -1.150602179384416, 'Feature': 'monsoonal'},\n",
      "    {'Coefficient': -1.155912262876191, 'Feature': 'terrain'},\n",
      "    {'Coefficient': -1.1896937000394927, 'Feature': 'steep'},\n",
      "    {'Coefficient': -1.4309284995268625, 'Feature': 'single'}]\n",
      "--------------------------------------------------\n"
     ]
    }
   ],
   "source": [
    "usfws_results = get_agency_stats(flat,'usfws')\n",
    "pretty_print_results(usfws_results)"
   ]
  },
  {
   "cell_type": "markdown",
   "id": "d2a5e675",
   "metadata": {},
   "source": [
    "### Department of The Interior"
   ]
  },
  {
   "cell_type": "code",
   "execution_count": 127,
   "id": "9627a284",
   "metadata": {},
   "outputs": [
    {
     "name": "stdout",
     "output_type": "stream",
     "text": [
      "Agency Stats Overview:\n",
      "\n",
      "Metric                    | Value\n",
      "--------------------------------------------------\n",
      "involvement_percentage    | 12.39\n",
      "common_words_present      :\n",
      "[   ('fuel', 1729),\n",
      "    ('fuels', 1443),\n",
      "    ('behavior', 1395),\n",
      "    ('spread', 1394),\n",
      "    ('season', 1195),\n",
      "    ('growth', 1181),\n",
      "    ('smoke', 1175),\n",
      "    ('barriers', 1087),\n",
      "    ('conditions', 1061),\n",
      "    ('time', 1024)]\n",
      "--------------------------------------------------\n",
      "common_words_absent       :\n",
      "[   ('fuel', 10686),\n",
      "    ('fuels', 8713),\n",
      "    ('private', 8395),\n",
      "    ('spread', 7679),\n",
      "    ('season', 7304),\n",
      "    ('behavior', 7177),\n",
      "    ('incident', 6421),\n",
      "    ('time', 6378),\n",
      "    ('conditions', 6211),\n",
      "    ('barriers', 6013)]\n",
      "--------------------------------------------------\n",
      "relative_freq_present     :\n",
      "{   'barriers': 0.08569851781772311,\n",
      "    'behavior': 0.10998107852412488,\n",
      "    'conditions': 0.08364869126458531,\n",
      "    'fuel': 0.13631346578366446,\n",
      "    'fuels': 0.11376537369914853,\n",
      "    'growth': 0.09310942920214443,\n",
      "    'season': 0.09421318196152634,\n",
      "    'smoke': 0.09263639230526648,\n",
      "    'spread': 0.10990223904131188,\n",
      "    'time': 0.08073163040050457}\n",
      "--------------------------------------------------\n",
      "relative_freq_absent      :\n",
      "{   'barriers': 0.08019792736439174,\n",
      "    'behavior': 0.09572268829107593,\n",
      "    'conditions': 0.08283873721274525,\n",
      "    'fuel': 0.14252370727022953,\n",
      "    'fuels': 0.11620897075103032,\n",
      "    'incident': 0.08563959614281713,\n",
      "    'private': 0.11196767008549288,\n",
      "    'season': 0.09741654107259559,\n",
      "    'spread': 0.1024180748762954,\n",
      "    'time': 0.08506608693332622}\n",
      "--------------------------------------------------\n",
      "sorted_comparative_freq   :\n",
      "[   ('private', -0.11196767008549288),\n",
      "    ('growth', 0.09310942920214443),\n",
      "    ('smoke', 0.09263639230526648),\n",
      "    ('incident', -0.08563959614281713),\n",
      "    ('behavior', 0.014258390233048951),\n",
      "    ('spread', 0.007484164165016488),\n",
      "    ('fuel', -0.006210241486565071),\n",
      "    ('barriers', 0.005500590453331372),\n",
      "    ('time', -0.004334456532821648),\n",
      "    ('season', -0.003203359111069254),\n",
      "    ('fuels', -0.0024435970518817823),\n",
      "    ('conditions', 0.0008099540518400616)]\n",
      "--------------------------------------------------\n",
      "accuracy                  | 0.91\n",
      "precision                 | 0.98\n",
      "recall                    | 0.27\n",
      "f1                        | 0.42\n",
      "positive                  :\n",
      "[   {'Coefficient': 9.36031907451506, 'Feature': 'park'},\n",
      "    {'Coefficient': 7.006245217803414, 'Feature': 'nps'},\n",
      "    {'Coefficient': 2.93050096533203, 'Feature': 'lava'},\n",
      "    {'Coefficient': 2.406770174020958, 'Feature': 'yosemite'},\n",
      "    {'Coefficient': 1.9378216632856493, 'Feature': 'preserve'},\n",
      "    {'Coefficient': 1.8823737801152547, 'Feature': 'grand'},\n",
      "    {'Coefficient': 1.8543396083300865, 'Feature': 'tioga'},\n",
      "    {'Coefficient': 1.817556852775723, 'Feature': 'information'},\n",
      "    {'Coefficient': 1.7566339988764674, 'Feature': 'yellowstone'},\n",
      "    {'Coefficient': 1.6779836330405162, 'Feature': 'levels'}]\n",
      "--------------------------------------------------\n",
      "negative                  :\n",
      "[   {'Coefficient': -1.1221569356179502, 'Feature': 'team'},\n",
      "    {'Coefficient': -1.1663613306026108, 'Feature': 'range'},\n",
      "    {'Coefficient': -1.1826130072009848, 'Feature': 'brush'},\n",
      "    {'Coefficient': -1.2010570075805966, 'Feature': 'bitterroot'},\n",
      "    {'Coefficient': -1.2767351763919248, 'Feature': 'extremely'},\n",
      "    {'Coefficient': -1.4047733277372978, 'Feature': 'suppression'},\n",
      "    {'Coefficient': -1.8728576035460442, 'Feature': 'hunting'},\n",
      "    {'Coefficient': -2.0099024204538183, 'Feature': 'type'},\n",
      "    {'Coefficient': -2.4958854628985785, 'Feature': 'timber'},\n",
      "    {'Coefficient': -2.722992773070021, 'Feature': 'private'}]\n",
      "--------------------------------------------------\n"
     ]
    }
   ],
   "source": [
    "doi_results = get_agency_stats(flat,'doi')\n",
    "pretty_print_results(nps_results)"
   ]
  },
  {
   "cell_type": "markdown",
   "id": "fc1b8277",
   "metadata": {},
   "source": [
    "### Federal"
   ]
  },
  {
   "cell_type": "code",
   "execution_count": 128,
   "id": "d88141cb",
   "metadata": {},
   "outputs": [
    {
     "name": "stdout",
     "output_type": "stream",
     "text": [
      "Agency Stats Overview:\n",
      "\n",
      "Metric                    | Value\n",
      "--------------------------------------------------\n",
      "involvement_percentage    | 98.06\n",
      "common_words_present      :\n",
      "[   ('fuel', 12290),\n",
      "    ('fuels', 10028),\n",
      "    ('private', 9235),\n",
      "    ('spread', 8960),\n",
      "    ('behavior', 8485),\n",
      "    ('season', 8404),\n",
      "    ('time', 7318),\n",
      "    ('incident', 7256),\n",
      "    ('conditions', 7167),\n",
      "    ('barriers', 7025)]\n",
      "--------------------------------------------------\n",
      "common_words_absent       :\n",
      "[   ('fuels', 128),\n",
      "    ('fuel', 125),\n",
      "    ('incident', 114),\n",
      "    ('spread', 113),\n",
      "    ('conditions', 105),\n",
      "    ('season', 95),\n",
      "    ('private', 91),\n",
      "    ('suppression', 87),\n",
      "    ('behavior', 87),\n",
      "    ('time', 84)]\n",
      "--------------------------------------------------\n",
      "relative_freq_present     :\n",
      "{   'barriers': 0.08152678488534026,\n",
      "    'behavior': 0.0984704298579519,\n",
      "    'conditions': 0.083174728437471,\n",
      "    'fuel': 0.14262835391328568,\n",
      "    'fuels': 0.11637730944202024,\n",
      "    'incident': 0.08420759446662333,\n",
      "    'private': 0.10717435706990994,\n",
      "    'season': 0.09753040571906044,\n",
      "    'spread': 0.103982917092192,\n",
      "    'time': 0.0849271191161452}\n",
      "--------------------------------------------------\n",
      "relative_freq_absent      :\n",
      "{   'behavior': 0.08454810495626822,\n",
      "    'conditions': 0.10204081632653061,\n",
      "    'fuel': 0.12147716229348883,\n",
      "    'fuels': 0.12439261418853255,\n",
      "    'incident': 0.11078717201166181,\n",
      "    'private': 0.08843537414965986,\n",
      "    'season': 0.0923226433430515,\n",
      "    'spread': 0.1098153547133139,\n",
      "    'suppression': 0.08454810495626822,\n",
      "    'time': 0.08163265306122448}\n",
      "--------------------------------------------------\n",
      "sorted_comparative_freq   :\n",
      "[   ('suppression', -0.08454810495626822),\n",
      "    ('barriers', 0.08152678488534026),\n",
      "    ('incident', -0.02657957754503848),\n",
      "    ('fuel', 0.021151191619796852),\n",
      "    ('conditions', -0.01886608788905962),\n",
      "    ('private', 0.018738982920250072),\n",
      "    ('behavior', 0.013922324901683686),\n",
      "    ('fuels', -0.008015304746512311),\n",
      "    ('spread', -0.0058324376211219),\n",
      "    ('season', 0.005207762376008937),\n",
      "    ('time', 0.0032944660549207166)]\n",
      "--------------------------------------------------\n",
      "accuracy                  | 0.98\n",
      "precision                 | 0.98\n",
      "recall                    | 1.00\n",
      "f1                        | 0.99\n",
      "positive                  :\n",
      "[   {'Coefficient': 1.1264930002246563, 'Feature': 'wilderness'},\n",
      "    {'Coefficient': 0.8498101425001394, 'Feature': 'little'},\n",
      "    {'Coefficient': 0.764369037773856, 'Feature': 'seasonal'},\n",
      "    {'Coefficient': 0.7498830679838968, 'Feature': 'managed'},\n",
      "    {'Coefficient': 0.7442500061946935, 'Feature': 'steep'},\n",
      "    {'Coefficient': 0.7409349111936641, 'Feature': 'probability'},\n",
      "    {'Coefficient': 0.7332822747779154, 'Feature': 'point'},\n",
      "    {'Coefficient': 0.7215183155382296, 'Feature': 'easily'},\n",
      "    {'Coefficient': 0.6970408604795857, 'Feature': 'objectives'},\n",
      "    {'Coefficient': 0.6926744865731063, 'Feature': 'precipitation'}]\n",
      "--------------------------------------------------\n",
      "negative                  :\n",
      "[   {'Coefficient': -1.0566319302065919, 'Feature': 'looks'},\n",
      "    {'Coefficient': -1.085537791076339, 'Feature': 'spruce'},\n",
      "    {'Coefficient': -1.120165434255158, 'Feature': 'state'},\n",
      "    {'Coefficient': -1.1234925640359272, 'Feature': 'mining'},\n",
      "    {'Coefficient': -1.157503272994947, 'Feature': 'tetlin'},\n",
      "    {'Coefficient': -1.1851412753573163, 'Feature': 'heat'},\n",
      "    {'Coefficient': -1.385484764645317, 'Feature': 'response'},\n",
      "    {'Coefficient': -1.4298742564910973, 'Feature': 'coal'},\n",
      "    {'Coefficient': -1.494242668595109, 'Feature': 'bosque'},\n",
      "    {'Coefficient': -1.5299340526431848, 'Feature': 'alaska'}]\n",
      "--------------------------------------------------\n"
     ]
    }
   ],
   "source": [
    "fed_results = get_agency_stats(flat,'federal')\n",
    "pretty_print_results(fed_results)"
   ]
  },
  {
   "cell_type": "markdown",
   "id": "b8ac96a3",
   "metadata": {},
   "source": [
    "### Other Agencies"
   ]
  },
  {
   "cell_type": "code",
   "execution_count": 129,
   "id": "ff4d9028",
   "metadata": {},
   "outputs": [
    {
     "name": "stdout",
     "output_type": "stream",
     "text": [
      "Agency Stats Overview:\n",
      "\n",
      "Metric                    | Value\n",
      "--------------------------------------------------\n",
      "involvement_percentage    | 11.56\n",
      "common_words_present      :\n",
      "[   ('fuel', 1435),\n",
      "    ('private', 1393),\n",
      "    ('fuels', 1144),\n",
      "    ('spread', 1025),\n",
      "    ('suppression', 1009),\n",
      "    ('incident', 899),\n",
      "    ('behavior', 862),\n",
      "    ('season', 825),\n",
      "    ('objectives', 822),\n",
      "    ('barriers', 812)]\n",
      "--------------------------------------------------\n",
      "common_words_absent       :\n",
      "[   ('fuel', 10980),\n",
      "    ('fuels', 9012),\n",
      "    ('spread', 8048),\n",
      "    ('private', 7933),\n",
      "    ('behavior', 7710),\n",
      "    ('season', 7674),\n",
      "    ('time', 6727),\n",
      "    ('conditions', 6473),\n",
      "    ('incident', 6471),\n",
      "    ('barriers', 6288)]\n",
      "--------------------------------------------------\n",
      "relative_freq_present     :\n",
      "{   'barriers': 0.07940543712106396,\n",
      "    'behavior': 0.08429493448073538,\n",
      "    'fuel': 0.14032857422256992,\n",
      "    'fuels': 0.11187169958928223,\n",
      "    'incident': 0.08791316252689224,\n",
      "    'objectives': 0.08038333659299823,\n",
      "    'private': 0.13622139644044592,\n",
      "    'season': 0.08067670643457853,\n",
      "    'spread': 0.10023469587326422,\n",
      "    'suppression': 0.09867005671816938}\n",
      "--------------------------------------------------\n",
      "relative_freq_absent      :\n",
      "{   'barriers': 0.08132857364581716,\n",
      "    'behavior': 0.09972062703709453,\n",
      "    'conditions': 0.08372135133736872,\n",
      "    'fuel': 0.14201458947695172,\n",
      "    'fuels': 0.11656060841223033,\n",
      "    'incident': 0.08369548347043303,\n",
      "    'private': 0.10260489420042423,\n",
      "    'season': 0.09925500543225206,\n",
      "    'spread': 0.10409229654922655,\n",
      "    'time': 0.08700657043820166}\n",
      "--------------------------------------------------\n",
      "sorted_comparative_freq   :\n",
      "[   ('suppression', 0.09867005671816938),\n",
      "    ('time', -0.08700657043820166),\n",
      "    ('conditions', -0.08372135133736872),\n",
      "    ('objectives', 0.08038333659299823),\n",
      "    ('private', 0.03361650224002169),\n",
      "    ('season', -0.018578298997673534),\n",
      "    ('behavior', -0.015425692556359144),\n",
      "    ('fuels', -0.004688908822948104),\n",
      "    ('incident', 0.004217679056459214),\n",
      "    ('spread', -0.0038576006759623305),\n",
      "    ('barriers', -0.001923136524753205),\n",
      "    ('fuel', -0.0016860152543818063)]\n",
      "--------------------------------------------------\n",
      "accuracy                  | 0.89\n",
      "precision                 | 0.75\n",
      "recall                    | 0.02\n",
      "f1                        | 0.03\n",
      "positive                  :\n",
      "[   {'Coefficient': 1.9193961648180637, 'Feature': 'jurisdictions'},\n",
      "    {'Coefficient': 1.8938904812422424, 'Feature': 'unified'},\n",
      "    {'Coefficient': 1.8679174714072977, 'Feature': 'military'},\n",
      "    {'Coefficient': 1.7725204067074751, 'Feature': 'patrol'},\n",
      "    {'Coefficient': 1.7516029873843255, 'Feature': 'structures'},\n",
      "    {'Coefficient': 1.556692642065737, 'Feature': 'county'},\n",
      "    {'Coefficient': 1.458378942154343, 'Feature': 'presently'},\n",
      "    {'Coefficient': 1.431941430048999, 'Feature': 'homes'},\n",
      "    {'Coefficient': 1.4178791423749895, 'Feature': 'agencies'},\n",
      "    {'Coefficient': 1.4101859993829196, 'Feature': 'utility'}]\n",
      "--------------------------------------------------\n",
      "negative                  :\n",
      "[   {'Coefficient': -1.328250251292416, 'Feature': 'old'},\n",
      "    {'Coefficient': -1.3620843937042935, 'Feature': 'smoke'},\n",
      "    {'Coefficient': -1.3915107929859787, 'Feature': 'trails'},\n",
      "    {'Coefficient': -1.3946782006845415, 'Feature': 'single'},\n",
      "    {'Coefficient': -1.3979444690438914, 'Feature': 'protection'},\n",
      "    {'Coefficient': -1.431207914498784, 'Feature': 'remote'},\n",
      "    {'Coefficient': -1.454447012864374, 'Feature': 'mile'},\n",
      "    {'Coefficient': -1.5356169273838036, 'Feature': 'trail'},\n",
      "    {'Coefficient': -1.7628808459405048, 'Feature': 'wilderness'},\n",
      "    {'Coefficient': -1.7836135700861793, 'Feature': 'would'}]\n",
      "--------------------------------------------------\n"
     ]
    }
   ],
   "source": [
    "other_results = get_agency_stats(flat,'other')\n",
    "pretty_print_results(other_results)"
   ]
  },
  {
   "cell_type": "markdown",
   "id": "37423f99",
   "metadata": {},
   "source": [
    "# Acreage and Text"
   ]
  },
  {
   "cell_type": "markdown",
   "id": "f0d3e7bc",
   "metadata": {},
   "source": [
    "## Overview"
   ]
  },
  {
   "cell_type": "markdown",
   "id": "52b657c5",
   "metadata": {},
   "source": [
    "### Distribution"
   ]
  },
  {
   "cell_type": "code",
   "execution_count": 130,
   "id": "ea601c4f",
   "metadata": {},
   "outputs": [
    {
     "data": {
      "text/plain": [
       "Text(0.5, 1.0, 'Distribution of Acreage')"
      ]
     },
     "execution_count": 130,
     "metadata": {},
     "output_type": "execute_result"
    },
    {
     "data": {
      "image/png": "[encoded data removed]",
      "text/plain": [
       "<Figure size 432x288 with 1 Axes>"
      ]
     },
     "metadata": {
      "needs_background": "light"
     },
     "output_type": "display_data"
    }
   ],
   "source": [
    "data['acreage'].hist(bins=5)\n",
    "\n",
    "# add labels and title\n",
    "plt.xlabel('Age')\n",
    "plt.ylabel('Frequency')\n",
    "plt.title('Distribution of Acreage')"
   ]
  },
  {
   "cell_type": "code",
   "execution_count": 96,
   "id": "2239b1e0",
   "metadata": {},
   "outputs": [
    {
     "data": {
      "text/plain": [
       "{'25th percentile': 28460.0,\n",
       " '50th percentile': 99428.0,\n",
       " '75th percentile': 531325.0,\n",
       " '90th percentile': 1347644.0,\n",
       " '95th percentile': 2358084.0}"
      ]
     },
     "execution_count": 96,
     "metadata": {},
     "output_type": "execute_result"
    }
   ],
   "source": [
    "percentiles = [25, 50, 75, 90, 95]\n",
    "percentile_values = np.percentile(data['acreage'].dropna(), percentiles)\n",
    "\n",
    "# Display the calculated percentiles\n",
    "percentile_dict = {f\"{p}th percentile\": value for p, value in zip(percentiles, percentile_values)}\n",
    "percentile_dict"
   ]
  },
  {
   "cell_type": "markdown",
   "id": "780bcaf5",
   "metadata": {},
   "source": [
    "### PCA"
   ]
  },
  {
   "cell_type": "code",
   "execution_count": 132,
   "id": "9409db29",
   "metadata": {},
   "outputs": [
    {
     "data": {
      "image/png": "[encoded data removed]",
      "text/plain": [
       "<Figure size 720x432 with 1 Axes>"
      ]
     },
     "metadata": {
      "needs_background": "light"
     },
     "output_type": "display_data"
    }
   ],
   "source": [
    "from sklearn.preprocessing import StandardScaler\n",
    "from sklearn.decomposition import PCA\n",
    "tfidf_matrix = vectorizer.fit_transform(data['combined_text'].fillna(''))\n",
    "\n",
    "pca = PCA(n_components=1)\n",
    "tfidf_pca = pca.fit_transform(tfidf_matrix.toarray())\n",
    "\n",
    "# Standardize acreage for better visualization\n",
    "scaler = StandardScaler()\n",
    "acreage_scaled = scaler.fit_transform(data[['acreage']])\n",
    "\n",
    "plt.figure(figsize=(10, 6))\n",
    "plt.scatter(tfidf_pca, acreage_scaled, alpha=0.5)\n",
    "plt.xlabel('First Principal Component of Text Features')\n",
    "plt.ylabel('Standardized Acreage')\n",
    "plt.title('Relationship between Text Complexity and Fire Acreage')\n",
    "plt.show()"
   ]
  },
  {
   "cell_type": "markdown",
   "id": "e24774c4",
   "metadata": {},
   "source": [
    "## Analysis"
   ]
  },
  {
   "cell_type": "code",
   "execution_count": 133,
   "id": "f650ae50",
   "metadata": {},
   "outputs": [],
   "source": [
    "percentile_thresholds = np.percentile(data['acreage'], [25, 50, 75])\n",
    "firebins = [0] + list(percentile_thresholds) + [data['acreage'].max()]\n",
    "size_labels = ['very_small', 'small', 'medium', 'large']\n",
    "\n",
    "data['size_cat'] = pd.cut(data['acreage'], bins=firebins, labels=size_labels, include_lowest=True)\n"
   ]
  },
  {
   "cell_type": "markdown",
   "id": "d57d9e2d",
   "metadata": {},
   "source": [
    "### Suppression & Containment"
   ]
  },
  {
   "cell_type": "code",
   "execution_count": 134,
   "id": "8069b523",
   "metadata": {},
   "outputs": [],
   "source": [
    "data['mentions_suppression'] = data['combined_text'].str.contains('suppression', case=False, na=False).astype(int)\n",
    "data['mentions_containment'] = data['combined_text'].str.contains('containment', case=False, na=False).astype(int)"
   ]
  },
  {
   "cell_type": "code",
   "execution_count": 135,
   "id": "c7c5da9a",
   "metadata": {},
   "outputs": [],
   "source": [
    "token_presence_by_size = data.groupby('size_cat')[['mentions_suppression', 'mentions_containment']].mean()"
   ]
  },
  {
   "cell_type": "code",
   "execution_count": 136,
   "id": "5c239aad",
   "metadata": {},
   "outputs": [
    {
     "data": {
      "image/png": "[encoded data removed]",
      "text/plain": [
       "<Figure size 720x432 with 1 Axes>"
      ]
     },
     "metadata": {
      "needs_background": "light"
     },
     "output_type": "display_data"
    }
   ],
   "source": [
    "token_presence_by_size.plot(kind='bar', figsize=(10, 6), title=\"Token Presence by Fire Size Category\")\n",
    "plt.xlabel('Fire Size Category')\n",
    "plt.ylabel('Frequency of Mentions')\n",
    "plt.xticks(rotation=45)\n",
    "plt.show()"
   ]
  },
  {
   "cell_type": "markdown",
   "id": "2960d6a2",
   "metadata": {},
   "source": [
    "### Text Differences By Size"
   ]
  },
  {
   "cell_type": "markdown",
   "id": "c3cb55d0",
   "metadata": {},
   "source": [
    "Overall, the text between acreage bins is incredibly similar. The lowest similarity score is between \"very_small\" and \"large\", and the highest is between \"very_small\" and \"small\". This is intuitive, but not all that much of a difference. Since all cosine similarity scores are close to 1, we can interpret that the language used in reports is quite similar across acreage bins. \n",
    "\n",
    "While the difference is slight, it is worth exploring the difference in language between a \"very_small\" and \"large\" fire report. It is worth noting that scores are symmetric, and no difference would be found between the score of \"very_small\" and \"small\" versus \"small\" and \"very_small\". TO avoid clutter, I did not print reduntant scores."
   ]
  },
  {
   "cell_type": "code",
   "execution_count": 137,
   "id": "2b417a64",
   "metadata": {},
   "outputs": [],
   "source": [
    "def average_tfidf_vectors(tfidf_matrix, indices):\n",
    "    \"\"\"\n",
    "    Computes the average TF-IDF vector for the given indices in the TF-IDF matrix.\n",
    "\n",
    "    Parameters:\n",
    "    tfidf_matrix (numpy.ndarray): The TF-IDF matrix.\n",
    "    indices (list): List of indices to compute the average for.\n",
    "\n",
    "    Returns:\n",
    "    numpy.ndarray: The average TF-IDF vector.\n",
    "    \"\"\"\n",
    "    selected_vectors = tfidf_matrix[indices]\n",
    "    average_vector = np.mean(selected_vectors, axis=0)\n",
    "    return average_vector"
   ]
  },
  {
   "cell_type": "code",
   "execution_count": 138,
   "id": "77181dff",
   "metadata": {},
   "outputs": [
    {
     "name": "stdout",
     "output_type": "stream",
     "text": [
      "Cosine similarity between very_small and small: 0.973437548010656\n",
      "Cosine similarity between very_small and medium: 0.9631495620971391\n",
      "Cosine similarity between very_small and large: 0.8956547732797653\n",
      "Cosine similarity between small and medium: 0.9707572607183746\n",
      "Cosine similarity between small and large: 0.902368391976925\n",
      "Cosine similarity between medium and large: 0.9243229658344538\n"
     ]
    }
   ],
   "source": [
    "warnings.filterwarnings('ignore', category=FutureWarning)\n",
    "tfidf_matrix = vectorizer.fit_transform(data['combined_text'])\n",
    "\n",
    "average_vectors = {}\n",
    "for bin_label in size_labels:\n",
    "    indices = data[data['size_cat'] == bin_label].index\n",
    "    average_vectors[bin_label] = average_tfidf_vectors(tfidf_matrix, indices)\n",
    "    cosine_similarities = {}\n",
    "    \n",
    "for bin_label_1 in size_labels:\n",
    "    for bin_label_2 in size_labels:\n",
    "        if bin_label_1 != bin_label_2:\n",
    "            # Compute cosine similarity between the average vectors of two different bins\n",
    "            sim = cosine_similarity(average_vectors[bin_label_1].reshape(1, -1), average_vectors[bin_label_2].reshape(1, -1))[0][0]\n",
    "            cosine_similarities[(bin_label_1, bin_label_2)] = sim\n",
    "\n",
    "# Print the cosine similarities without reduntant output\n",
    "printed_scores = set()\n",
    "\n",
    "for bins, similarity in cosine_similarities.items():\n",
    "\n",
    "    bins_tuple = tuple(sorted(bins))\n",
    "    if bins_tuple not in printed_scores:\n",
    "        print(f\"Cosine similarity between {bins[0]} and {bins[1]}: {similarity}\")\n",
    "        printed_scores.add(bins_tuple)\n",
    "    \n",
    "warnings.resetwarnings()"
   ]
  },
  {
   "cell_type": "markdown",
   "id": "db9b1159",
   "metadata": {},
   "source": [
    "#### Further Exploration"
   ]
  },
  {
   "cell_type": "code",
   "execution_count": 142,
   "id": "ea256dbd",
   "metadata": {},
   "outputs": [
    {
     "ename": "NameError",
     "evalue": "name 'texts_very_small' is not defined",
     "output_type": "error",
     "traceback": [
      "\u001b[1;31m---------------------------------------------------------------------------\u001b[0m",
      "\u001b[1;31mNameError\u001b[0m                                 Traceback (most recent call last)",
      "Input \u001b[1;32mIn [142]\u001b[0m, in \u001b[0;36m<cell line: 4>\u001b[1;34m()\u001b[0m\n\u001b[0;32m      1\u001b[0m \u001b[38;5;28;01mfrom\u001b[39;00m \u001b[38;5;21;01mscipy\u001b[39;00m\u001b[38;5;21;01m.\u001b[39;00m\u001b[38;5;21;01mstats\u001b[39;00m \u001b[38;5;28;01mimport\u001b[39;00m chi2_contingency\n\u001b[0;32m      3\u001b[0m count_vectorizer \u001b[38;5;241m=\u001b[39m CountVectorizer()\n\u001b[1;32m----> 4\u001b[0m texts \u001b[38;5;241m=\u001b[39m \u001b[43mtexts_very_small\u001b[49m \u001b[38;5;241m+\u001b[39m texts_large  \u001b[38;5;66;03m# Combine for fitting\u001b[39;00m\n\u001b[0;32m      5\u001b[0m count_vectorizer\u001b[38;5;241m.\u001b[39mfit(texts)\n\u001b[0;32m      7\u001b[0m \u001b[38;5;66;03m# Transform texts to term frequency vectors\u001b[39;00m\n",
      "\u001b[1;31mNameError\u001b[0m: name 'texts_very_small' is not defined"
     ]
    }
   ],
   "source": [
    "from scipy.stats import chi2_contingency\n",
    "\n",
    "count_vectorizer = CountVectorizer()\n",
    "texts = texts_very_small + texts_large  # Combine for fitting\n",
    "count_vectorizer.fit(texts)\n",
    "\n",
    "# Transform texts to term frequency vectors\n",
    "counts_very_small = count_vectorizer.transform(texts_very_small).toarray().sum(axis=0)\n",
    "counts_large = count_vectorizer.transform(texts_large).toarray().sum(axis=0)\n",
    "\n",
    "# Create a contingency table\n",
    "contingency_table = np.array([counts_very_small, counts_large])\n",
    "\n",
    "# Perform chi-squared test\n",
    "chi2_statistic, p_value, _, _ = chi2_contingency(contingency_table)\n",
    "\n",
    "# Check for significant differences\n",
    "if p_value < significance_level:\n",
    "    print(\"Significant differences in term frequencies between very small and large fires.\")\n",
    "else:\n",
    "    print(\"No significant difference in term frequencies.\")\n"
   ]
  },
  {
   "cell_type": "code",
   "execution_count": 140,
   "id": "aa681f2c",
   "metadata": {
    "scrolled": true
   },
   "outputs": [
    {
     "ename": "NameError",
     "evalue": "name 'feature_freq_very_small' is not defined",
     "output_type": "error",
     "traceback": [
      "\u001b[1;31m---------------------------------------------------------------------------\u001b[0m",
      "\u001b[1;31mNameError\u001b[0m                                 Traceback (most recent call last)",
      "Input \u001b[1;32mIn [140]\u001b[0m, in \u001b[0;36m<cell line: 1>\u001b[1;34m()\u001b[0m\n\u001b[1;32m----> 1\u001b[0m freq_diff_very_small_to_large \u001b[38;5;241m=\u001b[39m \u001b[43mfeature_freq_very_small\u001b[49m \u001b[38;5;241m-\u001b[39m feature_freq_large\n\u001b[0;32m      2\u001b[0m freq_diff_large_to_very_small \u001b[38;5;241m=\u001b[39m feature_freq_large \u001b[38;5;241m-\u001b[39m feature_freq_very_small\n\u001b[0;32m      4\u001b[0m \u001b[38;5;66;03m# Sort the indices for \"very_small\" and \"large\" based on the frequency differences\u001b[39;00m\n",
      "\u001b[1;31mNameError\u001b[0m: name 'feature_freq_very_small' is not defined"
     ]
    }
   ],
   "source": [
    "freq_diff_very_small_to_large = feature_freq_very_small - feature_freq_large\n",
    "freq_diff_large_to_very_small = feature_freq_large - feature_freq_very_small\n",
    "\n",
    "# Sort the indices for \"very_small\" and \"large\" based on the frequency differences\n",
    "sorted_indices_very_small = np.argsort(freq_diff_very_small_to_large)[::-1]\n",
    "sorted_indices_large = np.argsort(freq_diff_large_to_very_small)[::-1]\n",
    "\n",
    "# Print the top 10 terms for \"very_small\"\n",
    "print(\"Top 10 terms more characteristic of 'very_small' fires:\")\n",
    "for i in sorted_indices_very_small[:10]:\n",
    "    print(f\"{feature_names[i]}: {freq_diff_very_small_to_large[i]}\")\n",
    "\n",
    "# Print the top 10 terms for \"large\"\n",
    "print(\"\\nTop 10 terms more characteristic of 'large' fires:\")\n",
    "for i in sorted_indices_large[:10]:\n",
    "    print(f\"{feature_names[i]}: {freq_diff_large_to_very_small[i]}\")"
   ]
  },
  {
   "cell_type": "markdown",
   "id": "3ee1a345",
   "metadata": {},
   "source": [
    "### Predict Large or Very Small"
   ]
  },
  {
   "cell_type": "code",
   "execution_count": 141,
   "id": "589b3d4f",
   "metadata": {},
   "outputs": [],
   "source": [
    "def predict_fire_size_and_find_terms(df, size_categories):\n",
    "    \"\"\"\n",
    "    Predicts fire size category ('very_small' vs 'large') and identifies the most influential terms.\n",
    "    \n",
    "    Parameters:\n",
    "    - df: DataFrame containing the fire reports and their size categories.\n",
    "    - size_categories: List of size categories to include in the analysis (e.g., ['very_small', 'large']).\n",
    "    \"\"\"\n",
    "    \n",
    "    # Filter data for the specified size categories\n",
    "    filtered_data = df[df['size_cat'].isin(size_categories)].copy()\n",
    "    \n",
    "    # Create a binary target variable\n",
    "    filtered_data['target'] = (filtered_data['size_cat'] == size_categories[1]).astype(int)\n",
    "    \n",
    "    # Extract texts and labels\n",
    "    texts = filtered_data['combined_text'].tolist()\n",
    "    labels = filtered_data['target'].values\n",
    "    \n",
    "    # Vectorize texts\n",
    "    vectorizer = TfidfVectorizer(stop_words='english')\n",
    "    X = vectorizer.fit_transform(texts)\n",
    "    \n",
    "    # Split data into training and testing sets\n",
    "    X_train, X_test, y_train, y_test = train_test_split(X, labels, test_size=0.2, random_state=2)\n",
    "    \n",
    "    # Initialize and fit classifier\n",
    "    classifier = LogisticRegression(random_state=2)\n",
    "    classifier.fit(X_train, y_train)\n",
    "    \n",
    "    # Predictions and evaluation\n",
    "    y_pred = classifier.predict(X_test)\n",
    "    accuracy = accuracy_score(y_test, y_pred)\n",
    "    print(f\"Accuracy: {accuracy}\")\n",
    "    print(classification_report(y_test, y_pred, target_names=size_categories))\n",
    "    \n",
    "    # Get feature names and coefficients from the model\n",
    "    feature_names = vectorizer.get_feature_names_out()\n",
    "    coefficients = classifier.coef_[0]\n",
    "    \n",
    "    # Match coefficients with feature names and sort\n",
    "    feature_importance = sorted(zip(coefficients, feature_names), reverse=True)\n",
    "    \n",
    "    # Print the most influential terms for the first category in size_categories\n",
    "    print(f\"Most influential terms for '{size_categories[1]}' fires:\")\n",
    "    for coef, feature in feature_importance[:15]:\n",
    "        print(f\"{feature}: {coef}\")\n",
    "    \n",
    "    # Print the most influential terms for the second category in size_categories\n",
    "    print(f\"\\nMost influential terms for '{size_categories[0]}' fires:\")\n",
    "    for coef, feature in reversed(feature_importance[-15:]):\n",
    "        print(f\"{feature}: {coef}\")"
   ]
  },
  {
   "cell_type": "code",
   "execution_count": 143,
   "id": "7dc39989",
   "metadata": {
    "scrolled": true
   },
   "outputs": [
    {
     "name": "stdout",
     "output_type": "stream",
     "text": [
      "Accuracy: 0.8466579292267365\n",
      "              precision    recall  f1-score   support\n",
      "\n",
      "  very_small       0.79      0.93      0.85       368\n",
      "       large       0.92      0.77      0.84       395\n",
      "\n",
      "    accuracy                           0.85       763\n",
      "   macro avg       0.85      0.85      0.85       763\n",
      "weighted avg       0.86      0.85      0.85       763\n",
      "\n",
      "Most influential terms for 'large' fires:\n",
      "protection: 3.718108998836952\n",
      "native: 3.151282345500655\n",
      "alaska: 2.5211122073163783\n",
      "outfitter: 2.355129607497298\n",
      "point: 2.338079766392345\n",
      "salmon: 2.1463207244715155\n",
      "scars: 2.0169853158547113\n",
      "season: 1.99606026215945\n",
      "spruce: 1.776826816362861\n",
      "monitoring: 1.6525045519308041\n",
      "bitterroot: 1.6234002685739402\n",
      "trail: 1.6047872074392517\n",
      "trinity: 1.601655020767839\n",
      "outfitters: 1.582530492697004\n",
      "cabin: 1.5252289859003731\n",
      "\n",
      "Most influential terms for 'very_small' fires:\n",
      "roads: -3.297736780144408\n",
      "private: -2.6986444813720416\n",
      "monsoonal: -2.1664427122274987\n",
      "monsoon: -1.9253556230045052\n",
      "sage: -1.613087884017363\n",
      "terrain: -1.6029506379321672\n",
      "cultural: -1.592721482031907\n",
      "steep: -1.4612315074226485\n",
      "containment: -1.4528722678274257\n",
      "grazing: -1.447048598903223\n",
      "moderately: -1.4374902510580094\n",
      "media: -1.2481198323077345\n",
      "wui: -1.2196463419367993\n",
      "grouse: -1.2030700790517646\n",
      "patrol: -1.1991450292915369\n"
     ]
    }
   ],
   "source": [
    "predict_fire_size_and_find_terms(data, ['very_small', 'large'])"
   ]
  },
  {
   "cell_type": "markdown",
   "id": "f608b405",
   "metadata": {},
   "source": [
    "### Predict Large or Small"
   ]
  },
  {
   "cell_type": "code",
   "execution_count": 149,
   "id": "52b593d8",
   "metadata": {},
   "outputs": [
    {
     "name": "stdout",
     "output_type": "stream",
     "text": [
      "Accuracy: 0.8430851063829787\n",
      "              precision    recall  f1-score   support\n",
      "\n",
      "       small       0.81      0.87      0.84       359\n",
      "       large       0.88      0.81      0.84       393\n",
      "\n",
      "    accuracy                           0.84       752\n",
      "   macro avg       0.84      0.84      0.84       752\n",
      "weighted avg       0.85      0.84      0.84       752\n",
      "\n",
      "Most influential terms for 'large' fires:\n",
      "protection: 3.3486593113577188\n",
      "native: 3.255393931076179\n",
      "alaska: 2.542214235393439\n",
      "outfitter: 2.2671076769367904\n",
      "scars: 2.2241207585323233\n",
      "bitterroot: 2.220027737634488\n",
      "point: 2.041228645228332\n",
      "yosemite: 1.933195969016072\n",
      "salmon: 1.7521701558317717\n",
      "fork: 1.5871055103941114\n",
      "moderated: 1.5773152781133002\n",
      "outfitters: 1.5754039637398563\n",
      "trinity: 1.5368515559852474\n",
      "season: 1.5312395028008863\n",
      "allotments: 1.4891486376415697\n",
      "\n",
      "Most influential terms for 'small' fires:\n",
      "monsoon: -2.9628664626175025\n",
      "monsoonal: -2.728054225498229\n",
      "roads: -2.240626140155748\n",
      "habitat: -2.229571149191678\n",
      "canyon: -1.8853943837086204\n",
      "lava: -1.8123176324316104\n",
      "sage: -1.8063921167089576\n",
      "cultural: -1.7875469474593626\n",
      "private: -1.7095599664155496\n",
      "moisture: -1.6511867590254232\n",
      "visible: -1.6091867367740234\n",
      "timber: -1.5873204534862175\n",
      "terrain: -1.4382199152440667\n",
      "tribal: -1.2604474395780605\n",
      "resistance: -1.2258730850651103\n"
     ]
    }
   ],
   "source": [
    "predict_fire_size_and_find_terms(data, ['small', 'large'])"
   ]
  },
  {
   "cell_type": "markdown",
   "id": "50ce8839",
   "metadata": {},
   "source": [
    "### Predict Large or Medium"
   ]
  },
  {
   "cell_type": "code",
   "execution_count": 145,
   "id": "57105967",
   "metadata": {},
   "outputs": [
    {
     "name": "stdout",
     "output_type": "stream",
     "text": [
      "Accuracy: 0.8005215123859192\n",
      "              precision    recall  f1-score   support\n",
      "\n",
      "      medium       0.76      0.89      0.82       389\n",
      "       large       0.86      0.71      0.78       378\n",
      "\n",
      "    accuracy                           0.80       767\n",
      "   macro avg       0.81      0.80      0.80       767\n",
      "weighted avg       0.81      0.80      0.80       767\n",
      "\n",
      "Most influential terms for 'large' fires:\n",
      "protection: 3.0784352298288997\n",
      "native: 2.9333441173100554\n",
      "alaska: 2.5923209252123782\n",
      "bitterroot: 2.406094086311893\n",
      "middle: 1.8154937748415834\n",
      "outfitter: 1.727971967238628\n",
      "lolo: 1.5686339019431514\n",
      "moose: 1.5406290605055906\n",
      "remote: 1.5271559957743355\n",
      "trinity: 1.5082599564029624\n",
      "continues: 1.4285433676900225\n",
      "monitor: 1.4044070170451128\n",
      "scars: 1.3975491799478612\n",
      "allotments: 1.3553258562644408\n",
      "gila: 1.3492525612254784\n",
      "\n",
      "Most influential terms for 'medium' fires:\n",
      "sage: -2.514131280014576\n",
      "private: -1.951745952465015\n",
      "grouse: -1.9416989478755664\n",
      "habitat: -1.881710890300471\n",
      "gas: -1.3599736300321958\n",
      "steep: -1.3438482946259886\n",
      "rated: -1.3334825420235392\n",
      "difficult: -1.2416273224853707\n",
      "golden: -1.2354938331910776\n",
      "highly: -1.2266925836191078\n",
      "roads: -1.190398479590085\n",
      "watershed: -1.1850448448186093\n",
      "tribal: -1.1819120595553376\n",
      "monsoon: -1.165159904876063\n",
      "town: -1.1471369591073293\n"
     ]
    }
   ],
   "source": [
    "predict_fire_size_and_find_terms(data, ['medium', 'large'])"
   ]
  },
  {
   "cell_type": "markdown",
   "id": "096e0db2",
   "metadata": {},
   "source": [
    "### Predict Medium or Small"
   ]
  },
  {
   "cell_type": "code",
   "execution_count": 146,
   "id": "ac2dbc70",
   "metadata": {},
   "outputs": [
    {
     "name": "stdout",
     "output_type": "stream",
     "text": [
      "Accuracy: 0.7207792207792207\n",
      "              precision    recall  f1-score   support\n",
      "\n",
      "       small       0.75      0.67      0.71       392\n",
      "      medium       0.69      0.77      0.73       378\n",
      "\n",
      "    accuracy                           0.72       770\n",
      "   macro avg       0.72      0.72      0.72       770\n",
      "weighted avg       0.72      0.72      0.72       770\n",
      "\n",
      "Most influential terms for 'medium' fires:\n",
      "structures: 1.8029774964464742\n",
      "outfitter: 1.4013324579405735\n",
      "wilderness: 1.3848256719031231\n",
      "popular: 1.3834950937483137\n",
      "hwy: 1.2800921336202364\n",
      "large: 1.2727776517175557\n",
      "portion: 1.2057656666701466\n",
      "salmon: 1.1936643535227822\n",
      "golden: 1.1930413871616343\n",
      "elevation: 1.176777747368168\n",
      "fork: 1.152127457586857\n",
      "dead: 1.0954944759921492\n",
      "developed: 1.0937704896880258\n",
      "manage: 1.0692428663701257\n",
      "moderated: 1.0433382590384002\n",
      "\n",
      "Most influential terms for 'small' fires:\n",
      "lava: -2.3026879534198335\n",
      "monsoonal: -2.152334351153151\n",
      "monsoon: -1.9081855005150603\n",
      "canyon: -1.4594432892082445\n",
      "roads: -1.4053123239376595\n",
      "duration: -1.187605108677364\n",
      "immediate: -1.1230332316613931\n",
      "grand: -1.1012774306852788\n",
      "timber: -1.0680461360762785\n",
      "brush: -1.0662523905676733\n",
      "measures: -1.0379099127464129\n",
      "wui: -1.03445064041993\n",
      "forward: -1.0090957392052553\n",
      "severity: -0.9986753578792683\n",
      "mso: -0.9962817173890627\n"
     ]
    }
   ],
   "source": [
    "predict_fire_size_and_find_terms(data, ['small', 'medium'])"
   ]
  },
  {
   "cell_type": "markdown",
   "id": "1e6c810d",
   "metadata": {},
   "source": [
    "### Predict Medium or Very Small"
   ]
  },
  {
   "cell_type": "code",
   "execution_count": 147,
   "id": "2b4a0fd0",
   "metadata": {},
   "outputs": [
    {
     "name": "stdout",
     "output_type": "stream",
     "text": [
      "Accuracy: 0.7084398976982097\n",
      "              precision    recall  f1-score   support\n",
      "\n",
      "  very_small       0.67      0.76      0.71       375\n",
      "      medium       0.75      0.66      0.70       407\n",
      "\n",
      "    accuracy                           0.71       782\n",
      "   macro avg       0.71      0.71      0.71       782\n",
      "weighted avg       0.71      0.71      0.71       782\n",
      "\n",
      "Most influential terms for 'medium' fires:\n",
      "barriers: 1.703868883556061\n",
      "habitat: 1.5967717136602435\n",
      "tree: 1.5905955104866394\n",
      "closures: 1.4359067198690239\n",
      "trout: 1.4349987489932936\n",
      "salmon: 1.4305200087249743\n",
      "sage: 1.4222343133445257\n",
      "elevation: 1.4107331370109928\n",
      "oil: 1.3252751696556393\n",
      "outfitter: 1.2662074985574165\n",
      "meadows: 1.2327019496143599\n",
      "golden: 1.1895311063038043\n",
      "dead: 1.170143197947915\n",
      "entirely: 1.1599326967099106\n",
      "wx: 1.1553343465305466\n",
      "\n",
      "Most influential terms for 'very_small' fires:\n",
      "roads: -2.4746199581794\n",
      "monsoonal: -2.0417899867843734\n",
      "lines: -1.794128562535764\n",
      "easily: -1.4681849487844874\n",
      "power: -1.4225037897672115\n",
      "media: -1.3181108493103106\n",
      "interstate: -1.263463242348463\n",
      "objective: -1.2541786399333623\n",
      "stop: -1.231890191653207\n",
      "existing: -1.2158934857485657\n",
      "progress: -1.2135590783064734\n",
      "unit: -1.1742528203593168\n",
      "reservation: -1.163504933689577\n",
      "mountain: -1.145851881336524\n",
      "moderately: -1.1429132005672844\n"
     ]
    }
   ],
   "source": [
    "predict_fire_size_and_find_terms(data, ['very_small', 'medium'])"
   ]
  },
  {
   "cell_type": "markdown",
   "id": "51e3776b",
   "metadata": {},
   "source": [
    "### Predict Small or Very Small "
   ]
  },
  {
   "cell_type": "code",
   "execution_count": 97,
   "id": "15e9d2e5",
   "metadata": {},
   "outputs": [
    {
     "ename": "NameError",
     "evalue": "name 'predict_fire_size_and_find_terms' is not defined",
     "output_type": "error",
     "traceback": [
      "\u001b[1;31m---------------------------------------------------------------------------\u001b[0m",
      "\u001b[1;31mNameError\u001b[0m                                 Traceback (most recent call last)",
      "Input \u001b[1;32mIn [97]\u001b[0m, in \u001b[0;36m<cell line: 1>\u001b[1;34m()\u001b[0m\n\u001b[1;32m----> 1\u001b[0m \u001b[43mpredict_fire_size_and_find_terms\u001b[49m(data, [\u001b[38;5;124m'\u001b[39m\u001b[38;5;124msmall\u001b[39m\u001b[38;5;124m'\u001b[39m, \u001b[38;5;124m'\u001b[39m\u001b[38;5;124mvery_small\u001b[39m\u001b[38;5;124m'\u001b[39m])\n",
      "\u001b[1;31mNameError\u001b[0m: name 'predict_fire_size_and_find_terms' is not defined"
     ]
    }
   ],
   "source": [
    "predict_fire_size_and_find_terms(data, ['small', 'very_small'])"
   ]
  },
  {
   "cell_type": "markdown",
   "id": "199e89b6",
   "metadata": {},
   "source": [
    "### Predict From All"
   ]
  },
  {
   "cell_type": "code",
   "execution_count": null,
   "id": "1cccee0b",
   "metadata": {},
   "outputs": [],
   "source": []
  },
  {
   "cell_type": "markdown",
   "id": "24faf653",
   "metadata": {},
   "source": [
    "# Specific Questions"
   ]
  },
  {
   "cell_type": "code",
   "execution_count": null,
   "id": "94bf944e",
   "metadata": {},
   "outputs": [],
   "source": []
  },
  {
   "cell_type": "code",
   "execution_count": null,
   "id": "37c9f1ab",
   "metadata": {},
   "outputs": [],
   "source": [
    "lem_data = data.copy()"
   ]
  },
  {
   "cell_type": "code",
   "execution_count": null,
   "id": "f2fe4d14",
   "metadata": {
    "scrolled": true
   },
   "outputs": [],
   "source": [
    "from nltk.stem import WordNetLemmatizer\n",
    "from nltk.corpus import wordnet\n",
    "\n",
    "\n",
    "# Initialize the WordNet lemmatizer\n",
    "lemmatizer = WordNetLemmatizer()\n",
    "\n",
    "# Function to convert NLTK's POS tags to WordNet's POS tags\n",
    "def nltk_to_wordnet_pos(nltk_tag):\n",
    "    if nltk_tag.startswith('J'):\n",
    "        return wordnet.ADJ\n",
    "    elif nltk_tag.startswith('V'):\n",
    "        return wordnet.VERB\n",
    "    elif nltk_tag.startswith('N'):\n",
    "        return wordnet.NOUN\n",
    "    elif nltk_tag.startswith('R'):\n",
    "        return wordnet.ADV\n",
    "    else:\n",
    "        return None\n",
    "\n",
    "# Function to lemmatize a single token\n",
    "def lemmatize_token(token, pos_tag):\n",
    "    wordnet_pos = nltk_to_wordnet_pos(pos_tag)\n",
    "    if wordnet_pos is not None:\n",
    "        return lemmatizer.lemmatize(token, pos=wordnet_pos)\n",
    "    else:\n",
    "        return lemmatizer.lemmatize(token)\n",
    "\n",
    "# Function to lemmatize text in a column\n",
    "def lemmatize_text_column(text_column):\n",
    "    lemmatized_text = []\n",
    "    for text in text_column:\n",
    "        tokens = nltk.word_tokenize(text)\n",
    "        pos_tags = nltk.pos_tag(tokens)\n",
    "        lemmatized_tokens = [lemmatize_token(token, pos_tag) for token, pos_tag in pos_tags]\n",
    "        lemmatized_text.append(' '.join(lemmatized_tokens))\n",
    "    return lemmatized_text\n",
    "\n",
    "def average_tfidf_vectors(matrix, indices):\n",
    "    # Extract the rows corresponding to the indices for the bin\n",
    "    bin_matrix = matrix[indices]\n",
    "    # Calculate the mean vector (axis=0 computes the mean of each column, resulting in a mean vector)\n",
    "    average_vector = np.mean(bin_matrix, axis=0)\n",
    "    return average_vector\n",
    "\n",
    "\n",
    "\n",
    "# Lemmatize the text column\n",
    "lem_data['lemmatized_text'] = lemmatize_text_column(lem_data['combined_text'])\n"
   ]
  },
  {
   "cell_type": "code",
   "execution_count": null,
   "id": "4b961a92",
   "metadata": {},
   "outputs": [],
   "source": [
    "lem_text = lem_data['lemmatized_text']\n",
    "lem_labels = lem_data['rrf_rr_desc']\n",
    "\n",
    "lem_plr_model, lem_lrx_train, lem_lrx_test,\\\n",
    "lem_lry_train, lem_lry_test = train_linear_reg(lem_text,lem_labels,'l2',1,1000)"
   ]
  },
  {
   "cell_type": "code",
   "execution_count": null,
   "id": "7c894bc9",
   "metadata": {},
   "outputs": [],
   "source": [
    "lem_lry_pred = lem_plr_model.predict(lem_lrx_test)\n",
    "lem_plr_score = accuracy_score(lem_lry_test, lem_lry_pred)"
   ]
  },
  {
   "cell_type": "code",
   "execution_count": null,
   "id": "298149ad",
   "metadata": {},
   "outputs": [],
   "source": [
    "lem_plr_score"
   ]
  },
  {
   "cell_type": "code",
   "execution_count": null,
   "id": "efe2aaa2",
   "metadata": {},
   "outputs": [],
   "source": [
    "plr_score"
   ]
  },
  {
   "cell_type": "code",
   "execution_count": null,
   "id": "f785a3f6",
   "metadata": {},
   "outputs": [],
   "source": []
  },
  {
   "cell_type": "code",
   "execution_count": null,
   "id": "67d18952",
   "metadata": {},
   "outputs": [],
   "source": []
  },
  {
   "cell_type": "code",
   "execution_count": null,
   "id": "fe1a62dc",
   "metadata": {},
   "outputs": [],
   "source": []
  },
  {
   "cell_type": "code",
   "execution_count": null,
   "id": "84dc353a",
   "metadata": {},
   "outputs": [],
   "source": []
  },
  {
   "cell_type": "code",
   "execution_count": null,
   "id": "1e747e57",
   "metadata": {},
   "outputs": [],
   "source": []
  },
  {
   "cell_type": "code",
   "execution_count": null,
   "id": "067ac00c",
   "metadata": {},
   "outputs": [],
   "source": []
  },
  {
   "cell_type": "code",
   "execution_count": null,
   "id": "bae2344a",
   "metadata": {},
   "outputs": [],
   "source": []
  },
  {
   "cell_type": "code",
   "execution_count": null,
   "id": "d10db6a1",
   "metadata": {},
   "outputs": [],
   "source": []
  },
  {
   "cell_type": "code",
   "execution_count": null,
   "id": "c7c6701f",
   "metadata": {},
   "outputs": [],
   "source": []
  },
  {
   "cell_type": "code",
   "execution_count": null,
   "id": "38046b47",
   "metadata": {},
   "outputs": [],
   "source": []
  },
  {
   "cell_type": "code",
   "execution_count": null,
   "id": "c9584162",
   "metadata": {},
   "outputs": [],
   "source": []
  },
  {
   "cell_type": "code",
   "execution_count": null,
   "id": "6837890d",
   "metadata": {},
   "outputs": [],
   "source": []
  }
 ],
 "metadata": {
  "kernelspec": {
   "display_name": "Python 3 (ipykernel)",
   "language": "python",
   "name": "python3"
  },
  "language_info": {
   "codemirror_mode": {
    "name": "ipython",
    "version": 3
   },
   "file_extension": ".py",
   "mimetype": "text/x-python",
   "name": "python",
   "nbconvert_exporter": "python",
   "pygments_lexer": "ipython3",
   "version": "3.9.12"
  },
  "toc": {
   "base_numbering": 1,
   "nav_menu": {},
   "number_sections": true,
   "sideBar": true,
   "skip_h1_title": false,
   "title_cell": "Table of Contents",
   "title_sidebar": "Contents",
   "toc_cell": false,
   "toc_position": {
    "height": "calc(100% - 180px)",
    "left": "10px",
    "top": "150px",
    "width": "165px"
   },
   "toc_section_display": true,
   "toc_window_display": true
  }
 },
 "nbformat": 4,
 "nbformat_minor": 5
}
