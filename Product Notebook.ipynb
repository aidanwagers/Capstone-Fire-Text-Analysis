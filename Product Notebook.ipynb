{
 "cells": [
  {
   "cell_type": "markdown",
   "id": "6c4c624d",
   "metadata": {},
   "source": [
    "# Table of Contents"
   ]
  },
  {
   "cell_type": "code",
   "execution_count": 1,
   "id": "51dc3619",
   "metadata": {},
   "outputs": [
    {
     "data": {
      "application/javascript": [
       "Jupyter.notebook.execute_cells([0]);\n"
      ],
      "text/plain": [
       "<IPython.core.display.Javascript object>"
      ]
     },
     "metadata": {},
     "output_type": "display_data"
    }
   ],
   "source": [
    "%%javascript\n",
    "Jupyter.notebook.execute_cells([0]);"
   ]
  },
  {
   "cell_type": "markdown",
   "id": "27ed07b6",
   "metadata": {},
   "source": [
    "# Introduction"
   ]
  },
  {
   "cell_type": "code",
   "execution_count": null,
   "id": "aa78906d",
   "metadata": {},
   "outputs": [],
   "source": []
  },
  {
   "cell_type": "markdown",
   "id": "bb2858d7",
   "metadata": {},
   "source": [
    "# Imports"
   ]
  },
  {
   "cell_type": "markdown",
   "id": "f49e44ef",
   "metadata": {},
   "source": [
    "In the below cell I import a variety of python libraries and modules, preparing my notebook for text analysis, natural language processing, machine learning, and more."
   ]
  },
  {
   "cell_type": "code",
   "execution_count": 2,
   "id": "18fcc8ee",
   "metadata": {},
   "outputs": [
    {
     "name": "stderr",
     "output_type": "stream",
     "text": [
      "[nltk_data] Downloading package punkt to\n",
      "[nltk_data]     C:\\Users\\aidan\\AppData\\Roaming\\nltk_data...\n",
      "[nltk_data]   Package punkt is already up-to-date!\n",
      "[nltk_data] Downloading package words to\n",
      "[nltk_data]     C:\\Users\\aidan\\AppData\\Roaming\\nltk_data...\n",
      "[nltk_data]   Package words is already up-to-date!\n"
     ]
    }
   ],
   "source": [
    "import nltk\n",
    "import os\n",
    "nltk.download('punkt')\n",
    "from nltk.corpus import stopwords\n",
    "import numpy as np\n",
    "import sqlite3\n",
    "from collections import Counter, defaultdict\n",
    "from string import punctuation\n",
    "import re\n",
    "import pandas as pd\n",
    "import matplotlib.pyplot as plt\n",
    "from pprint import pprint\n",
    "sw = stopwords.words('english')\n",
    "import janitor\n",
    "import spacy\n",
    "from textblob import TextBlob\n",
    "tb = TextBlob('')\n",
    "from spacytextblob.spacytextblob import SpacyTextBlob\n",
    "nlp = spacy.load('en_core_web_lg')\n",
    "import seaborn as sns\n",
    "import scipy.stats as stats\n",
    "from scipy.stats import kruskal\n",
    "from gensim.models import CoherenceModel\n",
    "from gensim import corpora\n",
    "from gensim.models.ldamodel import LdaModel\n",
    "import ipywidgets as widgets\n",
    "from ipywidgets import Layout\n",
    "from ipywidgets import interact_manual, interactive_output\n",
    "from IPython.display import display, clear_output\n",
    "import pyLDAvis.gensim_models as gensimvis\n",
    "import pyLDAvis\n",
    "import spacy\n",
    "from textblob import TextBlob\n",
    "tb = TextBlob('')\n",
    "from spacytextblob.spacytextblob import SpacyTextBlob\n",
    "from sklearn.feature_extraction.text import TfidfVectorizer\n",
    "from sklearn.model_selection import train_test_split\n",
    "from sklearn.naive_bayes import MultinomialNB\n",
    "from sklearn.metrics import accuracy_score\n",
    "from sklearn.ensemble import RandomForestClassifier\n",
    "from sklearn.neighbors import KNeighborsClassifier\n",
    "from random import randint\n",
    "from sklearn.model_selection import RandomizedSearchCV\n",
    "import winsound\n",
    "from sklearn.model_selection import cross_val_score\n",
    "from sklearn.metrics import classification_report, confusion_matrix\n",
    "from sklearn.linear_model import LogisticRegression\n",
    "from spellchecker import SpellChecker\n",
    "from textblob import TextBlob\n",
    "import eli5\n",
    "from eli5.sklearn import PermutationImportance\n",
    "import warnings\n",
    "from sklearn.model_selection import GridSearchCV\n",
    "from nltk.tokenize import word_tokenize\n",
    "from nltk.probability import FreqDist\n",
    "from nltk.corpus import words\n",
    "from nltk.util import ngrams\n",
    "nltk.download('words')\n",
    "import random\n",
    "from wordcloud import WordCloud\n",
    "import xgboost as xgb\n",
    "import matplotlib.dates as mdates\n",
    "duration = 1000  # milliseconds\n",
    "freq = 440  # Hz\n"
   ]
  },
  {
   "cell_type": "code",
   "execution_count": 3,
   "id": "c5ac98c5",
   "metadata": {},
   "outputs": [
    {
     "name": "stderr",
     "output_type": "stream",
     "text": [
      "[nltk_data] Downloading package punkt to\n",
      "[nltk_data]     C:\\Users\\aidan\\AppData\\Roaming\\nltk_data...\n",
      "[nltk_data]   Package punkt is already up-to-date!\n"
     ]
    }
   ],
   "source": [
    "from oarrCleaning import OARR_Clean_and_Check, cl_names"
   ]
  },
  {
   "cell_type": "code",
   "execution_count": 4,
   "id": "4031c489",
   "metadata": {
    "scrolled": true
   },
   "outputs": [],
   "source": [
    "OARR = pd.read_csv(\"OA_RRA_l2.csv\", encoding='latin-1')"
   ]
  },
  {
   "cell_type": "markdown",
   "id": "5f84cec5",
   "metadata": {},
   "source": [
    "# Basic Cleaning and Prep"
   ]
  },
  {
   "cell_type": "markdown",
   "id": "43c6ff24",
   "metadata": {},
   "source": [
    "In the below cells, I first utilize pyjanitor to clean the column names in the df. I then utilize a custom function that I created to perform the following tasks on the data:\n",
    "\n",
    "- Fix an erroneous entry in the geo_area_name column\n",
    "- Check the geo_area_name column for proper completion\n",
    "- Ensure that each entry has a unique identifier\n",
    "- Check the fire_name column and print any nan values\n",
    "- Other column quality checks (see function file for a full breakdown)"
   ]
  },
  {
   "cell_type": "code",
   "execution_count": 5,
   "id": "4e175807",
   "metadata": {
    "scrolled": true
   },
   "outputs": [],
   "source": [
    "OARR = cl_names(OARR)"
   ]
  },
  {
   "cell_type": "code",
   "execution_count": 6,
   "id": "dbad6caf",
   "metadata": {},
   "outputs": [
    {
     "name": "stdout",
     "output_type": "stream",
     "text": [
      "The row(s) at index Index([3890, 4050, 8616, 16751, 16752, 16753, 16754, 16755, 16756, 16757], dtype='int64') have 'nan' string values in 'fire_name'.\n"
     ]
    }
   ],
   "source": [
    "OARR_Clean_and_Check(OARR)"
   ]
  },
  {
   "cell_type": "markdown",
   "id": "b2d9dbb9",
   "metadata": {},
   "source": [
    "# Process Text"
   ]
  },
  {
   "cell_type": "markdown",
   "id": "f0f2ccd5",
   "metadata": {},
   "source": [
    "In this section of the notebook I use functions I have built to process the text data in the fire reports. Below, I import said functions."
   ]
  },
  {
   "cell_type": "code",
   "execution_count": 7,
   "id": "11f53ca4",
   "metadata": {},
   "outputs": [
    {
     "name": "stderr",
     "output_type": "stream",
     "text": [
      "[nltk_data] Downloading package punkt to\n",
      "[nltk_data]     C:\\Users\\aidan\\AppData\\Roaming\\nltk_data...\n",
      "[nltk_data]   Package punkt is already up-to-date!\n"
     ]
    }
   ],
   "source": [
    "from text_functions import set_columns_to_string, process_text_column, categorize_columns, firestops"
   ]
  },
  {
   "cell_type": "code",
   "execution_count": 8,
   "id": "53f0bba9",
   "metadata": {},
   "outputs": [],
   "source": [
    "OARR = OARR.assign(wfdss_risk=(OARR['wfdss_id'].astype(str) + \" - \" + OARR['rrf_rr_desc']))\n",
    "column_order = ['wfdss_risk'] + [col for col in OARR.columns if col != 'wfdss_risk']\n",
    "OARR = OARR[column_order]\n",
    "\n",
    "if 'unnamed_0' in OARR.columns:\n",
    "    OARR = OARR.drop('unnamed_0', axis=1)"
   ]
  },
  {
   "cell_type": "code",
   "execution_count": 9,
   "id": "d3282091",
   "metadata": {},
   "outputs": [],
   "source": [
    "notes = []\n",
    "for column in OARR.columns:\n",
    "    if 'notes' in column:\n",
    "        notes.append(column) \n",
    "        \n",
    "descs = []\n",
    "for column in OARR.columns:\n",
    "    if 'desc' in column:\n",
    "        descs.append(column)\n",
    "        \n",
    "ids =[]\n",
    "for column in OARR.columns:\n",
    "    if '_id' in column:\n",
    "        ids.append(column)\n",
    "        \n",
    "ctk = ids + notes + descs\n",
    "\n",
    "x_notes = notes + ['combined_text']\n",
    "\n",
    "text_risk_id = OARR[ctk]"
   ]
  },
  {
   "cell_type": "code",
   "execution_count": 10,
   "id": "42006500",
   "metadata": {},
   "outputs": [],
   "source": [
    "unique_sentence_dict = {col: {} for col in notes}\n",
    "combined_text = []"
   ]
  },
  {
   "cell_type": "code",
   "execution_count": 11,
   "id": "b7745452",
   "metadata": {
    "scrolled": true
   },
   "outputs": [],
   "source": [
    "grouped_df = OARR.groupby('wfdss_risk')\n",
    "for fire_id, group_df in grouped_df:\n",
    "    for column_name in notes:\n",
    "        tokens = process_text_column(group_df, column_name)\n",
    "        \n",
    "        # Store the unique tokens for each column in a sub-dictionary\n",
    "        unique_sentence_dict[column_name][fire_id] = tokens\n",
    "        \n",
    "        for token in tokens:\n",
    "            if token not in combined_text:\n",
    "                combined_text.append(token)"
   ]
  },
  {
   "cell_type": "code",
   "execution_count": 12,
   "id": "51d2c3a5",
   "metadata": {},
   "outputs": [],
   "source": [
    "temp = pd.DataFrame(unique_sentence_dict)\n",
    "temp.reset_index(inplace=True)\n",
    "temp.rename(columns={'index': 'wfdss_risk'}, inplace=True)\n",
    "\n",
    "for col in notes:\n",
    "    temp[col] = temp[col].apply(lambda x: ' '.join(x) if isinstance(x, list) else x)\n",
    "\n",
    "temp.replace(\"\", np.nan, inplace=True)\n",
    "temp['combined_text'] = temp.apply(lambda row: ' '.join(str(x) for x in row.drop(['wfdss_risk']) if isinstance(x, str)), axis=1)"
   ]
  },
  {
   "cell_type": "code",
   "execution_count": 13,
   "id": "a2c5f8b4",
   "metadata": {},
   "outputs": [],
   "source": [
    "if 'combined_text' in temp.columns:\n",
    "    temp = temp.drop('combined_text', axis =1)\n",
    "\n",
    "for col in notes:\n",
    "    temp[col] = temp[col].fillna(\"\")  \n",
    "    temp[col] = temp[col].apply(lambda raw: \" \".join(raw.split()) if isinstance(raw, str) else raw)\n",
    "    temp[col] = temp[col].apply(lambda raw: \" \".join([t.lower() for t in raw.split() if t.lower().isalpha() and t.lower() not in sw and t.lower() not in firestops]) if isinstance(raw, str) else \"\")"
   ]
  },
  {
   "cell_type": "code",
   "execution_count": 14,
   "id": "8d5b6c7f",
   "metadata": {},
   "outputs": [],
   "source": [
    "grouped_df2 = OARR.groupby('wfdss_risk')"
   ]
  },
  {
   "cell_type": "code",
   "execution_count": 15,
   "id": "72f4f8c8",
   "metadata": {},
   "outputs": [],
   "source": [
    "def get_last_value(col):\n",
    "    unique_values = col.unique()\n",
    "    if len(unique_values) > 1:\n",
    "        return col.iloc[-1]\n",
    "    else:\n",
    "        return unique_values[0]"
   ]
  },
  {
   "cell_type": "code",
   "execution_count": 16,
   "id": "dfae9c70",
   "metadata": {},
   "outputs": [],
   "source": [
    "result_df = grouped_df2.apply(lambda group: group.apply(get_last_value))\n",
    "\n",
    "result_df.reset_index(drop=True, inplace=True)\n"
   ]
  },
  {
   "cell_type": "code",
   "execution_count": 17,
   "id": "b165e776",
   "metadata": {},
   "outputs": [],
   "source": [
    "for column in notes:\n",
    "    result_df[column] = temp[column]\n",
    "data = result_df\n",
    "data['combined_text'] = data[[col for col in notes]].apply(lambda row: ' '.join(row), axis=1)"
   ]
  },
  {
   "cell_type": "code",
   "execution_count": 18,
   "id": "d787f1d1",
   "metadata": {},
   "outputs": [],
   "source": [
    "for id_ in data['wfdss_risk'].unique():\n",
    "    mask = data['wfdss_risk'] == id_\n",
    "\n",
    "    for col in notes:\n",
    "        for i, row in data[mask].iterrows():\n",
    "            if i > 0 and not pd.isnull(row[col]) and not pd.isnull(data.loc[i - 1, col]):\n",
    "                previous_text = data.loc[i - 1, col]\n",
    "                current_text = row[col]\n",
    "                new_text = current_text.replace(previous_text, '').strip()\n",
    "                data.at[i, col] = new_text\n",
    "\n",
    "data['combined_text'] = data[notes].apply(lambda row: ' '.join(row), axis=1)\n"
   ]
  },
  {
   "cell_type": "markdown",
   "id": "cb03c0b9",
   "metadata": {},
   "source": [
    "# Text Overview"
   ]
  },
  {
   "cell_type": "markdown",
   "id": "5c83d37a",
   "metadata": {},
   "source": [
    "### Common Tokens"
   ]
  },
  {
   "cell_type": "code",
   "execution_count": 19,
   "id": "d3547294",
   "metadata": {},
   "outputs": [
    {
     "data": {
      "image/png": "[encoded data removed]",
      "text/plain": [
       "<Figure size 576x576 with 1 Axes>"
      ]
     },
     "metadata": {
      "needs_background": "light"
     },
     "output_type": "display_data"
    }
   ],
   "source": [
    "all_text = \"\".join(data['combined_text'])\n",
    "text = all_text\n",
    "\n",
    "colors = [\"#000000\"]\n",
    "\n",
    "wordcloud = WordCloud(background_color=\"white\", max_words=500, width=1000, height=600,\n",
    "                      color_func=lambda *args, **kwargs: colors[0])\n",
    "\n",
    "wordcloud.generate(all_text)\n",
    "\n",
    "# Display the word cloud\n",
    "plt.figure(figsize=(8, 8), facecolor=None)\n",
    "plt.imshow(wordcloud)\n",
    "plt.axis(\"off\")\n",
    "plt.tight_layout(pad=0)\n",
    "plt.show()"
   ]
  },
  {
   "cell_type": "markdown",
   "id": "ba9a6396",
   "metadata": {},
   "source": [
    "### Common N-grams"
   ]
  },
  {
   "cell_type": "code",
   "execution_count": 20,
   "id": "775c767e",
   "metadata": {},
   "outputs": [],
   "source": [
    "def count_ngrams(text, n):\n",
    "    tokens = word_tokenize(text)  \n",
    "    n_grams = ngrams(tokens, n)\n",
    "    n_gram_freq = Counter(n_grams)\n",
    "    sorted_n_grams = dict(sorted(n_gram_freq.items(), key=lambda item: item[1], reverse=True))\n",
    "    \n",
    "    \n",
    "    return sorted_n_grams"
   ]
  },
  {
   "cell_type": "code",
   "execution_count": 21,
   "id": "eca30560",
   "metadata": {},
   "outputs": [],
   "source": [
    "result = count_ngrams(text, 2)"
   ]
  },
  {
   "cell_type": "code",
   "execution_count": 22,
   "id": "0dc4d803",
   "metadata": {},
   "outputs": [
    {
     "name": "stdout",
     "output_type": "stream",
     "text": [
      "('course', 'action'): 2360 times\n",
      "('barriers', 'spread'): 2348 times\n",
      "('external', 'influences'): 2233 times\n",
      "('seasonal', 'severity'): 1994 times\n",
      "('fuel', 'moistures'): 1636 times\n",
      "('season', 'ending'): 1581 times\n",
      "('incident', 'objectives'): 1391 times\n",
      "('fuel', 'conditions'): 1355 times\n",
      "('time', 'season'): 1350 times\n",
      "('time', 'year'): 1149 times\n",
      "('weather', 'conditions'): 1079 times\n",
      "('private', 'property'): 1077 times\n",
      "('incident', 'strategies'): 1070 times\n",
      "('ending', 'event'): 1038 times\n",
      "('fuel', 'moisture'): 1024 times\n"
     ]
    }
   ],
   "source": [
    "count = 0\n",
    "for n_gram, frequency in result.items():\n",
    "    if count < 15:\n",
    "        print(f\"{n_gram}: {frequency} times\")\n",
    "        count += 1\n",
    "    else:\n",
    "        break"
   ]
  },
  {
   "cell_type": "markdown",
   "id": "002dfa65",
   "metadata": {},
   "source": [
    "## Broad Data Information"
   ]
  },
  {
   "cell_type": "code",
   "execution_count": 23,
   "id": "273a2a46",
   "metadata": {},
   "outputs": [],
   "source": [
    "def completion_percentage(df, columns_to_process):\n",
    "    completion_dict = {}\n",
    "\n",
    "    for column in columns_to_process:\n",
    "        total_count = len(df)\n",
    "        non_empty_count = df[column].apply(lambda x: x.strip() if isinstance(x, str) else x).replace('', pd.NA).notna().sum()\n",
    "        \n",
    "        if total_count > 0:\n",
    "            perc_completion = non_empty_count / total_count * 100\n",
    "        else:\n",
    "            perc_completion = 0\n",
    "        \n",
    "        completion_dict[column] = perc_completion\n",
    "    print(\"Below is the percantage of entires with at least some unique text for a fire-risk grouping:\")\n",
    "    return completion_dict\n",
    "\n",
    "def basic_text(df, columns_to_process):\n",
    "    results = {}\n",
    "    \n",
    "    for column in columns_to_process:\n",
    "        concatenated_text = df[column].astype(str).str.cat(sep=' ')\n",
    "\n",
    "        text_clean = [word for word in concatenated_text.split()]\n",
    "        c = Counter(text_clean)\n",
    "\n",
    "        total_tokens = len(text_clean)\n",
    "        unique_tokens = len(set(text_clean))\n",
    "\n",
    "        lex_diversity = unique_tokens / total_tokens if total_tokens != 0 else \"NA\"\n",
    "        avg_token_len = np.mean([len(word) for word in text_clean])\n",
    "        top_10 = c.most_common(10)\n",
    "\n",
    "        avg_tokens_per_entry = df[column].apply(lambda x: len(str(x).split())).mean()\n",
    "        \n",
    "        \n",
    "        results[column] = {\n",
    "            'total_tokens': total_tokens,\n",
    "            'unique_tokens': unique_tokens,\n",
    "            'average_tokens' : avg_tokens_per_entry,\n",
    "            'avg_token_length': avg_token_len,\n",
    "            'lexical_diversity': lex_diversity,\n",
    "            'top_10': top_10,\n",
    "        }\n",
    "    results_df = pd.DataFrame(results)\n",
    "    return results_df\n",
    "\n",
    "def input_with_timeout(prompt, timeout):\n",
    "    import select\n",
    "    import sys\n",
    "\n",
    "    print(prompt)\n",
    "    sys.stdout.flush()\n",
    "    rlist, _, _ = select.select([sys.stdin], [], [], timeout)\n",
    "    if rlist:\n",
    "        return input().strip()\n",
    "    else:\n",
    "        return None"
   ]
  },
  {
   "cell_type": "markdown",
   "id": "aac4f278",
   "metadata": {},
   "source": [
    "### Completion of  Notes Fields"
   ]
  },
  {
   "cell_type": "code",
   "execution_count": 24,
   "id": "f1ee5155",
   "metadata": {
    "scrolled": true
   },
   "outputs": [
    {
     "name": "stdout",
     "output_type": "stream",
     "text": [
      "Below is the percantage of entires with at least some unique text for a fire-risk grouping:\n"
     ]
    },
    {
     "data": {
      "text/plain": [
       "{'hazf_notes': 91.29810828440965,\n",
       " 'probf_notes': 88.81930854533594,\n",
       " 'valf_notes': 91.1545988258317,\n",
       " 'rrf_notes': 86.43183300717547,\n",
       " 'spf_notes': 85.58382257012394,\n",
       " 'impdif_f_notes': 87.71037181996087,\n",
       " 'orgf_notes': 72.56360078277886}"
      ]
     },
     "execution_count": 24,
     "metadata": {},
     "output_type": "execute_result"
    }
   ],
   "source": [
    "completion_percentage(data,notes)"
   ]
  },
  {
   "cell_type": "markdown",
   "id": "939e8f3d",
   "metadata": {},
   "source": [
    "### Summary Statistics of Notes Fields"
   ]
  },
  {
   "cell_type": "code",
   "execution_count": 25,
   "id": "753a6385",
   "metadata": {
    "scrolled": false
   },
   "outputs": [
    {
     "data": {
      "text/html": [
       "<div>\n",
       "<style scoped>\n",
       "    .dataframe tbody tr th:only-of-type {\n",
       "        vertical-align: middle;\n",
       "    }\n",
       "\n",
       "    .dataframe tbody tr th {\n",
       "        vertical-align: top;\n",
       "    }\n",
       "\n",
       "    .dataframe thead th {\n",
       "        text-align: right;\n",
       "    }\n",
       "</style>\n",
       "<table border=\"1\" class=\"dataframe\">\n",
       "  <thead>\n",
       "    <tr style=\"text-align: right;\">\n",
       "      <th></th>\n",
       "      <th>total_tokens</th>\n",
       "      <th>unique_tokens</th>\n",
       "      <th>average_tokens</th>\n",
       "      <th>avg_token_length</th>\n",
       "      <th>lexical_diversity</th>\n",
       "      <th>top_10</th>\n",
       "    </tr>\n",
       "  </thead>\n",
       "  <tbody>\n",
       "    <tr>\n",
       "      <th>hazf_notes</th>\n",
       "      <td>193483</td>\n",
       "      <td>6148</td>\n",
       "      <td>25.242401</td>\n",
       "      <td>6.543438</td>\n",
       "      <td>0.031775</td>\n",
       "      <td>[(fuel, 6516), (behavior, 5146), (fuels, 5086)...</td>\n",
       "    </tr>\n",
       "    <tr>\n",
       "      <th>probf_notes</th>\n",
       "      <td>158328</td>\n",
       "      <td>6007</td>\n",
       "      <td>20.655969</td>\n",
       "      <td>6.502558</td>\n",
       "      <td>0.03794</td>\n",
       "      <td>[(barriers, 5283), (season, 4599), (spread, 34...</td>\n",
       "    </tr>\n",
       "    <tr>\n",
       "      <th>valf_notes</th>\n",
       "      <td>190057</td>\n",
       "      <td>9795</td>\n",
       "      <td>24.795434</td>\n",
       "      <td>6.934435</td>\n",
       "      <td>0.051537</td>\n",
       "      <td>[(private, 3395), (cultural, 2331), (infrastru...</td>\n",
       "    </tr>\n",
       "    <tr>\n",
       "      <th>rrf_notes</th>\n",
       "      <td>146982</td>\n",
       "      <td>6998</td>\n",
       "      <td>19.175734</td>\n",
       "      <td>6.868399</td>\n",
       "      <td>0.047611</td>\n",
       "      <td>[(relative, 2340), (fuel, 1637), (fuels, 1632)...</td>\n",
       "    </tr>\n",
       "    <tr>\n",
       "      <th>spf_notes</th>\n",
       "      <td>139675</td>\n",
       "      <td>6767</td>\n",
       "      <td>18.22244</td>\n",
       "      <td>7.315132</td>\n",
       "      <td>0.048448</td>\n",
       "      <td>[(objectives, 3843), (private, 2847), (externa...</td>\n",
       "    </tr>\n",
       "    <tr>\n",
       "      <th>impdif_f_notes</th>\n",
       "      <td>161584</td>\n",
       "      <td>6032</td>\n",
       "      <td>21.080757</td>\n",
       "      <td>7.199958</td>\n",
       "      <td>0.03733</td>\n",
       "      <td>[(incident, 2533), (functional, 2336), (limite...</td>\n",
       "    </tr>\n",
       "    <tr>\n",
       "      <th>orgf_notes</th>\n",
       "      <td>139169</td>\n",
       "      <td>6942</td>\n",
       "      <td>18.156425</td>\n",
       "      <td>7.213237</td>\n",
       "      <td>0.049882</td>\n",
       "      <td>[(type, 2667), (objectives, 2375), (incident, ...</td>\n",
       "    </tr>\n",
       "  </tbody>\n",
       "</table>\n",
       "</div>"
      ],
      "text/plain": [
       "               total_tokens unique_tokens average_tokens avg_token_length  \\\n",
       "hazf_notes           193483          6148      25.242401         6.543438   \n",
       "probf_notes          158328          6007      20.655969         6.502558   \n",
       "valf_notes           190057          9795      24.795434         6.934435   \n",
       "rrf_notes            146982          6998      19.175734         6.868399   \n",
       "spf_notes            139675          6767       18.22244         7.315132   \n",
       "impdif_f_notes       161584          6032      21.080757         7.199958   \n",
       "orgf_notes           139169          6942      18.156425         7.213237   \n",
       "\n",
       "               lexical_diversity  \\\n",
       "hazf_notes              0.031775   \n",
       "probf_notes              0.03794   \n",
       "valf_notes              0.051537   \n",
       "rrf_notes               0.047611   \n",
       "spf_notes               0.048448   \n",
       "impdif_f_notes           0.03733   \n",
       "orgf_notes              0.049882   \n",
       "\n",
       "                                                           top_10  \n",
       "hazf_notes      [(fuel, 6516), (behavior, 5146), (fuels, 5086)...  \n",
       "probf_notes     [(barriers, 5283), (season, 4599), (spread, 34...  \n",
       "valf_notes      [(private, 3395), (cultural, 2331), (infrastru...  \n",
       "rrf_notes       [(relative, 2340), (fuel, 1637), (fuels, 1632)...  \n",
       "spf_notes       [(objectives, 3843), (private, 2847), (externa...  \n",
       "impdif_f_notes  [(incident, 2533), (functional, 2336), (limite...  \n",
       "orgf_notes      [(type, 2667), (objectives, 2375), (incident, ...  "
      ]
     },
     "execution_count": 25,
     "metadata": {},
     "output_type": "execute_result"
    }
   ],
   "source": [
    "results_df = basic_text(data,notes)\n",
    "results_df.transpose()"
   ]
  },
  {
   "cell_type": "code",
   "execution_count": 26,
   "id": "92a87978",
   "metadata": {
    "scrolled": true
   },
   "outputs": [
    {
     "data": {
      "text/html": [
       "<div>\n",
       "<style scoped>\n",
       "    .dataframe tbody tr th:only-of-type {\n",
       "        vertical-align: middle;\n",
       "    }\n",
       "\n",
       "    .dataframe tbody tr th {\n",
       "        vertical-align: top;\n",
       "    }\n",
       "\n",
       "    .dataframe thead th {\n",
       "        text-align: right;\n",
       "    }\n",
       "</style>\n",
       "<table border=\"1\" class=\"dataframe\">\n",
       "  <thead>\n",
       "    <tr style=\"text-align: right;\">\n",
       "      <th></th>\n",
       "      <th>average_tokens</th>\n",
       "      <th>avg_token_length</th>\n",
       "      <th>lexical_diversity</th>\n",
       "      <th>top_10</th>\n",
       "      <th>total_tokens</th>\n",
       "      <th>unique_tokens</th>\n",
       "    </tr>\n",
       "  </thead>\n",
       "  <tbody>\n",
       "    <tr>\n",
       "      <th>combined_text</th>\n",
       "      <td>147.329159</td>\n",
       "      <td>6.917737</td>\n",
       "      <td>0.015104</td>\n",
       "      <td>[(fuel, 12415), (fuels, 10156), (private, 9326...</td>\n",
       "      <td>1129278</td>\n",
       "      <td>17057</td>\n",
       "    </tr>\n",
       "  </tbody>\n",
       "</table>\n",
       "</div>"
      ],
      "text/plain": [
       "              average_tokens avg_token_length lexical_diversity  \\\n",
       "combined_text     147.329159         6.917737          0.015104   \n",
       "\n",
       "                                                          top_10 total_tokens  \\\n",
       "combined_text  [(fuel, 12415), (fuels, 10156), (private, 9326...      1129278   \n",
       "\n",
       "              unique_tokens  \n",
       "combined_text         17057  "
      ]
     },
     "execution_count": 26,
     "metadata": {},
     "output_type": "execute_result"
    }
   ],
   "source": [
    "at_results = basic_text(data,['combined_text'])\n",
    "at_results.transpose()"
   ]
  },
  {
   "cell_type": "markdown",
   "id": "b5867d3d",
   "metadata": {},
   "source": [
    "# Regional Differences"
   ]
  },
  {
   "cell_type": "markdown",
   "id": "9528d101",
   "metadata": {},
   "source": [
    "### Risk"
   ]
  },
  {
   "cell_type": "code",
   "execution_count": 27,
   "id": "fcb6d6c3",
   "metadata": {},
   "outputs": [
    {
     "name": "stderr",
     "output_type": "stream",
     "text": [
      "C:\\Users\\aidan\\AppData\\Local\\Temp\\ipykernel_34424\\1307532202.py:8: UserWarning: The palette list has more values (4) than needed (3), which may not be intended.\n",
      "  ax = sns.histplot(\n"
     ]
    },
    {
     "data": {
      "image/png": "[encoded data removed]",
      "text/plain": [
       "<Figure size 1440x432 with 1 Axes>"
      ]
     },
     "metadata": {
      "needs_background": "light"
     },
     "output_type": "display_data"
    }
   ],
   "source": [
    "df_grouped = data.groupby(['geo_area_name', 'rrf_rr_desc']).size().reset_index(name='count')\n",
    "\n",
    "region_total = df_grouped.groupby('geo_area_name')['count'].sum()\n",
    "df_merged = pd.merge(df_grouped, region_total, left_on='geo_area_name', right_index=True, suffixes=('', '_total'))\n",
    "df_merged['percent'] = df_merged['count'] / df_merged['count_total']\n",
    "df_result = df_merged[['count', 'geo_area_name', 'rrf_rr_desc', 'percent']].sort_values(['geo_area_name', 'count'], ascending=[True, False])\n",
    "\n",
    "ax = sns.histplot(\n",
    "    df_result,\n",
    "    x='geo_area_name',\n",
    "    weights='percent',\n",
    "    hue='rrf_rr_desc',\n",
    "    multiple='stack',\n",
    "    palette=['#24b1d1', '#ae24d1','#f6e9fa','#47d124'],\n",
    "    # Add white borders to the bars.\n",
    "    edgecolor='white',\n",
    "    # Shrink the bars a bit so they don't touch.\n",
    "    shrink=0.8   \n",
    ")\n",
    "\n",
    "ax.set_title('Percent of Perceived Risk by Region')\n",
    "# Remove 'Count' ylabel.\n",
    "ax.set_ylabel(None)\n",
    "\n",
    "fig = ax.get_figure()\n",
    "fig.set_size_inches(20, 6)"
   ]
  },
  {
   "cell_type": "code",
   "execution_count": 28,
   "id": "524d58f9",
   "metadata": {},
   "outputs": [
    {
     "name": "stdout",
     "output_type": "stream",
     "text": [
      "The percentage of fires designated as high risk has a correlation coefficient of 0.290057 with the number of total fires\n"
     ]
    }
   ],
   "source": [
    "df_result['total_fire'] = df_result.groupby('geo_area_name')['count'].transform('sum')\n",
    "df3 = df_result[df_result['rrf_rr_desc'] == (\"high\")]\n",
    "x = df3['total_fire'].corr(df3['percent'])\n",
    "print(\"The percentage of fires designated as high risk has a correlation coefficient of \" + str(round(x,6)) + \" with the number of total fires\")"
   ]
  },
  {
   "cell_type": "markdown",
   "id": "b203580a",
   "metadata": {},
   "source": [
    "### Text"
   ]
  },
  {
   "cell_type": "markdown",
   "id": "3a4b0b9d",
   "metadata": {},
   "source": [
    "##### Disproportionate Tokens"
   ]
  },
  {
   "cell_type": "code",
   "execution_count": 29,
   "id": "001a2cfb",
   "metadata": {},
   "outputs": [
    {
     "name": "stdout",
     "output_type": "stream",
     "text": [
      "Region Southern: Top Valid Words (Appearing >10 times) with Frequencies and Counts:\n",
      "'arson' (Frequency: 0.9047619047619048, Count: 19)\n",
      "'stumpy' (Frequency: 0.9, Count: 18)\n",
      "'canal' (Frequency: 0.875, Count: 14)\n",
      "'parkway' (Frequency: 0.8666666666666667, Count: 13)\n",
      "'swamp' (Frequency: 0.8305084745762712, Count: 49)\n",
      "'cypress' (Frequency: 0.8301886792452831, Count: 44)\n",
      "'irene' (Frequency: 0.8125, Count: 13)\n",
      "'clay' (Frequency: 0.7857142857142857, Count: 11)\n",
      "'organic' (Frequency: 0.7065217391304348, Count: 65)\n",
      "'outer' (Frequency: 0.6875, Count: 11)\n",
      "\n",
      "Region Southwest: Top Valid Words (Appearing >10 times) with Frequencies and Counts:\n",
      "'apache' (Frequency: 0.9821428571428571, Count: 110)\n",
      "'fe' (Frequency: 0.9629629629629629, Count: 26)\n",
      "'sunflower' (Frequency: 0.9615384615384616, Count: 25)\n",
      "'outlet' (Frequency: 0.9473684210526315, Count: 18)\n",
      "'cuckoo' (Frequency: 0.9333333333333333, Count: 14)\n",
      "'calf' (Frequency: 0.9285714285714286, Count: 13)\n",
      "'mesquite' (Frequency: 0.9285714285714286, Count: 13)\n",
      "'capitan' (Frequency: 0.9230769230769231, Count: 12)\n",
      "'hilltop' (Frequency: 0.92, Count: 23)\n",
      "'wallow' (Frequency: 0.918918918918919, Count: 34)\n",
      "\n",
      "Region Southern California: Top Valid Words (Appearing >10 times) with Frequencies and Counts:\n",
      "'ana' (Frequency: 0.9818181818181818, Count: 54)\n",
      "'kern' (Frequency: 0.968421052631579, Count: 92)\n",
      "'arroyo' (Frequency: 0.9444444444444444, Count: 17)\n",
      "'mammoth' (Frequency: 0.925, Count: 37)\n",
      "'banning' (Frequency: 0.9230769230769231, Count: 12)\n",
      "'giant' (Frequency: 0.9158878504672897, Count: 98)\n",
      "'sur' (Frequency: 0.8888888888888888, Count: 16)\n",
      "'pool' (Frequency: 0.8, Count: 16)\n",
      "'limestone' (Frequency: 0.7857142857142857, Count: 11)\n",
      "'golden' (Frequency: 0.7633587786259542, Count: 100)\n",
      "\n",
      "Region Northern California: Top Valid Words (Appearing >10 times) with Frequencies and Counts:\n",
      "'ruth' (Frequency: 0.9545454545454546, Count: 21)\n",
      "'placer' (Frequency: 0.95, Count: 38)\n",
      "'trinity' (Frequency: 0.9457013574660633, Count: 209)\n",
      "'domestic' (Frequency: 0.84375, Count: 27)\n",
      "'michigan' (Frequency: 0.8235294117647058, Count: 14)\n",
      "'cal' (Frequency: 0.8104265402843602, Count: 171)\n",
      "'ranked' (Frequency: 0.8020833333333334, Count: 77)\n",
      "'coffee' (Frequency: 0.8, Count: 36)\n",
      "'mad' (Frequency: 0.8, Count: 12)\n",
      "'rust' (Frequency: 0.8, Count: 12)\n",
      "\n",
      "Region Great Basin: Top Valid Words (Appearing >10 times) with Frequencies and Counts:\n",
      "'render' (Frequency: 0.9753086419753086, Count: 79)\n",
      "'sal' (Frequency: 0.95, Count: 19)\n",
      "'moon' (Frequency: 0.9230769230769231, Count: 24)\n",
      "'reef' (Frequency: 0.9166666666666666, Count: 11)\n",
      "'challis' (Frequency: 0.9117647058823529, Count: 31)\n",
      "'pronghorn' (Frequency: 0.8888888888888888, Count: 16)\n",
      "'receptivity' (Frequency: 0.8863636363636364, Count: 39)\n",
      "'encouraging' (Frequency: 0.875, Count: 42)\n",
      "'color' (Frequency: 0.8571428571428571, Count: 30)\n",
      "'withdrawn' (Frequency: 0.8571428571428571, Count: 12)\n",
      "\n",
      "Region Eastern: Top Valid Words (Appearing >10 times) with Frequencies and Counts:\n",
      "'canoe' (Frequency: 0.8, Count: 24)\n",
      "'corps' (Frequency: 0.7058823529411765, Count: 24)\n",
      "'blowdown' (Frequency: 0.6619718309859155, Count: 47)\n",
      "'army' (Frequency: 0.5306122448979592, Count: 26)\n",
      "'confirmed' (Frequency: 0.5, Count: 18)\n",
      "'permanent' (Frequency: 0.425, Count: 17)\n",
      "'rely' (Frequency: 0.38095238095238093, Count: 24)\n",
      "'partner' (Frequency: 0.26666666666666666, Count: 12)\n",
      "'island' (Frequency: 0.23529411764705882, Count: 28)\n",
      "'entry' (Frequency: 0.19047619047619047, Count: 12)\n",
      "\n",
      "Region Northwest: Top Valid Words (Appearing >10 times) with Frequencies and Counts:\n",
      "'conditional' (Frequency: 0.95, Count: 19)\n",
      "'crater' (Frequency: 0.9491525423728814, Count: 112)\n",
      "'attainment' (Frequency: 0.9375, Count: 15)\n",
      "'gravity' (Frequency: 0.9333333333333333, Count: 14)\n",
      "'vale' (Frequency: 0.9230769230769231, Count: 12)\n",
      "'coulee' (Frequency: 0.92, Count: 23)\n",
      "'bumping' (Frequency: 0.8888888888888888, Count: 16)\n",
      "'hood' (Frequency: 0.8651685393258427, Count: 77)\n",
      "'eclipse' (Frequency: 0.8461538461538461, Count: 44)\n",
      "'fragmented' (Frequency: 0.8285714285714286, Count: 29)\n",
      "\n",
      "Region Northern Rockies: Top Valid Words (Appearing >10 times) with Frequencies and Counts:\n",
      "'trestle' (Frequency: 0.9787234042553191, Count: 46)\n",
      "'bob' (Frequency: 0.972972972972973, Count: 36)\n",
      "'horseback' (Frequency: 0.9473684210526315, Count: 18)\n",
      "'panhandle' (Frequency: 0.9473684210526315, Count: 36)\n",
      "'hump' (Frequency: 0.9411764705882353, Count: 16)\n",
      "'endowment' (Frequency: 0.9375, Count: 15)\n",
      "'irretrievable' (Frequency: 0.9375, Count: 15)\n",
      "'plum' (Frequency: 0.9333333333333333, Count: 14)\n",
      "'save' (Frequency: 0.9322033898305084, Count: 55)\n",
      "'bitterroot' (Frequency: 0.9233038348082596, Count: 313)\n",
      "\n",
      "Region Rocky Mountain: Top Valid Words (Appearing >10 times) with Frequencies and Counts:\n",
      "'keystone' (Frequency: 0.9375, Count: 30)\n",
      "'broadway' (Frequency: 0.9285714285714286, Count: 13)\n",
      "'epidemic' (Frequency: 0.8571428571428571, Count: 36)\n",
      "'colorado' (Frequency: 0.8333333333333334, Count: 125)\n",
      "'de' (Frequency: 0.8214285714285714, Count: 23)\n",
      "'aged' (Frequency: 0.7647058823529411, Count: 13)\n",
      "'guest' (Frequency: 0.7272727272727273, Count: 16)\n",
      "'lightly' (Frequency: 0.7142857142857143, Count: 15)\n",
      "'blanco' (Frequency: 0.6666666666666666, Count: 16)\n",
      "'prevention' (Frequency: 0.6538461538461539, Count: 17)\n",
      "\n",
      "Region Alaska: Top Valid Words (Appearing >10 times) with Frequencies and Counts:\n",
      "'arisen' (Frequency: 0.9714285714285714, Count: 34)\n",
      "'corporation' (Frequency: 0.9541284403669725, Count: 104)\n",
      "'solstice' (Frequency: 0.9523809523809523, Count: 20)\n",
      "'dalton' (Frequency: 0.9322033898305084, Count: 55)\n",
      "'tundra' (Frequency: 0.9041095890410958, Count: 66)\n",
      "'seam' (Frequency: 0.9032258064516129, Count: 28)\n",
      "'slough' (Frequency: 0.8947368421052632, Count: 17)\n",
      "'corp' (Frequency: 0.88, Count: 22)\n",
      "'mac' (Frequency: 0.8780487804878049, Count: 36)\n",
      "'code' (Frequency: 0.8657718120805369, Count: 129)\n",
      "\n"
     ]
    }
   ],
   "source": [
    "valid_word_set = set(words.words())\n",
    "\n",
    "regions = data['geo_area_name'].unique()\n",
    "region_texts = {region: \" \".join(data[data['geo_area_name'] == region]['combined_text']) for region in regions}\n",
    "\n",
    "region_token_freqs = {region: FreqDist(word_tokenize(text.lower())) for region, text in region_texts.items()}\n",
    "\n",
    "tokens_relative_freq = {}\n",
    "\n",
    "for region, freq_dist in region_token_freqs.items():\n",
    "    other_regions_freq = {other_region: FreqDist(word_tokenize(text.lower())) for other_region, text in region_texts.items() if other_region != region}\n",
    "    \n",
    "    tokens_relative_freq[region] = {}\n",
    "    for token, freq in freq_dist.items():\n",
    "        other_regions_total_freq = sum([other_freq[token] for other_freq in other_regions_freq.values() if token in other_freq])\n",
    "        relative_freq = freq / (other_regions_total_freq + freq) \n",
    "        \n",
    "        tokens_relative_freq[region][token] = relative_freq\n",
    "\n",
    "for region, token_freqs in tokens_relative_freq.items():\n",
    "    text = region_texts[region]  \n",
    "    tokens = word_tokenize(text.lower())  \n",
    "    \n",
    "    region_freq_dist = FreqDist(tokens) \n",
    "    \n",
    "    top_words = [{'word': word, 'freq': freq, 'count': region_freq_dist[word]} for word, freq in token_freqs.items() if word.isalpha() and word.lower() in valid_word_set and region_freq_dist[word] > 10 and freq < 1.0]\n",
    "    top_words = sorted(top_words, key=lambda x: x['freq'], reverse=True)[:10]\n",
    "    \n",
    "    print(f\"Region {region}: Top Valid Words (Appearing >10 times) with Frequencies and Counts:\")\n",
    "    for word_info in top_words:\n",
    "        word = word_info['word']\n",
    "        word_freq = word_info['freq']\n",
    "        word_count = word_info['count']\n",
    "        print(f\"'{word}' (Frequency: {word_freq}, Count: {word_count})\")\n",
    "    print()"
   ]
  },
  {
   "cell_type": "markdown",
   "id": "e6fafd91",
   "metadata": {},
   "source": [
    "## Tokens of Interest"
   ]
  },
  {
   "cell_type": "markdown",
   "id": "99591d88",
   "metadata": {},
   "source": [
    "###### Set target words below!"
   ]
  },
  {
   "cell_type": "code",
   "execution_count": 30,
   "id": "121443ae",
   "metadata": {},
   "outputs": [],
   "source": [
    "target_words = [\"suppression\", \"containment\", \"structure\", \"communities\", \"barriers\", \"smoke\"]"
   ]
  },
  {
   "cell_type": "code",
   "execution_count": 31,
   "id": "dddfee4e",
   "metadata": {},
   "outputs": [],
   "source": [
    "def contains_target_word(text, target_word):\n",
    "    return target_word in text\n",
    "\n",
    "def percentage_with_target_words(data, target_words):\n",
    "    percentage_with_target_words = {}\n",
    "\n",
    "    data_copy = data.copy()\n",
    "\n",
    "    for word in target_words:\n",
    "        data_copy[f'contains_{word}'] = data_copy['combined_text'].apply(contains_target_word, target_word=word)\n",
    "        percentage_with_target_words[word] = (data_copy[f'contains_{word}'].sum() / len(data_copy)) * 100\n",
    "        data_copy.drop(columns=[f'contains_{word}'], inplace=True)\n",
    "\n",
    "    sorted_results = sorted(percentage_with_target_words.items(), key=lambda x: x[1], reverse=True)\n",
    "\n",
    "    for word, percentage in sorted_results:\n",
    "        print(f\"The word '{word}' appears in {percentage:.2f}% of the combined notes fields for fires.\")\n",
    "        \n",
    "def percentage_by_risk(data, target_words):\n",
    "    results_by_risk = {}\n",
    "\n",
    "    data_copy = data.copy()\n",
    "\n",
    "    custom_order = ['high', 'mod', 'low']\n",
    "\n",
    "    grouped_data = data_copy.groupby('rrf_rr_desc', sort=False)  # Use sort=False to maintain custom order\n",
    "\n",
    "    for risk, group in grouped_data:\n",
    "        percentage_with_target_words = {}\n",
    "        for word in target_words:\n",
    "            group[f'contains_{word}'] = group['combined_text'].apply(contains_target_word, target_word=word)\n",
    "            percentage_with_target_words[word] = (group[f'contains_{word}'].sum() / len(group)) * 100\n",
    "            group.drop(columns=[f'contains_{word}'], inplace=True)\n",
    "        results_by_risk[risk] = percentage_with_target_words\n",
    "\n",
    "    for risk in custom_order:\n",
    "        if risk in results_by_risk:\n",
    "            percentages = results_by_risk[risk]\n",
    "            print(f\"Risk: {risk.capitalize()}\")\n",
    "            for word, percentage in sorted(percentages.items(), key=lambda x: x[1], reverse=True):\n",
    "                print(f\"The word '{word}' appears in {percentage:.2f}% of the texts for this risk.\")\n",
    "            print()\n",
    "\n",
    "            \n",
    "            \n",
    "            \n",
    "def extract_context(text, target_word, context_window_size = 5):\n",
    "    words = text.split()\n",
    "    target_indices = [i for i, word in enumerate(words) if word.lower() == target_word]\n",
    "    \n",
    "    contexts = []\n",
    "    for index in target_indices:\n",
    "        start_index = max(0, index - context_window_size)\n",
    "        end_index = min(len(words), index + context_window_size + 1)\n",
    "        context = words[start_index:end_index]\n",
    "        contexts.append(context)\n",
    "    \n",
    "    return contexts\n",
    "\n",
    "def extract_ordered_ngrams(context_list, n =3):\n",
    "    ordered_trigrams = []\n",
    "    for context in context_list:\n",
    "        ordered_trigrams.extend(\" \".join(context[i:i+n]) for i in range(len(context) - 2))\n",
    "    return ordered_trigrams"
   ]
  },
  {
   "cell_type": "code",
   "execution_count": 32,
   "id": "fa52233a",
   "metadata": {},
   "outputs": [],
   "source": [
    "toi = data[x_notes + descs]"
   ]
  },
  {
   "cell_type": "markdown",
   "id": "cdf7e040",
   "metadata": {},
   "source": [
    "### How often do they appear?"
   ]
  },
  {
   "cell_type": "code",
   "execution_count": 33,
   "id": "47770bac",
   "metadata": {},
   "outputs": [
    {
     "name": "stdout",
     "output_type": "stream",
     "text": [
      "The word 'barriers' appears in 51.64% of the combined notes fields for fires.\n",
      "The word 'structure' appears in 40.03% of the combined notes fields for fires.\n",
      "The word 'smoke' appears in 32.41% of the combined notes fields for fires.\n",
      "The word 'suppression' appears in 32.13% of the combined notes fields for fires.\n",
      "The word 'containment' appears in 16.37% of the combined notes fields for fires.\n",
      "The word 'communities' appears in 13.07% of the combined notes fields for fires.\n"
     ]
    }
   ],
   "source": [
    "percentage_with_target_words(toi,target_words)"
   ]
  },
  {
   "cell_type": "code",
   "execution_count": 34,
   "id": "86763ab2",
   "metadata": {
    "scrolled": true
   },
   "outputs": [
    {
     "name": "stdout",
     "output_type": "stream",
     "text": [
      "Risk: High\n",
      "The word 'barriers' appears in 58.63% of the texts for this risk.\n",
      "The word 'structure' appears in 52.03% of the texts for this risk.\n",
      "The word 'suppression' appears in 38.99% of the texts for this risk.\n",
      "The word 'smoke' appears in 32.22% of the texts for this risk.\n",
      "The word 'communities' appears in 19.36% of the texts for this risk.\n",
      "The word 'containment' appears in 16.46% of the texts for this risk.\n",
      "\n",
      "Risk: Mod\n",
      "The word 'barriers' appears in 48.79% of the texts for this risk.\n",
      "The word 'structure' appears in 35.42% of the texts for this risk.\n",
      "The word 'smoke' appears in 32.31% of the texts for this risk.\n",
      "The word 'suppression' appears in 31.20% of the texts for this risk.\n",
      "The word 'containment' appears in 16.52% of the texts for this risk.\n",
      "The word 'communities' appears in 10.21% of the texts for this risk.\n",
      "\n",
      "Risk: Low\n",
      "The word 'barriers' appears in 45.48% of the texts for this risk.\n",
      "The word 'smoke' appears in 32.85% of the texts for this risk.\n",
      "The word 'structure' appears in 29.03% of the texts for this risk.\n",
      "The word 'suppression' appears in 23.29% of the texts for this risk.\n",
      "The word 'containment' appears in 16.03% of the texts for this risk.\n",
      "The word 'communities' appears in 7.99% of the texts for this risk.\n",
      "\n"
     ]
    }
   ],
   "source": [
    "percentage_by_risk(toi, target_words)"
   ]
  },
  {
   "cell_type": "markdown",
   "id": "58d47173",
   "metadata": {},
   "source": [
    "### What is the context surrounding them?"
   ]
  },
  {
   "cell_type": "code",
   "execution_count": 35,
   "id": "741360c7",
   "metadata": {},
   "outputs": [],
   "source": [
    "con_dict = {}  \n",
    "context_words_dict_alpha = {}  \n",
    "context_window_size = 5\n",
    "\n",
    "for word in target_words:\n",
    "    con_dict[word] = {}\n",
    "    context_words_dict_alpha[word] = {}  # Initialize context_words_dict_alpha[word] as an empty dictionary\n",
    "    \n",
    "    for index, row in toi.iterrows():\n",
    "        text = row['combined_text']\n",
    "\n",
    "        if 'default_risk' not in con_dict[word]:\n",
    "            con_dict[word]['default_risk'] = []\n",
    "\n",
    "        contexts = extract_context(text, word, context_window_size)\n",
    "        con_dict[word]['default_risk'].extend(contexts)\n",
    "        \n",
    "    for risk_description, c in con_dict[word].items():\n",
    "        all_words = [w.lower() for context in c for w in context if not w.lower() == word]\n",
    "        common_words = Counter(all_words).most_common(5)  # Change 5 to the desired number of common words\n",
    "        context_words_dict_alpha[word]['default_risk'] = common_words"
   ]
  },
  {
   "cell_type": "code",
   "execution_count": 36,
   "id": "216d74f8",
   "metadata": {},
   "outputs": [
    {
     "data": {
      "application/vnd.jupyter.widget-view+json": {
       "model_id": "c22387c90b014d3887a5c6e97d7894d4",
       "version_major": 2,
       "version_minor": 0
      },
      "text/plain": [
       "HBox(children=(Button(description='suppression', style=ButtonStyle()), Button(description='containment', style…"
      ]
     },
     "metadata": {},
     "output_type": "display_data"
    },
    {
     "data": {
      "application/vnd.jupyter.widget-view+json": {
       "model_id": "e42437c1c94e411089290eff98012c09",
       "version_major": 2,
       "version_minor": 0
      },
      "text/plain": [
       "Output()"
      ]
     },
     "metadata": {},
     "output_type": "display_data"
    }
   ],
   "source": [
    "def plot_function(word):\n",
    "    plt.figure(figsize=(8, 6))\n",
    "    \n",
    "    # Ensure there is data for the given token in the dictionary\n",
    "    if 'default_risk' in context_words_dict_alpha.get(word, {}):  # Updated from cwd\n",
    "        common_words, counts = zip(*context_words_dict_alpha[word]['default_risk'])  # Updated from cwd\n",
    "        plt.bar(common_words, counts)\n",
    "        plt.title(f\"Common Tokens appearing in Context for '{word}'\")  # Updated title\n",
    "        plt.xlabel(\"Words\")\n",
    "        plt.ylabel(\"Count\")\n",
    "        plt.show()\n",
    "    else:\n",
    "        print(f\"No data available for combined text for {word}\")\n",
    "\n",
    "# Create buttons for user interaction\n",
    "word_buttons = [widgets.Button(description=word) for word in target_words]\n",
    "\n",
    "def button_click_handler(button):\n",
    "    with output_area:\n",
    "        clear_output(wait=True)\n",
    "        plot_function(button.description)\n",
    "\n",
    "for button in word_buttons:\n",
    "    button.on_click(button_click_handler)\n",
    "\n",
    "# Populate interactive buttons\n",
    "button_box = widgets.HBox(word_buttons)\n",
    "display(button_box)\n",
    "\n",
    "# Make a separate area for the plots to show up\n",
    "output_area = widgets.Output()\n",
    "\n",
    "# Display the plots\n",
    "display(output_area)\n",
    "\n",
    "with output_area:\n",
    "    random_button = random.choice(word_buttons)\n",
    "    plot_function(random_button.description)"
   ]
  },
  {
   "cell_type": "markdown",
   "id": "0844118c",
   "metadata": {},
   "source": [
    "###### By Risk"
   ]
  },
  {
   "cell_type": "code",
   "execution_count": 37,
   "id": "2e060f65",
   "metadata": {},
   "outputs": [
    {
     "name": "stdout",
     "output_type": "stream",
     "text": [
      "Word: suppression\n",
      "  Risk Description: mod\n",
      "    Common Words:\n",
      "      full: 333\n",
      "      actions: 300\n",
      "      incident: 234\n",
      "      efforts: 233\n",
      "      objectives: 217\n",
      "  Risk Description: high\n",
      "    Common Words:\n",
      "      full: 871\n",
      "      objectives: 536\n",
      "      incident: 433\n",
      "      actions: 382\n",
      "      strategy: 326\n",
      "  Risk Description: low\n",
      "    Common Words:\n",
      "      repair: 298\n",
      "      actions: 195\n",
      "      efforts: 134\n",
      "      incident: 103\n",
      "      objectives: 98\n",
      "Word: containment\n",
      "  Risk Description: mod\n",
      "    Common Words:\n",
      "      lines: 250\n",
      "      suppression: 147\n",
      "      spread: 122\n",
      "      barriers: 114\n",
      "      reduced: 108\n",
      "  Risk Description: high\n",
      "    Common Words:\n",
      "      lines: 195\n",
      "      growth: 114\n",
      "      barriers: 101\n",
      "      spread: 88\n",
      "      conditions: 86\n",
      "  Risk Description: low\n",
      "    Common Words:\n",
      "      lines: 252\n",
      "      suppression: 94\n",
      "      behavior: 91\n",
      "      spread: 91\n",
      "      growth: 82\n",
      "Word: structure\n",
      "  Risk Description: mod\n",
      "    Common Words:\n",
      "      protection: 135\n",
      "      historic: 40\n",
      "      one: 37\n",
      "      conditions: 37\n",
      "      composition: 37\n",
      "  Risk Description: high\n",
      "    Common Words:\n",
      "      protection: 270\n",
      "      private: 100\n",
      "      composition: 68\n",
      "      historic: 60\n",
      "      vegetation: 59\n",
      "  Risk Description: low\n",
      "    Common Words:\n",
      "      protection: 51\n",
      "      historic: 24\n",
      "      composition: 19\n",
      "      private: 17\n",
      "      trail: 17\n",
      "Word: communities\n",
      "  Risk Description: mod\n",
      "    Common Words:\n",
      "      smoke: 241\n",
      "      private: 55\n",
      "      tribal: 55\n",
      "      surrounding: 50\n",
      "      visible: 48\n",
      "  Risk Description: high\n",
      "    Common Words:\n",
      "      smoke: 418\n",
      "      private: 284\n",
      "      infrastructure: 129\n",
      "      public: 120\n",
      "      surrounding: 120\n",
      "  Risk Description: low\n",
      "    Common Words:\n",
      "      smoke: 138\n",
      "      private: 40\n",
      "      external: 38\n",
      "      visible: 31\n",
      "      influences: 25\n",
      "Word: barriers\n",
      "  Risk Description: mod\n",
      "    Common Words:\n",
      "      spread: 1242\n",
      "      season: 450\n",
      "      fuel: 406\n",
      "      seasonal: 386\n",
      "      time: 288\n",
      "  Risk Description: high\n",
      "    Common Words:\n",
      "      spread: 1669\n",
      "      season: 692\n",
      "      fuel: 656\n",
      "      seasonal: 505\n",
      "      fuels: 433\n",
      "  Risk Description: low\n",
      "    Common Words:\n",
      "      spread: 656\n",
      "      seasonal: 254\n",
      "      fuel: 239\n",
      "      season: 231\n",
      "      many: 207\n",
      "Word: smoke\n",
      "  Risk Description: mod\n",
      "    Common Words:\n",
      "      media: 358\n",
      "      external: 354\n",
      "      management: 339\n",
      "      visible: 244\n",
      "      communities: 241\n",
      "  Risk Description: high\n",
      "    Common Words:\n",
      "      external: 453\n",
      "      communities: 418\n",
      "      media: 377\n",
      "      private: 359\n",
      "      management: 346\n",
      "  Risk Description: low\n",
      "    Common Words:\n",
      "      visible: 233\n",
      "      management: 219\n",
      "      media: 191\n",
      "      external: 187\n",
      "      minimal: 152\n"
     ]
    }
   ],
   "source": [
    "con_risk_dict = {}  # Updated from conDict\n",
    "context_words_dict = {}  # Updated from cwd\n",
    "context_window_size = 5\n",
    "\n",
    "for word in target_words:\n",
    "    con_risk_dict[word] = {}\n",
    "    context_words_dict[word] = {}  # Initialize context_words_dict[word] as an empty dictionary\n",
    "    \n",
    "    for index, row in toi.iterrows():\n",
    "        risk_description = row['rrf_rr_desc']\n",
    "        text = row['combined_text']\n",
    "\n",
    "        if risk_description not in con_risk_dict[word]:\n",
    "            con_risk_dict[word][risk_description] = []\n",
    "\n",
    "        contexts = extract_context(text, word, context_window_size)\n",
    "        con_risk_dict[word][risk_description].extend(contexts)\n",
    "        \n",
    "    for risk_description, c in con_risk_dict[word].items():\n",
    "        all_words = [w.lower() for context in c for w in context if not w.lower() == word]\n",
    "        common_words = Counter(all_words).most_common(5)  # Change 5 to the desired number of common words\n",
    "        context_words_dict[word][risk_description] = common_words\n",
    "        \n",
    "for word, risk_descriptions in context_words_dict.items():\n",
    "    print(f\"Word: {word}\")\n",
    "    for risk_description, common_words in risk_descriptions.items():\n",
    "        print(f\"  Risk Description: {risk_description}\")\n",
    "        print(\"    Common Words:\")\n",
    "        for word, count in common_words:\n",
    "            print(f\"      {word}: {count}\")"
   ]
  },
  {
   "cell_type": "code",
   "execution_count": 38,
   "id": "111d7c7f",
   "metadata": {
    "scrolled": true
   },
   "outputs": [
    {
     "data": {
      "application/vnd.jupyter.widget-view+json": {
       "model_id": "d5afc064beea4c8b85770051976b16d3",
       "version_major": 2,
       "version_minor": 0
      },
      "text/plain": [
       "HBox(children=(Button(description='suppression', layout=Layout(width='100px'), style=ButtonStyle()), Button(de…"
      ]
     },
     "metadata": {},
     "output_type": "display_data"
    },
    {
     "data": {
      "application/vnd.jupyter.widget-view+json": {
       "model_id": "5ac059f4cec441489721ac7cf67057b9",
       "version_major": 2,
       "version_minor": 0
      },
      "text/plain": [
       "Output()"
      ]
     },
     "metadata": {},
     "output_type": "display_data"
    }
   ],
   "source": [
    "def plot_risks(word):\n",
    "    fig, axes = plt.subplots(1, 3, figsize=(18, 6), sharey=True)\n",
    "\n",
    "    # Ensure there is data for the given token in the dictionary\n",
    "    if word in context_words_dict:\n",
    "        # Sort risk descriptions based on counts\n",
    "        sorted_risks = sorted(context_words_dict[word].items(), key=lambda x: sum(count for word, count in x[1]), reverse=True)\n",
    "\n",
    "        for ax, (risk_description, common_words) in zip(axes, sorted_risks):\n",
    "            words, counts = zip(*common_words)\n",
    "            ax.bar(words, counts)\n",
    "            ax.set_title(risk_description)\n",
    "            ax.set_xlabel(\"Words\")\n",
    "            ax.set_ylabel(\"Count\")\n",
    "\n",
    "        plt.show()\n",
    "    else:\n",
    "        print(f\"No data available for combined text for {word}\")\n",
    "\n",
    "# Create buttons for user interaction\n",
    "word_buttons = [widgets.Button(description=word, layout=Layout(width='100px')) for word in target_words]\n",
    "\n",
    "# Function to handle button click\n",
    "def button_click_handler(button):\n",
    "    with output_area:\n",
    "        clear_output(wait=True)\n",
    "        plot_risks(button.description)\n",
    "\n",
    "# Assign a random button to be clicked automatically\n",
    "random_button = random.choice(word_buttons)\n",
    "button_click_handler(random_button)\n",
    "\n",
    "# Attach click handler to buttons\n",
    "for button in word_buttons:\n",
    "    button.on_click(button_click_handler)\n",
    "\n",
    "# Populate interactive buttons\n",
    "button_box = widgets.HBox(word_buttons)\n",
    "display(button_box)\n",
    "\n",
    "# Make a separate area for the plots to show up\n",
    "output_area = widgets.Output()\n",
    "\n",
    "# Display the plots\n",
    "display(output_area)\n",
    "\n",
    "# Use plot function to display plot\n",
    "with output_area:\n",
    "    plot_risks(random_button.description)"
   ]
  },
  {
   "cell_type": "markdown",
   "id": "9acacbe2",
   "metadata": {},
   "source": [
    "### Let's take a look at common ngrams"
   ]
  },
  {
   "cell_type": "code",
   "execution_count": 39,
   "id": "b82d831b",
   "metadata": {},
   "outputs": [
    {
     "name": "stdout",
     "output_type": "stream",
     "text": [
      "Word: suppression\n",
      "  Risk Description: mod\n",
      "    Most Common Ordered Ngrams:\n",
      "      full suppression strategy: 50\n",
      "      suppression actions taken: 29\n",
      "      conditions shortages suppression: 25\n",
      "      likelihood success least: 25\n",
      "      unusual conditions shortages: 24\n",
      "      shortage suppression response: 23\n",
      "      shortages suppression shortage: 22\n",
      "      suppression shortage suppression: 22\n",
      "      appropriate suppression protect: 22\n",
      "      suppression protect cultural: 20\n",
      "\n",
      "  Risk Description: high\n",
      "    Most Common Ordered Ngrams:\n",
      "      full suppression smallest: 143\n",
      "      full suppression strategy: 128\n",
      "      suppression smallest possible: 114\n",
      "      objectives full suppression: 105\n",
      "      full suppression objectives: 87\n",
      "      conflict full suppression: 84\n",
      "      suppression objectives full: 72\n",
      "      involved coordinated suppression: 60\n",
      "      strategies full suppression: 59\n",
      "      conducive highly involved: 56\n",
      "\n",
      "  Risk Description: low\n",
      "    Most Common Ordered Ngrams:\n",
      "      suppression repair work: 21\n",
      "      suppression actions taken: 19\n",
      "      successful suppression efforts: 14\n",
      "      mop suppression repair: 14\n",
      "      suppression suppression repair: 14\n",
      "      full suppression strategy: 12\n",
      "      monitoring suppression rehabilitation: 11\n",
      "      unusual conditions shortages: 11\n",
      "      conditions shortages suppression: 11\n",
      "      suppression repair hazard: 11\n",
      "\n",
      "\n",
      "Word: containment\n",
      "  Risk Description: mod\n",
      "    Most Common Ordered Ngrams:\n",
      "      reflect containment wet: 16\n",
      "      updated reflect containment: 11\n",
      "      barriers spread containment: 10\n",
      "      containment lines place: 10\n",
      "      containment wet updated: 10\n",
      "      wet updated reflect: 10\n",
      "      reduced containment containment: 10\n",
      "      outside containment lines: 9\n",
      "      containment line around: 9\n",
      "      containment lines holding: 8\n",
      "\n",
      "  Risk Description: high\n",
      "    Most Common Ordered Ngrams:\n",
      "      outside containment lines: 14\n",
      "      containment past conducive: 10\n",
      "      past conducive large: 10\n",
      "      conducive large growth: 9\n",
      "      strategies probability depending: 8\n",
      "      probability depending containment: 8\n",
      "      creating resistance control: 8\n",
      "      control barriers roads: 8\n",
      "      escapes containment lines: 8\n",
      "      limited containment options: 8\n",
      "\n",
      "  Risk Description: low\n",
      "    Most Common Ordered Ngrams:\n",
      "      full containment june: 12\n",
      "      containment lines place: 12\n",
      "      fuels remain barriers: 9\n",
      "      feet fuels remain: 8\n",
      "      reduced percent containment: 8\n",
      "      percent containment june: 8\n",
      "      containment june full: 8\n",
      "      june full containment: 8\n",
      "      containment june external: 8\n",
      "      containment lines around: 7\n",
      "\n",
      "\n",
      "Word: structure\n",
      "  Risk Description: mod\n",
      "    Most Common Ordered Ngrams:\n",
      "      structure protection plans: 20\n",
      "      composition structure vegetation: 17\n",
      "      structure vegetation shifted: 14\n",
      "      vegetation shifted historic: 10\n",
      "      shifted historic conditions: 10\n",
      "      historic conditions towards: 9\n",
      "      structure composition vegetation: 9\n",
      "      organizational structure adequate: 9\n",
      "      structure protection measures: 8\n",
      "      departure historic conditions: 7\n",
      "\n",
      "  Risk Description: high\n",
      "    Most Common Ordered Ngrams:\n",
      "      composition structure vegetation: 30\n",
      "      structure composition vegetation: 20\n",
      "      departure historic conditions: 18\n",
      "      composition vegetation departure: 17\n",
      "      structure vegetation shifted: 15\n",
      "      altered composition structure: 15\n",
      "      point protection structure: 14\n",
      "      highly altered composition: 14\n",
      "      landscape effects outside: 12\n",
      "      vegetation shifted historic: 11\n",
      "\n",
      "  Risk Description: low\n",
      "    Most Common Ordered Ngrams:\n",
      "      vegetative composition structure: 7\n",
      "      structure similar historic: 7\n",
      "      composition structure vegetation: 6\n",
      "      composition structure similar: 6\n",
      "      structure vegetation shifted: 5\n",
      "      key components short: 5\n",
      "      structure protection plans: 5\n",
      "      similar historic key: 5\n",
      "      historic key components: 5\n",
      "      vegetation shifted historic: 4\n",
      "\n",
      "\n",
      "Word: communities\n",
      "  Risk Description: mod\n",
      "    Most Common Ordered Ngrams:\n",
      "      tribal community tribal: 23\n",
      "      community tribal expressed: 23\n",
      "      tribal expressed effects: 23\n",
      "      expressed effects communities: 23\n",
      "      effects communities much: 19\n",
      "      communities much consists: 19\n",
      "      much consists flashy: 19\n",
      "      consists flashy fuels: 19\n",
      "      smoke impacting communities: 17\n",
      "      highly visible communities: 13\n",
      "\n",
      "  Risk Description: high\n",
      "    Most Common Ordered Ngrams:\n",
      "      threats communities infrastructure: 26\n",
      "      smoke impacting communities: 24\n",
      "      communities infrastructure california: 23\n",
      "      expressed effects communities: 19\n",
      "      tribal community tribal: 19\n",
      "      community tribal expressed: 17\n",
      "      tribal expressed effects: 16\n",
      "      highly visible communities: 15\n",
      "      experienced major related: 15\n",
      "      major related incidents: 15\n",
      "\n",
      "  Risk Description: low\n",
      "    Most Common Ordered Ngrams:\n",
      "      external influences communities: 12\n",
      "      smoke communities little: 9\n",
      "      communities little acres: 9\n",
      "      little acres consumed: 9\n",
      "      communities smoke fairly: 8\n",
      "      smoke fairly localized: 8\n",
      "      fairly localized time: 8\n",
      "      localized time communities: 8\n",
      "      influences communities communities: 8\n",
      "      communities communities ollalie: 8\n",
      "\n",
      "\n",
      "Word: barriers\n",
      "  Risk Description: mod\n",
      "    Most Common Ordered Ngrams:\n",
      "      barriers spread barriers: 107\n",
      "      spread barriers spread: 64\n",
      "      barriers present limiting: 60\n",
      "      many barriers spread: 50\n",
      "      season barriers spread: 45\n",
      "      barriers seasonal severity: 41\n",
      "      barriers fuel breaks: 39\n",
      "      presence barriers fuel: 33\n",
      "      remaining barriers spread: 31\n",
      "      man made barriers: 29\n",
      "\n",
      "  Risk Description: high\n",
      "    Most Common Ordered Ngrams:\n",
      "      barriers spread barriers: 125\n",
      "      season barriers spread: 80\n",
      "      barriers present limiting: 66\n",
      "      barriers fuel breaks: 61\n",
      "      barriers seasonal severity: 55\n",
      "      spread barriers spread: 48\n",
      "      presence barriers fuel: 43\n",
      "      barriers spread roads: 41\n",
      "      spread barriers present: 39\n",
      "      barriers spread form: 38\n",
      "\n",
      "  Risk Description: low\n",
      "    Most Common Ordered Ngrams:\n",
      "      barriers spread barriers: 59\n",
      "      many barriers spread: 39\n",
      "      barriers present limiting: 35\n",
      "      spread barriers spread: 35\n",
      "      portion barriers spread: 27\n",
      "      barriers seasonal severity: 26\n",
      "      many barriers present: 23\n",
      "      barriers spread seasonal: 22\n",
      "      spread seasonal severity: 22\n",
      "      barriers fuel breaks: 16\n",
      "\n",
      "\n",
      "Word: smoke\n",
      "  Risk Description: mod\n",
      "    Most Common Ordered Ngrams:\n",
      "      smoke management smoke: 91\n",
      "      media activity smoke: 78\n",
      "      activity smoke management: 74\n",
      "      minimal media activity: 58\n",
      "      smoke external attention: 53\n",
      "      external attention focus: 52\n",
      "      media smoke management: 48\n",
      "      attention focus elevate: 48\n",
      "      external attention focused: 44\n",
      "      focus elevate level: 40\n",
      "\n",
      "  Risk Description: high\n",
      "    Most Common Ordered Ngrams:\n",
      "      smoke smoke sensitive: 142\n",
      "      likelihood smoke smoke: 120\n",
      "      smoke management smoke: 104\n",
      "      media activity smoke: 81\n",
      "      smoke sensitive complex: 80\n",
      "      sensitive complex mitigation: 80\n",
      "      complex mitigation actions: 80\n",
      "      activity smoke management: 74\n",
      "      minimal media activity: 67\n",
      "      external attention focus: 58\n",
      "\n",
      "  Risk Description: low\n",
      "    Most Common Ordered Ngrams:\n",
      "      smoke management smoke: 44\n",
      "      media smoke management: 42\n",
      "      media activity smoke: 31\n",
      "      activity smoke management: 30\n",
      "      sensitive media smoke: 28\n",
      "      attention focused level: 26\n",
      "      smoke external attention: 24\n",
      "      minimal media activity: 24\n",
      "      external attention focused: 22\n",
      "      media interest sensitive: 21\n",
      "\n",
      "\n"
     ]
    }
   ],
   "source": [
    "common_ordered_ngrams_by_risk = {}\n",
    "\n",
    "for word in target_words:\n",
    "    common_ordered_ngrams_by_risk[word] = {}\n",
    "    for risk_description, contexts in con_risk_dict[word].items(): \n",
    "\n",
    "        ordered_ngrams = extract_ordered_ngrams(contexts, 3)\n",
    "\n",
    "        ordered_ngram_counts = Counter(ordered_ngrams)\n",
    "\n",
    "        most_common_ordered_ngrams = ordered_ngram_counts.most_common(10)\n",
    "\n",
    "        common_ordered_ngrams_by_risk[word][risk_description] = most_common_ordered_ngrams\n",
    "\n",
    "for word, risk_descriptions in common_ordered_ngrams_by_risk.items():\n",
    "    print(f\"Word: {word}\")\n",
    "    for risk_description, ngram_counts in risk_descriptions.items():\n",
    "        print(f\"  Risk Description: {risk_description}\")\n",
    "        print(\"    Most Common Ordered Ngrams:\")\n",
    "        for ngram, count in ngram_counts:\n",
    "            print(f\"      {ngram}: {count}\")\n",
    "        print()  # Add an empty line between risk descriptions\n",
    "    print()  # Add an empty line between words"
   ]
  },
  {
   "cell_type": "code",
   "execution_count": null,
   "id": "554f4868",
   "metadata": {},
   "outputs": [],
   "source": []
  },
  {
   "cell_type": "markdown",
   "id": "2af3f26b",
   "metadata": {},
   "source": [
    "# Topic Modeling"
   ]
  },
  {
   "cell_type": "code",
   "execution_count": null,
   "id": "8e8eaf10",
   "metadata": {},
   "outputs": [],
   "source": []
  },
  {
   "cell_type": "markdown",
   "id": "ace181ac",
   "metadata": {},
   "source": [
    "# Sentiment Analyses "
   ]
  },
  {
   "cell_type": "code",
   "execution_count": null,
   "id": "e7b42997",
   "metadata": {},
   "outputs": [],
   "source": []
  },
  {
   "cell_type": "markdown",
   "id": "898916ea",
   "metadata": {},
   "source": [
    "## Sentiment in Relationship to Risk Decision"
   ]
  },
  {
   "cell_type": "code",
   "execution_count": null,
   "id": "d54353f2",
   "metadata": {},
   "outputs": [],
   "source": []
  },
  {
   "cell_type": "markdown",
   "id": "e8289834",
   "metadata": {},
   "source": [
    "# Risk Classification - Individual Tokens"
   ]
  },
  {
   "cell_type": "code",
   "execution_count": null,
   "id": "32673044",
   "metadata": {},
   "outputs": [],
   "source": []
  },
  {
   "cell_type": "code",
   "execution_count": 40,
   "id": "a9bc64ef",
   "metadata": {},
   "outputs": [
    {
     "data": {
      "text/plain": [
       "rrf_rr_desc\n",
       "mod     2888\n",
       "high    2862\n",
       "low     1915\n",
       "Name: count, dtype: int64"
      ]
     },
     "execution_count": 40,
     "metadata": {},
     "output_type": "execute_result"
    }
   ],
   "source": [
    "risk_levels = data['rrf_rr_desc'].value_counts()\n",
    "risk_levels"
   ]
  },
  {
   "cell_type": "code",
   "execution_count": null,
   "id": "41ebcc19",
   "metadata": {},
   "outputs": [],
   "source": []
  },
  {
   "cell_type": "markdown",
   "id": "57b127e9",
   "metadata": {},
   "source": [
    "Placeholder Text"
   ]
  },
  {
   "cell_type": "markdown",
   "id": "52b5a09b",
   "metadata": {},
   "source": [
    "## Relative Risk Decision and All Text"
   ]
  },
  {
   "cell_type": "markdown",
   "id": "f16410e6",
   "metadata": {},
   "source": [
    "In this section of the notebook, I explore using the combined text for each fire-risk combination to predict risk. By doing so, I am hopeful that I can gain insight into tokens potentially driving risk decisions. I'll explore different techniques, ensembles, and whatever is necessary to produce the most accurate model."
   ]
  },
  {
   "cell_type": "code",
   "execution_count": 41,
   "id": "d78b89b5",
   "metadata": {},
   "outputs": [],
   "source": [
    "combined_texts = data['combined_text']\n",
    "risk_labels = data['rrf_rr_desc']\n",
    "\n",
    "for label in risk_labels:\n",
    "    if label not in [\"high\", \"mod\", \"low\"]:\n",
    "        print(\"Within the data, there is a risk label that is erroneous. This should be looked into as soon as possible\")\n",
    "\n",
    "vectorizer =TfidfVectorizer()"
   ]
  },
  {
   "cell_type": "markdown",
   "id": "919a0bae",
   "metadata": {},
   "source": [
    "Explain Why I am doing"
   ]
  },
  {
   "cell_type": "code",
   "execution_count": 42,
   "id": "d87f097a",
   "metadata": {},
   "outputs": [],
   "source": [
    "high_other = data.copy()\n",
    "high_other['rrf_rr_desc'] = high_other['rrf_rr_desc'].apply(lambda x: 'other' if x in ['low', 'mod'] else x)\n",
    "\n",
    "high_other_comb_texts = high_other['combined_text']\n",
    "high_other_labels = high_other['rrf_rr_desc']"
   ]
  },
  {
   "cell_type": "markdown",
   "id": "3abda1c7",
   "metadata": {},
   "source": [
    "### Naive Bayes"
   ]
  },
  {
   "cell_type": "markdown",
   "id": "0e36aed3",
   "metadata": {},
   "source": [
    "Placeholder Text to describe what is happening"
   ]
  },
  {
   "cell_type": "code",
   "execution_count": 43,
   "id": "a5b19c0e",
   "metadata": {},
   "outputs": [],
   "source": [
    "def train_nb_classifier(combined_texts=None, risk_labels=None, test_size=0.2, random_state=2):\n",
    "    vectorizer = TfidfVectorizer()\n",
    "\n",
    "    x_nb = vectorizer.fit_transform(combined_texts)\n",
    "    y_nb = risk_labels\n",
    "\n",
    "    x_nb_train, x_nb_test, y_nb_train, y_nb_test = train_test_split(x_nb, y_nb, test_size=test_size, random_state=random_state)\n",
    "\n",
    "    nb_classifier = MultinomialNB()\n",
    "    nb_classifier.fit(x_nb_train, y_nb_train)\n",
    "\n",
    "    return nb_classifier, x_nb_train, x_nb_test, y_nb_train, y_nb_test\n",
    "\n"
   ]
  },
  {
   "cell_type": "markdown",
   "id": "ab0cc96e",
   "metadata": {},
   "source": [
    "#### 3 Risks"
   ]
  },
  {
   "cell_type": "code",
   "execution_count": 44,
   "id": "f69642fd",
   "metadata": {},
   "outputs": [],
   "source": [
    "nb_classifier, x_nb_train, x_nb_test, \\\n",
    "y_nb_train, y_nb_test = train_nb_classifier(combined_texts,risk_labels,.2,2);"
   ]
  },
  {
   "cell_type": "code",
   "execution_count": 45,
   "id": "54aa5b18",
   "metadata": {
    "scrolled": true
   },
   "outputs": [
    {
     "name": "stdout",
     "output_type": "stream",
     "text": [
      "The Naive Bayes classifier accuracy is 0.5388 or 53.88%\n",
      "\n",
      "\n",
      "Classification Report:\n",
      "              precision    recall  f1-score   support\n",
      "\n",
      "        high       0.63      0.81      0.71       552\n",
      "         low       0.56      0.01      0.02       400\n",
      "         mod       0.46      0.64      0.53       581\n",
      "\n",
      "    accuracy                           0.54      1533\n",
      "   macro avg       0.55      0.49      0.42      1533\n",
      "weighted avg       0.55      0.54      0.46      1533\n",
      "\n"
     ]
    }
   ],
   "source": [
    "y_nb_pred = nb_classifier.predict(x_nb_test)\n",
    "y_nb_train_pred = nb_classifier.predict(x_nb_train)\n",
    "\n",
    "nb_accuracy = accuracy_score(y_nb_test, y_nb_pred)\n",
    "\n",
    "print(f\"The Naive Bayes classifier accuracy is {nb_accuracy:.4f} or {nb_accuracy:.2%}\")\n",
    "print(\"\\n\")\n",
    "print(\"Classification Report:\")\n",
    "print(classification_report(y_nb_test, y_nb_pred))\n"
   ]
  },
  {
   "cell_type": "markdown",
   "id": "fb9ece58",
   "metadata": {},
   "source": [
    "###### Thoughts"
   ]
  },
  {
   "cell_type": "markdown",
   "id": "06234589",
   "metadata": {},
   "source": [
    "In this three class model, the model performs better than chance guessing. This is a start! However, I am not satisfied with the performance of the model. The macro average of f1-score being .42 is not where I would like it to be by any means. It is interesting thast the model performs significantly better on predicting high risk fires versus low, or moderate risk fires. It is also interesting just how poorly the model performs predicting low risk fires."
   ]
  },
  {
   "cell_type": "markdown",
   "id": "2aa6f43c",
   "metadata": {},
   "source": [
    "#### High vs Mod + Low"
   ]
  },
  {
   "cell_type": "code",
   "execution_count": 46,
   "id": "e43c10f0",
   "metadata": {},
   "outputs": [],
   "source": [
    "honb_classifier, x_honb_train, x_honb_test, \\\n",
    "y_honb_train, y_honb_test = train_nb_classifier(high_other_comb_texts, high_other_labels, 0.2, 2)"
   ]
  },
  {
   "cell_type": "code",
   "execution_count": 47,
   "id": "af1427ad",
   "metadata": {},
   "outputs": [
    {
     "name": "stdout",
     "output_type": "stream",
     "text": [
      "The Naive Bayes classifier accuracy is 0.6960 or 69.60%\n",
      "\n",
      "\n",
      "Classification Report:\n",
      "              precision    recall  f1-score   support\n",
      "\n",
      "        high       0.84      0.19      0.31       552\n",
      "       other       0.68      0.98      0.80       981\n",
      "\n",
      "    accuracy                           0.70      1533\n",
      "   macro avg       0.76      0.59      0.56      1533\n",
      "weighted avg       0.74      0.70      0.63      1533\n",
      "\n"
     ]
    }
   ],
   "source": [
    "y_honb_pred = honb_classifier.predict(x_honb_test)\n",
    "y_honb_train_pred = honb_classifier.predict(x_honb_train)\n",
    "\n",
    "honb_accuracy = accuracy_score(y_honb_test, y_honb_pred)\n",
    "\n",
    "print(f\"The Naive Bayes classifier accuracy is {honb_accuracy:.4f} or {honb_accuracy:.2%}\")\n",
    "print(\"\\n\")\n",
    "print(\"Classification Report:\")\n",
    "print(classification_report(y_honb_test, y_honb_pred))"
   ]
  },
  {
   "cell_type": "markdown",
   "id": "6c5333c5",
   "metadata": {},
   "source": [
    "### K Nearest Neighbors"
   ]
  },
  {
   "cell_type": "code",
   "execution_count": 48,
   "id": "fcabe535",
   "metadata": {},
   "outputs": [],
   "source": [
    "def train_knn_classifier(combined_texts=None, risk_labels=None, neighbors = 6, test_size=0.2, random_state=2):\n",
    "    x = vectorizer.fit_transform(combined_texts)\n",
    "    y = risk_labels.tolist()\n",
    "    xnn_train, xnn_test, ynn_train, ynn_test = train_test_split(x,y,test_size = 0.2, random_state = 2)\n",
    "    knn_fire = KNeighborsClassifier(n_neighbors = neighbors)\n",
    "    knn_fire.fit(xnn_train, ynn_train)\n",
    "    \n",
    "    return knn_fire, xnn_train, xnn_test, ynn_train, ynn_test\n",
    "\n",
    "def neighbor_number_search(min, max):\n",
    "    n_rng = np.arange(min,max)\n",
    "    train_acc = np.empty(len(n_rng))\n",
    "    test_acc = np.empty(len(n_rng))\n",
    "    \n",
    "    for i, k in enumerate(n_rng):\n",
    "        knn = KNeighborsClassifier(n_neighbors = k)\n",
    "        knn.fit(xnn_train, ynn_train)\n",
    "        \n",
    "        train_acc[i] = knn.score(xnn_train, ynn_train)\n",
    "        test_acc[i] = knn.score(xnn_test, ynn_test)\n",
    "    \n",
    "    plt.plot(n_rng, test_acc, label = 'Accuracy on Testing Data')\n",
    "    plt.plot(n_rng, train_acc, label = 'Accuracy on Training Data')\n",
    "    plt.legend()\n",
    "    plt.xlabel('# of Neighbors')\n",
    "    plt.ylabel('Accuracy')\n",
    "    plt.show()\n",
    "    "
   ]
  },
  {
   "cell_type": "code",
   "execution_count": 49,
   "id": "6a87fed5",
   "metadata": {},
   "outputs": [],
   "source": [
    "warnings.filterwarnings(\"ignore\", category=FutureWarning, module=\"sklearn.neighbors._classification\")\n",
    "\n",
    "knn_classifier, xnn_train, xnn_test, ynn_train, ynn_test \\\n",
    "    = train_knn_classifier(combined_texts, risk_labels, 6, .2, 2)"
   ]
  },
  {
   "cell_type": "code",
   "execution_count": 50,
   "id": "3a753656",
   "metadata": {},
   "outputs": [],
   "source": [
    "knn_pred = knn_classifier.predict(xnn_test)"
   ]
  },
  {
   "cell_type": "code",
   "execution_count": 81,
   "id": "2b4bc87d",
   "metadata": {},
   "outputs": [
    {
     "name": "stdout",
     "output_type": "stream",
     "text": [
      "0.3561643835616438\n"
     ]
    }
   ],
   "source": [
    "knn_score = knn_classifier.score(xnn_test,ynn_test)\n",
    "print(knn_score)"
   ]
  },
  {
   "cell_type": "code",
   "execution_count": 52,
   "id": "640cf1e0",
   "metadata": {},
   "outputs": [
    {
     "data": {
      "image/png": "[encoded data removed]",
      "text/plain": [
       "<Figure size 432x288 with 1 Axes>"
      ]
     },
     "metadata": {
      "needs_background": "light"
     },
     "output_type": "display_data"
    }
   ],
   "source": [
    "neighbor_number_search(5,17)"
   ]
  },
  {
   "cell_type": "code",
   "execution_count": null,
   "id": "cc316bbd",
   "metadata": {},
   "outputs": [],
   "source": []
  },
  {
   "cell_type": "code",
   "execution_count": null,
   "id": "dc4b6cae",
   "metadata": {},
   "outputs": [],
   "source": []
  },
  {
   "cell_type": "markdown",
   "id": "5b508571",
   "metadata": {},
   "source": [
    "### Penalized Logistic Regression"
   ]
  },
  {
   "cell_type": "code",
   "execution_count": 53,
   "id": "102afdaf",
   "metadata": {},
   "outputs": [],
   "source": [
    "def train_linear_reg(text, labels, penalty = 'l2', C = 1, max_iter = 500):\n",
    "    x = vectorizer.fit_transform(text)\n",
    "    y = labels.tolist()\n",
    "    \n",
    "    lrx_train, lrx_test, lry_train, lry_test = train_test_split(x, y, test_size = 0.2, random_state = 2)\n",
    "    \n",
    "    model = LogisticRegression(penalty = penalty, C = C, random_state = 2, max_iter = max_iter)\n",
    "    model.fit(lrx_train,lry_train)\n",
    "    \n",
    "    return(model, lrx_train, lrx_test, lry_train, lry_test)\n",
    "    \n",
    "    \n",
    "    "
   ]
  },
  {
   "cell_type": "markdown",
   "id": "88ed52b2",
   "metadata": {},
   "source": [
    "#### 3 Risks"
   ]
  },
  {
   "cell_type": "code",
   "execution_count": 54,
   "id": "ccf054e7",
   "metadata": {
    "scrolled": true
   },
   "outputs": [],
   "source": [
    "model, lrx_train, lrx_test,\\\n",
    "lry_train, lry_test = train_linear_reg(combined_texts,risk_labels,'l2',1,1000)"
   ]
  },
  {
   "cell_type": "code",
   "execution_count": 80,
   "id": "685fa0ec",
   "metadata": {},
   "outputs": [],
   "source": [
    "lry_pred = model.predict(lrx_test)\n",
    "plr_score = accuracy_score(lry_test, lry_pred)"
   ]
  },
  {
   "cell_type": "code",
   "execution_count": 56,
   "id": "730c4ceb",
   "metadata": {},
   "outputs": [
    {
     "name": "stdout",
     "output_type": "stream",
     "text": [
      "A penalized linear regression model classifying risk has an accuracy of 0.6060013046314416\n",
      "\n",
      "Classification Report:\n",
      "              precision    recall  f1-score   support\n",
      "\n",
      "        high       0.69      0.75      0.72       552\n",
      "         low       0.64      0.46      0.54       400\n",
      "         mod       0.51      0.56      0.54       581\n",
      "\n",
      "    accuracy                           0.61      1533\n",
      "   macro avg       0.61      0.59      0.60      1533\n",
      "weighted avg       0.61      0.61      0.60      1533\n",
      "\n"
     ]
    }
   ],
   "source": [
    "print(f\"A penalized linear regression model classifying risk has an accuracy of {score}\\n\")\n",
    "print(\"Classification Report:\")\n",
    "print(classification_report(lry_test, lry_pred))"
   ]
  },
  {
   "cell_type": "markdown",
   "id": "81027ec3",
   "metadata": {},
   "source": [
    "#### High vs Mod + Low"
   ]
  },
  {
   "cell_type": "code",
   "execution_count": 57,
   "id": "b4af51c3",
   "metadata": {},
   "outputs": [],
   "source": [
    "ho_model, ho_lrx_train, ho_lrx_test, ho_lry_train, ho_lry_test \\\n",
    "= train_linear_reg(high_other_comb_texts, high_other_labels, 'l2', 1, 1000)"
   ]
  },
  {
   "cell_type": "code",
   "execution_count": 58,
   "id": "f24db94b",
   "metadata": {},
   "outputs": [],
   "source": [
    "ho_lry_pred = ho_model.predict(ho_lrx_test)\n",
    "ho_score = accuracy_score(ho_lry_test, ho_lry_pred)"
   ]
  },
  {
   "cell_type": "code",
   "execution_count": 59,
   "id": "7ceec19d",
   "metadata": {},
   "outputs": [
    {
     "name": "stdout",
     "output_type": "stream",
     "text": [
      "The model accuracy is 0.7964774951076321\n",
      " \n",
      "Classification Report:\n",
      "              precision    recall  f1-score   support\n",
      "\n",
      "        high       0.77      0.62      0.69       552\n",
      "       other       0.81      0.90      0.85       981\n",
      "\n",
      "    accuracy                           0.80      1533\n",
      "   macro avg       0.79      0.76      0.77      1533\n",
      "weighted avg       0.79      0.80      0.79      1533\n",
      "\n"
     ]
    }
   ],
   "source": [
    "print(f\"The model accuracy is {ho_score}\")\n",
    "print(\" \\nClassification Report:\")\n",
    "print(classification_report(ho_lry_test, ho_lry_pred))"
   ]
  },
  {
   "cell_type": "code",
   "execution_count": null,
   "id": "0a1927cd",
   "metadata": {},
   "outputs": [],
   "source": []
  },
  {
   "cell_type": "markdown",
   "id": "9d2a4e54",
   "metadata": {},
   "source": [
    "### Random Forest "
   ]
  },
  {
   "cell_type": "code",
   "execution_count": 76,
   "id": "690e6f37",
   "metadata": {},
   "outputs": [],
   "source": [
    "def train_random_forest(text,labels,n_estimators = 500):\n",
    "    x = vectorizer.fit_transform(text)\n",
    "    y = labels.tolist()\n",
    "    \n",
    "    rfx_train, rfx_test, rfy_train, rfy_test = train_test_split(x, y, test_size = 0.2, random_state = 2)\n",
    "    rf_classifier = RandomForestClassifier(n_estimators= n_estimators, random_state = 2)\n",
    "    rf_classifier.fit(rfx_train, rfy_train)\n",
    "    \n",
    "    return(rf_classifier,rfx_train, rfx_test, rfy_train, rfy_test)\n",
    "\n",
    "def best_random_forest(text, labels, n_estimators=500):\n",
    "    x = vectorizer.fit_transform(text)\n",
    "    y = labels.tolist()\n",
    "    \n",
    "    rfx_train, rfx_test, rfy_train, rfy_test = train_test_split(x, y, test_size=0.2, random_state=2)\n",
    "    rf_classifier = RandomForestClassifier(n_estimators=n_estimators, random_state=2)\n",
    "\n",
    "\n",
    "    param_grid = {\n",
    "        'n_estimators': [100, 500, 1000],\n",
    "        'max_depth': [None, 10, 20, 30],\n",
    "        'min_samples_split': [2, 5, 10]\n",
    "    }\n",
    "\n",
    "    # Instantiate GridSearchCV\n",
    "    grid_search = GridSearchCV(rf_classifier, param_grid, cv=5, scoring='accuracy', n_jobs=-1)\n",
    "    grid_search.fit(rfx_train, rfy_train)\n",
    "\n",
    "    # Get the best model from grid search\n",
    "    best_rf_classifier = grid_search.best_estimator_\n",
    "\n",
    "    return best_rf_classifier, rfx_train, rfx_test, rfy_train, rfy_test"
   ]
  },
  {
   "cell_type": "code",
   "execution_count": 77,
   "id": "f9c60c66",
   "metadata": {},
   "outputs": [],
   "source": [
    "rf_classifier,rfx_train, rfx_test, rfy_train, rfy_test = train_random_forest(combined_texts,risk_labels)"
   ]
  },
  {
   "cell_type": "code",
   "execution_count": 78,
   "id": "139316ca",
   "metadata": {},
   "outputs": [
    {
     "name": "stdout",
     "output_type": "stream",
     "text": [
      "Accuracy: 0.5649054142204827\n"
     ]
    }
   ],
   "source": [
    "rfy_pred = rf_classifier.predict(rfx_test)\n",
    "rf_accuracy = accuracy_score(rfy_test, rfy_pred)\n",
    "print(\"Accuracy:\", rf_accuracy)"
   ]
  },
  {
   "cell_type": "code",
   "execution_count": 79,
   "id": "11a387be",
   "metadata": {},
   "outputs": [
    {
     "name": "stdout",
     "output_type": "stream",
     "text": [
      "Classification Report:\n",
      "               precision    recall  f1-score   support\n",
      "\n",
      "        high       0.63      0.78      0.70       552\n",
      "         low       0.66      0.30      0.41       400\n",
      "         mod       0.47      0.55      0.51       581\n",
      "\n",
      "    accuracy                           0.56      1533\n",
      "   macro avg       0.59      0.54      0.54      1533\n",
      "weighted avg       0.58      0.56      0.55      1533\n",
      "\n"
     ]
    }
   ],
   "source": [
    " print(\"Classification Report:\\n\", classification_report(rfy_test, rfy_pred))"
   ]
  },
  {
   "cell_type": "markdown",
   "id": "e3549b76",
   "metadata": {},
   "source": [
    "Now, I try some hyperparamater tuning to see if model performance can be improved without overfitting."
   ]
  },
  {
   "cell_type": "code",
   "execution_count": 74,
   "id": "a6c4d5fd",
   "metadata": {},
   "outputs": [
    {
     "name": "stdout",
     "output_type": "stream",
     "text": [
      "Best Model Accuracy: 0.5740378343118069\n",
      "Best Model Parameters: {'bootstrap': True, 'ccp_alpha': 0.0, 'class_weight': None, 'criterion': 'gini', 'max_depth': None, 'max_features': 'auto', 'max_leaf_nodes': None, 'max_samples': None, 'min_impurity_decrease': 0.0, 'min_samples_leaf': 1, 'min_samples_split': 10, 'min_weight_fraction_leaf': 0.0, 'n_estimators': 1000, 'n_jobs': None, 'oob_score': False, 'random_state': 2, 'verbose': 0, 'warm_start': False}\n"
     ]
    }
   ],
   "source": [
    "best_rf_classifier, rfx_train, rfx_test, rfy_train, rfy_test = train_random_forest(combined_texts, risk_labels)\n",
    "rfy_pred = best_rf_classifier.predict(rfx_test)\n",
    "brf_accuracy = accuracy_score(rfy_test, rfy_pred)\n",
    "print(\"Best Model Accuracy:\", brf_accuracy)\n",
    "print(\"Best Model Parameters:\", best_rf_classifier.get_params())"
   ]
  },
  {
   "cell_type": "markdown",
   "id": "a0e3cd01",
   "metadata": {},
   "source": [
    "### Insights"
   ]
  },
  {
   "cell_type": "markdown",
   "id": "a2c7e913",
   "metadata": {},
   "source": [
    "#### Best Performing Method"
   ]
  },
  {
   "cell_type": "code",
   "execution_count": null,
   "id": "abc77b94",
   "metadata": {},
   "outputs": [],
   "source": []
  },
  {
   "cell_type": "code",
   "execution_count": 85,
   "id": "2789a518",
   "metadata": {},
   "outputs": [
    {
     "data": {
      "image/png": "[encoded data removed]",
      "text/plain": [
       "<Figure size 720x432 with 1 Axes>"
      ]
     },
     "metadata": {
      "needs_background": "light"
     },
     "output_type": "display_data"
    }
   ],
   "source": [
    "model_names = ['Naive Bayes', 'K Nearest Neighbors', 'Penalized Linear Regression', 'Random Forest']\n",
    "accuracy_scores = [nb_accuracy, knn_score, plr_score, rf_accuracy]\n",
    "\n",
    "sorted_indices = sorted(range(len(accuracy_scores)), key=lambda k: accuracy_scores[k], reverse=True)\n",
    "sorted_model_names = [model_names[i] for i in sorted_indices]\n",
    "sorted_accuracy_scores = [accuracy_scores[i] for i in sorted_indices]\n",
    "\n",
    "plt.figure(figsize=(10, 6))\n",
    "plt.bar(sorted_model_names, sorted_accuracy_scores, color=['blue', 'green', 'orange', 'red'])\n",
    "plt.title('Accuracy Scores of Different Models (Descending Order)')\n",
    "plt.xlabel('Models')\n",
    "plt.ylabel('Accuracy Score')\n",
    "plt.ylim(0, 1) \n",
    "\n",
    "for i, v in enumerate(sorted_accuracy_scores):\n",
    "    plt.text(i, v + 0.01, f'{v:.2f}', ha='center', va='bottom', fontsize=10)\n",
    "\n",
    "plt.show()"
   ]
  },
  {
   "cell_type": "code",
   "execution_count": null,
   "id": "6f326952",
   "metadata": {},
   "outputs": [],
   "source": []
  },
  {
   "cell_type": "markdown",
   "id": "9129c882",
   "metadata": {},
   "source": [
    "#### Important Features"
   ]
  },
  {
   "cell_type": "code",
   "execution_count": null,
   "id": "f5ea9fd9",
   "metadata": {},
   "outputs": [],
   "source": []
  },
  {
   "cell_type": "markdown",
   "id": "f63bc3d9",
   "metadata": {},
   "source": [
    "#### Closing Thoughts"
   ]
  },
  {
   "cell_type": "code",
   "execution_count": null,
   "id": "b37c4184",
   "metadata": {},
   "outputs": [],
   "source": []
  },
  {
   "cell_type": "markdown",
   "id": "1b3bda98",
   "metadata": {},
   "source": [
    "## Relative Risk Decision and rrf_notes"
   ]
  },
  {
   "cell_type": "markdown",
   "id": "6df9a7e4",
   "metadata": {},
   "source": []
  },
  {
   "cell_type": "code",
   "execution_count": 123,
   "id": "ba12911f",
   "metadata": {},
   "outputs": [],
   "source": [
    "def train_and_evaluate_models_v3(combined_texts, risk_labels, test_size=0.2, random_state=2):\n",
    "    vectorizer = TfidfVectorizer()\n",
    "    x = vectorizer.fit_transform(combined_texts)\n",
    "    y = risk_labels.tolist()\n",
    "    \n",
    "    # Train Naive Bayes classifier\n",
    "    nb_classifier, x_nb_train, x_nb_test, y_nb_train, y_nb_test = train_nb_classifier(combined_texts, risk_labels, test_size, random_state)\n",
    "    nb_pred = nb_classifier.predict(x_nb_test)\n",
    "    nb_accuracy = accuracy_score(y_nb_test, nb_pred)\n",
    "    nb_report = classification_report(y_nb_test, nb_pred, output_dict=True)\n",
    "\n",
    "    # Train KNN classifier\n",
    "    knn_classifier, xnn_train, xnn_test, ynn_train, ynn_test = train_knn_classifier(combined_texts, risk_labels, test_size=test_size, random_state=random_state)\n",
    "    knn_pred = knn_classifier.predict(xnn_test)\n",
    "    knn_accuracy = accuracy_score(ynn_test, knn_pred)\n",
    "    knn_report = classification_report(ynn_test, knn_pred, output_dict=True)\n",
    "\n",
    "    # Train Penalized Linear Regression\n",
    "    lr_classifier, lrx_train, lrx_test, lry_train, lry_test = train_linear_reg(combined_texts, risk_labels)\n",
    "    lr_pred = lr_classifier.predict(lrx_test)\n",
    "    lr_accuracy = accuracy_score(lry_test, lr_pred)\n",
    "    lr_report = classification_report(lry_test, lr_pred, output_dict=True)\n",
    "\n",
    "    # Train Random Forest\n",
    "    rf_classifier, rfx_train, rfx_test, rfy_train, rfy_test = train_random_forest(combined_texts, risk_labels)\n",
    "    rf_pred = rf_classifier.predict(rfx_test)\n",
    "    rf_accuracy = accuracy_score(rfy_test, rf_pred)\n",
    "    rf_report = classification_report(rfy_test, rf_pred, output_dict=True)\n",
    "\n",
    "\n",
    "    reports_df = pd.DataFrame({\n",
    "        'Model': ['Naive Bayes', 'KNN', 'Linear Regression', 'Random Forest'],\n",
    "        'Accuracy': [nb_accuracy, knn_accuracy, lr_accuracy, rf_accuracy],\n",
    "        'Classification Report': [nb_report, knn_report, lr_report, rf_report]\n",
    "    })\n",
    "\n",
    "    # Extract 'macro avg' and 'weighted avg' values for precision, recall, and f1-score\n",
    "    macro_avg_precision = []\n",
    "    macro_avg_recall = []\n",
    "    macro_avg_f1_score = []\n",
    "    weighted_avg_precision = []\n",
    "    weighted_avg_recall = []\n",
    "    weighted_avg_f1_score = []\n",
    "\n",
    "    for report in reports_df['Classification Report']:\n",
    "        macro_avg_precision.append(report['macro avg']['precision'])\n",
    "        macro_avg_recall.append(report['macro avg']['recall'])\n",
    "        macro_avg_f1_score.append(report['macro avg']['f1-score'])\n",
    "        weighted_avg_precision.append(report['weighted avg']['precision'])\n",
    "        weighted_avg_recall.append(report['weighted avg']['recall'])\n",
    "        weighted_avg_f1_score.append(report['weighted avg']['f1-score'])\n",
    "\n",
    "\n",
    "    comparison_df = pd.DataFrame({\n",
    "        'Model': reports_df['Model'],\n",
    "        'Accuracy': reports_df['Accuracy'],\n",
    "        'Macro Avg Precision': macro_avg_precision,\n",
    "        'Macro Avg Recall': macro_avg_recall,\n",
    "        'Macro Avg F1-Score': macro_avg_f1_score,\n",
    "        'Weighted Avg Precision': weighted_avg_precision,\n",
    "        'Weighted Avg Recall': weighted_avg_recall,\n",
    "        'Weighted Avg F1-Score': weighted_avg_f1_score\n",
    "    })\n",
    "\n",
    "\n",
    "\n",
    "\n",
    "    # Choose the best model based on accuracy\n",
    "    best_model_index = reports_df['Accuracy'].idxmax()\n",
    "    best_model = reports_df.loc[best_model_index, 'Model']\n",
    "\n",
    "    return best_model, reports_df, comparison_df\n",
    "\n"
   ]
  },
  {
   "cell_type": "code",
   "execution_count": 112,
   "id": "5ea1a5d4",
   "metadata": {},
   "outputs": [],
   "source": [
    "rrf_texts = data['rrf_notes']\n"
   ]
  },
  {
   "cell_type": "markdown",
   "id": "6c8918b3",
   "metadata": {},
   "source": [
    "###  Choosing a Model"
   ]
  },
  {
   "cell_type": "code",
   "execution_count": 124,
   "id": "e8d89ea2",
   "metadata": {},
   "outputs": [
    {
     "name": "stdout",
     "output_type": "stream",
     "text": [
      "Reports DataFrame:\n",
      "               Model  Accuracy  \\\n",
      "0        Naive Bayes  0.538813   \n",
      "1                KNN  0.356164   \n",
      "2  Linear Regression  0.606001   \n",
      "3      Random Forest  0.564905   \n",
      "\n",
      "                               Classification Report  \n",
      "0  {'high': {'precision': 0.6288515406162465, 're...  \n",
      "1  {'high': {'precision': 0.3903345724907063, 're...  \n",
      "2  {'high': {'precision': 0.6887417218543046, 're...  \n",
      "3  {'high': {'precision': 0.6327433628318584, 're...  \n",
      "\n",
      "Comparison DataFrame:\n",
      "               Model  Accuracy  Macro Avg Precision  Macro Avg Recall  \\\n",
      "0        Naive Bayes  0.538813             0.547889          0.488727   \n",
      "1                KNN  0.356164             0.347125          0.345803   \n",
      "2  Linear Regression  0.606001             0.612862          0.593556   \n",
      "3      Random Forest  0.564905             0.587703          0.540928   \n",
      "\n",
      "   Macro Avg F1-Score  Weighted Avg Precision  Weighted Avg Recall  \\\n",
      "0            0.422879                0.545452             0.538813   \n",
      "1            0.345897                0.353982             0.356164   \n",
      "2            0.597775                0.608726             0.606001   \n",
      "3            0.538505                0.578393             0.564905   \n",
      "\n",
      "   Weighted Avg F1-Score  \n",
      "0               0.464503  \n",
      "1               0.354526  \n",
      "2               0.602826  \n",
      "3               0.550388  \n",
      "Best Model: Linear Regression\n"
     ]
    }
   ],
   "source": [
    "# Example usage\n",
    "best_model, reports_df, comparison_df = train_and_evaluate_models_v3(combined_texts, risk_labels)\n",
    "print(\"Best Model:\", best_model)\n"
   ]
  },
  {
   "cell_type": "code",
   "execution_count": 125,
   "id": "14af0986",
   "metadata": {},
   "outputs": [
    {
     "data": {
      "text/html": [
       "<div>\n",
       "<style scoped>\n",
       "    .dataframe tbody tr th:only-of-type {\n",
       "        vertical-align: middle;\n",
       "    }\n",
       "\n",
       "    .dataframe tbody tr th {\n",
       "        vertical-align: top;\n",
       "    }\n",
       "\n",
       "    .dataframe thead th {\n",
       "        text-align: right;\n",
       "    }\n",
       "</style>\n",
       "<table border=\"1\" class=\"dataframe\">\n",
       "  <thead>\n",
       "    <tr style=\"text-align: right;\">\n",
       "      <th></th>\n",
       "      <th>Model</th>\n",
       "      <th>Accuracy</th>\n",
       "      <th>Macro Avg Precision</th>\n",
       "      <th>Macro Avg Recall</th>\n",
       "      <th>Macro Avg F1-Score</th>\n",
       "      <th>Weighted Avg Precision</th>\n",
       "      <th>Weighted Avg Recall</th>\n",
       "      <th>Weighted Avg F1-Score</th>\n",
       "    </tr>\n",
       "  </thead>\n",
       "  <tbody>\n",
       "    <tr>\n",
       "      <th>0</th>\n",
       "      <td>Naive Bayes</td>\n",
       "      <td>0.538813</td>\n",
       "      <td>0.547889</td>\n",
       "      <td>0.488727</td>\n",
       "      <td>0.422879</td>\n",
       "      <td>0.545452</td>\n",
       "      <td>0.538813</td>\n",
       "      <td>0.464503</td>\n",
       "    </tr>\n",
       "    <tr>\n",
       "      <th>1</th>\n",
       "      <td>KNN</td>\n",
       "      <td>0.356164</td>\n",
       "      <td>0.347125</td>\n",
       "      <td>0.345803</td>\n",
       "      <td>0.345897</td>\n",
       "      <td>0.353982</td>\n",
       "      <td>0.356164</td>\n",
       "      <td>0.354526</td>\n",
       "    </tr>\n",
       "    <tr>\n",
       "      <th>2</th>\n",
       "      <td>Linear Regression</td>\n",
       "      <td>0.606001</td>\n",
       "      <td>0.612862</td>\n",
       "      <td>0.593556</td>\n",
       "      <td>0.597775</td>\n",
       "      <td>0.608726</td>\n",
       "      <td>0.606001</td>\n",
       "      <td>0.602826</td>\n",
       "    </tr>\n",
       "    <tr>\n",
       "      <th>3</th>\n",
       "      <td>Random Forest</td>\n",
       "      <td>0.564905</td>\n",
       "      <td>0.587703</td>\n",
       "      <td>0.540928</td>\n",
       "      <td>0.538505</td>\n",
       "      <td>0.578393</td>\n",
       "      <td>0.564905</td>\n",
       "      <td>0.550388</td>\n",
       "    </tr>\n",
       "  </tbody>\n",
       "</table>\n",
       "</div>"
      ],
      "text/plain": [
       "               Model  Accuracy  Macro Avg Precision  Macro Avg Recall  \\\n",
       "0        Naive Bayes  0.538813             0.547889          0.488727   \n",
       "1                KNN  0.356164             0.347125          0.345803   \n",
       "2  Linear Regression  0.606001             0.612862          0.593556   \n",
       "3      Random Forest  0.564905             0.587703          0.540928   \n",
       "\n",
       "   Macro Avg F1-Score  Weighted Avg Precision  Weighted Avg Recall  \\\n",
       "0            0.422879                0.545452             0.538813   \n",
       "1            0.345897                0.353982             0.356164   \n",
       "2            0.597775                0.608726             0.606001   \n",
       "3            0.538505                0.578393             0.564905   \n",
       "\n",
       "   Weighted Avg F1-Score  \n",
       "0               0.464503  \n",
       "1               0.354526  \n",
       "2               0.602826  \n",
       "3               0.550388  "
      ]
     },
     "execution_count": 125,
     "metadata": {},
     "output_type": "execute_result"
    }
   ],
   "source": [
    "comparison_df"
   ]
  },
  {
   "cell_type": "markdown",
   "id": "cd64b0ae",
   "metadata": {},
   "source": [
    "### Tuning the Model"
   ]
  },
  {
   "cell_type": "code",
   "execution_count": null,
   "id": "07dbe49d",
   "metadata": {},
   "outputs": [],
   "source": []
  },
  {
   "cell_type": "markdown",
   "id": "cb1aaf12",
   "metadata": {},
   "source": [
    "## Individual Risk Category Decisions"
   ]
  },
  {
   "cell_type": "code",
   "execution_count": null,
   "id": "46b2e048",
   "metadata": {},
   "outputs": [],
   "source": []
  },
  {
   "cell_type": "markdown",
   "id": "44f5ddf2",
   "metadata": {},
   "source": [
    "# Risk Classification - N-Grams"
   ]
  },
  {
   "cell_type": "code",
   "execution_count": null,
   "id": "85979d75",
   "metadata": {},
   "outputs": [],
   "source": []
  },
  {
   "cell_type": "code",
   "execution_count": null,
   "id": "0eb5dcd3",
   "metadata": {},
   "outputs": [],
   "source": []
  },
  {
   "cell_type": "markdown",
   "id": "3adf024b",
   "metadata": {},
   "source": [
    "# Final Model and Insights"
   ]
  },
  {
   "cell_type": "code",
   "execution_count": null,
   "id": "44c5e58a",
   "metadata": {},
   "outputs": [],
   "source": []
  },
  {
   "cell_type": "markdown",
   "id": "24faf653",
   "metadata": {},
   "source": [
    "# Specific Questions"
   ]
  },
  {
   "cell_type": "code",
   "execution_count": null,
   "id": "94bf944e",
   "metadata": {},
   "outputs": [],
   "source": []
  },
  {
   "cell_type": "code",
   "execution_count": null,
   "id": "4dcd0ce9",
   "metadata": {},
   "outputs": [],
   "source": []
  },
  {
   "cell_type": "code",
   "execution_count": null,
   "id": "37c9f1ab",
   "metadata": {},
   "outputs": [],
   "source": []
  },
  {
   "cell_type": "code",
   "execution_count": null,
   "id": "f2fe4d14",
   "metadata": {},
   "outputs": [],
   "source": []
  },
  {
   "cell_type": "code",
   "execution_count": null,
   "id": "1c9292f8",
   "metadata": {},
   "outputs": [],
   "source": []
  }
 ],
 "metadata": {
  "kernelspec": {
   "display_name": "Python 3 (ipykernel)",
   "language": "python",
   "name": "python3"
  },
  "language_info": {
   "codemirror_mode": {
    "name": "ipython",
    "version": 3
   },
   "file_extension": ".py",
   "mimetype": "text/x-python",
   "name": "python",
   "nbconvert_exporter": "python",
   "pygments_lexer": "ipython3",
   "version": "3.9.12"
  },
  "toc": {
   "base_numbering": 1,
   "nav_menu": {},
   "number_sections": true,
   "sideBar": true,
   "skip_h1_title": false,
   "title_cell": "Table of Contents",
   "title_sidebar": "Contents",
   "toc_cell": false,
   "toc_position": {
    "height": "calc(100% - 180px)",
    "left": "10px",
    "top": "150px",
    "width": "282.222px"
   },
   "toc_section_display": true,
   "toc_window_display": true
  }
 },
 "nbformat": 4,
 "nbformat_minor": 5
}
