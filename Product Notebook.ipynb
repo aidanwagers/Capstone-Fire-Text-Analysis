{
 "cells": [
  {
   "cell_type": "markdown",
   "id": "6c4c624d",
   "metadata": {},
   "source": [
    "# Table of Contents"
   ]
  },
  {
   "cell_type": "code",
   "execution_count": 9,
   "id": "51dc3619",
   "metadata": {},
   "outputs": [
    {
     "data": {
      "application/javascript": [
       "Jupyter.notebook.execute_cells([0]);\n"
      ],
      "text/plain": [
       "<IPython.core.display.Javascript object>"
      ]
     },
     "metadata": {},
     "output_type": "display_data"
    }
   ],
   "source": [
    "%%javascript\n",
    "Jupyter.notebook.execute_cells([0]);"
   ]
  },
  {
   "cell_type": "markdown",
   "id": "27ed07b6",
   "metadata": {},
   "source": [
    "# Introduction"
   ]
  },
  {
   "cell_type": "code",
   "execution_count": null,
   "id": "aa78906d",
   "metadata": {},
   "outputs": [],
   "source": []
  },
  {
   "cell_type": "markdown",
   "id": "bb2858d7",
   "metadata": {},
   "source": [
    "# Imports"
   ]
  },
  {
   "cell_type": "markdown",
   "id": "f49e44ef",
   "metadata": {},
   "source": [
    "In the below cell I import a variety of python libraries and modules, preparing my notebook for text analysis, natural language processing, machine learning, and more."
   ]
  },
  {
   "cell_type": "code",
   "execution_count": 2,
   "id": "18fcc8ee",
   "metadata": {},
   "outputs": [
    {
     "name": "stderr",
     "output_type": "stream",
     "text": [
      "[nltk_data] Downloading package punkt to\n",
      "[nltk_data]     C:\\Users\\aidan\\AppData\\Roaming\\nltk_data...\n",
      "[nltk_data]   Package punkt is already up-to-date!\n",
      "[nltk_data] Downloading package words to\n",
      "[nltk_data]     C:\\Users\\aidan\\AppData\\Roaming\\nltk_data...\n",
      "[nltk_data]   Package words is already up-to-date!\n"
     ]
    }
   ],
   "source": [
    "import nltk\n",
    "from datetime import timedelta\n",
    "import os\n",
    "nltk.download('punkt')\n",
    "from nltk.corpus import stopwords\n",
    "import numpy as np\n",
    "import sqlite3\n",
    "from collections import Counter, defaultdict\n",
    "from string import punctuation\n",
    "import re\n",
    "import pandas as pd\n",
    "import matplotlib.pyplot as plt\n",
    "from pprint import pprint\n",
    "sw = stopwords.words('english')\n",
    "import janitor\n",
    "import spacy\n",
    "from textblob import TextBlob\n",
    "tb = TextBlob('')\n",
    "from spacytextblob.spacytextblob import SpacyTextBlob\n",
    "nlp = spacy.load('en_core_web_lg')\n",
    "import seaborn as sns\n",
    "import scipy.stats as stats\n",
    "from scipy.stats import kruskal\n",
    "from gensim.models import CoherenceModel\n",
    "from gensim import corpora\n",
    "from gensim.models.ldamodel import LdaModel\n",
    "import ipywidgets as widgets\n",
    "from ipywidgets import Layout\n",
    "from ipywidgets import interact_manual, interactive_output\n",
    "from IPython.display import display, clear_output\n",
    "import pyLDAvis.gensim_models as gensimvis\n",
    "import pyLDAvis\n",
    "import spacy\n",
    "import math\n",
    "from textblob import TextBlob\n",
    "tb = TextBlob('')\n",
    "from spacytextblob.spacytextblob import SpacyTextBlob\n",
    "from sklearn.feature_extraction.text import TfidfVectorizer\n",
    "from sklearn.model_selection import train_test_split\n",
    "from sklearn.naive_bayes import MultinomialNB\n",
    "from sklearn.metrics import accuracy_score\n",
    "from sklearn.ensemble import RandomForestClassifier\n",
    "from sklearn.ensemble import BaggingClassifier\n",
    "from sklearn.svm import SVC\n",
    "from sklearn.neighbors import KNeighborsClassifier\n",
    "from sklearn.multiclass import OneVsRestClassifier\n",
    "from sklearn.preprocessing import LabelEncoder\n",
    "from random import randint\n",
    "from sklearn.model_selection import RandomizedSearchCV\n",
    "import winsound\n",
    "from sklearn.model_selection import cross_val_score\n",
    "from sklearn.metrics import classification_report, confusion_matrix\n",
    "from sklearn.linear_model import LogisticRegression\n",
    "from spellchecker import SpellChecker\n",
    "from textblob import TextBlob\n",
    "import eli5\n",
    "from eli5.sklearn import PermutationImportance\n",
    "import warnings\n",
    "from sklearn.model_selection import GridSearchCV\n",
    "from nltk.tokenize import word_tokenize\n",
    "from nltk.probability import FreqDist\n",
    "from nltk.corpus import words\n",
    "from nltk.util import ngrams\n",
    "nltk.download('words')\n",
    "import random\n",
    "from wordcloud import WordCloud\n",
    "import xgboost as xgb\n",
    "import matplotlib.dates as mdates\n",
    "duration = 1000  # milliseconds\n",
    "freq = 440  # Hz\n"
   ]
  },
  {
   "cell_type": "code",
   "execution_count": 3,
   "id": "c5ac98c5",
   "metadata": {},
   "outputs": [
    {
     "name": "stderr",
     "output_type": "stream",
     "text": [
      "[nltk_data] Downloading package punkt to\n",
      "[nltk_data]     C:\\Users\\aidan\\AppData\\Roaming\\nltk_data...\n",
      "[nltk_data]   Package punkt is already up-to-date!\n"
     ]
    }
   ],
   "source": [
    "from oarrCleaning import OARR_Clean_and_Check, cl_names"
   ]
  },
  {
   "cell_type": "code",
   "execution_count": 4,
   "id": "4031c489",
   "metadata": {
    "scrolled": true
   },
   "outputs": [],
   "source": [
    "OARR = pd.read_csv(\"OA_RRA_l2.csv\", encoding='latin-1')"
   ]
  },
  {
   "cell_type": "markdown",
   "id": "5f84cec5",
   "metadata": {},
   "source": [
    "# Basic Cleaning and Prep"
   ]
  },
  {
   "cell_type": "markdown",
   "id": "43c6ff24",
   "metadata": {},
   "source": [
    "In the below cells, I first utilize pyjanitor to clean the column names in the df. I then utilize a custom function that I created to perform the following tasks on the data:\n",
    "\n",
    "- Fix an erroneous entry in the geo_area_name column\n",
    "- Check the geo_area_name column for proper completion\n",
    "- Ensure that each entry has a unique identifier\n",
    "- Check the fire_name column and print any nan values\n",
    "- Other column quality checks (see function file for a full breakdown)"
   ]
  },
  {
   "cell_type": "code",
   "execution_count": 5,
   "id": "4e175807",
   "metadata": {
    "scrolled": true
   },
   "outputs": [],
   "source": [
    "OARR = cl_names(OARR)"
   ]
  },
  {
   "cell_type": "code",
   "execution_count": 6,
   "id": "dbad6caf",
   "metadata": {},
   "outputs": [
    {
     "name": "stdout",
     "output_type": "stream",
     "text": [
      "The row(s) at index Index([3890, 4050, 8616, 16751, 16752, 16753, 16754, 16755, 16756, 16757], dtype='int64') have 'nan' string values in 'fire_name'.\n"
     ]
    }
   ],
   "source": [
    "OARR_Clean_and_Check(OARR)"
   ]
  },
  {
   "cell_type": "markdown",
   "id": "b2d9dbb9",
   "metadata": {},
   "source": [
    "# Process Text"
   ]
  },
  {
   "cell_type": "markdown",
   "id": "f0f2ccd5",
   "metadata": {},
   "source": [
    "In this section of the notebook I use functions I have built to process the text data in the fire reports. Below, I import said functions."
   ]
  },
  {
   "cell_type": "code",
   "execution_count": 7,
   "id": "11f53ca4",
   "metadata": {},
   "outputs": [
    {
     "name": "stderr",
     "output_type": "stream",
     "text": [
      "[nltk_data] Downloading package punkt to\n",
      "[nltk_data]     C:\\Users\\aidan\\AppData\\Roaming\\nltk_data...\n",
      "[nltk_data]   Package punkt is already up-to-date!\n"
     ]
    }
   ],
   "source": [
    "from text_functions import set_columns_to_string, process_text_column, categorize_columns, firestops"
   ]
  },
  {
   "cell_type": "code",
   "execution_count": 8,
   "id": "53f0bba9",
   "metadata": {},
   "outputs": [],
   "source": [
    "OARR = OARR.assign(wfdss_risk=(OARR['wfdss_id'].astype(str) + \" - \" + OARR['rrf_rr_desc']))\n",
    "column_order = ['wfdss_risk'] + [col for col in OARR.columns if col != 'wfdss_risk']\n",
    "OARR = OARR[column_order]\n",
    "\n",
    "if 'unnamed_0' in OARR.columns:\n",
    "    OARR = OARR.drop('unnamed_0', axis=1)"
   ]
  },
  {
   "cell_type": "code",
   "execution_count": 9,
   "id": "d3282091",
   "metadata": {},
   "outputs": [],
   "source": [
    "notes = []\n",
    "for column in OARR.columns:\n",
    "    if 'notes' in column:\n",
    "        notes.append(column) \n",
    "        \n",
    "descs = []\n",
    "for column in OARR.columns:\n",
    "    if 'desc' in column:\n",
    "        descs.append(column)\n",
    "        \n",
    "ids =[]\n",
    "for column in OARR.columns:\n",
    "    if '_id' in column:\n",
    "        ids.append(column)\n",
    "        \n",
    "ctk = ids + notes + descs\n",
    "\n",
    "x_notes = notes + ['combined_text']\n",
    "\n",
    "text_risk_id = OARR[ctk]"
   ]
  },
  {
   "cell_type": "code",
   "execution_count": 10,
   "id": "42006500",
   "metadata": {},
   "outputs": [],
   "source": [
    "unique_sentence_dict = {col: {} for col in notes}\n",
    "combined_text = []"
   ]
  },
  {
   "cell_type": "code",
   "execution_count": 11,
   "id": "b7745452",
   "metadata": {
    "scrolled": true
   },
   "outputs": [],
   "source": [
    "grouped_df = OARR.groupby('wfdss_risk')\n",
    "for fire_id, group_df in grouped_df:\n",
    "    for column_name in notes:\n",
    "        tokens = process_text_column(group_df, column_name)\n",
    "        \n",
    "        # Store the unique tokens for each column in a sub-dictionary\n",
    "        unique_sentence_dict[column_name][fire_id] = tokens\n",
    "        \n",
    "        for token in tokens:\n",
    "            if token not in combined_text:\n",
    "                combined_text.append(token)"
   ]
  },
  {
   "cell_type": "code",
   "execution_count": 12,
   "id": "51d2c3a5",
   "metadata": {},
   "outputs": [],
   "source": [
    "temp = pd.DataFrame(unique_sentence_dict)\n",
    "temp.reset_index(inplace=True)\n",
    "temp.rename(columns={'index': 'wfdss_risk'}, inplace=True)\n",
    "\n",
    "for col in notes:\n",
    "    temp[col] = temp[col].apply(lambda x: ' '.join(x) if isinstance(x, list) else x)\n",
    "\n",
    "temp.replace(\"\", np.nan, inplace=True)\n",
    "temp['combined_text'] = temp.apply(lambda row: ' '.join(str(x) for x in row.drop(['wfdss_risk']) if isinstance(x, str)), axis=1)"
   ]
  },
  {
   "cell_type": "code",
   "execution_count": 13,
   "id": "a2c5f8b4",
   "metadata": {},
   "outputs": [],
   "source": [
    "if 'combined_text' in temp.columns:\n",
    "    temp = temp.drop('combined_text', axis =1)\n",
    "\n",
    "for col in notes:\n",
    "    temp[col] = temp[col].fillna(\"\")  \n",
    "    temp[col] = temp[col].apply(lambda raw: \" \".join(raw.split()) if isinstance(raw, str) else raw)\n",
    "    temp[col] = temp[col].apply(lambda raw: \" \".join([t.lower() for t in raw.split() if t.lower().isalpha() and t.lower() not in sw and t.lower() not in firestops]) if isinstance(raw, str) else \"\")"
   ]
  },
  {
   "cell_type": "code",
   "execution_count": 14,
   "id": "8d5b6c7f",
   "metadata": {},
   "outputs": [],
   "source": [
    "grouped_df2 = OARR.groupby('wfdss_risk')"
   ]
  },
  {
   "cell_type": "code",
   "execution_count": 15,
   "id": "72f4f8c8",
   "metadata": {},
   "outputs": [],
   "source": [
    "def get_last_value(col):\n",
    "    unique_values = col.unique()\n",
    "    if len(unique_values) > 1:\n",
    "        return col.iloc[-1]\n",
    "    else:\n",
    "        return unique_values[0]"
   ]
  },
  {
   "cell_type": "code",
   "execution_count": 16,
   "id": "dfae9c70",
   "metadata": {},
   "outputs": [],
   "source": [
    "result_df = grouped_df2.apply(lambda group: group.apply(get_last_value))\n",
    "\n",
    "result_df.reset_index(drop=True, inplace=True)\n"
   ]
  },
  {
   "cell_type": "code",
   "execution_count": 17,
   "id": "b165e776",
   "metadata": {},
   "outputs": [],
   "source": [
    "for column in notes:\n",
    "    result_df[column] = temp[column]\n",
    "data = result_df\n",
    "data['combined_text'] = data[[col for col in notes]].apply(lambda row: ' '.join(row), axis=1)"
   ]
  },
  {
   "cell_type": "code",
   "execution_count": 18,
   "id": "d787f1d1",
   "metadata": {},
   "outputs": [],
   "source": [
    "for id_ in data['wfdss_risk'].unique():\n",
    "    mask = data['wfdss_risk'] == id_\n",
    "\n",
    "    for col in notes:\n",
    "        for i, row in data[mask].iterrows():\n",
    "            if i > 0 and not pd.isnull(row[col]) and not pd.isnull(data.loc[i - 1, col]):\n",
    "                previous_text = data.loc[i - 1, col]\n",
    "                current_text = row[col]\n",
    "                new_text = current_text.replace(previous_text, '').strip()\n",
    "                data.at[i, col] = new_text\n",
    "\n",
    "data['combined_text'] = data[notes].apply(lambda row: ' '.join(row), axis=1)\n"
   ]
  },
  {
   "cell_type": "markdown",
   "id": "96b137aa",
   "metadata": {},
   "source": [
    "# Data Overview "
   ]
  },
  {
   "cell_type": "code",
   "execution_count": 19,
   "id": "1141fe05",
   "metadata": {},
   "outputs": [
    {
     "name": "stdout",
     "output_type": "stream",
     "text": [
      "98.52576647097196\n"
     ]
    }
   ],
   "source": [
    "data['multi-jurisdictional'] = data.apply(lambda row: 1 if sum(row[col] >= 1 for \\\n",
    "col in ['usfs', 'ancsa', 'blm', 'bia_tribal', 'c_l', 'nps', 'other', 'state', 'usfws', 'doi', 'federal']) \\\n",
    "> 1 else 0, axis=1)\n",
    "\n",
    "percentage_multi_jurisdictional = (data['multi-jurisdictional'].sum() / len(data)) * 100\n",
    "\n",
    "print(f\"{percentage_multi_jurisdictional}\")"
   ]
  },
  {
   "cell_type": "code",
   "execution_count": 20,
   "id": "3b02e288",
   "metadata": {},
   "outputs": [
    {
     "name": "stdout",
     "output_type": "stream",
     "text": [
      "98.05609915198956\n"
     ]
    }
   ],
   "source": [
    "percentage_federal = (data['federal'].sum() / len(data)) * 100\n",
    "print(percentage_federal)"
   ]
  },
  {
   "cell_type": "code",
   "execution_count": 21,
   "id": "6ba0725f",
   "metadata": {},
   "outputs": [
    {
     "name": "stdout",
     "output_type": "stream",
     "text": [
      "The earliest fire report in the data is: 2011-04-28 17:10:00\n",
      "The most recent fire report in the data is: 2022-11-23 13:27:00\n",
      "In total, the data is comprised of 7665 entries over about 4226 days and 6195 unique fire-risk combinations. \n"
     ]
    }
   ],
   "source": [
    "data['start_date_time'] = pd.to_datetime(data['start_date_time'])\n",
    "\n",
    "# Date and Fire Summary Statistics\n",
    "earliest_date_time = data['start_date_time'].min()\n",
    "newest_date_time = data['start_date_time'].max()\n",
    "date_diff = newest_date_time - earliest_date_time\n",
    "total_rows = len(data)\n",
    "total_fires = len(data['wfdss_id'].unique())\n",
    "\n",
    "print(\"The earliest fire report in the data is:\", earliest_date_time)\n",
    "print(\"The most recent fire report in the data is:\", newest_date_time)\n",
    "print(f\"In total, the data is comprised of {total_rows} entries over about {date_diff.days} days and {total_fires} unique fire-risk combinations. \")"
   ]
  },
  {
   "cell_type": "markdown",
   "id": "6332cca9",
   "metadata": {},
   "source": [
    "## Risk Changes"
   ]
  },
  {
   "cell_type": "code",
   "execution_count": 22,
   "id": "58eff4d0",
   "metadata": {},
   "outputs": [
    {
     "data": {
      "image/png": "[encoded data removed]",
      "text/plain": [
       "<Figure size 432x288 with 1 Axes>"
      ]
     },
     "metadata": {
      "needs_background": "light"
     },
     "output_type": "display_data"
    }
   ],
   "source": [
    "entry_counts = data['wfdss_id'].value_counts()\n",
    "\n",
    "# Plot the distribution of entry counts\n",
    "entry_counts.value_counts().sort_index().plot(kind='bar', color='skyblue')\n",
    "plt.title('Distribution of Entry Counts per ID')\n",
    "plt.xlabel('Number of Entries')\n",
    "plt.ylabel('Number of IDs')\n",
    "plt.show()"
   ]
  },
  {
   "cell_type": "code",
   "execution_count": null,
   "id": "d3d723f8",
   "metadata": {},
   "outputs": [],
   "source": []
  },
  {
   "cell_type": "markdown",
   "id": "cb03c0b9",
   "metadata": {},
   "source": [
    "# Text Overview"
   ]
  },
  {
   "cell_type": "markdown",
   "id": "5c83d37a",
   "metadata": {},
   "source": [
    "### Common Tokens"
   ]
  },
  {
   "cell_type": "code",
   "execution_count": 23,
   "id": "d3547294",
   "metadata": {},
   "outputs": [
    {
     "data": {
      "image/png": "[encoded data removed]",
      "text/plain": [
       "<Figure size 576x576 with 1 Axes>"
      ]
     },
     "metadata": {
      "needs_background": "light"
     },
     "output_type": "display_data"
    }
   ],
   "source": [
    "all_text = \"\".join(data['combined_text'])\n",
    "text = all_text\n",
    "\n",
    "colors = [\"#000000\"]\n",
    "\n",
    "wordcloud = WordCloud(background_color=\"white\", max_words=500, width=1000, height=600,\n",
    "                      color_func=lambda *args, **kwargs: colors[0])\n",
    "\n",
    "wordcloud.generate(all_text)\n",
    "\n",
    "# Display the word cloud\n",
    "plt.figure(figsize=(8, 8), facecolor=None)\n",
    "plt.imshow(wordcloud)\n",
    "plt.axis(\"off\")\n",
    "plt.tight_layout(pad=0)\n",
    "plt.show()"
   ]
  },
  {
   "cell_type": "markdown",
   "id": "ba9a6396",
   "metadata": {},
   "source": [
    "### Common N-grams"
   ]
  },
  {
   "cell_type": "code",
   "execution_count": 24,
   "id": "775c767e",
   "metadata": {},
   "outputs": [],
   "source": [
    "def count_ngrams(text, n):\n",
    "    tokens = word_tokenize(text)  \n",
    "    n_grams = ngrams(tokens, n)\n",
    "    n_gram_freq = Counter(n_grams)\n",
    "    sorted_n_grams = dict(sorted(n_gram_freq.items(), key=lambda item: item[1], reverse=True))\n",
    "    \n",
    "    \n",
    "    return sorted_n_grams"
   ]
  },
  {
   "cell_type": "code",
   "execution_count": 25,
   "id": "eca30560",
   "metadata": {},
   "outputs": [],
   "source": [
    "result = count_ngrams(text, 2)"
   ]
  },
  {
   "cell_type": "code",
   "execution_count": 26,
   "id": "0dc4d803",
   "metadata": {},
   "outputs": [
    {
     "name": "stdout",
     "output_type": "stream",
     "text": [
      "('course', 'action'): 2360 times\n",
      "('barriers', 'spread'): 2348 times\n",
      "('external', 'influences'): 2233 times\n",
      "('seasonal', 'severity'): 1994 times\n",
      "('fuel', 'moistures'): 1636 times\n",
      "('season', 'ending'): 1581 times\n",
      "('incident', 'objectives'): 1391 times\n",
      "('fuel', 'conditions'): 1355 times\n",
      "('time', 'season'): 1350 times\n",
      "('time', 'year'): 1149 times\n",
      "('weather', 'conditions'): 1079 times\n",
      "('private', 'property'): 1077 times\n",
      "('incident', 'strategies'): 1070 times\n",
      "('ending', 'event'): 1038 times\n",
      "('fuel', 'moisture'): 1024 times\n"
     ]
    }
   ],
   "source": [
    "count = 0\n",
    "for n_gram, frequency in result.items():\n",
    "    if count < 15:\n",
    "        print(f\"{n_gram}: {frequency} times\")\n",
    "        count += 1\n",
    "    else:\n",
    "        break"
   ]
  },
  {
   "cell_type": "markdown",
   "id": "002dfa65",
   "metadata": {},
   "source": [
    "## Broad Data Information"
   ]
  },
  {
   "cell_type": "code",
   "execution_count": 27,
   "id": "273a2a46",
   "metadata": {},
   "outputs": [],
   "source": [
    "def completion_percentage(df, columns_to_process):\n",
    "    completion_dict = {}\n",
    "\n",
    "    for column in columns_to_process:\n",
    "        total_count = len(df)\n",
    "        non_empty_count = df[column].apply(lambda x: x.strip() if isinstance(x, str) else x).replace('', pd.NA).notna().sum()\n",
    "        \n",
    "        if total_count > 0:\n",
    "            perc_completion = non_empty_count / total_count * 100\n",
    "        else:\n",
    "            perc_completion = 0\n",
    "        \n",
    "        completion_dict[column] = perc_completion\n",
    "    print(\"Below is the percantage of entires with at least some unique text for a fire-risk grouping:\")\n",
    "    return completion_dict\n",
    "\n",
    "def basic_text(df, columns_to_process):\n",
    "    results = {}\n",
    "    \n",
    "    for column in columns_to_process:\n",
    "        concatenated_text = df[column].astype(str).str.cat(sep=' ')\n",
    "\n",
    "        text_clean = [word for word in concatenated_text.split()]\n",
    "        c = Counter(text_clean)\n",
    "\n",
    "        total_tokens = len(text_clean)\n",
    "        unique_tokens = len(set(text_clean))\n",
    "\n",
    "        lex_diversity = unique_tokens / total_tokens if total_tokens != 0 else \"NA\"\n",
    "        avg_token_len = np.mean([len(word) for word in text_clean])\n",
    "        top_10 = c.most_common(10)\n",
    "\n",
    "        avg_tokens_per_entry = df[column].apply(lambda x: len(str(x).split())).mean()\n",
    "        \n",
    "        \n",
    "        results[column] = {\n",
    "            'total_tokens': total_tokens,\n",
    "            'unique_tokens': unique_tokens,\n",
    "            'average_tokens' : avg_tokens_per_entry,\n",
    "            'avg_token_length': avg_token_len,\n",
    "            'lexical_diversity': lex_diversity,\n",
    "            'top_10': top_10,\n",
    "        }\n",
    "    results_df = pd.DataFrame(results)\n",
    "    return results_df\n",
    "\n",
    "def input_with_timeout(prompt, timeout):\n",
    "    import select\n",
    "    import sys\n",
    "\n",
    "    print(prompt)\n",
    "    sys.stdout.flush()\n",
    "    rlist, _, _ = select.select([sys.stdin], [], [], timeout)\n",
    "    if rlist:\n",
    "        return input().strip()\n",
    "    else:\n",
    "        return None"
   ]
  },
  {
   "cell_type": "markdown",
   "id": "aac4f278",
   "metadata": {},
   "source": [
    "### Completion of  Notes Fields"
   ]
  },
  {
   "cell_type": "code",
   "execution_count": 28,
   "id": "f1ee5155",
   "metadata": {
    "scrolled": true
   },
   "outputs": [
    {
     "name": "stdout",
     "output_type": "stream",
     "text": [
      "Below is the percantage of entires with at least some unique text for a fire-risk grouping:\n"
     ]
    },
    {
     "data": {
      "text/plain": [
       "{'hazf_notes': 91.29810828440965,\n",
       " 'probf_notes': 88.81930854533594,\n",
       " 'valf_notes': 91.1545988258317,\n",
       " 'rrf_notes': 86.43183300717547,\n",
       " 'spf_notes': 85.58382257012394,\n",
       " 'impdif_f_notes': 87.71037181996087,\n",
       " 'orgf_notes': 72.56360078277886}"
      ]
     },
     "execution_count": 28,
     "metadata": {},
     "output_type": "execute_result"
    }
   ],
   "source": [
    "completion_percentage(data,notes)"
   ]
  },
  {
   "cell_type": "markdown",
   "id": "939e8f3d",
   "metadata": {},
   "source": [
    "### Summary Statistics of Notes Fields"
   ]
  },
  {
   "cell_type": "code",
   "execution_count": 29,
   "id": "753a6385",
   "metadata": {
    "scrolled": false
   },
   "outputs": [
    {
     "data": {
      "text/html": [
       "<div>\n",
       "<style scoped>\n",
       "    .dataframe tbody tr th:only-of-type {\n",
       "        vertical-align: middle;\n",
       "    }\n",
       "\n",
       "    .dataframe tbody tr th {\n",
       "        vertical-align: top;\n",
       "    }\n",
       "\n",
       "    .dataframe thead th {\n",
       "        text-align: right;\n",
       "    }\n",
       "</style>\n",
       "<table border=\"1\" class=\"dataframe\">\n",
       "  <thead>\n",
       "    <tr style=\"text-align: right;\">\n",
       "      <th></th>\n",
       "      <th>total_tokens</th>\n",
       "      <th>unique_tokens</th>\n",
       "      <th>average_tokens</th>\n",
       "      <th>avg_token_length</th>\n",
       "      <th>lexical_diversity</th>\n",
       "      <th>top_10</th>\n",
       "    </tr>\n",
       "  </thead>\n",
       "  <tbody>\n",
       "    <tr>\n",
       "      <th>hazf_notes</th>\n",
       "      <td>193483</td>\n",
       "      <td>6148</td>\n",
       "      <td>25.242401</td>\n",
       "      <td>6.543438</td>\n",
       "      <td>0.031775</td>\n",
       "      <td>[(fuel, 6516), (behavior, 5146), (fuels, 5086)...</td>\n",
       "    </tr>\n",
       "    <tr>\n",
       "      <th>probf_notes</th>\n",
       "      <td>158328</td>\n",
       "      <td>6007</td>\n",
       "      <td>20.655969</td>\n",
       "      <td>6.502558</td>\n",
       "      <td>0.03794</td>\n",
       "      <td>[(barriers, 5283), (season, 4599), (spread, 34...</td>\n",
       "    </tr>\n",
       "    <tr>\n",
       "      <th>valf_notes</th>\n",
       "      <td>190057</td>\n",
       "      <td>9795</td>\n",
       "      <td>24.795434</td>\n",
       "      <td>6.934435</td>\n",
       "      <td>0.051537</td>\n",
       "      <td>[(private, 3395), (cultural, 2331), (infrastru...</td>\n",
       "    </tr>\n",
       "    <tr>\n",
       "      <th>rrf_notes</th>\n",
       "      <td>146982</td>\n",
       "      <td>6998</td>\n",
       "      <td>19.175734</td>\n",
       "      <td>6.868399</td>\n",
       "      <td>0.047611</td>\n",
       "      <td>[(relative, 2340), (fuel, 1637), (fuels, 1632)...</td>\n",
       "    </tr>\n",
       "    <tr>\n",
       "      <th>spf_notes</th>\n",
       "      <td>139675</td>\n",
       "      <td>6767</td>\n",
       "      <td>18.22244</td>\n",
       "      <td>7.315132</td>\n",
       "      <td>0.048448</td>\n",
       "      <td>[(objectives, 3843), (private, 2847), (externa...</td>\n",
       "    </tr>\n",
       "    <tr>\n",
       "      <th>impdif_f_notes</th>\n",
       "      <td>161584</td>\n",
       "      <td>6032</td>\n",
       "      <td>21.080757</td>\n",
       "      <td>7.199958</td>\n",
       "      <td>0.03733</td>\n",
       "      <td>[(incident, 2533), (functional, 2336), (limite...</td>\n",
       "    </tr>\n",
       "    <tr>\n",
       "      <th>orgf_notes</th>\n",
       "      <td>139169</td>\n",
       "      <td>6942</td>\n",
       "      <td>18.156425</td>\n",
       "      <td>7.213237</td>\n",
       "      <td>0.049882</td>\n",
       "      <td>[(type, 2667), (objectives, 2375), (incident, ...</td>\n",
       "    </tr>\n",
       "  </tbody>\n",
       "</table>\n",
       "</div>"
      ],
      "text/plain": [
       "               total_tokens unique_tokens average_tokens avg_token_length  \\\n",
       "hazf_notes           193483          6148      25.242401         6.543438   \n",
       "probf_notes          158328          6007      20.655969         6.502558   \n",
       "valf_notes           190057          9795      24.795434         6.934435   \n",
       "rrf_notes            146982          6998      19.175734         6.868399   \n",
       "spf_notes            139675          6767       18.22244         7.315132   \n",
       "impdif_f_notes       161584          6032      21.080757         7.199958   \n",
       "orgf_notes           139169          6942      18.156425         7.213237   \n",
       "\n",
       "               lexical_diversity  \\\n",
       "hazf_notes              0.031775   \n",
       "probf_notes              0.03794   \n",
       "valf_notes              0.051537   \n",
       "rrf_notes               0.047611   \n",
       "spf_notes               0.048448   \n",
       "impdif_f_notes           0.03733   \n",
       "orgf_notes              0.049882   \n",
       "\n",
       "                                                           top_10  \n",
       "hazf_notes      [(fuel, 6516), (behavior, 5146), (fuels, 5086)...  \n",
       "probf_notes     [(barriers, 5283), (season, 4599), (spread, 34...  \n",
       "valf_notes      [(private, 3395), (cultural, 2331), (infrastru...  \n",
       "rrf_notes       [(relative, 2340), (fuel, 1637), (fuels, 1632)...  \n",
       "spf_notes       [(objectives, 3843), (private, 2847), (externa...  \n",
       "impdif_f_notes  [(incident, 2533), (functional, 2336), (limite...  \n",
       "orgf_notes      [(type, 2667), (objectives, 2375), (incident, ...  "
      ]
     },
     "execution_count": 29,
     "metadata": {},
     "output_type": "execute_result"
    }
   ],
   "source": [
    "results_df = basic_text(data,notes)\n",
    "results_df.transpose()"
   ]
  },
  {
   "cell_type": "code",
   "execution_count": 30,
   "id": "92a87978",
   "metadata": {
    "scrolled": true
   },
   "outputs": [
    {
     "data": {
      "text/html": [
       "<div>\n",
       "<style scoped>\n",
       "    .dataframe tbody tr th:only-of-type {\n",
       "        vertical-align: middle;\n",
       "    }\n",
       "\n",
       "    .dataframe tbody tr th {\n",
       "        vertical-align: top;\n",
       "    }\n",
       "\n",
       "    .dataframe thead th {\n",
       "        text-align: right;\n",
       "    }\n",
       "</style>\n",
       "<table border=\"1\" class=\"dataframe\">\n",
       "  <thead>\n",
       "    <tr style=\"text-align: right;\">\n",
       "      <th></th>\n",
       "      <th>average_tokens</th>\n",
       "      <th>avg_token_length</th>\n",
       "      <th>lexical_diversity</th>\n",
       "      <th>top_10</th>\n",
       "      <th>total_tokens</th>\n",
       "      <th>unique_tokens</th>\n",
       "    </tr>\n",
       "  </thead>\n",
       "  <tbody>\n",
       "    <tr>\n",
       "      <th>combined_text</th>\n",
       "      <td>147.329159</td>\n",
       "      <td>6.917737</td>\n",
       "      <td>0.015104</td>\n",
       "      <td>[(fuel, 12415), (fuels, 10156), (private, 9326...</td>\n",
       "      <td>1129278</td>\n",
       "      <td>17057</td>\n",
       "    </tr>\n",
       "  </tbody>\n",
       "</table>\n",
       "</div>"
      ],
      "text/plain": [
       "              average_tokens avg_token_length lexical_diversity  \\\n",
       "combined_text     147.329159         6.917737          0.015104   \n",
       "\n",
       "                                                          top_10 total_tokens  \\\n",
       "combined_text  [(fuel, 12415), (fuels, 10156), (private, 9326...      1129278   \n",
       "\n",
       "              unique_tokens  \n",
       "combined_text         17057  "
      ]
     },
     "execution_count": 30,
     "metadata": {},
     "output_type": "execute_result"
    }
   ],
   "source": [
    "at_results = basic_text(data,['combined_text'])\n",
    "at_results.transpose()"
   ]
  },
  {
   "cell_type": "markdown",
   "id": "cee76486",
   "metadata": {},
   "source": [
    "## Differences By Risk"
   ]
  },
  {
   "cell_type": "markdown",
   "id": "3e755566",
   "metadata": {},
   "source": [
    "###### High"
   ]
  },
  {
   "cell_type": "code",
   "execution_count": 157,
   "id": "ab4731da",
   "metadata": {},
   "outputs": [],
   "source": [
    "def train_logistic_reg_for_one_risk(text, labels, risk = 'high', penalty='l2', C=1, max_iter=500):\n",
    "    # Convert labels to binary: 1 for 'high risk' and 0 for 'other'\n",
    "    labels_binary = labels.apply(lambda x: 1 if x == risk else 0)\n",
    "    \n",
    "    x = vectorizer.fit_transform(text)\n",
    "    y = labels_binary.tolist()\n",
    "    \n",
    "    lrx_train, lrx_test, lry_train, lry_test = train_test_split(x, y, test_size=0.2, random_state=2)\n",
    "    \n",
    "    model = LogisticRegression(penalty=penalty, C=C, random_state=2, max_iter=max_iter)\n",
    "    model.fit(lrx_train, lry_train)\n",
    "    \n",
    "    return model, lrx_train, lrx_test, lry_train, lry_test"
   ]
  },
  {
   "cell_type": "code",
   "execution_count": 165,
   "id": "e217a21c",
   "metadata": {},
   "outputs": [],
   "source": [
    "def risk_other_machine(df, target_risk):\n",
    "    copy = df.copy()    \n",
    "    copy['rrf_rr_desc'] = copy['rrf_rr_desc'].apply(lambda x: 'other' if x != target_risk else x)\n",
    "    copy_comb = copy['combined_text']\n",
    "    copy_labels = copy['rrf_rr_desc']\n",
    "    \n",
    "    return copy_comb, copy_labels"
   ]
  },
  {
   "cell_type": "code",
   "execution_count": 172,
   "id": "bb4774d9",
   "metadata": {},
   "outputs": [],
   "source": [
    "high_other_comb_texts, high_other_labels = risk_other_machine(data, 'high')\n",
    "mod_other_comb_texts, mod_other_labels = risk_other_machine(data, 'mod')\n",
    "low_other_comb_texts, low_other_labels = risk_other_machine(data,'low')"
   ]
  },
  {
   "cell_type": "code",
   "execution_count": 167,
   "id": "218d2cc4",
   "metadata": {},
   "outputs": [
    {
     "name": "stdout",
     "output_type": "stream",
     "text": [
      "The model accuracy is 0.7964774951076321\n",
      "\n",
      "Classification Report:\n",
      "              precision    recall  f1-score   support\n",
      "\n",
      "           0       0.81      0.90      0.85       981\n",
      "           1       0.77      0.62      0.69       552\n",
      "\n",
      "    accuracy                           0.80      1533\n",
      "   macro avg       0.79      0.76      0.77      1533\n",
      "weighted avg       0.79      0.80      0.79      1533\n",
      "\n"
     ]
    }
   ],
   "source": [
    "ho_model_high_risk, ho_lrx_train_high_risk, ho_lrx_test_high_risk, ho_lry_train_high_risk, ho_lry_test_high_risk \\\n",
    "    = train_logistic_reg_for_one_risk(high_other_comb_texts, high_other_labels, 'high','l2', 1, 1000)\n",
    "\n",
    "ho_lry_pred_high_risk = ho_model_high_risk.predict(ho_lrx_test_high_risk)\n",
    "ho_score_high_risk = accuracy_score(ho_lry_test_high_risk, ho_lry_pred_high_risk)\n",
    "\n",
    "print(f\"The model accuracy is {ho_score_high_risk}\")\n",
    "print(\"\\nClassification Report:\")\n",
    "print(classification_report(ho_lry_test_high_risk, ho_lry_pred_high_risk))"
   ]
  },
  {
   "cell_type": "code",
   "execution_count": 168,
   "id": "b94ad609",
   "metadata": {
    "scrolled": true
   },
   "outputs": [
    {
     "name": "stdout",
     "output_type": "stream",
     "text": [
      "Feature: extreme, Coefficient: 4.967278913815581\n",
      "Feature: dry, Coefficient: 3.080155686925375\n",
      "Feature: structures, Coefficient: 3.0428456532716357\n",
      "Feature: large, Coefficient: 2.495758377662233\n",
      "Feature: difficult, Coefficient: 2.472532110309322\n",
      "Feature: team, Coefficient: 2.447416885834606\n",
      "Feature: state, Coefficient: 2.3840279694045963\n",
      "Feature: homes, Coefficient: 2.2353642013571284\n",
      "Feature: continuous, Coefficient: 2.2214947352848764\n",
      "Feature: record, Coefficient: 2.1821903050749074\n",
      "Feature: imt, Coefficient: 2.0479331385162336\n",
      "Feature: evacuations, Coefficient: 2.005251263710495\n",
      "Feature: communities, Coefficient: 2.0021197332431218\n",
      "Feature: throughout, Coefficient: 1.9792924761846107\n",
      "Feature: long, Coefficient: 1.9647846303098824\n",
      "Feature: crown, Coefficient: 1.9469276657341863\n",
      "Feature: availability, Coefficient: 1.9451836488006538\n",
      "Feature: community, Coefficient: 1.9125717677077896\n",
      "Feature: spotting, Coefficient: 1.9051218781987753\n",
      "Feature: private, Coefficient: 1.8914392084734881\n"
     ]
    }
   ],
   "source": [
    "feature_names = vectorizer.get_feature_names_out()\n",
    "\n",
    "coefficients = ho_model_high_risk.coef_[0]\n",
    "\n",
    "feature_coefficients = dict(zip(feature_names, coefficients))\n",
    "\n",
    "sorted_features = sorted(feature_coefficients.items(), key=lambda x: x[1], reverse=True)\n",
    "\n",
    "top_features = sorted_features[:20] \n",
    "for feature, coefficient in top_features:\n",
    "    print(f\"Feature: {feature}, Coefficient: {coefficient}\")"
   ]
  },
  {
   "cell_type": "markdown",
   "id": "49a541ad",
   "metadata": {},
   "source": [
    "###### Moderate"
   ]
  },
  {
   "cell_type": "code",
   "execution_count": 175,
   "id": "6850cc0c",
   "metadata": {
    "scrolled": true
   },
   "outputs": [
    {
     "name": "stdout",
     "output_type": "stream",
     "text": [
      "The model accuracy is 0.6151337247227658\n",
      "\n",
      "Classification Report:\n",
      "              precision    recall  f1-score   support\n",
      "\n",
      "           0       0.64      0.87      0.74       952\n",
      "           1       0.48      0.20      0.28       581\n",
      "\n",
      "    accuracy                           0.62      1533\n",
      "   macro avg       0.56      0.53      0.51      1533\n",
      "weighted avg       0.58      0.62      0.56      1533\n",
      "\n"
     ]
    }
   ],
   "source": [
    "mod_logreg_model, modx_train, modx_test, mody_train, mody_test \\\n",
    "=train_logistic_reg_for_one_risk(mod_other_comb_texts, mod_other_labels, 'mod','l2', 1, 1000)\n",
    "mody_pred = mod_logreg_model.predict(modx_test)\n",
    "mod_logreg_acc = accuracy_score(mody_test, mody_pred)\n",
    "\n",
    "print(f\"The model accuracy is {mod_logreg_acc}\")\n",
    "print(\"\\nClassification Report:\")\n",
    "print(classification_report(mody_test, mody_pred))"
   ]
  },
  {
   "cell_type": "code",
   "execution_count": 177,
   "id": "bd856d06",
   "metadata": {},
   "outputs": [
    {
     "name": "stdout",
     "output_type": "stream",
     "text": [
      "Feature: still, Coefficient: 2.0477254451736275\n",
      "Feature: average, Coefficient: 1.6434273518630784\n",
      "Feature: scars, Coefficient: 1.6221020963720856\n",
      "Feature: consists, Coefficient: 1.5329817089138131\n",
      "Feature: away, Coefficient: 1.4572253486806332\n",
      "Feature: mitigated, Coefficient: 1.4318488237626685\n",
      "Feature: solely, Coefficient: 1.373769420301688\n",
      "Feature: efforts, Coefficient: 1.3430590790599508\n",
      "Feature: vegetation, Coefficient: 1.332073471364472\n",
      "Feature: hunting, Coefficient: 1.2954144467171547\n",
      "Feature: slightly, Coefficient: 1.2675309330346178\n",
      "Feature: sufficient, Coefficient: 1.2356228936457827\n",
      "Feature: short, Coefficient: 1.2275438418215538\n",
      "Feature: containment, Coefficient: 1.2083918796574313\n",
      "Feature: organization, Coefficient: 1.191447300660525\n",
      "Feature: term, Coefficient: 1.1267809023489432\n",
      "Feature: surface, Coefficient: 1.1153390091515014\n",
      "Feature: joker, Coefficient: 1.1127915679735803\n",
      "Feature: although, Coefficient: 1.1069534243764918\n",
      "Feature: adequate, Coefficient: 1.1002268728063123\n"
     ]
    }
   ],
   "source": [
    "feature_names = vectorizer.get_feature_names_out()\n",
    "\n",
    "coefficients = mod_logreg_model.coef_[0]\n",
    "\n",
    "feature_coefficients = dict(zip(feature_names, coefficients))\n",
    "\n",
    "sorted_features = sorted(feature_coefficients.items(), key=lambda x: x[1], reverse=True)\n",
    "\n",
    "top_features = sorted_features[:20] \n",
    "for feature, coefficient in top_features:\n",
    "    print(f\"Feature: {feature}, Coefficient: {coefficient}\")"
   ]
  },
  {
   "cell_type": "markdown",
   "id": "72bb212a",
   "metadata": {},
   "source": [
    "###### Low"
   ]
  },
  {
   "cell_type": "code",
   "execution_count": 178,
   "id": "cbaaae96",
   "metadata": {},
   "outputs": [
    {
     "name": "stdout",
     "output_type": "stream",
     "text": [
      "The model accuracy is 0.79191128506197\n",
      "\n",
      "Classification Report:\n",
      "              precision    recall  f1-score   support\n",
      "\n",
      "           0       0.80      0.96      0.87      1133\n",
      "           1       0.75      0.30      0.43       400\n",
      "\n",
      "    accuracy                           0.79      1533\n",
      "   macro avg       0.77      0.63      0.65      1533\n",
      "weighted avg       0.78      0.79      0.76      1533\n",
      "\n"
     ]
    }
   ],
   "source": [
    "low_logreg_model, lowx_train, lowx_test, lowy_train, lowy_test = train_logistic_reg_for_one_risk(low_other_comb_texts, low_other_labels, 'low', 'l2', 1, 1000)\n",
    "lowy_pred = low_logreg_model.predict(lowx_test)\n",
    "low_logreg_acc = accuracy_score(lowy_test, lowy_pred)\n",
    "\n",
    "print(f\"The model accuracy is {low_logreg_acc}\")\n",
    "print(\"\\nClassification Report:\")\n",
    "print(classification_report(lowy_test, lowy_pred))\n"
   ]
  },
  {
   "cell_type": "code",
   "execution_count": 179,
   "id": "3b4b0be3",
   "metadata": {},
   "outputs": [
    {
     "name": "stdout",
     "output_type": "stream",
     "text": [
      "Feature: minimal, Coefficient: 3.751127560896262\n",
      "Feature: monitor, Coefficient: 2.78498244251598\n",
      "Feature: precipitation, Coefficient: 2.6850898151898215\n",
      "Feature: sparse, Coefficient: 2.390884138982884\n",
      "Feature: little, Coefficient: 2.3076974354828557\n",
      "Feature: surrounded, Coefficient: 2.2915912629886646\n",
      "Feature: monitoring, Coefficient: 2.1893136293717492\n",
      "Feature: late, Coefficient: 2.1422054382101163\n",
      "Feature: fall, Coefficient: 2.0684302820456004\n",
      "Feature: rain, Coefficient: 2.04527895417375\n",
      "Feature: received, Coefficient: 2.0352428790090915\n",
      "Feature: repair, Coefficient: 2.0179913706566173\n",
      "Feature: contained, Coefficient: 1.9896983461735585\n",
      "Feature: smoldering, Coefficient: 1.970676454890964\n",
      "Feature: monsoonal, Coefficient: 1.9555764410773793\n",
      "Feature: monitored, Coefficient: 1.9312947793688513\n",
      "Feature: snow, Coefficient: 1.9111606152150724\n",
      "Feature: elevation, Coefficient: 1.8597346359542761\n",
      "Feature: moisture, Coefficient: 1.8501849811824986\n",
      "Feature: easily, Coefficient: 1.7273042691177096\n"
     ]
    }
   ],
   "source": [
    "feature_names = vectorizer.get_feature_names_out()\n",
    "\n",
    "coefficients = low_logreg_model.coef_[0]\n",
    "\n",
    "feature_coefficients = dict(zip(feature_names, coefficients))\n",
    "\n",
    "sorted_features = sorted(feature_coefficients.items(), key=lambda x: x[1], reverse=True)\n",
    "\n",
    "top_features = sorted_features[:20] \n",
    "for feature, coefficient in top_features:\n",
    "    print(f\"Feature: {feature}, Coefficient: {coefficient}\")"
   ]
  },
  {
   "cell_type": "markdown",
   "id": "b5867d3d",
   "metadata": {},
   "source": [
    "## Regional Differences"
   ]
  },
  {
   "cell_type": "markdown",
   "id": "9528d101",
   "metadata": {},
   "source": [
    "### Risk"
   ]
  },
  {
   "cell_type": "code",
   "execution_count": 31,
   "id": "fcb6d6c3",
   "metadata": {},
   "outputs": [
    {
     "name": "stderr",
     "output_type": "stream",
     "text": [
      "C:\\Users\\aidan\\AppData\\Local\\Temp\\ipykernel_30088\\1307532202.py:8: UserWarning: The palette list has more values (4) than needed (3), which may not be intended.\n",
      "  ax = sns.histplot(\n"
     ]
    },
    {
     "data": {
      "image/png": "[encoded data removed]",
      "text/plain": [
       "<Figure size 1440x432 with 1 Axes>"
      ]
     },
     "metadata": {
      "needs_background": "light"
     },
     "output_type": "display_data"
    }
   ],
   "source": [
    "df_grouped = data.groupby(['geo_area_name', 'rrf_rr_desc']).size().reset_index(name='count')\n",
    "\n",
    "region_total = df_grouped.groupby('geo_area_name')['count'].sum()\n",
    "df_merged = pd.merge(df_grouped, region_total, left_on='geo_area_name', right_index=True, suffixes=('', '_total'))\n",
    "df_merged['percent'] = df_merged['count'] / df_merged['count_total']\n",
    "df_result = df_merged[['count', 'geo_area_name', 'rrf_rr_desc', 'percent']].sort_values(['geo_area_name', 'count'], ascending=[True, False])\n",
    "\n",
    "ax = sns.histplot(\n",
    "    df_result,\n",
    "    x='geo_area_name',\n",
    "    weights='percent',\n",
    "    hue='rrf_rr_desc',\n",
    "    multiple='stack',\n",
    "    palette=['#24b1d1', '#ae24d1','#f6e9fa','#47d124'],\n",
    "    # Add white borders to the bars.\n",
    "    edgecolor='white',\n",
    "    # Shrink the bars a bit so they don't touch.\n",
    "    shrink=0.8   \n",
    ")\n",
    "\n",
    "ax.set_title('Percent of Perceived Risk by Region')\n",
    "# Remove 'Count' ylabel.\n",
    "ax.set_ylabel(None)\n",
    "\n",
    "fig = ax.get_figure()\n",
    "fig.set_size_inches(20, 6)"
   ]
  },
  {
   "cell_type": "code",
   "execution_count": 32,
   "id": "524d58f9",
   "metadata": {},
   "outputs": [
    {
     "name": "stdout",
     "output_type": "stream",
     "text": [
      "The percentage of fires designated as high risk has a correlation coefficient of 0.290057 with the number of total fires\n"
     ]
    }
   ],
   "source": [
    "df_result['total_fire'] = df_result.groupby('geo_area_name')['count'].transform('sum')\n",
    "df3 = df_result[df_result['rrf_rr_desc'] == (\"high\")]\n",
    "x = df3['total_fire'].corr(df3['percent'])\n",
    "print(\"The percentage of fires designated as high risk has a correlation coefficient of \" + str(round(x,6)) + \" with the number of total fires\")"
   ]
  },
  {
   "cell_type": "markdown",
   "id": "b203580a",
   "metadata": {},
   "source": [
    "### Text"
   ]
  },
  {
   "cell_type": "markdown",
   "id": "3a4b0b9d",
   "metadata": {},
   "source": [
    "##### Disproportionate Tokens"
   ]
  },
  {
   "cell_type": "code",
   "execution_count": 33,
   "id": "001a2cfb",
   "metadata": {},
   "outputs": [
    {
     "name": "stdout",
     "output_type": "stream",
     "text": [
      "Region Southern: Top Valid Words (Appearing >10 times) with Frequencies and Counts:\n",
      "'arson' (Frequency: 0.9047619047619048, Count: 19)\n",
      "'stumpy' (Frequency: 0.9, Count: 18)\n",
      "'canal' (Frequency: 0.875, Count: 14)\n",
      "'parkway' (Frequency: 0.8666666666666667, Count: 13)\n",
      "'swamp' (Frequency: 0.8305084745762712, Count: 49)\n",
      "'cypress' (Frequency: 0.8301886792452831, Count: 44)\n",
      "'irene' (Frequency: 0.8125, Count: 13)\n",
      "'clay' (Frequency: 0.7857142857142857, Count: 11)\n",
      "'organic' (Frequency: 0.7065217391304348, Count: 65)\n",
      "'outer' (Frequency: 0.6875, Count: 11)\n",
      "\n",
      "Region Southwest: Top Valid Words (Appearing >10 times) with Frequencies and Counts:\n",
      "'apache' (Frequency: 0.9821428571428571, Count: 110)\n",
      "'fe' (Frequency: 0.9629629629629629, Count: 26)\n",
      "'sunflower' (Frequency: 0.9615384615384616, Count: 25)\n",
      "'outlet' (Frequency: 0.9473684210526315, Count: 18)\n",
      "'cuckoo' (Frequency: 0.9333333333333333, Count: 14)\n",
      "'calf' (Frequency: 0.9285714285714286, Count: 13)\n",
      "'mesquite' (Frequency: 0.9285714285714286, Count: 13)\n",
      "'capitan' (Frequency: 0.9230769230769231, Count: 12)\n",
      "'hilltop' (Frequency: 0.92, Count: 23)\n",
      "'wallow' (Frequency: 0.918918918918919, Count: 34)\n",
      "\n",
      "Region Southern California: Top Valid Words (Appearing >10 times) with Frequencies and Counts:\n",
      "'ana' (Frequency: 0.9818181818181818, Count: 54)\n",
      "'kern' (Frequency: 0.968421052631579, Count: 92)\n",
      "'arroyo' (Frequency: 0.9444444444444444, Count: 17)\n",
      "'mammoth' (Frequency: 0.925, Count: 37)\n",
      "'banning' (Frequency: 0.9230769230769231, Count: 12)\n",
      "'giant' (Frequency: 0.9158878504672897, Count: 98)\n",
      "'sur' (Frequency: 0.8888888888888888, Count: 16)\n",
      "'pool' (Frequency: 0.8, Count: 16)\n",
      "'limestone' (Frequency: 0.7857142857142857, Count: 11)\n",
      "'golden' (Frequency: 0.7633587786259542, Count: 100)\n",
      "\n",
      "Region Northern California: Top Valid Words (Appearing >10 times) with Frequencies and Counts:\n",
      "'ruth' (Frequency: 0.9545454545454546, Count: 21)\n",
      "'placer' (Frequency: 0.95, Count: 38)\n",
      "'trinity' (Frequency: 0.9457013574660633, Count: 209)\n",
      "'domestic' (Frequency: 0.84375, Count: 27)\n",
      "'michigan' (Frequency: 0.8235294117647058, Count: 14)\n",
      "'cal' (Frequency: 0.8104265402843602, Count: 171)\n",
      "'ranked' (Frequency: 0.8020833333333334, Count: 77)\n",
      "'coffee' (Frequency: 0.8, Count: 36)\n",
      "'mad' (Frequency: 0.8, Count: 12)\n",
      "'rust' (Frequency: 0.8, Count: 12)\n",
      "\n",
      "Region Great Basin: Top Valid Words (Appearing >10 times) with Frequencies and Counts:\n",
      "'render' (Frequency: 0.9753086419753086, Count: 79)\n",
      "'sal' (Frequency: 0.95, Count: 19)\n",
      "'moon' (Frequency: 0.9230769230769231, Count: 24)\n",
      "'reef' (Frequency: 0.9166666666666666, Count: 11)\n",
      "'challis' (Frequency: 0.9117647058823529, Count: 31)\n",
      "'pronghorn' (Frequency: 0.8888888888888888, Count: 16)\n",
      "'receptivity' (Frequency: 0.8863636363636364, Count: 39)\n",
      "'encouraging' (Frequency: 0.875, Count: 42)\n",
      "'color' (Frequency: 0.8571428571428571, Count: 30)\n",
      "'withdrawn' (Frequency: 0.8571428571428571, Count: 12)\n",
      "\n",
      "Region Eastern: Top Valid Words (Appearing >10 times) with Frequencies and Counts:\n",
      "'canoe' (Frequency: 0.8, Count: 24)\n",
      "'corps' (Frequency: 0.7058823529411765, Count: 24)\n",
      "'blowdown' (Frequency: 0.6619718309859155, Count: 47)\n",
      "'army' (Frequency: 0.5306122448979592, Count: 26)\n",
      "'confirmed' (Frequency: 0.5, Count: 18)\n",
      "'permanent' (Frequency: 0.425, Count: 17)\n",
      "'rely' (Frequency: 0.38095238095238093, Count: 24)\n",
      "'partner' (Frequency: 0.26666666666666666, Count: 12)\n",
      "'island' (Frequency: 0.23529411764705882, Count: 28)\n",
      "'entry' (Frequency: 0.19047619047619047, Count: 12)\n",
      "\n",
      "Region Northwest: Top Valid Words (Appearing >10 times) with Frequencies and Counts:\n",
      "'conditional' (Frequency: 0.95, Count: 19)\n",
      "'crater' (Frequency: 0.9491525423728814, Count: 112)\n",
      "'attainment' (Frequency: 0.9375, Count: 15)\n",
      "'gravity' (Frequency: 0.9333333333333333, Count: 14)\n",
      "'vale' (Frequency: 0.9230769230769231, Count: 12)\n",
      "'coulee' (Frequency: 0.92, Count: 23)\n",
      "'bumping' (Frequency: 0.8888888888888888, Count: 16)\n",
      "'hood' (Frequency: 0.8651685393258427, Count: 77)\n",
      "'eclipse' (Frequency: 0.8461538461538461, Count: 44)\n",
      "'fragmented' (Frequency: 0.8285714285714286, Count: 29)\n",
      "\n",
      "Region Northern Rockies: Top Valid Words (Appearing >10 times) with Frequencies and Counts:\n",
      "'trestle' (Frequency: 0.9787234042553191, Count: 46)\n",
      "'bob' (Frequency: 0.972972972972973, Count: 36)\n",
      "'horseback' (Frequency: 0.9473684210526315, Count: 18)\n",
      "'panhandle' (Frequency: 0.9473684210526315, Count: 36)\n",
      "'hump' (Frequency: 0.9411764705882353, Count: 16)\n",
      "'endowment' (Frequency: 0.9375, Count: 15)\n",
      "'irretrievable' (Frequency: 0.9375, Count: 15)\n",
      "'plum' (Frequency: 0.9333333333333333, Count: 14)\n",
      "'save' (Frequency: 0.9322033898305084, Count: 55)\n",
      "'bitterroot' (Frequency: 0.9233038348082596, Count: 313)\n",
      "\n",
      "Region Rocky Mountain: Top Valid Words (Appearing >10 times) with Frequencies and Counts:\n",
      "'keystone' (Frequency: 0.9375, Count: 30)\n",
      "'broadway' (Frequency: 0.9285714285714286, Count: 13)\n",
      "'epidemic' (Frequency: 0.8571428571428571, Count: 36)\n",
      "'colorado' (Frequency: 0.8333333333333334, Count: 125)\n",
      "'de' (Frequency: 0.8214285714285714, Count: 23)\n",
      "'aged' (Frequency: 0.7647058823529411, Count: 13)\n",
      "'guest' (Frequency: 0.7272727272727273, Count: 16)\n",
      "'lightly' (Frequency: 0.7142857142857143, Count: 15)\n",
      "'blanco' (Frequency: 0.6666666666666666, Count: 16)\n",
      "'prevention' (Frequency: 0.6538461538461539, Count: 17)\n",
      "\n",
      "Region Alaska: Top Valid Words (Appearing >10 times) with Frequencies and Counts:\n",
      "'arisen' (Frequency: 0.9714285714285714, Count: 34)\n",
      "'corporation' (Frequency: 0.9541284403669725, Count: 104)\n",
      "'solstice' (Frequency: 0.9523809523809523, Count: 20)\n",
      "'dalton' (Frequency: 0.9322033898305084, Count: 55)\n",
      "'tundra' (Frequency: 0.9041095890410958, Count: 66)\n",
      "'seam' (Frequency: 0.9032258064516129, Count: 28)\n",
      "'slough' (Frequency: 0.8947368421052632, Count: 17)\n",
      "'corp' (Frequency: 0.88, Count: 22)\n",
      "'mac' (Frequency: 0.8780487804878049, Count: 36)\n",
      "'code' (Frequency: 0.8657718120805369, Count: 129)\n",
      "\n"
     ]
    }
   ],
   "source": [
    "valid_word_set = set(words.words())\n",
    "\n",
    "regions = data['geo_area_name'].unique()\n",
    "region_texts = {region: \" \".join(data[data['geo_area_name'] == region]['combined_text']) for region in regions}\n",
    "\n",
    "region_token_freqs = {region: FreqDist(word_tokenize(text.lower())) for region, text in region_texts.items()}\n",
    "\n",
    "tokens_relative_freq = {}\n",
    "\n",
    "for region, freq_dist in region_token_freqs.items():\n",
    "    other_regions_freq = {other_region: FreqDist(word_tokenize(text.lower())) for other_region, text in region_texts.items() if other_region != region}\n",
    "    \n",
    "    tokens_relative_freq[region] = {}\n",
    "    for token, freq in freq_dist.items():\n",
    "        other_regions_total_freq = sum([other_freq[token] for other_freq in other_regions_freq.values() if token in other_freq])\n",
    "        relative_freq = freq / (other_regions_total_freq + freq) \n",
    "        \n",
    "        tokens_relative_freq[region][token] = relative_freq\n",
    "\n",
    "for region, token_freqs in tokens_relative_freq.items():\n",
    "    text = region_texts[region]  \n",
    "    tokens = word_tokenize(text.lower())  \n",
    "    \n",
    "    region_freq_dist = FreqDist(tokens) \n",
    "    \n",
    "    top_words = [{'word': word, 'freq': freq, 'count': region_freq_dist[word]} for word, freq in token_freqs.items() if word.isalpha() and word.lower() in valid_word_set and region_freq_dist[word] > 10 and freq < 1.0]\n",
    "    top_words = sorted(top_words, key=lambda x: x['freq'], reverse=True)[:10]\n",
    "    \n",
    "    print(f\"Region {region}: Top Valid Words (Appearing >10 times) with Frequencies and Counts:\")\n",
    "    for word_info in top_words:\n",
    "        word = word_info['word']\n",
    "        word_freq = word_info['freq']\n",
    "        word_count = word_info['count']\n",
    "        print(f\"'{word}' (Frequency: {word_freq}, Count: {word_count})\")\n",
    "    print()"
   ]
  },
  {
   "cell_type": "markdown",
   "id": "e6fafd91",
   "metadata": {},
   "source": [
    "## Tokens of Interest"
   ]
  },
  {
   "cell_type": "markdown",
   "id": "99591d88",
   "metadata": {},
   "source": [
    "###### Set target words below!"
   ]
  },
  {
   "cell_type": "code",
   "execution_count": 34,
   "id": "121443ae",
   "metadata": {},
   "outputs": [],
   "source": [
    "target_words = [\"suppression\", \"containment\", \"structure\", \"communities\", \"barriers\", \"smoke\"]"
   ]
  },
  {
   "cell_type": "code",
   "execution_count": 35,
   "id": "dddfee4e",
   "metadata": {},
   "outputs": [],
   "source": [
    "def contains_target_word(text, target_word):\n",
    "    return target_word in text\n",
    "\n",
    "def percentage_with_target_words(data, target_words):\n",
    "    percentage_with_target_words = {}\n",
    "\n",
    "    data_copy = data.copy()\n",
    "\n",
    "    for word in target_words:\n",
    "        data_copy[f'contains_{word}'] = data_copy['combined_text'].apply(contains_target_word, target_word=word)\n",
    "        percentage_with_target_words[word] = (data_copy[f'contains_{word}'].sum() / len(data_copy)) * 100\n",
    "        data_copy.drop(columns=[f'contains_{word}'], inplace=True)\n",
    "\n",
    "    sorted_results = sorted(percentage_with_target_words.items(), key=lambda x: x[1], reverse=True)\n",
    "\n",
    "    for word, percentage in sorted_results:\n",
    "        print(f\"The word '{word}' appears in {percentage:.2f}% of the combined notes fields for fires.\")\n",
    "        \n",
    "def percentage_by_risk(data, target_words):\n",
    "    results_by_risk = {}\n",
    "\n",
    "    data_copy = data.copy()\n",
    "\n",
    "    custom_order = ['high', 'mod', 'low']\n",
    "\n",
    "    grouped_data = data_copy.groupby('rrf_rr_desc', sort=False)  # Use sort=False to maintain custom order\n",
    "\n",
    "    for risk, group in grouped_data:\n",
    "        percentage_with_target_words = {}\n",
    "        for word in target_words:\n",
    "            group[f'contains_{word}'] = group['combined_text'].apply(contains_target_word, target_word=word)\n",
    "            percentage_with_target_words[word] = (group[f'contains_{word}'].sum() / len(group)) * 100\n",
    "            group.drop(columns=[f'contains_{word}'], inplace=True)\n",
    "        results_by_risk[risk] = percentage_with_target_words\n",
    "\n",
    "    for risk in custom_order:\n",
    "        if risk in results_by_risk:\n",
    "            percentages = results_by_risk[risk]\n",
    "            print(f\"Risk: {risk.capitalize()}\")\n",
    "            for word, percentage in sorted(percentages.items(), key=lambda x: x[1], reverse=True):\n",
    "                print(f\"The word '{word}' appears in {percentage:.2f}% of the texts for this risk.\")\n",
    "            print()\n",
    "\n",
    "            \n",
    "            \n",
    "            \n",
    "def extract_context(text, target_word, context_window_size = 5):\n",
    "    words = text.split()\n",
    "    target_indices = [i for i, word in enumerate(words) if word.lower() == target_word]\n",
    "    \n",
    "    contexts = []\n",
    "    for index in target_indices:\n",
    "        start_index = max(0, index - context_window_size)\n",
    "        end_index = min(len(words), index + context_window_size + 1)\n",
    "        context = words[start_index:end_index]\n",
    "        contexts.append(context)\n",
    "    \n",
    "    return contexts\n",
    "\n",
    "def extract_ordered_ngrams(context_list, n =3):\n",
    "    ordered_trigrams = []\n",
    "    for context in context_list:\n",
    "        ordered_trigrams.extend(\" \".join(context[i:i+n]) for i in range(len(context) - 2))\n",
    "    return ordered_trigrams"
   ]
  },
  {
   "cell_type": "code",
   "execution_count": 36,
   "id": "fa52233a",
   "metadata": {},
   "outputs": [],
   "source": [
    "toi = data[x_notes + descs]"
   ]
  },
  {
   "cell_type": "markdown",
   "id": "cdf7e040",
   "metadata": {},
   "source": [
    "### How often do they appear?"
   ]
  },
  {
   "cell_type": "code",
   "execution_count": 37,
   "id": "47770bac",
   "metadata": {},
   "outputs": [
    {
     "name": "stdout",
     "output_type": "stream",
     "text": [
      "The word 'barriers' appears in 51.64% of the combined notes fields for fires.\n",
      "The word 'structure' appears in 40.03% of the combined notes fields for fires.\n",
      "The word 'smoke' appears in 32.41% of the combined notes fields for fires.\n",
      "The word 'suppression' appears in 32.13% of the combined notes fields for fires.\n",
      "The word 'containment' appears in 16.37% of the combined notes fields for fires.\n",
      "The word 'communities' appears in 13.07% of the combined notes fields for fires.\n"
     ]
    }
   ],
   "source": [
    "percentage_with_target_words(toi,target_words)"
   ]
  },
  {
   "cell_type": "code",
   "execution_count": 38,
   "id": "86763ab2",
   "metadata": {
    "scrolled": true
   },
   "outputs": [
    {
     "name": "stdout",
     "output_type": "stream",
     "text": [
      "Risk: High\n",
      "The word 'barriers' appears in 58.63% of the texts for this risk.\n",
      "The word 'structure' appears in 52.03% of the texts for this risk.\n",
      "The word 'suppression' appears in 38.99% of the texts for this risk.\n",
      "The word 'smoke' appears in 32.22% of the texts for this risk.\n",
      "The word 'communities' appears in 19.36% of the texts for this risk.\n",
      "The word 'containment' appears in 16.46% of the texts for this risk.\n",
      "\n",
      "Risk: Mod\n",
      "The word 'barriers' appears in 48.79% of the texts for this risk.\n",
      "The word 'structure' appears in 35.42% of the texts for this risk.\n",
      "The word 'smoke' appears in 32.31% of the texts for this risk.\n",
      "The word 'suppression' appears in 31.20% of the texts for this risk.\n",
      "The word 'containment' appears in 16.52% of the texts for this risk.\n",
      "The word 'communities' appears in 10.21% of the texts for this risk.\n",
      "\n",
      "Risk: Low\n",
      "The word 'barriers' appears in 45.48% of the texts for this risk.\n",
      "The word 'smoke' appears in 32.85% of the texts for this risk.\n",
      "The word 'structure' appears in 29.03% of the texts for this risk.\n",
      "The word 'suppression' appears in 23.29% of the texts for this risk.\n",
      "The word 'containment' appears in 16.03% of the texts for this risk.\n",
      "The word 'communities' appears in 7.99% of the texts for this risk.\n",
      "\n"
     ]
    }
   ],
   "source": [
    "percentage_by_risk(toi, target_words)"
   ]
  },
  {
   "cell_type": "markdown",
   "id": "58d47173",
   "metadata": {},
   "source": [
    "### What is the context surrounding them?"
   ]
  },
  {
   "cell_type": "code",
   "execution_count": 39,
   "id": "741360c7",
   "metadata": {},
   "outputs": [],
   "source": [
    "con_dict = {}  \n",
    "context_words_dict_alpha = {}  \n",
    "context_window_size = 5\n",
    "\n",
    "for word in target_words:\n",
    "    con_dict[word] = {}\n",
    "    context_words_dict_alpha[word] = {}  # Initialize context_words_dict_alpha[word] as an empty dictionary\n",
    "    \n",
    "    for index, row in toi.iterrows():\n",
    "        text = row['combined_text']\n",
    "\n",
    "        if 'default_risk' not in con_dict[word]:\n",
    "            con_dict[word]['default_risk'] = []\n",
    "\n",
    "        contexts = extract_context(text, word, context_window_size)\n",
    "        con_dict[word]['default_risk'].extend(contexts)\n",
    "        \n",
    "    for risk_description, c in con_dict[word].items():\n",
    "        all_words = [w.lower() for context in c for w in context if not w.lower() == word]\n",
    "        common_words = Counter(all_words).most_common(5)  # Change 5 to the desired number of common words\n",
    "        context_words_dict_alpha[word]['default_risk'] = common_words"
   ]
  },
  {
   "cell_type": "code",
   "execution_count": 40,
   "id": "216d74f8",
   "metadata": {},
   "outputs": [
    {
     "data": {
      "application/vnd.jupyter.widget-view+json": {
       "model_id": "f1984fd0104644dcb4d2e28c71c7b433",
       "version_major": 2,
       "version_minor": 0
      },
      "text/plain": [
       "HBox(children=(Button(description='suppression', style=ButtonStyle()), Button(description='containment', style…"
      ]
     },
     "metadata": {},
     "output_type": "display_data"
    },
    {
     "data": {
      "application/vnd.jupyter.widget-view+json": {
       "model_id": "fe98fd3e29fc4e7aad3482f9aa745907",
       "version_major": 2,
       "version_minor": 0
      },
      "text/plain": [
       "Output()"
      ]
     },
     "metadata": {},
     "output_type": "display_data"
    }
   ],
   "source": [
    "def plot_function(word):\n",
    "    plt.figure(figsize=(8, 6))\n",
    "    \n",
    "    # Ensure there is data for the given token in the dictionary\n",
    "    if 'default_risk' in context_words_dict_alpha.get(word, {}):  # Updated from cwd\n",
    "        common_words, counts = zip(*context_words_dict_alpha[word]['default_risk'])  # Updated from cwd\n",
    "        plt.bar(common_words, counts)\n",
    "        plt.title(f\"Common Tokens appearing in Context for '{word}'\")  # Updated title\n",
    "        plt.xlabel(\"Words\")\n",
    "        plt.ylabel(\"Count\")\n",
    "        plt.show()\n",
    "    else:\n",
    "        print(f\"No data available for combined text for {word}\")\n",
    "\n",
    "# Create buttons for user interaction\n",
    "word_buttons = [widgets.Button(description=word) for word in target_words]\n",
    "\n",
    "def button_click_handler(button):\n",
    "    with output_area:\n",
    "        clear_output(wait=True)\n",
    "        plot_function(button.description)\n",
    "\n",
    "for button in word_buttons:\n",
    "    button.on_click(button_click_handler)\n",
    "\n",
    "# Populate interactive buttons\n",
    "button_box = widgets.HBox(word_buttons)\n",
    "display(button_box)\n",
    "\n",
    "# Make a separate area for the plots to show up\n",
    "output_area = widgets.Output()\n",
    "\n",
    "# Display the plots\n",
    "display(output_area)\n",
    "\n",
    "with output_area:\n",
    "    random_button = random.choice(word_buttons)\n",
    "    plot_function(random_button.description)"
   ]
  },
  {
   "cell_type": "markdown",
   "id": "0844118c",
   "metadata": {},
   "source": [
    "###### By Risk"
   ]
  },
  {
   "cell_type": "code",
   "execution_count": 41,
   "id": "2e060f65",
   "metadata": {},
   "outputs": [
    {
     "name": "stdout",
     "output_type": "stream",
     "text": [
      "Word: suppression\n",
      "  Risk Description: mod\n",
      "    Common Words:\n",
      "      full: 333\n",
      "      actions: 300\n",
      "      incident: 234\n",
      "      efforts: 233\n",
      "      objectives: 217\n",
      "  Risk Description: high\n",
      "    Common Words:\n",
      "      full: 871\n",
      "      objectives: 536\n",
      "      incident: 433\n",
      "      actions: 382\n",
      "      strategy: 326\n",
      "  Risk Description: low\n",
      "    Common Words:\n",
      "      repair: 298\n",
      "      actions: 195\n",
      "      efforts: 134\n",
      "      incident: 103\n",
      "      objectives: 98\n",
      "Word: containment\n",
      "  Risk Description: mod\n",
      "    Common Words:\n",
      "      lines: 250\n",
      "      suppression: 147\n",
      "      spread: 122\n",
      "      barriers: 114\n",
      "      reduced: 108\n",
      "  Risk Description: high\n",
      "    Common Words:\n",
      "      lines: 195\n",
      "      growth: 114\n",
      "      barriers: 101\n",
      "      spread: 88\n",
      "      conditions: 86\n",
      "  Risk Description: low\n",
      "    Common Words:\n",
      "      lines: 252\n",
      "      suppression: 94\n",
      "      behavior: 91\n",
      "      spread: 91\n",
      "      growth: 82\n",
      "Word: structure\n",
      "  Risk Description: mod\n",
      "    Common Words:\n",
      "      protection: 135\n",
      "      historic: 40\n",
      "      one: 37\n",
      "      conditions: 37\n",
      "      composition: 37\n",
      "  Risk Description: high\n",
      "    Common Words:\n",
      "      protection: 270\n",
      "      private: 100\n",
      "      composition: 68\n",
      "      historic: 60\n",
      "      vegetation: 59\n",
      "  Risk Description: low\n",
      "    Common Words:\n",
      "      protection: 51\n",
      "      historic: 24\n",
      "      composition: 19\n",
      "      private: 17\n",
      "      trail: 17\n",
      "Word: communities\n",
      "  Risk Description: mod\n",
      "    Common Words:\n",
      "      smoke: 241\n",
      "      private: 55\n",
      "      tribal: 55\n",
      "      surrounding: 50\n",
      "      visible: 48\n",
      "  Risk Description: high\n",
      "    Common Words:\n",
      "      smoke: 418\n",
      "      private: 284\n",
      "      infrastructure: 129\n",
      "      public: 120\n",
      "      surrounding: 120\n",
      "  Risk Description: low\n",
      "    Common Words:\n",
      "      smoke: 138\n",
      "      private: 40\n",
      "      external: 38\n",
      "      visible: 31\n",
      "      influences: 25\n",
      "Word: barriers\n",
      "  Risk Description: mod\n",
      "    Common Words:\n",
      "      spread: 1242\n",
      "      season: 450\n",
      "      fuel: 406\n",
      "      seasonal: 386\n",
      "      time: 288\n",
      "  Risk Description: high\n",
      "    Common Words:\n",
      "      spread: 1669\n",
      "      season: 692\n",
      "      fuel: 656\n",
      "      seasonal: 505\n",
      "      fuels: 433\n",
      "  Risk Description: low\n",
      "    Common Words:\n",
      "      spread: 656\n",
      "      seasonal: 254\n",
      "      fuel: 239\n",
      "      season: 231\n",
      "      many: 207\n",
      "Word: smoke\n",
      "  Risk Description: mod\n",
      "    Common Words:\n",
      "      media: 358\n",
      "      external: 354\n",
      "      management: 339\n",
      "      visible: 244\n",
      "      communities: 241\n",
      "  Risk Description: high\n",
      "    Common Words:\n",
      "      external: 453\n",
      "      communities: 418\n",
      "      media: 377\n",
      "      private: 359\n",
      "      management: 346\n",
      "  Risk Description: low\n",
      "    Common Words:\n",
      "      visible: 233\n",
      "      management: 219\n",
      "      media: 191\n",
      "      external: 187\n",
      "      minimal: 152\n"
     ]
    }
   ],
   "source": [
    "con_risk_dict = {}  # Updated from conDict\n",
    "context_words_dict = {}  # Updated from cwd\n",
    "context_window_size = 5\n",
    "\n",
    "for word in target_words:\n",
    "    con_risk_dict[word] = {}\n",
    "    context_words_dict[word] = {}  # Initialize context_words_dict[word] as an empty dictionary\n",
    "    \n",
    "    for index, row in toi.iterrows():\n",
    "        risk_description = row['rrf_rr_desc']\n",
    "        text = row['combined_text']\n",
    "\n",
    "        if risk_description not in con_risk_dict[word]:\n",
    "            con_risk_dict[word][risk_description] = []\n",
    "\n",
    "        contexts = extract_context(text, word, context_window_size)\n",
    "        con_risk_dict[word][risk_description].extend(contexts)\n",
    "        \n",
    "    for risk_description, c in con_risk_dict[word].items():\n",
    "        all_words = [w.lower() for context in c for w in context if not w.lower() == word]\n",
    "        common_words = Counter(all_words).most_common(5)  # Change 5 to the desired number of common words\n",
    "        context_words_dict[word][risk_description] = common_words\n",
    "        \n",
    "for word, risk_descriptions in context_words_dict.items():\n",
    "    print(f\"Word: {word}\")\n",
    "    for risk_description, common_words in risk_descriptions.items():\n",
    "        print(f\"  Risk Description: {risk_description}\")\n",
    "        print(\"    Common Words:\")\n",
    "        for word, count in common_words:\n",
    "            print(f\"      {word}: {count}\")"
   ]
  },
  {
   "cell_type": "code",
   "execution_count": 42,
   "id": "111d7c7f",
   "metadata": {
    "scrolled": true
   },
   "outputs": [
    {
     "data": {
      "application/vnd.jupyter.widget-view+json": {
       "model_id": "3013f035dd9742e1b19dea322db2cb3f",
       "version_major": 2,
       "version_minor": 0
      },
      "text/plain": [
       "HBox(children=(Button(description='suppression', layout=Layout(width='100px'), style=ButtonStyle()), Button(de…"
      ]
     },
     "metadata": {},
     "output_type": "display_data"
    },
    {
     "data": {
      "application/vnd.jupyter.widget-view+json": {
       "model_id": "3eecd65a7c144d49b635eef4b864f767",
       "version_major": 2,
       "version_minor": 0
      },
      "text/plain": [
       "Output()"
      ]
     },
     "metadata": {},
     "output_type": "display_data"
    }
   ],
   "source": [
    "def plot_risks(word):\n",
    "    fig, axes = plt.subplots(1, 3, figsize=(18, 6), sharey=True)\n",
    "\n",
    "    # Ensure there is data for the given token in the dictionary\n",
    "    if word in context_words_dict:\n",
    "        # Sort risk descriptions based on counts\n",
    "        sorted_risks = sorted(context_words_dict[word].items(), key=lambda x: sum(count for word, count in x[1]), reverse=True)\n",
    "\n",
    "        for ax, (risk_description, common_words) in zip(axes, sorted_risks):\n",
    "            words, counts = zip(*common_words)\n",
    "            ax.bar(words, counts)\n",
    "            ax.set_title(risk_description)\n",
    "            ax.set_xlabel(\"Words\")\n",
    "            ax.set_ylabel(\"Count\")\n",
    "\n",
    "        plt.show()\n",
    "    else:\n",
    "        print(f\"No data available for combined text for {word}\")\n",
    "\n",
    "# Create buttons for user interaction\n",
    "word_buttons = [widgets.Button(description=word, layout=Layout(width='100px')) for word in target_words]\n",
    "\n",
    "# Function to handle button click\n",
    "def button_click_handler(button):\n",
    "    with output_area:\n",
    "        clear_output(wait=True)\n",
    "        plot_risks(button.description)\n",
    "\n",
    "# Assign a random button to be clicked automatically\n",
    "random_button = random.choice(word_buttons)\n",
    "button_click_handler(random_button)\n",
    "\n",
    "# Attach click handler to buttons\n",
    "for button in word_buttons:\n",
    "    button.on_click(button_click_handler)\n",
    "\n",
    "# Populate interactive buttons\n",
    "button_box = widgets.HBox(word_buttons)\n",
    "display(button_box)\n",
    "\n",
    "# Make a separate area for the plots to show up\n",
    "output_area = widgets.Output()\n",
    "\n",
    "# Display the plots\n",
    "display(output_area)\n",
    "\n",
    "# Use plot function to display plot\n",
    "with output_area:\n",
    "    plot_risks(random_button.description)"
   ]
  },
  {
   "cell_type": "markdown",
   "id": "9acacbe2",
   "metadata": {},
   "source": [
    "### Let's take a look at common ngrams"
   ]
  },
  {
   "cell_type": "code",
   "execution_count": 43,
   "id": "b82d831b",
   "metadata": {},
   "outputs": [
    {
     "name": "stdout",
     "output_type": "stream",
     "text": [
      "Word: suppression\n",
      "  Risk Description: mod\n",
      "    Most Common Ordered Ngrams:\n",
      "      full suppression strategy: 50\n",
      "      suppression actions taken: 29\n",
      "      conditions shortages suppression: 25\n",
      "      likelihood success least: 25\n",
      "      unusual conditions shortages: 24\n",
      "      shortage suppression response: 23\n",
      "      shortages suppression shortage: 22\n",
      "      suppression shortage suppression: 22\n",
      "      appropriate suppression protect: 22\n",
      "      suppression protect cultural: 20\n",
      "\n",
      "  Risk Description: high\n",
      "    Most Common Ordered Ngrams:\n",
      "      full suppression smallest: 143\n",
      "      full suppression strategy: 128\n",
      "      suppression smallest possible: 114\n",
      "      objectives full suppression: 105\n",
      "      full suppression objectives: 87\n",
      "      conflict full suppression: 84\n",
      "      suppression objectives full: 72\n",
      "      involved coordinated suppression: 60\n",
      "      strategies full suppression: 59\n",
      "      conducive highly involved: 56\n",
      "\n",
      "  Risk Description: low\n",
      "    Most Common Ordered Ngrams:\n",
      "      suppression repair work: 21\n",
      "      suppression actions taken: 19\n",
      "      successful suppression efforts: 14\n",
      "      mop suppression repair: 14\n",
      "      suppression suppression repair: 14\n",
      "      full suppression strategy: 12\n",
      "      monitoring suppression rehabilitation: 11\n",
      "      unusual conditions shortages: 11\n",
      "      conditions shortages suppression: 11\n",
      "      suppression repair hazard: 11\n",
      "\n",
      "\n",
      "Word: containment\n",
      "  Risk Description: mod\n",
      "    Most Common Ordered Ngrams:\n",
      "      reflect containment wet: 16\n",
      "      updated reflect containment: 11\n",
      "      barriers spread containment: 10\n",
      "      containment lines place: 10\n",
      "      containment wet updated: 10\n",
      "      wet updated reflect: 10\n",
      "      reduced containment containment: 10\n",
      "      outside containment lines: 9\n",
      "      containment line around: 9\n",
      "      containment lines holding: 8\n",
      "\n",
      "  Risk Description: high\n",
      "    Most Common Ordered Ngrams:\n",
      "      outside containment lines: 14\n",
      "      containment past conducive: 10\n",
      "      past conducive large: 10\n",
      "      conducive large growth: 9\n",
      "      strategies probability depending: 8\n",
      "      probability depending containment: 8\n",
      "      creating resistance control: 8\n",
      "      control barriers roads: 8\n",
      "      escapes containment lines: 8\n",
      "      limited containment options: 8\n",
      "\n",
      "  Risk Description: low\n",
      "    Most Common Ordered Ngrams:\n",
      "      full containment june: 12\n",
      "      containment lines place: 12\n",
      "      fuels remain barriers: 9\n",
      "      feet fuels remain: 8\n",
      "      reduced percent containment: 8\n",
      "      percent containment june: 8\n",
      "      containment june full: 8\n",
      "      june full containment: 8\n",
      "      containment june external: 8\n",
      "      containment lines around: 7\n",
      "\n",
      "\n",
      "Word: structure\n",
      "  Risk Description: mod\n",
      "    Most Common Ordered Ngrams:\n",
      "      structure protection plans: 20\n",
      "      composition structure vegetation: 17\n",
      "      structure vegetation shifted: 14\n",
      "      vegetation shifted historic: 10\n",
      "      shifted historic conditions: 10\n",
      "      historic conditions towards: 9\n",
      "      structure composition vegetation: 9\n",
      "      organizational structure adequate: 9\n",
      "      structure protection measures: 8\n",
      "      departure historic conditions: 7\n",
      "\n",
      "  Risk Description: high\n",
      "    Most Common Ordered Ngrams:\n",
      "      composition structure vegetation: 30\n",
      "      structure composition vegetation: 20\n",
      "      departure historic conditions: 18\n",
      "      composition vegetation departure: 17\n",
      "      structure vegetation shifted: 15\n",
      "      altered composition structure: 15\n",
      "      point protection structure: 14\n",
      "      highly altered composition: 14\n",
      "      landscape effects outside: 12\n",
      "      vegetation shifted historic: 11\n",
      "\n",
      "  Risk Description: low\n",
      "    Most Common Ordered Ngrams:\n",
      "      vegetative composition structure: 7\n",
      "      structure similar historic: 7\n",
      "      composition structure vegetation: 6\n",
      "      composition structure similar: 6\n",
      "      structure vegetation shifted: 5\n",
      "      key components short: 5\n",
      "      structure protection plans: 5\n",
      "      similar historic key: 5\n",
      "      historic key components: 5\n",
      "      vegetation shifted historic: 4\n",
      "\n",
      "\n",
      "Word: communities\n",
      "  Risk Description: mod\n",
      "    Most Common Ordered Ngrams:\n",
      "      tribal community tribal: 23\n",
      "      community tribal expressed: 23\n",
      "      tribal expressed effects: 23\n",
      "      expressed effects communities: 23\n",
      "      effects communities much: 19\n",
      "      communities much consists: 19\n",
      "      much consists flashy: 19\n",
      "      consists flashy fuels: 19\n",
      "      smoke impacting communities: 17\n",
      "      highly visible communities: 13\n",
      "\n",
      "  Risk Description: high\n",
      "    Most Common Ordered Ngrams:\n",
      "      threats communities infrastructure: 26\n",
      "      smoke impacting communities: 24\n",
      "      communities infrastructure california: 23\n",
      "      expressed effects communities: 19\n",
      "      tribal community tribal: 19\n",
      "      community tribal expressed: 17\n",
      "      tribal expressed effects: 16\n",
      "      highly visible communities: 15\n",
      "      experienced major related: 15\n",
      "      major related incidents: 15\n",
      "\n",
      "  Risk Description: low\n",
      "    Most Common Ordered Ngrams:\n",
      "      external influences communities: 12\n",
      "      smoke communities little: 9\n",
      "      communities little acres: 9\n",
      "      little acres consumed: 9\n",
      "      communities smoke fairly: 8\n",
      "      smoke fairly localized: 8\n",
      "      fairly localized time: 8\n",
      "      localized time communities: 8\n",
      "      influences communities communities: 8\n",
      "      communities communities ollalie: 8\n",
      "\n",
      "\n",
      "Word: barriers\n",
      "  Risk Description: mod\n",
      "    Most Common Ordered Ngrams:\n",
      "      barriers spread barriers: 107\n",
      "      spread barriers spread: 64\n",
      "      barriers present limiting: 60\n",
      "      many barriers spread: 50\n",
      "      season barriers spread: 45\n",
      "      barriers seasonal severity: 41\n",
      "      barriers fuel breaks: 39\n",
      "      presence barriers fuel: 33\n",
      "      remaining barriers spread: 31\n",
      "      man made barriers: 29\n",
      "\n",
      "  Risk Description: high\n",
      "    Most Common Ordered Ngrams:\n",
      "      barriers spread barriers: 125\n",
      "      season barriers spread: 80\n",
      "      barriers present limiting: 66\n",
      "      barriers fuel breaks: 61\n",
      "      barriers seasonal severity: 55\n",
      "      spread barriers spread: 48\n",
      "      presence barriers fuel: 43\n",
      "      barriers spread roads: 41\n",
      "      spread barriers present: 39\n",
      "      barriers spread form: 38\n",
      "\n",
      "  Risk Description: low\n",
      "    Most Common Ordered Ngrams:\n",
      "      barriers spread barriers: 59\n",
      "      many barriers spread: 39\n",
      "      barriers present limiting: 35\n",
      "      spread barriers spread: 35\n",
      "      portion barriers spread: 27\n",
      "      barriers seasonal severity: 26\n",
      "      many barriers present: 23\n",
      "      barriers spread seasonal: 22\n",
      "      spread seasonal severity: 22\n",
      "      barriers fuel breaks: 16\n",
      "\n",
      "\n",
      "Word: smoke\n",
      "  Risk Description: mod\n",
      "    Most Common Ordered Ngrams:\n",
      "      smoke management smoke: 91\n",
      "      media activity smoke: 78\n",
      "      activity smoke management: 74\n",
      "      minimal media activity: 58\n",
      "      smoke external attention: 53\n",
      "      external attention focus: 52\n",
      "      media smoke management: 48\n",
      "      attention focus elevate: 48\n",
      "      external attention focused: 44\n",
      "      focus elevate level: 40\n",
      "\n",
      "  Risk Description: high\n",
      "    Most Common Ordered Ngrams:\n",
      "      smoke smoke sensitive: 142\n",
      "      likelihood smoke smoke: 120\n",
      "      smoke management smoke: 104\n",
      "      media activity smoke: 81\n",
      "      smoke sensitive complex: 80\n",
      "      sensitive complex mitigation: 80\n",
      "      complex mitigation actions: 80\n",
      "      activity smoke management: 74\n",
      "      minimal media activity: 67\n",
      "      external attention focus: 58\n",
      "\n",
      "  Risk Description: low\n",
      "    Most Common Ordered Ngrams:\n",
      "      smoke management smoke: 44\n",
      "      media smoke management: 42\n",
      "      media activity smoke: 31\n",
      "      activity smoke management: 30\n",
      "      sensitive media smoke: 28\n",
      "      attention focused level: 26\n",
      "      smoke external attention: 24\n",
      "      minimal media activity: 24\n",
      "      external attention focused: 22\n",
      "      media interest sensitive: 21\n",
      "\n",
      "\n"
     ]
    }
   ],
   "source": [
    "common_ordered_ngrams_by_risk = {}\n",
    "\n",
    "for word in target_words:\n",
    "    common_ordered_ngrams_by_risk[word] = {}\n",
    "    for risk_description, contexts in con_risk_dict[word].items(): \n",
    "\n",
    "        ordered_ngrams = extract_ordered_ngrams(contexts, 3)\n",
    "\n",
    "        ordered_ngram_counts = Counter(ordered_ngrams)\n",
    "\n",
    "        most_common_ordered_ngrams = ordered_ngram_counts.most_common(10)\n",
    "\n",
    "        common_ordered_ngrams_by_risk[word][risk_description] = most_common_ordered_ngrams\n",
    "\n",
    "for word, risk_descriptions in common_ordered_ngrams_by_risk.items():\n",
    "    print(f\"Word: {word}\")\n",
    "    for risk_description, ngram_counts in risk_descriptions.items():\n",
    "        print(f\"  Risk Description: {risk_description}\")\n",
    "        print(\"    Most Common Ordered Ngrams:\")\n",
    "        for ngram, count in ngram_counts:\n",
    "            print(f\"      {ngram}: {count}\")\n",
    "        print()  # Add an empty line between risk descriptions\n",
    "    print()  # Add an empty line between words"
   ]
  },
  {
   "cell_type": "markdown",
   "id": "be9da3ab",
   "metadata": {},
   "source": [
    "## Text Differences Between Relative Risks"
   ]
  },
  {
   "cell_type": "code",
   "execution_count": null,
   "id": "e7e8f5fe",
   "metadata": {},
   "outputs": [],
   "source": []
  },
  {
   "cell_type": "markdown",
   "id": "2af3f26b",
   "metadata": {},
   "source": [
    "# Topic Modeling"
   ]
  },
  {
   "cell_type": "code",
   "execution_count": null,
   "id": "8e8eaf10",
   "metadata": {},
   "outputs": [],
   "source": []
  },
  {
   "cell_type": "markdown",
   "id": "ace181ac",
   "metadata": {},
   "source": [
    "# Sentiment Analyses "
   ]
  },
  {
   "cell_type": "code",
   "execution_count": null,
   "id": "e7b42997",
   "metadata": {},
   "outputs": [],
   "source": []
  },
  {
   "cell_type": "markdown",
   "id": "898916ea",
   "metadata": {},
   "source": [
    "## Sentiment in Relationship to Risk Decision"
   ]
  },
  {
   "cell_type": "code",
   "execution_count": null,
   "id": "d54353f2",
   "metadata": {},
   "outputs": [],
   "source": []
  },
  {
   "cell_type": "markdown",
   "id": "e8289834",
   "metadata": {},
   "source": [
    "# Risk Classification - Individual Tokens"
   ]
  },
  {
   "cell_type": "code",
   "execution_count": null,
   "id": "32673044",
   "metadata": {},
   "outputs": [],
   "source": []
  },
  {
   "cell_type": "code",
   "execution_count": 44,
   "id": "a9bc64ef",
   "metadata": {},
   "outputs": [
    {
     "data": {
      "text/plain": [
       "rrf_rr_desc\n",
       "mod     2888\n",
       "high    2862\n",
       "low     1915\n",
       "Name: count, dtype: int64"
      ]
     },
     "execution_count": 44,
     "metadata": {},
     "output_type": "execute_result"
    }
   ],
   "source": [
    "risk_levels = data['rrf_rr_desc'].value_counts()\n",
    "risk_levels"
   ]
  },
  {
   "cell_type": "code",
   "execution_count": null,
   "id": "41ebcc19",
   "metadata": {},
   "outputs": [],
   "source": []
  },
  {
   "cell_type": "markdown",
   "id": "57b127e9",
   "metadata": {},
   "source": [
    "Placeholder Text"
   ]
  },
  {
   "cell_type": "markdown",
   "id": "52b5a09b",
   "metadata": {},
   "source": [
    "## Relative Risk Decision and All Text"
   ]
  },
  {
   "cell_type": "markdown",
   "id": "f16410e6",
   "metadata": {},
   "source": [
    "In this section of the notebook, I explore using the combined text for each fire-risk combination to predict risk. By doing so, I am hopeful that I can gain insight into tokens potentially driving risk decisions. I'll explore different techniques, ensembles, and whatever is necessary to produce the most accurate model."
   ]
  },
  {
   "cell_type": "code",
   "execution_count": 45,
   "id": "d78b89b5",
   "metadata": {},
   "outputs": [],
   "source": [
    "combined_texts = data['combined_text']\n",
    "risk_labels = data['rrf_rr_desc']\n",
    "\n",
    "for label in risk_labels:\n",
    "    if label not in [\"high\", \"mod\", \"low\"]:\n",
    "        print(\"Within the data, there is a risk label that is erroneous. This should be looked into as soon as possible\")\n",
    "\n",
    "vectorizer =TfidfVectorizer()"
   ]
  },
  {
   "cell_type": "markdown",
   "id": "919a0bae",
   "metadata": {},
   "source": [
    "Explain Why I am doing"
   ]
  },
  {
   "cell_type": "code",
   "execution_count": 46,
   "id": "d87f097a",
   "metadata": {},
   "outputs": [],
   "source": [
    "high_other = data.copy()\n",
    "high_other['rrf_rr_desc'] = high_other['rrf_rr_desc'].apply(lambda x: 'other' if x in ['low', 'mod'] else x)\n",
    "\n",
    "high_other_comb_texts = high_other['combined_text']\n",
    "high_other_labels = high_other['rrf_rr_desc']"
   ]
  },
  {
   "cell_type": "markdown",
   "id": "3abda1c7",
   "metadata": {},
   "source": [
    "### Naive Bayes"
   ]
  },
  {
   "cell_type": "markdown",
   "id": "0e36aed3",
   "metadata": {},
   "source": [
    "Placeholder Text to describe what is happening"
   ]
  },
  {
   "cell_type": "code",
   "execution_count": 47,
   "id": "a5b19c0e",
   "metadata": {},
   "outputs": [],
   "source": [
    "def train_nb_classifier(combined_texts=None, risk_labels=None, test_size=0.2, alpha = 1.0, random_state=2):\n",
    "    vectorizer = TfidfVectorizer()\n",
    "\n",
    "    x_nb = vectorizer.fit_transform(combined_texts)\n",
    "    y_nb = risk_labels\n",
    "\n",
    "    x_nb_train, x_nb_test, y_nb_train, y_nb_test = train_test_split(x_nb, y_nb, test_size=test_size, random_state=random_state)\n",
    "\n",
    "    nb_classifier = MultinomialNB(alpha= alpha)\n",
    "    nb_classifier.fit(x_nb_train, y_nb_train)\n",
    "\n",
    "    return nb_classifier, x_nb_train, x_nb_test, y_nb_train, y_nb_test\n",
    "\n"
   ]
  },
  {
   "cell_type": "markdown",
   "id": "ab0cc96e",
   "metadata": {},
   "source": [
    "#### 3 Risks"
   ]
  },
  {
   "cell_type": "code",
   "execution_count": 48,
   "id": "f69642fd",
   "metadata": {},
   "outputs": [],
   "source": [
    "nb_classifier, x_nb_train, x_nb_test, \\\n",
    "y_nb_train, y_nb_test = train_nb_classifier(combined_texts,risk_labels,.2,1,2);"
   ]
  },
  {
   "cell_type": "code",
   "execution_count": 49,
   "id": "54aa5b18",
   "metadata": {
    "scrolled": true
   },
   "outputs": [
    {
     "name": "stdout",
     "output_type": "stream",
     "text": [
      "The Naive Bayes classifier accuracy is 0.5388 or 53.88%\n",
      "\n",
      "\n",
      "Classification Report:\n",
      "              precision    recall  f1-score   support\n",
      "\n",
      "        high       0.63      0.81      0.71       552\n",
      "         low       0.56      0.01      0.02       400\n",
      "         mod       0.46      0.64      0.53       581\n",
      "\n",
      "    accuracy                           0.54      1533\n",
      "   macro avg       0.55      0.49      0.42      1533\n",
      "weighted avg       0.55      0.54      0.46      1533\n",
      "\n"
     ]
    }
   ],
   "source": [
    "y_nb_pred = nb_classifier.predict(x_nb_test)\n",
    "y_nb_train_pred = nb_classifier.predict(x_nb_train)\n",
    "\n",
    "nb_accuracy = accuracy_score(y_nb_test, y_nb_pred)\n",
    "\n",
    "print(f\"The Naive Bayes classifier accuracy is {nb_accuracy:.4f} or {nb_accuracy:.2%}\")\n",
    "print(\"\\n\")\n",
    "print(\"Classification Report:\")\n",
    "print(classification_report(y_nb_test, y_nb_pred))\n"
   ]
  },
  {
   "cell_type": "markdown",
   "id": "fb9ece58",
   "metadata": {},
   "source": [
    "###### Thoughts"
   ]
  },
  {
   "cell_type": "markdown",
   "id": "06234589",
   "metadata": {},
   "source": [
    "In this three class model, the model performs better than chance guessing. This is a start! However, I am not satisfied with the performance of the model. The macro average of f1-score being .42 is not where I would like it to be by any means. It is interesting thast the model performs significantly better on predicting high risk fires versus low, or moderate risk fires. It is also interesting just how poorly the model performs predicting low risk fires."
   ]
  },
  {
   "cell_type": "markdown",
   "id": "2aa6f43c",
   "metadata": {},
   "source": [
    "#### High vs Mod + Low"
   ]
  },
  {
   "cell_type": "code",
   "execution_count": 50,
   "id": "e43c10f0",
   "metadata": {},
   "outputs": [],
   "source": [
    "honb_classifier, x_honb_train, x_honb_test, \\\n",
    "y_honb_train, y_honb_test = train_nb_classifier(high_other_comb_texts, high_other_labels, 0.2)"
   ]
  },
  {
   "cell_type": "code",
   "execution_count": 51,
   "id": "af1427ad",
   "metadata": {},
   "outputs": [
    {
     "name": "stdout",
     "output_type": "stream",
     "text": [
      "The Naive Bayes classifier accuracy is 0.6960 or 69.60%\n",
      "\n",
      "\n",
      "Classification Report:\n",
      "              precision    recall  f1-score   support\n",
      "\n",
      "        high       0.84      0.19      0.31       552\n",
      "       other       0.68      0.98      0.80       981\n",
      "\n",
      "    accuracy                           0.70      1533\n",
      "   macro avg       0.76      0.59      0.56      1533\n",
      "weighted avg       0.74      0.70      0.63      1533\n",
      "\n"
     ]
    }
   ],
   "source": [
    "y_honb_pred = honb_classifier.predict(x_honb_test)\n",
    "y_honb_train_pred = honb_classifier.predict(x_honb_train)\n",
    "\n",
    "honb_accuracy = accuracy_score(y_honb_test, y_honb_pred)\n",
    "\n",
    "print(f\"The Naive Bayes classifier accuracy is {honb_accuracy:.4f} or {honb_accuracy:.2%}\")\n",
    "print(\"\\n\")\n",
    "print(\"Classification Report:\")\n",
    "print(classification_report(y_honb_test, y_honb_pred))"
   ]
  },
  {
   "cell_type": "markdown",
   "id": "6c5333c5",
   "metadata": {},
   "source": [
    "### K Nearest Neighbors"
   ]
  },
  {
   "cell_type": "code",
   "execution_count": 52,
   "id": "fcabe535",
   "metadata": {},
   "outputs": [],
   "source": [
    "def train_knn_classifier(combined_texts=None, risk_labels=None, neighbors = 6, test_size=0.2, random_state=2):\n",
    "    x = vectorizer.fit_transform(combined_texts)\n",
    "    y = risk_labels.tolist()\n",
    "    xnn_train, xnn_test, ynn_train, ynn_test = train_test_split(x,y,test_size = 0.2, random_state = 2)\n",
    "    knn_fire = KNeighborsClassifier(n_neighbors = neighbors)\n",
    "    knn_fire.fit(xnn_train, ynn_train)\n",
    "    \n",
    "    return knn_fire, xnn_train, xnn_test, ynn_train, ynn_test\n",
    "\n",
    "def neighbor_number_search(min, max):\n",
    "    n_rng = np.arange(min,max)\n",
    "    train_acc = np.empty(len(n_rng))\n",
    "    test_acc = np.empty(len(n_rng))\n",
    "    \n",
    "    for i, k in enumerate(n_rng):\n",
    "        knn = KNeighborsClassifier(n_neighbors = k)\n",
    "        knn.fit(xnn_train, ynn_train)\n",
    "        \n",
    "        train_acc[i] = knn.score(xnn_train, ynn_train)\n",
    "        test_acc[i] = knn.score(xnn_test, ynn_test)\n",
    "    \n",
    "    plt.plot(n_rng, test_acc, label = 'Accuracy on Testing Data')\n",
    "    plt.plot(n_rng, train_acc, label = 'Accuracy on Training Data')\n",
    "    plt.legend()\n",
    "    plt.xlabel('# of Neighbors')\n",
    "    plt.ylabel('Accuracy')\n",
    "    plt.show()\n",
    "    "
   ]
  },
  {
   "cell_type": "code",
   "execution_count": 53,
   "id": "6a87fed5",
   "metadata": {},
   "outputs": [],
   "source": [
    "warnings.filterwarnings(\"ignore\", category=FutureWarning, module=\"sklearn.neighbors._classification\")\n",
    "\n",
    "knn_classifier, xnn_train, xnn_test, ynn_train, ynn_test \\\n",
    "    = train_knn_classifier(combined_texts, risk_labels, 6, .2, 2)"
   ]
  },
  {
   "cell_type": "code",
   "execution_count": 54,
   "id": "3a753656",
   "metadata": {},
   "outputs": [],
   "source": [
    "knn_pred = knn_classifier.predict(xnn_test)"
   ]
  },
  {
   "cell_type": "code",
   "execution_count": 55,
   "id": "2b4bc87d",
   "metadata": {},
   "outputs": [
    {
     "name": "stdout",
     "output_type": "stream",
     "text": [
      "0.3561643835616438\n"
     ]
    }
   ],
   "source": [
    "knn_score = knn_classifier.score(xnn_test,ynn_test)\n",
    "print(knn_score)"
   ]
  },
  {
   "cell_type": "code",
   "execution_count": 56,
   "id": "640cf1e0",
   "metadata": {},
   "outputs": [
    {
     "data": {
      "image/png": "[encoded data removed]",
      "text/plain": [
       "<Figure size 432x288 with 1 Axes>"
      ]
     },
     "metadata": {
      "needs_background": "light"
     },
     "output_type": "display_data"
    }
   ],
   "source": [
    "neighbor_number_search(5,17)"
   ]
  },
  {
   "cell_type": "code",
   "execution_count": null,
   "id": "cc316bbd",
   "metadata": {},
   "outputs": [],
   "source": []
  },
  {
   "cell_type": "code",
   "execution_count": null,
   "id": "dc4b6cae",
   "metadata": {},
   "outputs": [],
   "source": []
  },
  {
   "cell_type": "markdown",
   "id": "5b508571",
   "metadata": {},
   "source": [
    "### Penalized Logistic Regression"
   ]
  },
  {
   "cell_type": "code",
   "execution_count": 57,
   "id": "102afdaf",
   "metadata": {},
   "outputs": [],
   "source": [
    "def train_linear_reg(text, labels, penalty = 'l2', C = 1, max_iter = 500):\n",
    "    x = vectorizer.fit_transform(text)\n",
    "    y = labels.tolist()\n",
    "    \n",
    "    lrx_train, lrx_test, lry_train, lry_test = train_test_split(x, y, test_size = 0.2, random_state = 2)\n",
    "    \n",
    "    model = LogisticRegression(penalty = penalty, C = C, random_state = 2, max_iter = max_iter)\n",
    "    model.fit(lrx_train,lry_train)\n",
    "    \n",
    "    return(model, lrx_train, lrx_test, lry_train, lry_test)\n",
    "    \n",
    "    \n",
    "    "
   ]
  },
  {
   "cell_type": "markdown",
   "id": "88ed52b2",
   "metadata": {},
   "source": [
    "#### 3 Risks"
   ]
  },
  {
   "cell_type": "code",
   "execution_count": 58,
   "id": "ccf054e7",
   "metadata": {
    "scrolled": true
   },
   "outputs": [],
   "source": [
    "plr_model, lrx_train, lrx_test,\\\n",
    "lry_train, lry_test = train_linear_reg(combined_texts,risk_labels,'l2',1,1000)"
   ]
  },
  {
   "cell_type": "code",
   "execution_count": 59,
   "id": "685fa0ec",
   "metadata": {},
   "outputs": [],
   "source": [
    "lry_pred = plr_model.predict(lrx_test)\n",
    "plr_score = accuracy_score(lry_test, lry_pred)"
   ]
  },
  {
   "cell_type": "code",
   "execution_count": 60,
   "id": "730c4ceb",
   "metadata": {
    "scrolled": true
   },
   "outputs": [
    {
     "name": "stdout",
     "output_type": "stream",
     "text": [
      "A penalized logistic regression model classifying risk has an accuracy of 0.6060013046314416\n",
      "\n",
      "Classification Report:\n",
      "              precision    recall  f1-score   support\n",
      "\n",
      "        high       0.69      0.75      0.72       552\n",
      "         low       0.64      0.46      0.54       400\n",
      "         mod       0.51      0.56      0.54       581\n",
      "\n",
      "    accuracy                           0.61      1533\n",
      "   macro avg       0.61      0.59      0.60      1533\n",
      "weighted avg       0.61      0.61      0.60      1533\n",
      "\n"
     ]
    }
   ],
   "source": [
    "print(f\"A penalized logistic regression model classifying risk has an accuracy of {plr_score}\\n\")\n",
    "print(\"Classification Report:\")\n",
    "print(classification_report(lry_test, lry_pred))"
   ]
  },
  {
   "cell_type": "code",
   "execution_count": 61,
   "id": "d131c427",
   "metadata": {},
   "outputs": [
    {
     "name": "stdout",
     "output_type": "stream",
     "text": [
      "Best parameters: {'C': 1, 'penalty': 'l1'}\n",
      "A penalized logistic regression model classifying risk has an accuracy of 0.5923026744944553\n",
      "\n",
      "Classification Report:\n",
      "              precision    recall  f1-score   support\n",
      "\n",
      "        high       0.67      0.74      0.70       552\n",
      "         low       0.63      0.47      0.54       400\n",
      "         mod       0.50      0.54      0.52       581\n",
      "\n",
      "    accuracy                           0.59      1533\n",
      "   macro avg       0.60      0.58      0.59      1533\n",
      "weighted avg       0.59      0.59      0.59      1533\n",
      "\n"
     ]
    }
   ],
   "source": [
    "param_grid = {\n",
    "    'C': [0.01, 0.1, 1, 10, 100],\n",
    "    'penalty': ['l1', 'l2']\n",
    "}\n",
    "\n",
    "grid_search = GridSearchCV(LogisticRegression(solver='saga', max_iter=5000), param_grid, cv=5, scoring='accuracy')\n",
    "grid_search.fit(lrx_train, lry_train)\n",
    "\n",
    "print(f\"Best parameters: {grid_search.best_params_}\")\n",
    "best_model = grid_search.best_estimator_\n",
    "\n",
    "lry_pred = best_model.predict(lrx_test)\n",
    "plr_score = accuracy_score(lry_test, lry_pred)\n",
    "\n",
    "print(f\"A penalized logistic regression model classifying risk has an accuracy of {plr_score}\\n\")\n",
    "print(\"Classification Report:\")\n",
    "print(classification_report(lry_test, lry_pred))"
   ]
  },
  {
   "cell_type": "markdown",
   "id": "81027ec3",
   "metadata": {},
   "source": [
    "#### High vs Mod + Low"
   ]
  },
  {
   "cell_type": "code",
   "execution_count": 62,
   "id": "b4af51c3",
   "metadata": {},
   "outputs": [],
   "source": [
    "ho_model, ho_lrx_train, ho_lrx_test, ho_lry_train, ho_lry_test \\\n",
    "= train_linear_reg(high_other_comb_texts, high_other_labels, 'l2', 1, 1000)"
   ]
  },
  {
   "cell_type": "code",
   "execution_count": 63,
   "id": "f24db94b",
   "metadata": {},
   "outputs": [],
   "source": [
    "ho_lry_pred = ho_model.predict(ho_lrx_test)\n",
    "ho_score = accuracy_score(ho_lry_test, ho_lry_pred)"
   ]
  },
  {
   "cell_type": "code",
   "execution_count": 64,
   "id": "7ceec19d",
   "metadata": {},
   "outputs": [
    {
     "name": "stdout",
     "output_type": "stream",
     "text": [
      "The model accuracy is 0.7964774951076321\n",
      " \n",
      "Classification Report:\n",
      "              precision    recall  f1-score   support\n",
      "\n",
      "        high       0.77      0.62      0.69       552\n",
      "       other       0.81      0.90      0.85       981\n",
      "\n",
      "    accuracy                           0.80      1533\n",
      "   macro avg       0.79      0.76      0.77      1533\n",
      "weighted avg       0.79      0.80      0.79      1533\n",
      "\n"
     ]
    }
   ],
   "source": [
    "print(f\"The model accuracy is {ho_score}\")\n",
    "print(\" \\nClassification Report:\")\n",
    "print(classification_report(ho_lry_test, ho_lry_pred))"
   ]
  },
  {
   "cell_type": "code",
   "execution_count": null,
   "id": "0a1927cd",
   "metadata": {},
   "outputs": [],
   "source": []
  },
  {
   "cell_type": "markdown",
   "id": "9d2a4e54",
   "metadata": {},
   "source": [
    "### Random Forest "
   ]
  },
  {
   "cell_type": "code",
   "execution_count": 65,
   "id": "690e6f37",
   "metadata": {},
   "outputs": [],
   "source": [
    "def train_random_forest(text,labels,n_estimators = 500):\n",
    "    x = vectorizer.fit_transform(text)\n",
    "    y = labels.tolist()\n",
    "    \n",
    "    rfx_train, rfx_test, rfy_train, rfy_test = train_test_split(x, y, test_size = 0.2, random_state = 2)\n",
    "    rf_classifier = RandomForestClassifier(n_estimators= n_estimators, random_state = 2)\n",
    "    rf_classifier.fit(rfx_train, rfy_train)\n",
    "    \n",
    "    return(rf_classifier,rfx_train, rfx_test, rfy_train, rfy_test)\n",
    "\n",
    "def best_random_forest(text, labels, n_estimators=500):\n",
    "    x = vectorizer.fit_transform(text)\n",
    "    y = labels.tolist()\n",
    "    \n",
    "    rfx_train, rfx_test, rfy_train, rfy_test = train_test_split(x, y, test_size=0.2, random_state=2)\n",
    "    rf_classifier = RandomForestClassifier(n_estimators=n_estimators, random_state=2)\n",
    "\n",
    "\n",
    "    param_grid = {\n",
    "        'n_estimators': [100, 500, 1000, 2000],\n",
    "        'max_depth': [None, 10, 20, 30, 50],\n",
    "        'min_samples_split': [2, 5, 10, 20, 30],\n",
    "        'min_samples_leaf': [1, 2, 4],\n",
    "        'max_features': ['sqrt', 'log2', None],\n",
    "        'bootstrap': [True, False]\n",
    "    }\n",
    "\n",
    "    # Instantiate GridSearchCV\n",
    "    grid_search = GridSearchCV(rf_classifier, param_grid, cv=5, scoring='accuracy', n_jobs=-1)\n",
    "    grid_search.fit(rfx_train, rfy_train)\n",
    "\n",
    "    # Get the best model from grid search\n",
    "    best_rf_classifier = grid_search.best_estimator_\n",
    "\n",
    "    return best_rf_classifier, rfx_train, rfx_test, rfy_train, rfy_test"
   ]
  },
  {
   "cell_type": "code",
   "execution_count": 139,
   "id": "a1306d36",
   "metadata": {},
   "outputs": [
    {
     "data": {
      "text/plain": [
       "RandomForestClassifier(n_estimators=500, random_state=2)"
      ]
     },
     "execution_count": 139,
     "metadata": {},
     "output_type": "execute_result"
    }
   ],
   "source": []
  },
  {
   "cell_type": "code",
   "execution_count": 66,
   "id": "f9c60c66",
   "metadata": {},
   "outputs": [],
   "source": [
    "rf_classifier,rfx_train, rfx_test, rfy_train, rfy_test = train_random_forest(combined_texts,risk_labels)"
   ]
  },
  {
   "cell_type": "code",
   "execution_count": 67,
   "id": "139316ca",
   "metadata": {},
   "outputs": [
    {
     "name": "stdout",
     "output_type": "stream",
     "text": [
      "Accuracy: 0.5649054142204827\n"
     ]
    }
   ],
   "source": [
    "rfy_pred = rf_classifier.predict(rfx_test)\n",
    "rf_accuracy = accuracy_score(rfy_test, rfy_pred)\n",
    "print(\"Accuracy:\", rf_accuracy)"
   ]
  },
  {
   "cell_type": "code",
   "execution_count": 68,
   "id": "11a387be",
   "metadata": {},
   "outputs": [
    {
     "name": "stdout",
     "output_type": "stream",
     "text": [
      "Classification Report:\n",
      "               precision    recall  f1-score   support\n",
      "\n",
      "        high       0.63      0.78      0.70       552\n",
      "         low       0.66      0.30      0.41       400\n",
      "         mod       0.47      0.55      0.51       581\n",
      "\n",
      "    accuracy                           0.56      1533\n",
      "   macro avg       0.59      0.54      0.54      1533\n",
      "weighted avg       0.58      0.56      0.55      1533\n",
      "\n"
     ]
    }
   ],
   "source": [
    " print(\"Classification Report:\\n\", classification_report(rfy_test, rfy_pred))"
   ]
  },
  {
   "cell_type": "markdown",
   "id": "e3549b76",
   "metadata": {},
   "source": [
    "Now, I try some hyperparamater tuning to see if model performance can be improved without overfitting."
   ]
  },
  {
   "cell_type": "code",
   "execution_count": 69,
   "id": "a6c4d5fd",
   "metadata": {},
   "outputs": [],
   "source": [
    "#best_rf_classifier, rfx_train, rfx_test, rfy_train, rfy_test = best_random_forest(combined_texts, risk_labels)\n",
    "#rfy_pred = best_rf_classifier.predict(rfx_test)\n",
    "#brf_accuracy = accuracy_score(rfy_test, rfy_pred)\n",
    "#print(\"Best Model Accuracy:\", brf_accuracy)\n",
    "#print(\"Best Model Parameters:\", best_rf_classifier.get_params())"
   ]
  },
  {
   "cell_type": "markdown",
   "id": "5f493337",
   "metadata": {},
   "source": [
    "### Ensemble"
   ]
  },
  {
   "cell_type": "code",
   "execution_count": 70,
   "id": "580853f5",
   "metadata": {},
   "outputs": [],
   "source": [
    "from sklearn.ensemble import StackingClassifier\n",
    "x = vectorizer.fit_transform(combined_texts)\n",
    "y = risk_labels.tolist()\n",
    "\n",
    "x_train, x_test, y_train, y_test = train_test_split(x, y, test_size = 0.2, random_state = 2)"
   ]
  },
  {
   "cell_type": "code",
   "execution_count": null,
   "id": "a3e6c1fc",
   "metadata": {},
   "outputs": [],
   "source": []
  },
  {
   "cell_type": "markdown",
   "id": "754a30cd",
   "metadata": {},
   "source": [
    "#### Base Models"
   ]
  },
  {
   "cell_type": "markdown",
   "id": "fb951a34",
   "metadata": {},
   "source": [
    "#####  Naive Bayes"
   ]
  },
  {
   "cell_type": "code",
   "execution_count": 71,
   "id": "649811be",
   "metadata": {},
   "outputs": [
    {
     "name": "stdout",
     "output_type": "stream",
     "text": [
      "Classification Report for Naive Bayes Classifier:\n",
      "              precision    recall  f1-score   support\n",
      "\n",
      "        high       0.63      0.81      0.71       552\n",
      "         low       0.56      0.01      0.02       400\n",
      "         mod       0.46      0.64      0.53       581\n",
      "\n",
      "    accuracy                           0.54      1533\n",
      "   macro avg       0.55      0.49      0.42      1533\n",
      "weighted avg       0.55      0.54      0.46      1533\n",
      "\n"
     ]
    }
   ],
   "source": [
    "en_nb_classifier,*_ = train_nb_classifier(combined_texts,risk_labels,.2)\n",
    "\n",
    "y_pred_nb = en_nb_classifier.predict(x_test)\n",
    "\n",
    "classification_rep = classification_report(y_test, y_pred_nb)\n",
    "\n",
    "print(\"Classification Report for Naive Bayes Classifier:\")\n",
    "print(classification_rep)"
   ]
  },
  {
   "cell_type": "code",
   "execution_count": 72,
   "id": "a94303ba",
   "metadata": {},
   "outputs": [
    {
     "name": "stdout",
     "output_type": "stream",
     "text": [
      "Classification Report for Naive Bayes Classifier:\n",
      "              precision    recall  f1-score   support\n",
      "\n",
      "        high       0.64      0.71      0.67       552\n",
      "         low       0.58      0.29      0.39       400\n",
      "         mod       0.47      0.58      0.52       581\n",
      "\n",
      "    accuracy                           0.55      1533\n",
      "   macro avg       0.56      0.53      0.53      1533\n",
      "weighted avg       0.56      0.55      0.54      1533\n",
      "\n"
     ]
    }
   ],
   "source": [
    "en_bestalpha_nb_classifier, *_ = train_nb_classifier(combined_texts,risk_labels,.2,.1)\n",
    "\n",
    "y_pred_nb = en_bestalpha_nb_classifier.predict(x_test)\n",
    "\n",
    "classification_rep = classification_report(y_test, y_pred_nb)\n",
    "\n",
    "print(\"Classification Report for Naive Bayes Classifier:\")\n",
    "print(classification_rep)"
   ]
  },
  {
   "cell_type": "markdown",
   "id": "cb498d04",
   "metadata": {},
   "source": [
    "##### Random Forest"
   ]
  },
  {
   "cell_type": "code",
   "execution_count": 73,
   "id": "c40dc703",
   "metadata": {},
   "outputs": [],
   "source": [
    "en_rf_classifier, *_ = train_random_forest(combined_texts, risk_labels,750) "
   ]
  },
  {
   "cell_type": "code",
   "execution_count": null,
   "id": "0bfe90e0",
   "metadata": {},
   "outputs": [],
   "source": []
  },
  {
   "cell_type": "markdown",
   "id": "1845dd93",
   "metadata": {},
   "source": [
    "###### Penalized Linear Regression"
   ]
  },
  {
   "cell_type": "code",
   "execution_count": 74,
   "id": "973c46cb",
   "metadata": {},
   "outputs": [],
   "source": [
    "en_plr_model, *_ = train_linear_reg(combined_texts,risk_labels)"
   ]
  },
  {
   "cell_type": "code",
   "execution_count": null,
   "id": "eae6dd63",
   "metadata": {},
   "outputs": [],
   "source": []
  },
  {
   "cell_type": "code",
   "execution_count": null,
   "id": "2e9dbdc1",
   "metadata": {},
   "outputs": [],
   "source": []
  },
  {
   "cell_type": "markdown",
   "id": "ee8bad16",
   "metadata": {},
   "source": [
    "#### Stacker Model"
   ]
  },
  {
   "cell_type": "code",
   "execution_count": 75,
   "id": "4c0647bf",
   "metadata": {},
   "outputs": [
    {
     "data": {
      "text/plain": [
       "StackingClassifier(estimators=[('PLR',\n",
       "                                LogisticRegression(C=1, max_iter=500,\n",
       "                                                   random_state=2)),\n",
       "                               ('RF',\n",
       "                                RandomForestClassifier(n_estimators=750,\n",
       "                                                       random_state=2)),\n",
       "                               ('NB', MultinomialNB()),\n",
       "                               ('NB_alpha', MultinomialNB(alpha=0.1))],\n",
       "                   final_estimator=LogisticRegression())"
      ]
     },
     "execution_count": 75,
     "metadata": {},
     "output_type": "execute_result"
    }
   ],
   "source": [
    "estimators = [('PLR',en_plr_model),('RF', en_rf_classifier), ('NB', en_nb_classifier), ('NB_alpha', en_bestalpha_nb_classifier)]\n",
    "stacker = StackingClassifier(estimators=estimators, final_estimator=LogisticRegression())\n",
    "\n",
    "stacker.fit(x_train,y_train)"
   ]
  },
  {
   "cell_type": "code",
   "execution_count": 76,
   "id": "ef8a9557",
   "metadata": {},
   "outputs": [
    {
     "data": {
      "text/plain": [
       "0.6353555120678408"
      ]
     },
     "execution_count": 76,
     "metadata": {},
     "output_type": "execute_result"
    }
   ],
   "source": [
    "stack_pred = stacker.predict(x_test)\n",
    "\n",
    "stack_score = accuracy_score(y_test, stack_pred)\n",
    "\n",
    "stack_score"
   ]
  },
  {
   "cell_type": "code",
   "execution_count": 77,
   "id": "bd553f08",
   "metadata": {},
   "outputs": [],
   "source": [
    "from scipy.stats import mode"
   ]
  },
  {
   "cell_type": "code",
   "execution_count": 113,
   "id": "e865e386",
   "metadata": {
    "scrolled": true
   },
   "outputs": [
    {
     "ename": "NameError",
     "evalue": "name 'predictions' is not defined",
     "output_type": "error",
     "traceback": [
      "\u001b[1;31m---------------------------------------------------------------------------\u001b[0m",
      "\u001b[1;31mNameError\u001b[0m                                 Traceback (most recent call last)",
      "Input \u001b[1;32mIn [113]\u001b[0m, in \u001b[0;36m<cell line: 1>\u001b[1;34m()\u001b[0m\n\u001b[1;32m----> 1\u001b[0m accuracy \u001b[38;5;241m=\u001b[39m accuracy_score(y_test_encoded, \u001b[43mpredictions\u001b[49m)\n\u001b[0;32m      3\u001b[0m \u001b[38;5;66;03m# Filter probabilities for correct and incorrect classifications\u001b[39;00m\n\u001b[0;32m      4\u001b[0m correct_probabilities \u001b[38;5;241m=\u001b[39m probabilities[predictions \u001b[38;5;241m==\u001b[39m y_test_encoded]\n",
      "\u001b[1;31mNameError\u001b[0m: name 'predictions' is not defined"
     ]
    }
   ],
   "source": [
    "accuracy = accuracy_score(y_test_encoded, predictions)\n",
    "\n",
    "# Filter probabilities for correct and incorrect classifications\n",
    "correct_probabilities = probabilities[predictions == y_test_encoded]\n",
    "incorrect_probabilities = probabilities[predictions != y_test_encoded]\n",
    "\n",
    "sns.set(style=\"whitegrid\")\n",
    "\n",
    "# Plot histograms for correct and incorrect probabilities\n",
    "plt.figure(figsize=(12, 6))\n",
    "\n",
    "# Plot histogram for correct probabilities\n",
    "plt.subplot(1, 2, 1)\n",
    "plt.hist(correct_probabilities.flatten(), bins=20, color='green', alpha=0.7)\n",
    "plt.title('Correct Classifications')\n",
    "plt.xlabel('Predicted Probabilities')\n",
    "plt.ylabel('Frequency')\n",
    "\n",
    "# Plot histogram for incorrect probabilities\n",
    "plt.subplot(1, 2, 2)\n",
    "plt.hist(incorrect_probabilities.flatten(), bins=20, color='red', alpha=0.7)\n",
    "plt.title('Incorrect Classifications')\n",
    "plt.xlabel('Predicted Probabilities')\n",
    "plt.ylabel('Frequency')\n",
    "\n",
    "# Show the plots\n",
    "plt.tight_layout()\n",
    "plt.show()\n",
    "\n",
    "print(accuracy)"
   ]
  },
  {
   "cell_type": "markdown",
   "id": "6c549474",
   "metadata": {},
   "source": [
    "####  Boosting"
   ]
  },
  {
   "cell_type": "code",
   "execution_count": 80,
   "id": "3c7e2f82",
   "metadata": {},
   "outputs": [],
   "source": [
    "def train_binary_classifier(x_train, y_train, class_label):\n",
    "    model = OneVsRestClassifier(LogisticRegression())\n",
    "    model.fit(x_train, (y_train == class_label).astype(int))\n",
    "    return model\n",
    "from sklearn.svm import SVC"
   ]
  },
  {
   "cell_type": "code",
   "execution_count": 81,
   "id": "b31df6db",
   "metadata": {},
   "outputs": [
    {
     "name": "stdout",
     "output_type": "stream",
     "text": [
      "Ensemble Prediction:\n",
      "[0 2 0 ... 1 0 2]\n",
      "Logistic Regression Accuracy: 0.6060013046314416\n",
      "Final Accuracy: 0.558382257012394\n"
     ]
    }
   ],
   "source": [
    "\n",
    "label_encoder = LabelEncoder()\n",
    "y_train_encoded = label_encoder.fit_transform(y_train)\n",
    "y_test_encoded = label_encoder.transform(y_test)\n",
    "\n",
    "model_level1 = train_binary_classifier(x_train, y_train_encoded, 0)\n",
    "model_level2 = train_binary_classifier(x_train, y_train_encoded, 1)\n",
    "model_level3 = train_binary_classifier(x_train, y_train_encoded, 2)\n",
    "\n",
    "\n",
    "# Make predictions\n",
    "pred_level1 = model_level1.predict_proba(x_test)[:, 1]  # Probability of class 1\n",
    "pred_level2 = model_level2.predict_proba(x_test)[:, 1]  # Probability of class 1\n",
    "pred_level3 = model_level3.predict_proba(x_test)[:, 1]  # Probability of class 1\n",
    "\n",
    "highest_probability_class = np.argmax([pred_level1, pred_level2, pred_level3], axis=0)\n",
    "\n",
    "# Train XGBoost model\n",
    "xgb_model = xgb.XGBClassifier()\n",
    "xgb_model.fit(x_train, y_train_encoded)\n",
    "\n",
    "# Train SVM model\n",
    "svm_model = SVC(probability=True)\n",
    "svm_model.fit(x_train, y_train_encoded)\n",
    "\n",
    "# Make predictions\n",
    "xgb_predictions = xgb_model.predict(x_test)\n",
    "svm_predictions = svm_model.predict(x_test)\n",
    "\n",
    "# Combine predictions using majority voting\n",
    "ensemble_prediction = np.argmax([highest_probability_class, xgb_predictions, svm_predictions], axis=0)\n",
    "\n",
    "# Initialize ensemble_predictions\n",
    "ensemble_predictions = np.copy(ensemble_prediction)\n",
    "\n",
    "# Print ensemble predictions\n",
    "print(\"Ensemble Prediction:\")\n",
    "print(ensemble_prediction)\n",
    "\n",
    "# Create and train the Logistic Regression model\n",
    "logistic_regression = LogisticRegression(multi_class='multinomial', solver='lbfgs')\n",
    "logistic_regression.fit(x_train, y_train_encoded)\n",
    "\n",
    "# Make predictions on the test set\n",
    "logistic_regression_predictions = logistic_regression.predict(x_test)\n",
    "logistic_regression_probabilities = logistic_regression.predict_proba(x_test)\n",
    "\n",
    "# Threshold for using ensemble model\n",
    "threshold = 0.68\n",
    "\n",
    "# Evaluate the logistic regression model\n",
    "logistic_regression_accuracy = accuracy_score(y_test_encoded, logistic_regression_predictions)\n",
    "print(f\"Logistic Regression Accuracy: {logistic_regression_accuracy}\")\n",
    "\n",
    "# Use ensemble for instances where the highest predicted probability from logistic regression is below the threshold\n",
    "use_ensemble_mask = np.max(logistic_regression_probabilities, axis=1) < threshold\n",
    "ensemble_predictions[use_ensemble_mask] = logistic_regression_predictions[use_ensemble_mask]\n",
    "\n",
    "# Evaluate the final predictions\n",
    "final_accuracy = accuracy_score(y_test_encoded, ensemble_predictions)\n",
    "print(f\"Final Accuracy: {final_accuracy}\")\n"
   ]
  },
  {
   "cell_type": "code",
   "execution_count": null,
   "id": "156d845d",
   "metadata": {},
   "outputs": [],
   "source": [
    "\n",
    "# Assuming you have x_train, x_test, y_train, and y_test\n",
    "\n",
    "# Encode labels with integers\n",
    "label_encoder = LabelEncoder()\n",
    "y_train_encoded = label_encoder.fit_transform(y_train)\n",
    "y_test_encoded = label_encoder.transform(y_test)\n",
    "\n",
    "model_level1 = train_binary_classifier(x_train, y_train_encoded, 0)\n",
    "model_level2 = train_binary_classifier(x_train, y_train_encoded, 1)\n",
    "model_level3 = train_binary_classifier(x_train, y_train_encoded, 2)\n",
    "\n",
    "\n",
    "# Make predictions\n",
    "pred_level1 = model_level1.predict_proba(x_test)[:, 1]  # Probability of class 1\n",
    "pred_level2 = model_level2.predict_proba(x_test)[:, 1]  # Probability of class 1\n",
    "pred_level3 = model_level3.predict_proba(x_test)[:, 1]  # Probability of class 1\n",
    "\n",
    "# Combine predictions using majority voting\n",
    "ensemble_prediction = np.argmax([pred_level1, pred_level2, pred_level3], axis=0)\n",
    "\n",
    "# Print ensemble predictions\n",
    "print(\"Ensemble Prediction:\")\n",
    "print(ensemble_prediction)\n",
    "\n",
    "# Create and train the Logistic Regression model\n",
    "logistic_regression = LogisticRegression(multi_class='multinomial', solver='lbfgs')\n",
    "logistic_regression.fit(x_train, y_train_encoded)\n",
    "\n",
    "# Make predictions on the test set\n",
    "logistic_regression_predictions = logistic_regression.predict(x_test)\n",
    "logistic_regression_probabilities = logistic_regression.predict_proba(x_test)\n",
    "\n",
    "# Threshold for using ensemble model\n",
    "threshold = 0.60\n",
    "\n",
    "# Evaluate the logistic regression model\n",
    "logistic_regression_accuracy = accuracy_score(y_test_encoded, logistic_regression_predictions)\n",
    "print(f\"Logistic Regression Accuracy: {logistic_regression_accuracy}\")\n",
    "\n",
    "# Use ensemble for instances where the highest predicted probability from logistic regression is below the threshold\n",
    "use_ensemble_mask = np.max(logistic_regression_probabilities, axis=1) < threshold\n",
    "ensemble_predictions = np.argmax([pred_level1[use_ensemble_mask], pred_level2[use_ensemble_mask], pred_level3[use_ensemble_mask]], axis=0)\n",
    "logistic_regression_predictions[use_ensemble_mask] = ensemble_predictions\n",
    "\n",
    "# Evaluate the final predictions\n",
    "final_accuracy = accuracy_score(y_test_encoded, logistic_regression_predictions)\n",
    "print(f\"Final Accuracy: {final_accuracy}\")\n",
    "\n",
    "# Decode the integer-encoded labels to understand the original classes\n",
    "decoded_predictions = label_encoder.inverse_transform(logistic_regression_predictions)\n",
    "print(f\"Decoded Predictions: {decoded_predictions}\")\n",
    "\n",
    "# Print predicted probabilities for the first few examples from logistic regression\n",
    "print(\"Logistic Regression Predicted Probabilities:\")\n",
    "print(logistic_regression_probabilities[:5, :])\n",
    "\n",
    "# Print predicted probabilities for the first few examples from ensemble model\n",
    "ensemble_probabilities = np.column_stack([pred_level1[use_ensemble_mask], pred_level2[use_ensemble_mask], pred_level3[use_ensemble_mask]])\n",
    "print(\"Ensemble Model Predicted Probabilities:\")\n",
    "print(ensemble_probabilities[:5, :])\n"
   ]
  },
  {
   "cell_type": "code",
   "execution_count": null,
   "id": "a8750066",
   "metadata": {
    "scrolled": true
   },
   "outputs": [],
   "source": [
    "log_reg_model = LogisticRegression()\n",
    "log_reg_model.fit(x_train, y_train_encoded)\n",
    "\n",
    "# Make predictions with Logistic Regression model and get class probabilities\n",
    "log_reg_predictions = log_reg_model.predict(x_test)\n",
    "log_reg_probabilities = log_reg_model.predict_proba(x_test)\n",
    "\n",
    "# Set a probability threshold\n",
    "threshold = 0.55\n",
    "\n",
    "# Identify instances with low probability from Logistic Regression\n",
    "low_prob_indices = np.where(log_reg_probabilities.max(axis=1) < threshold)[0]\n",
    "\n",
    "# Train XGBoost on instances with low probability from Logistic Regression\n",
    "xgb_model = xgb.XGBClassifier()\n",
    "xgb_model.fit(x_train[low_prob_indices], y_train_encoded[low_prob_indices])\n",
    "\n",
    "# Combine predictions\n",
    "ensemble_predictions = np.zeros_like(log_reg_predictions)\n",
    "ensemble_predictions[low_prob_indices] = xgb_model.predict(x_test[low_prob_indices])\n",
    "ensemble_predictions[~low_prob_indices] = log_reg_predictions[~low_prob_indices]\n",
    "\n",
    "# Evaluate accuracy\n",
    "accuracy = accuracy_score(y_test_encoded, ensemble_predictions)\n",
    "print(f\"Accuracy after combining models: {accuracy}\")"
   ]
  },
  {
   "cell_type": "markdown",
   "id": "2156b704",
   "metadata": {},
   "source": [
    "#### Bagging"
   ]
  },
  {
   "cell_type": "code",
   "execution_count": 114,
   "id": "1bb60704",
   "metadata": {},
   "outputs": [],
   "source": [
    "def train_bagging_classifier(X_train, y_train, X_test, y_test, base_classifier, n_estimators=10, random_state=2):\n",
    "    \"\"\"\n",
    "    Train a bagging classifier and evaluate its performance.\n",
    "\n",
    "    Parameters:\n",
    "    - X_train: Training features\n",
    "    - y_train: Training labels\n",
    "    - X_test: Testing features\n",
    "    - y_test: Testing labels\n",
    "    - base_classifier: The base classifier (e.g., LogisticRegression(), DecisionTreeClassifier(), etc.)\n",
    "    - n_estimators: Number of base estimators (default is 10)\n",
    "    - random_state: Random seed for reproducibility (default is 42)\n",
    "\n",
    "    Returns:\n",
    "    - bagging_classifier: Trained BaggingClassifier\n",
    "    - accuracy: Accuracy on the test set\n",
    "    \"\"\"\n",
    "    if isinstance(base_classifier, LogisticRegression):\n",
    "        base_classifier.set_params(max_iter=5000)\n",
    "        \n",
    "    if isinstance(base_classifier,RandomForestClassifier):\n",
    "        base_classifier.set_params(n_estimators = 1000)\n",
    "        \n",
    "    bagging_classifier = BaggingClassifier(base_estimator=base_classifier, n_estimators=n_estimators, random_state=random_state)\n",
    "    bagging_classifier.fit(X_train, y_train)\n",
    "    \n",
    "    cv = KFold(n_splits=5, shuffle=True, random_state=random_state)\n",
    "    cross_val_accuracy = cross_val_score(bagging_classifier, X_train, y_train, cv=cv, scoring='accuracy')\n",
    "    print(f\"Cross-Validation Accuracy: {cross_val_accuracy.mean()}\")\n",
    "          \n",
    "    y_pred = bagging_classifier.predict(X_test)\n",
    "    accuracy = accuracy_score(y_test, y_pred)\n",
    "\n",
    "    print(\"Accuracy:\", accuracy)\n",
    "\n",
    "    return bagging_classifier, accuracy"
   ]
  },
  {
   "cell_type": "code",
   "execution_count": 115,
   "id": "9c8cfed3",
   "metadata": {},
   "outputs": [
    {
     "ename": "ValueError",
     "evalue": "Expected 2D array, got 1D array instead:\narray=[\"('conditions', 'supporting', 'temperatures') ('temperatures', 'spring', 'brief') ('conditions', 'breaks', 'temperatures') ('dmc', 'reaching', 'time') ('period', 'reinforcing', 'reports') ('period', 'reinforcing', 'fuels') ('period', 'remains', 'effect') ('advisory', 'remains', 'effect') ('barriers', 'spread', 'roams') ('period', 'resulting', 'growth') ('period', 'resulting', 'growth') ('spotting', 'torching', 'winds') ('advisory', 'remains', 'effect') ('issues', 'arise', 'shortages') ('conditions', 'shortages', 'response') ('response', 'overlapping', 'site') ('site', 'threatening', 'decision') ('action', 'monitoring', 'decision') ('decision', 'completed', 'strategies') ('action', 'taken', 'date') ('attack', 'taken', 'jurisdictions') ('jurisdictions', 'impacting', 'objectives') ('objectives', 'achieving', 'strategies') ('actions', 'depending', 'jurisdictions')\"\n \"('fuels', 'occur', 'category') ('range', 'occur', 'category') ('range', 'spotting', 'beetle') ('terrain', 'pose', 'problems') ('problems', 'holding', 'behavior') ('wetter', 'leads', 'conditions') ('type', 'hr', 'fuels') ('type', 'occur', 'category') ('issues', 'occur', 'category') ('drainage', 'roadsides', 'outbreaks') ('vegetation', 'predisposes', 'effects') ('range', 'occurring', 'conditions') ('temperatures', 'degrees', 'calmer') ('thunderstorms', 'produce', 'type') ('rates', 'spread', 'fuel') ('fuels', 'dry', 'treatments') ('range', 'spotting', 'activity') ('rates', 'spread', 'beetle') ('events', 'occur', 'fuel') ('average', 'trending', 'date') ('average', 'trending', 'spotting') ('time', 'spotting', 'rates') ('rates', 'spread', 'range') ('range', 'spotting', 'runs') ('challenges', 'holding', 'events') ('challenges', 'occur', 'trees') ('infestation', 'starting', 'fuel') ('group', 'torching', 'date') ('closures', 'taking', 'restrictions') ('combinations', 'varied', 'exposure') ('group', 'completed', 'work') ('growth', 'occurred', 'jurisdictions') ('jurisdictions', 'wyoming', 'wyoming') ('group', 'prepositioning', 'crews') ('group', 'prepositioning', 'assets') ('operations', 'taking', 'helicopters') ('operations', 'assigned', 'operations') ('operations', 'assigned', 'divisions') ('limits', 'ff', 'hazards') ('hazards', 'using', 'skill') ('snags', 'sets', 'supervision') ('group', 'crews', 'assets') ('graph', 'indicates', 'season') ('season', 'ending', 'event') ('season', 'ending', 'measures') ('averages', 'discussed', 'barriers') ('breaks', 'contain', 'danger') ('percentile', 'discussed', 'moistures') ('moistures', 'experiencing', 'considered') ('moistures', 'limiting', 'breaks') ('moistures', 'indicates', 'season') ('graph', 'indicates', 'season') ('season', 'ending', 'event') ('season', 'ending', 'danger') ('percentile', 'discussed', 'danger') ('season', 'ending', 'event') ('season', 'ending', 'arebelow') ('indices', 'showing', 'season') ('indices', 'begins', 'peaks') ('indices', 'begins', 'season') ('season', 'ending', 'event') ('season', 'ending', 'measures') ('treatments', 'slow', 'portions') ('treatments', 'slow', 'elevations') ('conditions', 'aspen', 'willows') ('conditions', 'aspen', 'cooperators') ('objectives', 'vary', 'agencies') ('moistures', 'place', 'supporters') ('closures', 'place', 'supporters') ('officer', 'assigned', 'ownership') ('officer', 'assigned', 'agreement') ('agreement', 'signed', 'action') ('agreement', 'signed', 'point') ('harvest', 'contribute', 'sedimentation') ('harvest', 'issue', 'severity') ('support', 'use', 'role') ('service', 'administered', 'private') ('sales', 'affected', 'mitigation') ('sales', 'reach', 'creeks') ('sedimentation', 'issue', 'severity') ('fuels', 'mitigation', 'homes') ('lakes', 'use', 'role') ('supporters', 'impacting', 'blm') ('sales', 'affected', 'point') ('harvest', 'contribute', 'quantity') ('level', 'require', 'fuels') ('homes', 'require', 'fuels') ('support', 'living', 'duration') ('work', 'reduced', 'probability') ('permittees', 'need', 'cattle') ('permittees', 'need', 'operation') ('point', 'timber', 'creeks') ('sedimentation', 'issue', 'severity') ('preparations', 'occurs', 'efforts') ('preparations', 'reach', 'assessments') ('support', 'managed', 'people') ('assessments', 'seem', 'understand') ('harvest', 'contribute', 'creeks') ('sedimentation', 'issue', 'severity') ('dries', 'severity', 'structures') ('preparations', 'reach', 'ownerships') ('assessments', 'slowing', 'events') ('permittees', 'need', 'cattle') ('wyoming', 'point', 'runoff') ('wyoming', 'point', 'severity') ('structures', 'ranches', 'structures') ('contract', 'close', 'many') ('allotments', 'close', 'many') ('many', 'burns', 'permittees') ('duration', 'remains', 'standing') ('standing', 'contributing', 'crowning') ('standing', 'spotting', 'limits') ('standing', 'spotting', 'opportunities') ('jurisdictions', 'spanning', 'fuels') ('jurisdictions', 'spanning', 'fuels') ('fuels', 'contributing', 'fuels') ('fuels', 'contributing', 'barrier') ('park', 'spanning', 'two') ('jurisdiction', 'spanning', 'duration') ('opportunities', 'reaches', 'jurisdictions') ('jurisdictions', 'spanning', 'two') ('jurisdictions', 'spanning', 'fuels') ('jurisdictions', 'spanning', 'season') ('jurisdictions', 'spanning', 'two') ('jurisdictions', 'spanning', 'fuels') ('jurisdictions', 'spanning', 'season') ('duration', 'remains', 'standing') ('standing', 'contributing', 'crowning') ('standing', 'spotting', 'limits') ('standing', 'spotting', 'opportunities') ('fuels', 'contributing', 'fuels') ('fuels', 'contributing', 'barrier') ('fuels', 'contributing', 'management') ('needs', 'meet', 'agencies') ('incident', 'continue', 'change') ('month', 'left', 'personnel') ('conditions', 'change', 'objectives') ('conditions', 'change', 'requirements') ('officer', 'assigned', 'ownership') ('policies', 'compete', 'tactics') ('objectives', 'shifting', 'benefits') ('objectives', 'control', 'visitors') ('communities', 'cowdrey', 'cooperators') ('objectives', 'vary', 'agencies') ('officer', 'assigned', 'ownership') ('officer', 'assigned', 'agreement') ('personnel', 'evaluating', 'portions') ('actions', 'involved', 'environment') ('actions', 'taking', 'restrictions') ('actions', 'taking', 'closures') ('actions', 'varied', 'exposure') ('levels', 'varied', 'exposure') ('frequency', 'set', 'levels') ('frequency', 'changes', 'tactics') ('frequency', 'changes', 'safety') ('tactics', 'occurring', 'strategies') ('strategies', 'making', 'snags') ('snags', 'identified', 'mitigated') ('actions', 'challenge', 'amount') ('restrictions', 'closures', 'warrants') ('divisions', 'increased', 'units') ('operations', 'taking', 'place') ('helicopters', 'assigned', 'operations') ('helicopters', 'taking', 'place') ('group', 'completed', 'work') ('complexity', 'managed', 'skill') ('group', 'prepositioning', 'crews') ('group', 'prepositioning', 'assets') ('operations', 'taking', 'helicopters') ('operations', 'assigned', 'operations') ('operations', 'assigned', 'divisions') ('limits', 'ff', 'hazards') ('hazards', 'using', 'exposure') ('jurisdictions', 'wyoming', 'wyoming') ('amount', 'standing', 'levels') ('amount', 'varied', 'warrants') ('structures', 'draw', 'protection') ('workload', 'continues', 'structures') ('growth', 'require', 'work') ('blm', 'crews', 'assets') ('operations', 'taking', 'helicopters') ('operations', 'assigned', 'seats') ('operations', 'limited', 'workload') ('supervision', 'needed', 'data') ('data', 'showing', 'month') ('amount', 'standing', 'fuels') ('actions', 'monitoring', 'control') ('actions', 'wilderness', 'conditions') ('actions', 'wilderness', 'dangerous') ('snags', 'preventing', 'firefighters') ('firefighters', 'going', 'use') ('snags', 'provide', 'opportunities') ('work', 'taking', 'workload') ('work', 'taking', 'counties') ('work', 'taking', 'divisions') ('divisions', 'varying', 'structures') ('structures', 'scattered', 'work') ('briefing', 'relieve', 'confusion') ('days', 'taking', 'helicopters') ('operations', 'taking', 'helicopters') ('helicopters', 'assigned', 'operations') ('snags', 'identified', 'course') ('officer', 'assigned', 'ownership') ('policies', 'compete', 'tactics') ('objectives', 'shifting', 'benefits') ('actions', 'shifting', 'benefits') ('objectives', 'control', 'visitors') ('actions', 'involved', 'environment') ('closures', 'taking', 'restrictions') ('combinations', 'varied', 'hazards') ('exposure', 'using', 'cabs') ('frequency', 'set', 'levels') ('frequency', 'changes', 'tactics') ('group', 'completed', 'work') ('complexity', 'managed', 'skill') ('group', 'prepositioning', 'crews') ('group', 'prepositioning', 'assets') ('operations', 'taking', 'helicopters') ('operations', 'assigned', 'operations') ('operations', 'assigned', 'divisions') ('objectives', 'vary', 'agencies') ('officer', 'assigned', 'ownership') ('officer', 'assigned', 'agreement') ('personnel', 'evaluating', 'portions') ('basis', 'determine', 'interest')\"\n \"('duration', 'flaming', 'behavior') ('load', 'supports', 'treatments') ('growth', 'fuel', 'conditions') ('event', 'increasing', 'barriers') ('forecasted', 'remain', 'moisture') ('event', 'increasing', 'activities') ('event', 'increasing', 'activities') ('actions', 'check', 'actions')\"\n ...\n \"('dmc', 'remain', 'sloughs') ('fuel', 'predicted', 'support') ('factor', 'raises', 'difficulty') ('villages', 'protected', 'history')\"\n \"('head', 'spotting', 'kdbi') ('cliffs', 'slowing', 'spread') ('cliffs', 'slowing', 'spread') ('cliffs', 'finding', 'ways') ('measures', 'threating', 'business') ('threating', 'residences', 'service') ('service', 'involved', 'arsonist') ('command', 'competing', 'priorities') ('trail', 'smoke', 'closures') ('us', 'smoke', 'closures') ('communications', 'complicated', 'trail') ('command', 'competing', 'priorities') ('us', 'smoke', 'closures') ('us', 'smoke', 'necessary')\"\n \"('paper', 'burned', 'efforts') ('paper', 'burned', 'top') ('lines', 'designated', 'state') ('community', 'designated', 'state') ('state', 'communicating', 'state') ('penn', 'experienced', 'state')\"].\nReshape your data either using array.reshape(-1, 1) if your data has a single feature or array.reshape(1, -1) if it contains a single sample.",
     "output_type": "error",
     "traceback": [
      "\u001b[1;31m---------------------------------------------------------------------------\u001b[0m",
      "\u001b[1;31mValueError\u001b[0m                                Traceback (most recent call last)",
      "Input \u001b[1;32mIn [115]\u001b[0m, in \u001b[0;36m<cell line: 1>\u001b[1;34m()\u001b[0m\n\u001b[1;32m----> 1\u001b[0m bagging_classifier, accuracy \u001b[38;5;241m=\u001b[39m \u001b[43mtrain_bagging_classifier\u001b[49m\u001b[43m(\u001b[49m\u001b[43mx_train\u001b[49m\u001b[43m,\u001b[49m\u001b[43m \u001b[49m\u001b[43my_train\u001b[49m\u001b[43m,\u001b[49m\u001b[43m \u001b[49m\u001b[43mx_test\u001b[49m\u001b[43m,\u001b[49m\u001b[43m \u001b[49m\u001b[43my_test\u001b[49m\u001b[43m,\u001b[49m\u001b[43m \u001b[49m\u001b[43mRandomForestClassifier\u001b[49m\u001b[43m(\u001b[49m\u001b[43m)\u001b[49m\u001b[43m,\u001b[49m\u001b[43m \u001b[49m\u001b[38;5;241;43m25\u001b[39;49m\u001b[43m)\u001b[49m\n",
      "Input \u001b[1;32mIn [114]\u001b[0m, in \u001b[0;36mtrain_bagging_classifier\u001b[1;34m(X_train, y_train, X_test, y_test, base_classifier, n_estimators, random_state)\u001b[0m\n\u001b[0;32m     22\u001b[0m     base_classifier\u001b[38;5;241m.\u001b[39mset_params(n_estimators \u001b[38;5;241m=\u001b[39m \u001b[38;5;241m1000\u001b[39m)\n\u001b[0;32m     24\u001b[0m bagging_classifier \u001b[38;5;241m=\u001b[39m BaggingClassifier(base_estimator\u001b[38;5;241m=\u001b[39mbase_classifier, n_estimators\u001b[38;5;241m=\u001b[39mn_estimators, random_state\u001b[38;5;241m=\u001b[39mrandom_state)\n\u001b[1;32m---> 25\u001b[0m \u001b[43mbagging_classifier\u001b[49m\u001b[38;5;241;43m.\u001b[39;49m\u001b[43mfit\u001b[49m\u001b[43m(\u001b[49m\u001b[43mX_train\u001b[49m\u001b[43m,\u001b[49m\u001b[43m \u001b[49m\u001b[43my_train\u001b[49m\u001b[43m)\u001b[49m\n\u001b[0;32m     27\u001b[0m cv \u001b[38;5;241m=\u001b[39m KFold(n_splits\u001b[38;5;241m=\u001b[39m\u001b[38;5;241m5\u001b[39m, shuffle\u001b[38;5;241m=\u001b[39m\u001b[38;5;28;01mTrue\u001b[39;00m, random_state\u001b[38;5;241m=\u001b[39mrandom_state)\n\u001b[0;32m     28\u001b[0m cross_val_accuracy \u001b[38;5;241m=\u001b[39m cross_val_score(bagging_classifier, X_train, y_train, cv\u001b[38;5;241m=\u001b[39mcv, scoring\u001b[38;5;241m=\u001b[39m\u001b[38;5;124m'\u001b[39m\u001b[38;5;124maccuracy\u001b[39m\u001b[38;5;124m'\u001b[39m)\n",
      "File \u001b[1;32m~\\anaconda3\\lib\\site-packages\\sklearn\\ensemble\\_bagging.py:261\u001b[0m, in \u001b[0;36mBaseBagging.fit\u001b[1;34m(self, X, y, sample_weight)\u001b[0m\n\u001b[0;32m    238\u001b[0m \u001b[38;5;124;03m\"\"\"Build a Bagging ensemble of estimators from the training set (X, y).\u001b[39;00m\n\u001b[0;32m    239\u001b[0m \n\u001b[0;32m    240\u001b[0m \u001b[38;5;124;03mParameters\u001b[39;00m\n\u001b[1;32m   (...)\u001b[0m\n\u001b[0;32m    258\u001b[0m \u001b[38;5;124;03m    Fitted estimator.\u001b[39;00m\n\u001b[0;32m    259\u001b[0m \u001b[38;5;124;03m\"\"\"\u001b[39;00m\n\u001b[0;32m    260\u001b[0m \u001b[38;5;66;03m# Convert data (X is required to be 2d and indexable)\u001b[39;00m\n\u001b[1;32m--> 261\u001b[0m X, y \u001b[38;5;241m=\u001b[39m \u001b[38;5;28;43mself\u001b[39;49m\u001b[38;5;241;43m.\u001b[39;49m\u001b[43m_validate_data\u001b[49m\u001b[43m(\u001b[49m\n\u001b[0;32m    262\u001b[0m \u001b[43m    \u001b[49m\u001b[43mX\u001b[49m\u001b[43m,\u001b[49m\n\u001b[0;32m    263\u001b[0m \u001b[43m    \u001b[49m\u001b[43my\u001b[49m\u001b[43m,\u001b[49m\n\u001b[0;32m    264\u001b[0m \u001b[43m    \u001b[49m\u001b[43maccept_sparse\u001b[49m\u001b[38;5;241;43m=\u001b[39;49m\u001b[43m[\u001b[49m\u001b[38;5;124;43m\"\u001b[39;49m\u001b[38;5;124;43mcsr\u001b[39;49m\u001b[38;5;124;43m\"\u001b[39;49m\u001b[43m,\u001b[49m\u001b[43m \u001b[49m\u001b[38;5;124;43m\"\u001b[39;49m\u001b[38;5;124;43mcsc\u001b[39;49m\u001b[38;5;124;43m\"\u001b[39;49m\u001b[43m]\u001b[49m\u001b[43m,\u001b[49m\n\u001b[0;32m    265\u001b[0m \u001b[43m    \u001b[49m\u001b[43mdtype\u001b[49m\u001b[38;5;241;43m=\u001b[39;49m\u001b[38;5;28;43;01mNone\u001b[39;49;00m\u001b[43m,\u001b[49m\n\u001b[0;32m    266\u001b[0m \u001b[43m    \u001b[49m\u001b[43mforce_all_finite\u001b[49m\u001b[38;5;241;43m=\u001b[39;49m\u001b[38;5;28;43;01mFalse\u001b[39;49;00m\u001b[43m,\u001b[49m\n\u001b[0;32m    267\u001b[0m \u001b[43m    \u001b[49m\u001b[43mmulti_output\u001b[49m\u001b[38;5;241;43m=\u001b[39;49m\u001b[38;5;28;43;01mTrue\u001b[39;49;00m\u001b[43m,\u001b[49m\n\u001b[0;32m    268\u001b[0m \u001b[43m\u001b[49m\u001b[43m)\u001b[49m\n\u001b[0;32m    269\u001b[0m \u001b[38;5;28;01mreturn\u001b[39;00m \u001b[38;5;28mself\u001b[39m\u001b[38;5;241m.\u001b[39m_fit(X, y, \u001b[38;5;28mself\u001b[39m\u001b[38;5;241m.\u001b[39mmax_samples, sample_weight\u001b[38;5;241m=\u001b[39msample_weight)\n",
      "File \u001b[1;32m~\\anaconda3\\lib\\site-packages\\sklearn\\base.py:581\u001b[0m, in \u001b[0;36mBaseEstimator._validate_data\u001b[1;34m(self, X, y, reset, validate_separately, **check_params)\u001b[0m\n\u001b[0;32m    579\u001b[0m         y \u001b[38;5;241m=\u001b[39m check_array(y, \u001b[38;5;241m*\u001b[39m\u001b[38;5;241m*\u001b[39mcheck_y_params)\n\u001b[0;32m    580\u001b[0m     \u001b[38;5;28;01melse\u001b[39;00m:\n\u001b[1;32m--> 581\u001b[0m         X, y \u001b[38;5;241m=\u001b[39m check_X_y(X, y, \u001b[38;5;241m*\u001b[39m\u001b[38;5;241m*\u001b[39mcheck_params)\n\u001b[0;32m    582\u001b[0m     out \u001b[38;5;241m=\u001b[39m X, y\n\u001b[0;32m    584\u001b[0m \u001b[38;5;28;01mif\u001b[39;00m \u001b[38;5;129;01mnot\u001b[39;00m no_val_X \u001b[38;5;129;01mand\u001b[39;00m check_params\u001b[38;5;241m.\u001b[39mget(\u001b[38;5;124m\"\u001b[39m\u001b[38;5;124mensure_2d\u001b[39m\u001b[38;5;124m\"\u001b[39m, \u001b[38;5;28;01mTrue\u001b[39;00m):\n",
      "File \u001b[1;32m~\\anaconda3\\lib\\site-packages\\sklearn\\utils\\validation.py:964\u001b[0m, in \u001b[0;36mcheck_X_y\u001b[1;34m(X, y, accept_sparse, accept_large_sparse, dtype, order, copy, force_all_finite, ensure_2d, allow_nd, multi_output, ensure_min_samples, ensure_min_features, y_numeric, estimator)\u001b[0m\n\u001b[0;32m    961\u001b[0m \u001b[38;5;28;01mif\u001b[39;00m y \u001b[38;5;129;01mis\u001b[39;00m \u001b[38;5;28;01mNone\u001b[39;00m:\n\u001b[0;32m    962\u001b[0m     \u001b[38;5;28;01mraise\u001b[39;00m \u001b[38;5;167;01mValueError\u001b[39;00m(\u001b[38;5;124m\"\u001b[39m\u001b[38;5;124my cannot be None\u001b[39m\u001b[38;5;124m\"\u001b[39m)\n\u001b[1;32m--> 964\u001b[0m X \u001b[38;5;241m=\u001b[39m \u001b[43mcheck_array\u001b[49m\u001b[43m(\u001b[49m\n\u001b[0;32m    965\u001b[0m \u001b[43m    \u001b[49m\u001b[43mX\u001b[49m\u001b[43m,\u001b[49m\n\u001b[0;32m    966\u001b[0m \u001b[43m    \u001b[49m\u001b[43maccept_sparse\u001b[49m\u001b[38;5;241;43m=\u001b[39;49m\u001b[43maccept_sparse\u001b[49m\u001b[43m,\u001b[49m\n\u001b[0;32m    967\u001b[0m \u001b[43m    \u001b[49m\u001b[43maccept_large_sparse\u001b[49m\u001b[38;5;241;43m=\u001b[39;49m\u001b[43maccept_large_sparse\u001b[49m\u001b[43m,\u001b[49m\n\u001b[0;32m    968\u001b[0m \u001b[43m    \u001b[49m\u001b[43mdtype\u001b[49m\u001b[38;5;241;43m=\u001b[39;49m\u001b[43mdtype\u001b[49m\u001b[43m,\u001b[49m\n\u001b[0;32m    969\u001b[0m \u001b[43m    \u001b[49m\u001b[43morder\u001b[49m\u001b[38;5;241;43m=\u001b[39;49m\u001b[43morder\u001b[49m\u001b[43m,\u001b[49m\n\u001b[0;32m    970\u001b[0m \u001b[43m    \u001b[49m\u001b[43mcopy\u001b[49m\u001b[38;5;241;43m=\u001b[39;49m\u001b[43mcopy\u001b[49m\u001b[43m,\u001b[49m\n\u001b[0;32m    971\u001b[0m \u001b[43m    \u001b[49m\u001b[43mforce_all_finite\u001b[49m\u001b[38;5;241;43m=\u001b[39;49m\u001b[43mforce_all_finite\u001b[49m\u001b[43m,\u001b[49m\n\u001b[0;32m    972\u001b[0m \u001b[43m    \u001b[49m\u001b[43mensure_2d\u001b[49m\u001b[38;5;241;43m=\u001b[39;49m\u001b[43mensure_2d\u001b[49m\u001b[43m,\u001b[49m\n\u001b[0;32m    973\u001b[0m \u001b[43m    \u001b[49m\u001b[43mallow_nd\u001b[49m\u001b[38;5;241;43m=\u001b[39;49m\u001b[43mallow_nd\u001b[49m\u001b[43m,\u001b[49m\n\u001b[0;32m    974\u001b[0m \u001b[43m    \u001b[49m\u001b[43mensure_min_samples\u001b[49m\u001b[38;5;241;43m=\u001b[39;49m\u001b[43mensure_min_samples\u001b[49m\u001b[43m,\u001b[49m\n\u001b[0;32m    975\u001b[0m \u001b[43m    \u001b[49m\u001b[43mensure_min_features\u001b[49m\u001b[38;5;241;43m=\u001b[39;49m\u001b[43mensure_min_features\u001b[49m\u001b[43m,\u001b[49m\n\u001b[0;32m    976\u001b[0m \u001b[43m    \u001b[49m\u001b[43mestimator\u001b[49m\u001b[38;5;241;43m=\u001b[39;49m\u001b[43mestimator\u001b[49m\u001b[43m,\u001b[49m\n\u001b[0;32m    977\u001b[0m \u001b[43m\u001b[49m\u001b[43m)\u001b[49m\n\u001b[0;32m    979\u001b[0m y \u001b[38;5;241m=\u001b[39m _check_y(y, multi_output\u001b[38;5;241m=\u001b[39mmulti_output, y_numeric\u001b[38;5;241m=\u001b[39my_numeric)\n\u001b[0;32m    981\u001b[0m check_consistent_length(X, y)\n",
      "File \u001b[1;32m~\\anaconda3\\lib\\site-packages\\sklearn\\utils\\validation.py:769\u001b[0m, in \u001b[0;36mcheck_array\u001b[1;34m(array, accept_sparse, accept_large_sparse, dtype, order, copy, force_all_finite, ensure_2d, allow_nd, ensure_min_samples, ensure_min_features, estimator)\u001b[0m\n\u001b[0;32m    767\u001b[0m     \u001b[38;5;66;03m# If input is 1D raise error\u001b[39;00m\n\u001b[0;32m    768\u001b[0m     \u001b[38;5;28;01mif\u001b[39;00m array\u001b[38;5;241m.\u001b[39mndim \u001b[38;5;241m==\u001b[39m \u001b[38;5;241m1\u001b[39m:\n\u001b[1;32m--> 769\u001b[0m         \u001b[38;5;28;01mraise\u001b[39;00m \u001b[38;5;167;01mValueError\u001b[39;00m(\n\u001b[0;32m    770\u001b[0m             \u001b[38;5;124m\"\u001b[39m\u001b[38;5;124mExpected 2D array, got 1D array instead:\u001b[39m\u001b[38;5;130;01m\\n\u001b[39;00m\u001b[38;5;124marray=\u001b[39m\u001b[38;5;132;01m{}\u001b[39;00m\u001b[38;5;124m.\u001b[39m\u001b[38;5;130;01m\\n\u001b[39;00m\u001b[38;5;124m\"\u001b[39m\n\u001b[0;32m    771\u001b[0m             \u001b[38;5;124m\"\u001b[39m\u001b[38;5;124mReshape your data either using array.reshape(-1, 1) if \u001b[39m\u001b[38;5;124m\"\u001b[39m\n\u001b[0;32m    772\u001b[0m             \u001b[38;5;124m\"\u001b[39m\u001b[38;5;124myour data has a single feature or array.reshape(1, -1) \u001b[39m\u001b[38;5;124m\"\u001b[39m\n\u001b[0;32m    773\u001b[0m             \u001b[38;5;124m\"\u001b[39m\u001b[38;5;124mif it contains a single sample.\u001b[39m\u001b[38;5;124m\"\u001b[39m\u001b[38;5;241m.\u001b[39mformat(array)\n\u001b[0;32m    774\u001b[0m         )\n\u001b[0;32m    776\u001b[0m \u001b[38;5;66;03m# make sure we actually converted to numeric:\u001b[39;00m\n\u001b[0;32m    777\u001b[0m \u001b[38;5;28;01mif\u001b[39;00m dtype_numeric \u001b[38;5;129;01mand\u001b[39;00m array\u001b[38;5;241m.\u001b[39mdtype\u001b[38;5;241m.\u001b[39mkind \u001b[38;5;129;01min\u001b[39;00m \u001b[38;5;124m\"\u001b[39m\u001b[38;5;124mOUSV\u001b[39m\u001b[38;5;124m\"\u001b[39m:\n",
      "\u001b[1;31mValueError\u001b[0m: Expected 2D array, got 1D array instead:\narray=[\"('conditions', 'supporting', 'temperatures') ('temperatures', 'spring', 'brief') ('conditions', 'breaks', 'temperatures') ('dmc', 'reaching', 'time') ('period', 'reinforcing', 'reports') ('period', 'reinforcing', 'fuels') ('period', 'remains', 'effect') ('advisory', 'remains', 'effect') ('barriers', 'spread', 'roams') ('period', 'resulting', 'growth') ('period', 'resulting', 'growth') ('spotting', 'torching', 'winds') ('advisory', 'remains', 'effect') ('issues', 'arise', 'shortages') ('conditions', 'shortages', 'response') ('response', 'overlapping', 'site') ('site', 'threatening', 'decision') ('action', 'monitoring', 'decision') ('decision', 'completed', 'strategies') ('action', 'taken', 'date') ('attack', 'taken', 'jurisdictions') ('jurisdictions', 'impacting', 'objectives') ('objectives', 'achieving', 'strategies') ('actions', 'depending', 'jurisdictions')\"\n \"('fuels', 'occur', 'category') ('range', 'occur', 'category') ('range', 'spotting', 'beetle') ('terrain', 'pose', 'problems') ('problems', 'holding', 'behavior') ('wetter', 'leads', 'conditions') ('type', 'hr', 'fuels') ('type', 'occur', 'category') ('issues', 'occur', 'category') ('drainage', 'roadsides', 'outbreaks') ('vegetation', 'predisposes', 'effects') ('range', 'occurring', 'conditions') ('temperatures', 'degrees', 'calmer') ('thunderstorms', 'produce', 'type') ('rates', 'spread', 'fuel') ('fuels', 'dry', 'treatments') ('range', 'spotting', 'activity') ('rates', 'spread', 'beetle') ('events', 'occur', 'fuel') ('average', 'trending', 'date') ('average', 'trending', 'spotting') ('time', 'spotting', 'rates') ('rates', 'spread', 'range') ('range', 'spotting', 'runs') ('challenges', 'holding', 'events') ('challenges', 'occur', 'trees') ('infestation', 'starting', 'fuel') ('group', 'torching', 'date') ('closures', 'taking', 'restrictions') ('combinations', 'varied', 'exposure') ('group', 'completed', 'work') ('growth', 'occurred', 'jurisdictions') ('jurisdictions', 'wyoming', 'wyoming') ('group', 'prepositioning', 'crews') ('group', 'prepositioning', 'assets') ('operations', 'taking', 'helicopters') ('operations', 'assigned', 'operations') ('operations', 'assigned', 'divisions') ('limits', 'ff', 'hazards') ('hazards', 'using', 'skill') ('snags', 'sets', 'supervision') ('group', 'crews', 'assets') ('graph', 'indicates', 'season') ('season', 'ending', 'event') ('season', 'ending', 'measures') ('averages', 'discussed', 'barriers') ('breaks', 'contain', 'danger') ('percentile', 'discussed', 'moistures') ('moistures', 'experiencing', 'considered') ('moistures', 'limiting', 'breaks') ('moistures', 'indicates', 'season') ('graph', 'indicates', 'season') ('season', 'ending', 'event') ('season', 'ending', 'danger') ('percentile', 'discussed', 'danger') ('season', 'ending', 'event') ('season', 'ending', 'arebelow') ('indices', 'showing', 'season') ('indices', 'begins', 'peaks') ('indices', 'begins', 'season') ('season', 'ending', 'event') ('season', 'ending', 'measures') ('treatments', 'slow', 'portions') ('treatments', 'slow', 'elevations') ('conditions', 'aspen', 'willows') ('conditions', 'aspen', 'cooperators') ('objectives', 'vary', 'agencies') ('moistures', 'place', 'supporters') ('closures', 'place', 'supporters') ('officer', 'assigned', 'ownership') ('officer', 'assigned', 'agreement') ('agreement', 'signed', 'action') ('agreement', 'signed', 'point') ('harvest', 'contribute', 'sedimentation') ('harvest', 'issue', 'severity') ('support', 'use', 'role') ('service', 'administered', 'private') ('sales', 'affected', 'mitigation') ('sales', 'reach', 'creeks') ('sedimentation', 'issue', 'severity') ('fuels', 'mitigation', 'homes') ('lakes', 'use', 'role') ('supporters', 'impacting', 'blm') ('sales', 'affected', 'point') ('harvest', 'contribute', 'quantity') ('level', 'require', 'fuels') ('homes', 'require', 'fuels') ('support', 'living', 'duration') ('work', 'reduced', 'probability') ('permittees', 'need', 'cattle') ('permittees', 'need', 'operation') ('point', 'timber', 'creeks') ('sedimentation', 'issue', 'severity') ('preparations', 'occurs', 'efforts') ('preparations', 'reach', 'assessments') ('support', 'managed', 'people') ('assessments', 'seem', 'understand') ('harvest', 'contribute', 'creeks') ('sedimentation', 'issue', 'severity') ('dries', 'severity', 'structures') ('preparations', 'reach', 'ownerships') ('assessments', 'slowing', 'events') ('permittees', 'need', 'cattle') ('wyoming', 'point', 'runoff') ('wyoming', 'point', 'severity') ('structures', 'ranches', 'structures') ('contract', 'close', 'many') ('allotments', 'close', 'many') ('many', 'burns', 'permittees') ('duration', 'remains', 'standing') ('standing', 'contributing', 'crowning') ('standing', 'spotting', 'limits') ('standing', 'spotting', 'opportunities') ('jurisdictions', 'spanning', 'fuels') ('jurisdictions', 'spanning', 'fuels') ('fuels', 'contributing', 'fuels') ('fuels', 'contributing', 'barrier') ('park', 'spanning', 'two') ('jurisdiction', 'spanning', 'duration') ('opportunities', 'reaches', 'jurisdictions') ('jurisdictions', 'spanning', 'two') ('jurisdictions', 'spanning', 'fuels') ('jurisdictions', 'spanning', 'season') ('jurisdictions', 'spanning', 'two') ('jurisdictions', 'spanning', 'fuels') ('jurisdictions', 'spanning', 'season') ('duration', 'remains', 'standing') ('standing', 'contributing', 'crowning') ('standing', 'spotting', 'limits') ('standing', 'spotting', 'opportunities') ('fuels', 'contributing', 'fuels') ('fuels', 'contributing', 'barrier') ('fuels', 'contributing', 'management') ('needs', 'meet', 'agencies') ('incident', 'continue', 'change') ('month', 'left', 'personnel') ('conditions', 'change', 'objectives') ('conditions', 'change', 'requirements') ('officer', 'assigned', 'ownership') ('policies', 'compete', 'tactics') ('objectives', 'shifting', 'benefits') ('objectives', 'control', 'visitors') ('communities', 'cowdrey', 'cooperators') ('objectives', 'vary', 'agencies') ('officer', 'assigned', 'ownership') ('officer', 'assigned', 'agreement') ('personnel', 'evaluating', 'portions') ('actions', 'involved', 'environment') ('actions', 'taking', 'restrictions') ('actions', 'taking', 'closures') ('actions', 'varied', 'exposure') ('levels', 'varied', 'exposure') ('frequency', 'set', 'levels') ('frequency', 'changes', 'tactics') ('frequency', 'changes', 'safety') ('tactics', 'occurring', 'strategies') ('strategies', 'making', 'snags') ('snags', 'identified', 'mitigated') ('actions', 'challenge', 'amount') ('restrictions', 'closures', 'warrants') ('divisions', 'increased', 'units') ('operations', 'taking', 'place') ('helicopters', 'assigned', 'operations') ('helicopters', 'taking', 'place') ('group', 'completed', 'work') ('complexity', 'managed', 'skill') ('group', 'prepositioning', 'crews') ('group', 'prepositioning', 'assets') ('operations', 'taking', 'helicopters') ('operations', 'assigned', 'operations') ('operations', 'assigned', 'divisions') ('limits', 'ff', 'hazards') ('hazards', 'using', 'exposure') ('jurisdictions', 'wyoming', 'wyoming') ('amount', 'standing', 'levels') ('amount', 'varied', 'warrants') ('structures', 'draw', 'protection') ('workload', 'continues', 'structures') ('growth', 'require', 'work') ('blm', 'crews', 'assets') ('operations', 'taking', 'helicopters') ('operations', 'assigned', 'seats') ('operations', 'limited', 'workload') ('supervision', 'needed', 'data') ('data', 'showing', 'month') ('amount', 'standing', 'fuels') ('actions', 'monitoring', 'control') ('actions', 'wilderness', 'conditions') ('actions', 'wilderness', 'dangerous') ('snags', 'preventing', 'firefighters') ('firefighters', 'going', 'use') ('snags', 'provide', 'opportunities') ('work', 'taking', 'workload') ('work', 'taking', 'counties') ('work', 'taking', 'divisions') ('divisions', 'varying', 'structures') ('structures', 'scattered', 'work') ('briefing', 'relieve', 'confusion') ('days', 'taking', 'helicopters') ('operations', 'taking', 'helicopters') ('helicopters', 'assigned', 'operations') ('snags', 'identified', 'course') ('officer', 'assigned', 'ownership') ('policies', 'compete', 'tactics') ('objectives', 'shifting', 'benefits') ('actions', 'shifting', 'benefits') ('objectives', 'control', 'visitors') ('actions', 'involved', 'environment') ('closures', 'taking', 'restrictions') ('combinations', 'varied', 'hazards') ('exposure', 'using', 'cabs') ('frequency', 'set', 'levels') ('frequency', 'changes', 'tactics') ('group', 'completed', 'work') ('complexity', 'managed', 'skill') ('group', 'prepositioning', 'crews') ('group', 'prepositioning', 'assets') ('operations', 'taking', 'helicopters') ('operations', 'assigned', 'operations') ('operations', 'assigned', 'divisions') ('objectives', 'vary', 'agencies') ('officer', 'assigned', 'ownership') ('officer', 'assigned', 'agreement') ('personnel', 'evaluating', 'portions') ('basis', 'determine', 'interest')\"\n \"('duration', 'flaming', 'behavior') ('load', 'supports', 'treatments') ('growth', 'fuel', 'conditions') ('event', 'increasing', 'barriers') ('forecasted', 'remain', 'moisture') ('event', 'increasing', 'activities') ('event', 'increasing', 'activities') ('actions', 'check', 'actions')\"\n ...\n \"('dmc', 'remain', 'sloughs') ('fuel', 'predicted', 'support') ('factor', 'raises', 'difficulty') ('villages', 'protected', 'history')\"\n \"('head', 'spotting', 'kdbi') ('cliffs', 'slowing', 'spread') ('cliffs', 'slowing', 'spread') ('cliffs', 'finding', 'ways') ('measures', 'threating', 'business') ('threating', 'residences', 'service') ('service', 'involved', 'arsonist') ('command', 'competing', 'priorities') ('trail', 'smoke', 'closures') ('us', 'smoke', 'closures') ('communications', 'complicated', 'trail') ('command', 'competing', 'priorities') ('us', 'smoke', 'closures') ('us', 'smoke', 'necessary')\"\n \"('paper', 'burned', 'efforts') ('paper', 'burned', 'top') ('lines', 'designated', 'state') ('community', 'designated', 'state') ('state', 'communicating', 'state') ('penn', 'experienced', 'state')\"].\nReshape your data either using array.reshape(-1, 1) if your data has a single feature or array.reshape(1, -1) if it contains a single sample."
     ]
    }
   ],
   "source": [
    "bagging_classifier, accuracy = train_bagging_classifier(x_train, y_train, x_test, y_test, RandomForestClassifier(), 25)"
   ]
  },
  {
   "cell_type": "code",
   "execution_count": 116,
   "id": "a8b540fb",
   "metadata": {},
   "outputs": [
    {
     "ename": "ValueError",
     "evalue": "Expected 2D array, got 1D array instead:\narray=[\"('conditions', 'supporting', 'temperatures') ('temperatures', 'spring', 'brief') ('conditions', 'breaks', 'temperatures') ('dmc', 'reaching', 'time') ('period', 'reinforcing', 'reports') ('period', 'reinforcing', 'fuels') ('period', 'remains', 'effect') ('advisory', 'remains', 'effect') ('barriers', 'spread', 'roams') ('period', 'resulting', 'growth') ('period', 'resulting', 'growth') ('spotting', 'torching', 'winds') ('advisory', 'remains', 'effect') ('issues', 'arise', 'shortages') ('conditions', 'shortages', 'response') ('response', 'overlapping', 'site') ('site', 'threatening', 'decision') ('action', 'monitoring', 'decision') ('decision', 'completed', 'strategies') ('action', 'taken', 'date') ('attack', 'taken', 'jurisdictions') ('jurisdictions', 'impacting', 'objectives') ('objectives', 'achieving', 'strategies') ('actions', 'depending', 'jurisdictions')\"\n \"('fuels', 'occur', 'category') ('range', 'occur', 'category') ('range', 'spotting', 'beetle') ('terrain', 'pose', 'problems') ('problems', 'holding', 'behavior') ('wetter', 'leads', 'conditions') ('type', 'hr', 'fuels') ('type', 'occur', 'category') ('issues', 'occur', 'category') ('drainage', 'roadsides', 'outbreaks') ('vegetation', 'predisposes', 'effects') ('range', 'occurring', 'conditions') ('temperatures', 'degrees', 'calmer') ('thunderstorms', 'produce', 'type') ('rates', 'spread', 'fuel') ('fuels', 'dry', 'treatments') ('range', 'spotting', 'activity') ('rates', 'spread', 'beetle') ('events', 'occur', 'fuel') ('average', 'trending', 'date') ('average', 'trending', 'spotting') ('time', 'spotting', 'rates') ('rates', 'spread', 'range') ('range', 'spotting', 'runs') ('challenges', 'holding', 'events') ('challenges', 'occur', 'trees') ('infestation', 'starting', 'fuel') ('group', 'torching', 'date') ('closures', 'taking', 'restrictions') ('combinations', 'varied', 'exposure') ('group', 'completed', 'work') ('growth', 'occurred', 'jurisdictions') ('jurisdictions', 'wyoming', 'wyoming') ('group', 'prepositioning', 'crews') ('group', 'prepositioning', 'assets') ('operations', 'taking', 'helicopters') ('operations', 'assigned', 'operations') ('operations', 'assigned', 'divisions') ('limits', 'ff', 'hazards') ('hazards', 'using', 'skill') ('snags', 'sets', 'supervision') ('group', 'crews', 'assets') ('graph', 'indicates', 'season') ('season', 'ending', 'event') ('season', 'ending', 'measures') ('averages', 'discussed', 'barriers') ('breaks', 'contain', 'danger') ('percentile', 'discussed', 'moistures') ('moistures', 'experiencing', 'considered') ('moistures', 'limiting', 'breaks') ('moistures', 'indicates', 'season') ('graph', 'indicates', 'season') ('season', 'ending', 'event') ('season', 'ending', 'danger') ('percentile', 'discussed', 'danger') ('season', 'ending', 'event') ('season', 'ending', 'arebelow') ('indices', 'showing', 'season') ('indices', 'begins', 'peaks') ('indices', 'begins', 'season') ('season', 'ending', 'event') ('season', 'ending', 'measures') ('treatments', 'slow', 'portions') ('treatments', 'slow', 'elevations') ('conditions', 'aspen', 'willows') ('conditions', 'aspen', 'cooperators') ('objectives', 'vary', 'agencies') ('moistures', 'place', 'supporters') ('closures', 'place', 'supporters') ('officer', 'assigned', 'ownership') ('officer', 'assigned', 'agreement') ('agreement', 'signed', 'action') ('agreement', 'signed', 'point') ('harvest', 'contribute', 'sedimentation') ('harvest', 'issue', 'severity') ('support', 'use', 'role') ('service', 'administered', 'private') ('sales', 'affected', 'mitigation') ('sales', 'reach', 'creeks') ('sedimentation', 'issue', 'severity') ('fuels', 'mitigation', 'homes') ('lakes', 'use', 'role') ('supporters', 'impacting', 'blm') ('sales', 'affected', 'point') ('harvest', 'contribute', 'quantity') ('level', 'require', 'fuels') ('homes', 'require', 'fuels') ('support', 'living', 'duration') ('work', 'reduced', 'probability') ('permittees', 'need', 'cattle') ('permittees', 'need', 'operation') ('point', 'timber', 'creeks') ('sedimentation', 'issue', 'severity') ('preparations', 'occurs', 'efforts') ('preparations', 'reach', 'assessments') ('support', 'managed', 'people') ('assessments', 'seem', 'understand') ('harvest', 'contribute', 'creeks') ('sedimentation', 'issue', 'severity') ('dries', 'severity', 'structures') ('preparations', 'reach', 'ownerships') ('assessments', 'slowing', 'events') ('permittees', 'need', 'cattle') ('wyoming', 'point', 'runoff') ('wyoming', 'point', 'severity') ('structures', 'ranches', 'structures') ('contract', 'close', 'many') ('allotments', 'close', 'many') ('many', 'burns', 'permittees') ('duration', 'remains', 'standing') ('standing', 'contributing', 'crowning') ('standing', 'spotting', 'limits') ('standing', 'spotting', 'opportunities') ('jurisdictions', 'spanning', 'fuels') ('jurisdictions', 'spanning', 'fuels') ('fuels', 'contributing', 'fuels') ('fuels', 'contributing', 'barrier') ('park', 'spanning', 'two') ('jurisdiction', 'spanning', 'duration') ('opportunities', 'reaches', 'jurisdictions') ('jurisdictions', 'spanning', 'two') ('jurisdictions', 'spanning', 'fuels') ('jurisdictions', 'spanning', 'season') ('jurisdictions', 'spanning', 'two') ('jurisdictions', 'spanning', 'fuels') ('jurisdictions', 'spanning', 'season') ('duration', 'remains', 'standing') ('standing', 'contributing', 'crowning') ('standing', 'spotting', 'limits') ('standing', 'spotting', 'opportunities') ('fuels', 'contributing', 'fuels') ('fuels', 'contributing', 'barrier') ('fuels', 'contributing', 'management') ('needs', 'meet', 'agencies') ('incident', 'continue', 'change') ('month', 'left', 'personnel') ('conditions', 'change', 'objectives') ('conditions', 'change', 'requirements') ('officer', 'assigned', 'ownership') ('policies', 'compete', 'tactics') ('objectives', 'shifting', 'benefits') ('objectives', 'control', 'visitors') ('communities', 'cowdrey', 'cooperators') ('objectives', 'vary', 'agencies') ('officer', 'assigned', 'ownership') ('officer', 'assigned', 'agreement') ('personnel', 'evaluating', 'portions') ('actions', 'involved', 'environment') ('actions', 'taking', 'restrictions') ('actions', 'taking', 'closures') ('actions', 'varied', 'exposure') ('levels', 'varied', 'exposure') ('frequency', 'set', 'levels') ('frequency', 'changes', 'tactics') ('frequency', 'changes', 'safety') ('tactics', 'occurring', 'strategies') ('strategies', 'making', 'snags') ('snags', 'identified', 'mitigated') ('actions', 'challenge', 'amount') ('restrictions', 'closures', 'warrants') ('divisions', 'increased', 'units') ('operations', 'taking', 'place') ('helicopters', 'assigned', 'operations') ('helicopters', 'taking', 'place') ('group', 'completed', 'work') ('complexity', 'managed', 'skill') ('group', 'prepositioning', 'crews') ('group', 'prepositioning', 'assets') ('operations', 'taking', 'helicopters') ('operations', 'assigned', 'operations') ('operations', 'assigned', 'divisions') ('limits', 'ff', 'hazards') ('hazards', 'using', 'exposure') ('jurisdictions', 'wyoming', 'wyoming') ('amount', 'standing', 'levels') ('amount', 'varied', 'warrants') ('structures', 'draw', 'protection') ('workload', 'continues', 'structures') ('growth', 'require', 'work') ('blm', 'crews', 'assets') ('operations', 'taking', 'helicopters') ('operations', 'assigned', 'seats') ('operations', 'limited', 'workload') ('supervision', 'needed', 'data') ('data', 'showing', 'month') ('amount', 'standing', 'fuels') ('actions', 'monitoring', 'control') ('actions', 'wilderness', 'conditions') ('actions', 'wilderness', 'dangerous') ('snags', 'preventing', 'firefighters') ('firefighters', 'going', 'use') ('snags', 'provide', 'opportunities') ('work', 'taking', 'workload') ('work', 'taking', 'counties') ('work', 'taking', 'divisions') ('divisions', 'varying', 'structures') ('structures', 'scattered', 'work') ('briefing', 'relieve', 'confusion') ('days', 'taking', 'helicopters') ('operations', 'taking', 'helicopters') ('helicopters', 'assigned', 'operations') ('snags', 'identified', 'course') ('officer', 'assigned', 'ownership') ('policies', 'compete', 'tactics') ('objectives', 'shifting', 'benefits') ('actions', 'shifting', 'benefits') ('objectives', 'control', 'visitors') ('actions', 'involved', 'environment') ('closures', 'taking', 'restrictions') ('combinations', 'varied', 'hazards') ('exposure', 'using', 'cabs') ('frequency', 'set', 'levels') ('frequency', 'changes', 'tactics') ('group', 'completed', 'work') ('complexity', 'managed', 'skill') ('group', 'prepositioning', 'crews') ('group', 'prepositioning', 'assets') ('operations', 'taking', 'helicopters') ('operations', 'assigned', 'operations') ('operations', 'assigned', 'divisions') ('objectives', 'vary', 'agencies') ('officer', 'assigned', 'ownership') ('officer', 'assigned', 'agreement') ('personnel', 'evaluating', 'portions') ('basis', 'determine', 'interest')\"\n \"('duration', 'flaming', 'behavior') ('load', 'supports', 'treatments') ('growth', 'fuel', 'conditions') ('event', 'increasing', 'barriers') ('forecasted', 'remain', 'moisture') ('event', 'increasing', 'activities') ('event', 'increasing', 'activities') ('actions', 'check', 'actions')\"\n ...\n \"('dmc', 'remain', 'sloughs') ('fuel', 'predicted', 'support') ('factor', 'raises', 'difficulty') ('villages', 'protected', 'history')\"\n \"('head', 'spotting', 'kdbi') ('cliffs', 'slowing', 'spread') ('cliffs', 'slowing', 'spread') ('cliffs', 'finding', 'ways') ('measures', 'threating', 'business') ('threating', 'residences', 'service') ('service', 'involved', 'arsonist') ('command', 'competing', 'priorities') ('trail', 'smoke', 'closures') ('us', 'smoke', 'closures') ('communications', 'complicated', 'trail') ('command', 'competing', 'priorities') ('us', 'smoke', 'closures') ('us', 'smoke', 'necessary')\"\n \"('paper', 'burned', 'efforts') ('paper', 'burned', 'top') ('lines', 'designated', 'state') ('community', 'designated', 'state') ('state', 'communicating', 'state') ('penn', 'experienced', 'state')\"].\nReshape your data either using array.reshape(-1, 1) if your data has a single feature or array.reshape(1, -1) if it contains a single sample.",
     "output_type": "error",
     "traceback": [
      "\u001b[1;31m---------------------------------------------------------------------------\u001b[0m",
      "\u001b[1;31mValueError\u001b[0m                                Traceback (most recent call last)",
      "Input \u001b[1;32mIn [116]\u001b[0m, in \u001b[0;36m<cell line: 1>\u001b[1;34m()\u001b[0m\n\u001b[1;32m----> 1\u001b[0m bagging_classifier, accuracy \u001b[38;5;241m=\u001b[39m \u001b[43mtrain_bagging_classifier\u001b[49m\u001b[43m(\u001b[49m\u001b[43mx_train\u001b[49m\u001b[43m,\u001b[49m\u001b[43m \u001b[49m\u001b[43my_train\u001b[49m\u001b[43m,\u001b[49m\u001b[43m \u001b[49m\u001b[43mx_test\u001b[49m\u001b[43m,\u001b[49m\u001b[43m \u001b[49m\u001b[43my_test\u001b[49m\u001b[43m,\u001b[49m\u001b[43m \u001b[49m\u001b[43mLogisticRegression\u001b[49m\u001b[43m(\u001b[49m\u001b[43m)\u001b[49m\u001b[43m,\u001b[49m\u001b[43m \u001b[49m\u001b[38;5;241;43m25\u001b[39;49m\u001b[43m)\u001b[49m\n",
      "Input \u001b[1;32mIn [114]\u001b[0m, in \u001b[0;36mtrain_bagging_classifier\u001b[1;34m(X_train, y_train, X_test, y_test, base_classifier, n_estimators, random_state)\u001b[0m\n\u001b[0;32m     22\u001b[0m     base_classifier\u001b[38;5;241m.\u001b[39mset_params(n_estimators \u001b[38;5;241m=\u001b[39m \u001b[38;5;241m1000\u001b[39m)\n\u001b[0;32m     24\u001b[0m bagging_classifier \u001b[38;5;241m=\u001b[39m BaggingClassifier(base_estimator\u001b[38;5;241m=\u001b[39mbase_classifier, n_estimators\u001b[38;5;241m=\u001b[39mn_estimators, random_state\u001b[38;5;241m=\u001b[39mrandom_state)\n\u001b[1;32m---> 25\u001b[0m \u001b[43mbagging_classifier\u001b[49m\u001b[38;5;241;43m.\u001b[39;49m\u001b[43mfit\u001b[49m\u001b[43m(\u001b[49m\u001b[43mX_train\u001b[49m\u001b[43m,\u001b[49m\u001b[43m \u001b[49m\u001b[43my_train\u001b[49m\u001b[43m)\u001b[49m\n\u001b[0;32m     27\u001b[0m cv \u001b[38;5;241m=\u001b[39m KFold(n_splits\u001b[38;5;241m=\u001b[39m\u001b[38;5;241m5\u001b[39m, shuffle\u001b[38;5;241m=\u001b[39m\u001b[38;5;28;01mTrue\u001b[39;00m, random_state\u001b[38;5;241m=\u001b[39mrandom_state)\n\u001b[0;32m     28\u001b[0m cross_val_accuracy \u001b[38;5;241m=\u001b[39m cross_val_score(bagging_classifier, X_train, y_train, cv\u001b[38;5;241m=\u001b[39mcv, scoring\u001b[38;5;241m=\u001b[39m\u001b[38;5;124m'\u001b[39m\u001b[38;5;124maccuracy\u001b[39m\u001b[38;5;124m'\u001b[39m)\n",
      "File \u001b[1;32m~\\anaconda3\\lib\\site-packages\\sklearn\\ensemble\\_bagging.py:261\u001b[0m, in \u001b[0;36mBaseBagging.fit\u001b[1;34m(self, X, y, sample_weight)\u001b[0m\n\u001b[0;32m    238\u001b[0m \u001b[38;5;124;03m\"\"\"Build a Bagging ensemble of estimators from the training set (X, y).\u001b[39;00m\n\u001b[0;32m    239\u001b[0m \n\u001b[0;32m    240\u001b[0m \u001b[38;5;124;03mParameters\u001b[39;00m\n\u001b[1;32m   (...)\u001b[0m\n\u001b[0;32m    258\u001b[0m \u001b[38;5;124;03m    Fitted estimator.\u001b[39;00m\n\u001b[0;32m    259\u001b[0m \u001b[38;5;124;03m\"\"\"\u001b[39;00m\n\u001b[0;32m    260\u001b[0m \u001b[38;5;66;03m# Convert data (X is required to be 2d and indexable)\u001b[39;00m\n\u001b[1;32m--> 261\u001b[0m X, y \u001b[38;5;241m=\u001b[39m \u001b[38;5;28;43mself\u001b[39;49m\u001b[38;5;241;43m.\u001b[39;49m\u001b[43m_validate_data\u001b[49m\u001b[43m(\u001b[49m\n\u001b[0;32m    262\u001b[0m \u001b[43m    \u001b[49m\u001b[43mX\u001b[49m\u001b[43m,\u001b[49m\n\u001b[0;32m    263\u001b[0m \u001b[43m    \u001b[49m\u001b[43my\u001b[49m\u001b[43m,\u001b[49m\n\u001b[0;32m    264\u001b[0m \u001b[43m    \u001b[49m\u001b[43maccept_sparse\u001b[49m\u001b[38;5;241;43m=\u001b[39;49m\u001b[43m[\u001b[49m\u001b[38;5;124;43m\"\u001b[39;49m\u001b[38;5;124;43mcsr\u001b[39;49m\u001b[38;5;124;43m\"\u001b[39;49m\u001b[43m,\u001b[49m\u001b[43m \u001b[49m\u001b[38;5;124;43m\"\u001b[39;49m\u001b[38;5;124;43mcsc\u001b[39;49m\u001b[38;5;124;43m\"\u001b[39;49m\u001b[43m]\u001b[49m\u001b[43m,\u001b[49m\n\u001b[0;32m    265\u001b[0m \u001b[43m    \u001b[49m\u001b[43mdtype\u001b[49m\u001b[38;5;241;43m=\u001b[39;49m\u001b[38;5;28;43;01mNone\u001b[39;49;00m\u001b[43m,\u001b[49m\n\u001b[0;32m    266\u001b[0m \u001b[43m    \u001b[49m\u001b[43mforce_all_finite\u001b[49m\u001b[38;5;241;43m=\u001b[39;49m\u001b[38;5;28;43;01mFalse\u001b[39;49;00m\u001b[43m,\u001b[49m\n\u001b[0;32m    267\u001b[0m \u001b[43m    \u001b[49m\u001b[43mmulti_output\u001b[49m\u001b[38;5;241;43m=\u001b[39;49m\u001b[38;5;28;43;01mTrue\u001b[39;49;00m\u001b[43m,\u001b[49m\n\u001b[0;32m    268\u001b[0m \u001b[43m\u001b[49m\u001b[43m)\u001b[49m\n\u001b[0;32m    269\u001b[0m \u001b[38;5;28;01mreturn\u001b[39;00m \u001b[38;5;28mself\u001b[39m\u001b[38;5;241m.\u001b[39m_fit(X, y, \u001b[38;5;28mself\u001b[39m\u001b[38;5;241m.\u001b[39mmax_samples, sample_weight\u001b[38;5;241m=\u001b[39msample_weight)\n",
      "File \u001b[1;32m~\\anaconda3\\lib\\site-packages\\sklearn\\base.py:581\u001b[0m, in \u001b[0;36mBaseEstimator._validate_data\u001b[1;34m(self, X, y, reset, validate_separately, **check_params)\u001b[0m\n\u001b[0;32m    579\u001b[0m         y \u001b[38;5;241m=\u001b[39m check_array(y, \u001b[38;5;241m*\u001b[39m\u001b[38;5;241m*\u001b[39mcheck_y_params)\n\u001b[0;32m    580\u001b[0m     \u001b[38;5;28;01melse\u001b[39;00m:\n\u001b[1;32m--> 581\u001b[0m         X, y \u001b[38;5;241m=\u001b[39m check_X_y(X, y, \u001b[38;5;241m*\u001b[39m\u001b[38;5;241m*\u001b[39mcheck_params)\n\u001b[0;32m    582\u001b[0m     out \u001b[38;5;241m=\u001b[39m X, y\n\u001b[0;32m    584\u001b[0m \u001b[38;5;28;01mif\u001b[39;00m \u001b[38;5;129;01mnot\u001b[39;00m no_val_X \u001b[38;5;129;01mand\u001b[39;00m check_params\u001b[38;5;241m.\u001b[39mget(\u001b[38;5;124m\"\u001b[39m\u001b[38;5;124mensure_2d\u001b[39m\u001b[38;5;124m\"\u001b[39m, \u001b[38;5;28;01mTrue\u001b[39;00m):\n",
      "File \u001b[1;32m~\\anaconda3\\lib\\site-packages\\sklearn\\utils\\validation.py:964\u001b[0m, in \u001b[0;36mcheck_X_y\u001b[1;34m(X, y, accept_sparse, accept_large_sparse, dtype, order, copy, force_all_finite, ensure_2d, allow_nd, multi_output, ensure_min_samples, ensure_min_features, y_numeric, estimator)\u001b[0m\n\u001b[0;32m    961\u001b[0m \u001b[38;5;28;01mif\u001b[39;00m y \u001b[38;5;129;01mis\u001b[39;00m \u001b[38;5;28;01mNone\u001b[39;00m:\n\u001b[0;32m    962\u001b[0m     \u001b[38;5;28;01mraise\u001b[39;00m \u001b[38;5;167;01mValueError\u001b[39;00m(\u001b[38;5;124m\"\u001b[39m\u001b[38;5;124my cannot be None\u001b[39m\u001b[38;5;124m\"\u001b[39m)\n\u001b[1;32m--> 964\u001b[0m X \u001b[38;5;241m=\u001b[39m \u001b[43mcheck_array\u001b[49m\u001b[43m(\u001b[49m\n\u001b[0;32m    965\u001b[0m \u001b[43m    \u001b[49m\u001b[43mX\u001b[49m\u001b[43m,\u001b[49m\n\u001b[0;32m    966\u001b[0m \u001b[43m    \u001b[49m\u001b[43maccept_sparse\u001b[49m\u001b[38;5;241;43m=\u001b[39;49m\u001b[43maccept_sparse\u001b[49m\u001b[43m,\u001b[49m\n\u001b[0;32m    967\u001b[0m \u001b[43m    \u001b[49m\u001b[43maccept_large_sparse\u001b[49m\u001b[38;5;241;43m=\u001b[39;49m\u001b[43maccept_large_sparse\u001b[49m\u001b[43m,\u001b[49m\n\u001b[0;32m    968\u001b[0m \u001b[43m    \u001b[49m\u001b[43mdtype\u001b[49m\u001b[38;5;241;43m=\u001b[39;49m\u001b[43mdtype\u001b[49m\u001b[43m,\u001b[49m\n\u001b[0;32m    969\u001b[0m \u001b[43m    \u001b[49m\u001b[43morder\u001b[49m\u001b[38;5;241;43m=\u001b[39;49m\u001b[43morder\u001b[49m\u001b[43m,\u001b[49m\n\u001b[0;32m    970\u001b[0m \u001b[43m    \u001b[49m\u001b[43mcopy\u001b[49m\u001b[38;5;241;43m=\u001b[39;49m\u001b[43mcopy\u001b[49m\u001b[43m,\u001b[49m\n\u001b[0;32m    971\u001b[0m \u001b[43m    \u001b[49m\u001b[43mforce_all_finite\u001b[49m\u001b[38;5;241;43m=\u001b[39;49m\u001b[43mforce_all_finite\u001b[49m\u001b[43m,\u001b[49m\n\u001b[0;32m    972\u001b[0m \u001b[43m    \u001b[49m\u001b[43mensure_2d\u001b[49m\u001b[38;5;241;43m=\u001b[39;49m\u001b[43mensure_2d\u001b[49m\u001b[43m,\u001b[49m\n\u001b[0;32m    973\u001b[0m \u001b[43m    \u001b[49m\u001b[43mallow_nd\u001b[49m\u001b[38;5;241;43m=\u001b[39;49m\u001b[43mallow_nd\u001b[49m\u001b[43m,\u001b[49m\n\u001b[0;32m    974\u001b[0m \u001b[43m    \u001b[49m\u001b[43mensure_min_samples\u001b[49m\u001b[38;5;241;43m=\u001b[39;49m\u001b[43mensure_min_samples\u001b[49m\u001b[43m,\u001b[49m\n\u001b[0;32m    975\u001b[0m \u001b[43m    \u001b[49m\u001b[43mensure_min_features\u001b[49m\u001b[38;5;241;43m=\u001b[39;49m\u001b[43mensure_min_features\u001b[49m\u001b[43m,\u001b[49m\n\u001b[0;32m    976\u001b[0m \u001b[43m    \u001b[49m\u001b[43mestimator\u001b[49m\u001b[38;5;241;43m=\u001b[39;49m\u001b[43mestimator\u001b[49m\u001b[43m,\u001b[49m\n\u001b[0;32m    977\u001b[0m \u001b[43m\u001b[49m\u001b[43m)\u001b[49m\n\u001b[0;32m    979\u001b[0m y \u001b[38;5;241m=\u001b[39m _check_y(y, multi_output\u001b[38;5;241m=\u001b[39mmulti_output, y_numeric\u001b[38;5;241m=\u001b[39my_numeric)\n\u001b[0;32m    981\u001b[0m check_consistent_length(X, y)\n",
      "File \u001b[1;32m~\\anaconda3\\lib\\site-packages\\sklearn\\utils\\validation.py:769\u001b[0m, in \u001b[0;36mcheck_array\u001b[1;34m(array, accept_sparse, accept_large_sparse, dtype, order, copy, force_all_finite, ensure_2d, allow_nd, ensure_min_samples, ensure_min_features, estimator)\u001b[0m\n\u001b[0;32m    767\u001b[0m     \u001b[38;5;66;03m# If input is 1D raise error\u001b[39;00m\n\u001b[0;32m    768\u001b[0m     \u001b[38;5;28;01mif\u001b[39;00m array\u001b[38;5;241m.\u001b[39mndim \u001b[38;5;241m==\u001b[39m \u001b[38;5;241m1\u001b[39m:\n\u001b[1;32m--> 769\u001b[0m         \u001b[38;5;28;01mraise\u001b[39;00m \u001b[38;5;167;01mValueError\u001b[39;00m(\n\u001b[0;32m    770\u001b[0m             \u001b[38;5;124m\"\u001b[39m\u001b[38;5;124mExpected 2D array, got 1D array instead:\u001b[39m\u001b[38;5;130;01m\\n\u001b[39;00m\u001b[38;5;124marray=\u001b[39m\u001b[38;5;132;01m{}\u001b[39;00m\u001b[38;5;124m.\u001b[39m\u001b[38;5;130;01m\\n\u001b[39;00m\u001b[38;5;124m\"\u001b[39m\n\u001b[0;32m    771\u001b[0m             \u001b[38;5;124m\"\u001b[39m\u001b[38;5;124mReshape your data either using array.reshape(-1, 1) if \u001b[39m\u001b[38;5;124m\"\u001b[39m\n\u001b[0;32m    772\u001b[0m             \u001b[38;5;124m\"\u001b[39m\u001b[38;5;124myour data has a single feature or array.reshape(1, -1) \u001b[39m\u001b[38;5;124m\"\u001b[39m\n\u001b[0;32m    773\u001b[0m             \u001b[38;5;124m\"\u001b[39m\u001b[38;5;124mif it contains a single sample.\u001b[39m\u001b[38;5;124m\"\u001b[39m\u001b[38;5;241m.\u001b[39mformat(array)\n\u001b[0;32m    774\u001b[0m         )\n\u001b[0;32m    776\u001b[0m \u001b[38;5;66;03m# make sure we actually converted to numeric:\u001b[39;00m\n\u001b[0;32m    777\u001b[0m \u001b[38;5;28;01mif\u001b[39;00m dtype_numeric \u001b[38;5;129;01mand\u001b[39;00m array\u001b[38;5;241m.\u001b[39mdtype\u001b[38;5;241m.\u001b[39mkind \u001b[38;5;129;01min\u001b[39;00m \u001b[38;5;124m\"\u001b[39m\u001b[38;5;124mOUSV\u001b[39m\u001b[38;5;124m\"\u001b[39m:\n",
      "\u001b[1;31mValueError\u001b[0m: Expected 2D array, got 1D array instead:\narray=[\"('conditions', 'supporting', 'temperatures') ('temperatures', 'spring', 'brief') ('conditions', 'breaks', 'temperatures') ('dmc', 'reaching', 'time') ('period', 'reinforcing', 'reports') ('period', 'reinforcing', 'fuels') ('period', 'remains', 'effect') ('advisory', 'remains', 'effect') ('barriers', 'spread', 'roams') ('period', 'resulting', 'growth') ('period', 'resulting', 'growth') ('spotting', 'torching', 'winds') ('advisory', 'remains', 'effect') ('issues', 'arise', 'shortages') ('conditions', 'shortages', 'response') ('response', 'overlapping', 'site') ('site', 'threatening', 'decision') ('action', 'monitoring', 'decision') ('decision', 'completed', 'strategies') ('action', 'taken', 'date') ('attack', 'taken', 'jurisdictions') ('jurisdictions', 'impacting', 'objectives') ('objectives', 'achieving', 'strategies') ('actions', 'depending', 'jurisdictions')\"\n \"('fuels', 'occur', 'category') ('range', 'occur', 'category') ('range', 'spotting', 'beetle') ('terrain', 'pose', 'problems') ('problems', 'holding', 'behavior') ('wetter', 'leads', 'conditions') ('type', 'hr', 'fuels') ('type', 'occur', 'category') ('issues', 'occur', 'category') ('drainage', 'roadsides', 'outbreaks') ('vegetation', 'predisposes', 'effects') ('range', 'occurring', 'conditions') ('temperatures', 'degrees', 'calmer') ('thunderstorms', 'produce', 'type') ('rates', 'spread', 'fuel') ('fuels', 'dry', 'treatments') ('range', 'spotting', 'activity') ('rates', 'spread', 'beetle') ('events', 'occur', 'fuel') ('average', 'trending', 'date') ('average', 'trending', 'spotting') ('time', 'spotting', 'rates') ('rates', 'spread', 'range') ('range', 'spotting', 'runs') ('challenges', 'holding', 'events') ('challenges', 'occur', 'trees') ('infestation', 'starting', 'fuel') ('group', 'torching', 'date') ('closures', 'taking', 'restrictions') ('combinations', 'varied', 'exposure') ('group', 'completed', 'work') ('growth', 'occurred', 'jurisdictions') ('jurisdictions', 'wyoming', 'wyoming') ('group', 'prepositioning', 'crews') ('group', 'prepositioning', 'assets') ('operations', 'taking', 'helicopters') ('operations', 'assigned', 'operations') ('operations', 'assigned', 'divisions') ('limits', 'ff', 'hazards') ('hazards', 'using', 'skill') ('snags', 'sets', 'supervision') ('group', 'crews', 'assets') ('graph', 'indicates', 'season') ('season', 'ending', 'event') ('season', 'ending', 'measures') ('averages', 'discussed', 'barriers') ('breaks', 'contain', 'danger') ('percentile', 'discussed', 'moistures') ('moistures', 'experiencing', 'considered') ('moistures', 'limiting', 'breaks') ('moistures', 'indicates', 'season') ('graph', 'indicates', 'season') ('season', 'ending', 'event') ('season', 'ending', 'danger') ('percentile', 'discussed', 'danger') ('season', 'ending', 'event') ('season', 'ending', 'arebelow') ('indices', 'showing', 'season') ('indices', 'begins', 'peaks') ('indices', 'begins', 'season') ('season', 'ending', 'event') ('season', 'ending', 'measures') ('treatments', 'slow', 'portions') ('treatments', 'slow', 'elevations') ('conditions', 'aspen', 'willows') ('conditions', 'aspen', 'cooperators') ('objectives', 'vary', 'agencies') ('moistures', 'place', 'supporters') ('closures', 'place', 'supporters') ('officer', 'assigned', 'ownership') ('officer', 'assigned', 'agreement') ('agreement', 'signed', 'action') ('agreement', 'signed', 'point') ('harvest', 'contribute', 'sedimentation') ('harvest', 'issue', 'severity') ('support', 'use', 'role') ('service', 'administered', 'private') ('sales', 'affected', 'mitigation') ('sales', 'reach', 'creeks') ('sedimentation', 'issue', 'severity') ('fuels', 'mitigation', 'homes') ('lakes', 'use', 'role') ('supporters', 'impacting', 'blm') ('sales', 'affected', 'point') ('harvest', 'contribute', 'quantity') ('level', 'require', 'fuels') ('homes', 'require', 'fuels') ('support', 'living', 'duration') ('work', 'reduced', 'probability') ('permittees', 'need', 'cattle') ('permittees', 'need', 'operation') ('point', 'timber', 'creeks') ('sedimentation', 'issue', 'severity') ('preparations', 'occurs', 'efforts') ('preparations', 'reach', 'assessments') ('support', 'managed', 'people') ('assessments', 'seem', 'understand') ('harvest', 'contribute', 'creeks') ('sedimentation', 'issue', 'severity') ('dries', 'severity', 'structures') ('preparations', 'reach', 'ownerships') ('assessments', 'slowing', 'events') ('permittees', 'need', 'cattle') ('wyoming', 'point', 'runoff') ('wyoming', 'point', 'severity') ('structures', 'ranches', 'structures') ('contract', 'close', 'many') ('allotments', 'close', 'many') ('many', 'burns', 'permittees') ('duration', 'remains', 'standing') ('standing', 'contributing', 'crowning') ('standing', 'spotting', 'limits') ('standing', 'spotting', 'opportunities') ('jurisdictions', 'spanning', 'fuels') ('jurisdictions', 'spanning', 'fuels') ('fuels', 'contributing', 'fuels') ('fuels', 'contributing', 'barrier') ('park', 'spanning', 'two') ('jurisdiction', 'spanning', 'duration') ('opportunities', 'reaches', 'jurisdictions') ('jurisdictions', 'spanning', 'two') ('jurisdictions', 'spanning', 'fuels') ('jurisdictions', 'spanning', 'season') ('jurisdictions', 'spanning', 'two') ('jurisdictions', 'spanning', 'fuels') ('jurisdictions', 'spanning', 'season') ('duration', 'remains', 'standing') ('standing', 'contributing', 'crowning') ('standing', 'spotting', 'limits') ('standing', 'spotting', 'opportunities') ('fuels', 'contributing', 'fuels') ('fuels', 'contributing', 'barrier') ('fuels', 'contributing', 'management') ('needs', 'meet', 'agencies') ('incident', 'continue', 'change') ('month', 'left', 'personnel') ('conditions', 'change', 'objectives') ('conditions', 'change', 'requirements') ('officer', 'assigned', 'ownership') ('policies', 'compete', 'tactics') ('objectives', 'shifting', 'benefits') ('objectives', 'control', 'visitors') ('communities', 'cowdrey', 'cooperators') ('objectives', 'vary', 'agencies') ('officer', 'assigned', 'ownership') ('officer', 'assigned', 'agreement') ('personnel', 'evaluating', 'portions') ('actions', 'involved', 'environment') ('actions', 'taking', 'restrictions') ('actions', 'taking', 'closures') ('actions', 'varied', 'exposure') ('levels', 'varied', 'exposure') ('frequency', 'set', 'levels') ('frequency', 'changes', 'tactics') ('frequency', 'changes', 'safety') ('tactics', 'occurring', 'strategies') ('strategies', 'making', 'snags') ('snags', 'identified', 'mitigated') ('actions', 'challenge', 'amount') ('restrictions', 'closures', 'warrants') ('divisions', 'increased', 'units') ('operations', 'taking', 'place') ('helicopters', 'assigned', 'operations') ('helicopters', 'taking', 'place') ('group', 'completed', 'work') ('complexity', 'managed', 'skill') ('group', 'prepositioning', 'crews') ('group', 'prepositioning', 'assets') ('operations', 'taking', 'helicopters') ('operations', 'assigned', 'operations') ('operations', 'assigned', 'divisions') ('limits', 'ff', 'hazards') ('hazards', 'using', 'exposure') ('jurisdictions', 'wyoming', 'wyoming') ('amount', 'standing', 'levels') ('amount', 'varied', 'warrants') ('structures', 'draw', 'protection') ('workload', 'continues', 'structures') ('growth', 'require', 'work') ('blm', 'crews', 'assets') ('operations', 'taking', 'helicopters') ('operations', 'assigned', 'seats') ('operations', 'limited', 'workload') ('supervision', 'needed', 'data') ('data', 'showing', 'month') ('amount', 'standing', 'fuels') ('actions', 'monitoring', 'control') ('actions', 'wilderness', 'conditions') ('actions', 'wilderness', 'dangerous') ('snags', 'preventing', 'firefighters') ('firefighters', 'going', 'use') ('snags', 'provide', 'opportunities') ('work', 'taking', 'workload') ('work', 'taking', 'counties') ('work', 'taking', 'divisions') ('divisions', 'varying', 'structures') ('structures', 'scattered', 'work') ('briefing', 'relieve', 'confusion') ('days', 'taking', 'helicopters') ('operations', 'taking', 'helicopters') ('helicopters', 'assigned', 'operations') ('snags', 'identified', 'course') ('officer', 'assigned', 'ownership') ('policies', 'compete', 'tactics') ('objectives', 'shifting', 'benefits') ('actions', 'shifting', 'benefits') ('objectives', 'control', 'visitors') ('actions', 'involved', 'environment') ('closures', 'taking', 'restrictions') ('combinations', 'varied', 'hazards') ('exposure', 'using', 'cabs') ('frequency', 'set', 'levels') ('frequency', 'changes', 'tactics') ('group', 'completed', 'work') ('complexity', 'managed', 'skill') ('group', 'prepositioning', 'crews') ('group', 'prepositioning', 'assets') ('operations', 'taking', 'helicopters') ('operations', 'assigned', 'operations') ('operations', 'assigned', 'divisions') ('objectives', 'vary', 'agencies') ('officer', 'assigned', 'ownership') ('officer', 'assigned', 'agreement') ('personnel', 'evaluating', 'portions') ('basis', 'determine', 'interest')\"\n \"('duration', 'flaming', 'behavior') ('load', 'supports', 'treatments') ('growth', 'fuel', 'conditions') ('event', 'increasing', 'barriers') ('forecasted', 'remain', 'moisture') ('event', 'increasing', 'activities') ('event', 'increasing', 'activities') ('actions', 'check', 'actions')\"\n ...\n \"('dmc', 'remain', 'sloughs') ('fuel', 'predicted', 'support') ('factor', 'raises', 'difficulty') ('villages', 'protected', 'history')\"\n \"('head', 'spotting', 'kdbi') ('cliffs', 'slowing', 'spread') ('cliffs', 'slowing', 'spread') ('cliffs', 'finding', 'ways') ('measures', 'threating', 'business') ('threating', 'residences', 'service') ('service', 'involved', 'arsonist') ('command', 'competing', 'priorities') ('trail', 'smoke', 'closures') ('us', 'smoke', 'closures') ('communications', 'complicated', 'trail') ('command', 'competing', 'priorities') ('us', 'smoke', 'closures') ('us', 'smoke', 'necessary')\"\n \"('paper', 'burned', 'efforts') ('paper', 'burned', 'top') ('lines', 'designated', 'state') ('community', 'designated', 'state') ('state', 'communicating', 'state') ('penn', 'experienced', 'state')\"].\nReshape your data either using array.reshape(-1, 1) if your data has a single feature or array.reshape(1, -1) if it contains a single sample."
     ]
    }
   ],
   "source": [
    "bagging_classifier, accuracy = train_bagging_classifier(x_train, y_train, x_test, y_test, LogisticRegression(), 25)"
   ]
  },
  {
   "cell_type": "code",
   "execution_count": null,
   "id": "a4b8883f",
   "metadata": {},
   "outputs": [],
   "source": []
  },
  {
   "cell_type": "code",
   "execution_count": null,
   "id": "2be5c1bc",
   "metadata": {},
   "outputs": [],
   "source": []
  },
  {
   "cell_type": "markdown",
   "id": "3fb4e294",
   "metadata": {},
   "source": [
    "### Bag of Words"
   ]
  },
  {
   "cell_type": "markdown",
   "id": "413fa444",
   "metadata": {},
   "source": []
  },
  {
   "cell_type": "code",
   "execution_count": null,
   "id": "5927f8cd",
   "metadata": {},
   "outputs": [],
   "source": []
  },
  {
   "cell_type": "markdown",
   "id": "7bf08691",
   "metadata": {},
   "source": [
    "### Flip It Around"
   ]
  },
  {
   "cell_type": "markdown",
   "id": "47279b2e",
   "metadata": {},
   "source": [
    "Here I am going to use risk to try to predict text."
   ]
  },
  {
   "cell_type": "code",
   "execution_count": null,
   "id": "b65f1cdc",
   "metadata": {},
   "outputs": [],
   "source": []
  },
  {
   "cell_type": "code",
   "execution_count": null,
   "id": "2948832a",
   "metadata": {},
   "outputs": [],
   "source": []
  },
  {
   "cell_type": "markdown",
   "id": "a0e3cd01",
   "metadata": {},
   "source": [
    "### Insights"
   ]
  },
  {
   "cell_type": "markdown",
   "id": "a2c7e913",
   "metadata": {},
   "source": [
    "#### Best Performing Method"
   ]
  },
  {
   "cell_type": "code",
   "execution_count": null,
   "id": "abc77b94",
   "metadata": {},
   "outputs": [],
   "source": []
  },
  {
   "cell_type": "code",
   "execution_count": 89,
   "id": "2789a518",
   "metadata": {},
   "outputs": [
    {
     "data": {
      "image/png": "[encoded data removed]",
      "text/plain": [
       "<Figure size 720x432 with 1 Axes>"
      ]
     },
     "metadata": {
      "needs_background": "light"
     },
     "output_type": "display_data"
    }
   ],
   "source": [
    "model_names = ['Naive Bayes', 'K Nearest Neighbors', 'Penalized Linear Regression', 'Random Forest']\n",
    "accuracy_scores = [nb_accuracy, knn_score, plr_score, rf_accuracy]\n",
    "\n",
    "sorted_indices = sorted(range(len(accuracy_scores)), key=lambda k: accuracy_scores[k], reverse=True)\n",
    "sorted_model_names = [model_names[i] for i in sorted_indices]\n",
    "sorted_accuracy_scores = [accuracy_scores[i] for i in sorted_indices]\n",
    "\n",
    "plt.figure(figsize=(10, 6))\n",
    "plt.bar(sorted_model_names, sorted_accuracy_scores, color=['blue', 'green', 'orange', 'red'])\n",
    "plt.title('Accuracy Scores of Different Models (Descending Order)')\n",
    "plt.xlabel('Models')\n",
    "plt.ylabel('Accuracy Score')\n",
    "plt.ylim(0, 1) \n",
    "\n",
    "for i, v in enumerate(sorted_accuracy_scores):\n",
    "    plt.text(i, v + 0.01, f'{v:.2f}', ha='center', va='bottom', fontsize=10)\n",
    "\n",
    "plt.show()"
   ]
  },
  {
   "cell_type": "code",
   "execution_count": null,
   "id": "6f326952",
   "metadata": {},
   "outputs": [],
   "source": []
  },
  {
   "cell_type": "code",
   "execution_count": null,
   "id": "c1ddf7db",
   "metadata": {},
   "outputs": [],
   "source": []
  },
  {
   "cell_type": "code",
   "execution_count": null,
   "id": "fc3bf2e4",
   "metadata": {},
   "outputs": [],
   "source": []
  },
  {
   "cell_type": "code",
   "execution_count": null,
   "id": "5ced11f1",
   "metadata": {},
   "outputs": [],
   "source": []
  },
  {
   "cell_type": "markdown",
   "id": "9129c882",
   "metadata": {},
   "source": [
    "#### Important Features"
   ]
  },
  {
   "cell_type": "code",
   "execution_count": null,
   "id": "f5ea9fd9",
   "metadata": {},
   "outputs": [],
   "source": []
  },
  {
   "cell_type": "markdown",
   "id": "f63bc3d9",
   "metadata": {},
   "source": [
    "#### Closing Thoughts"
   ]
  },
  {
   "cell_type": "code",
   "execution_count": null,
   "id": "b37c4184",
   "metadata": {},
   "outputs": [],
   "source": []
  },
  {
   "cell_type": "markdown",
   "id": "1b3bda98",
   "metadata": {},
   "source": [
    "## Relative Risk Decision and rrf_notes"
   ]
  },
  {
   "cell_type": "markdown",
   "id": "6df9a7e4",
   "metadata": {},
   "source": []
  },
  {
   "cell_type": "code",
   "execution_count": 91,
   "id": "5ea1a5d4",
   "metadata": {},
   "outputs": [],
   "source": [
    "rrf_texts = data['rrf_notes']"
   ]
  },
  {
   "cell_type": "code",
   "execution_count": 92,
   "id": "e41dcc3d",
   "metadata": {},
   "outputs": [],
   "source": [
    "plr_model, lrx_train, lrx_test,\\\n",
    "lry_train, lry_test = train_linear_reg(rrf_texts,risk_labels,'l2',1,1000)"
   ]
  },
  {
   "cell_type": "code",
   "execution_count": 93,
   "id": "c3512c36",
   "metadata": {},
   "outputs": [
    {
     "name": "stdout",
     "output_type": "stream",
     "text": [
      "A penalized linear regression model classifying risk has an accuracy of 0.49510763209393344\n",
      "\n",
      "Classification Report:\n",
      "              precision    recall  f1-score   support\n",
      "\n",
      "        high       0.56      0.60      0.58       552\n",
      "         low       0.53      0.30      0.39       400\n",
      "         mod       0.43      0.53      0.47       581\n",
      "\n",
      "    accuracy                           0.50      1533\n",
      "   macro avg       0.51      0.48      0.48      1533\n",
      "weighted avg       0.50      0.50      0.49      1533\n",
      "\n"
     ]
    }
   ],
   "source": [
    "lry_pred = plr_model.predict(lrx_test)\n",
    "plr_score = accuracy_score(lry_test, lry_pred)\n",
    "print(f\"A penalized linear regression model classifying risk has an accuracy of {plr_score}\\n\")\n",
    "print(\"Classification Report:\")\n",
    "print(classification_report(lry_test, lry_pred))"
   ]
  },
  {
   "cell_type": "code",
   "execution_count": 94,
   "id": "34bbac63",
   "metadata": {},
   "outputs": [],
   "source": [
    "nb_classifier, x_nb_train, x_nb_test, \\\n",
    "y_nb_train, y_nb_test = train_nb_classifier(rrf_texts,risk_labels,.2,1,2);"
   ]
  },
  {
   "cell_type": "code",
   "execution_count": 95,
   "id": "80b2a113",
   "metadata": {},
   "outputs": [
    {
     "name": "stdout",
     "output_type": "stream",
     "text": [
      "The Naive Bayes classifier accuracy is 0.4618 or 46.18%\n",
      "\n",
      "\n",
      "Classification Report:\n",
      "              precision    recall  f1-score   support\n",
      "\n",
      "        high       0.48      0.76      0.59       552\n",
      "         low       0.60      0.07      0.13       400\n",
      "         mod       0.42      0.45      0.44       581\n",
      "\n",
      "    accuracy                           0.46      1533\n",
      "   macro avg       0.50      0.43      0.38      1533\n",
      "weighted avg       0.49      0.46      0.41      1533\n",
      "\n"
     ]
    }
   ],
   "source": [
    "y_nb_pred = nb_classifier.predict(x_nb_test)\n",
    "y_nb_train_pred = nb_classifier.predict(x_nb_train)\n",
    "\n",
    "nb_accuracy = accuracy_score(y_nb_test, y_nb_pred)\n",
    "\n",
    "print(f\"The Naive Bayes classifier accuracy is {nb_accuracy:.4f} or {nb_accuracy:.2%}\")\n",
    "print(\"\\n\")\n",
    "print(\"Classification Report:\")\n",
    "print(classification_report(y_nb_test, y_nb_pred))"
   ]
  },
  {
   "cell_type": "markdown",
   "id": "6c8918b3",
   "metadata": {},
   "source": [
    "###  Choosing a Model"
   ]
  },
  {
   "cell_type": "code",
   "execution_count": null,
   "id": "e8d89ea2",
   "metadata": {},
   "outputs": [],
   "source": [
    "# Example usage\n",
    "best_model, reports_df, comparison_df = train_and_evaluate_models_v3(combined_texts, risk_labels)\n",
    "print(\"Best Model:\", best_model)\n"
   ]
  },
  {
   "cell_type": "code",
   "execution_count": null,
   "id": "14af0986",
   "metadata": {},
   "outputs": [],
   "source": [
    "comparison_df"
   ]
  },
  {
   "cell_type": "markdown",
   "id": "cd64b0ae",
   "metadata": {},
   "source": [
    "### Tuning the Model"
   ]
  },
  {
   "cell_type": "code",
   "execution_count": null,
   "id": "07dbe49d",
   "metadata": {},
   "outputs": [],
   "source": []
  },
  {
   "cell_type": "markdown",
   "id": "cb1aaf12",
   "metadata": {},
   "source": [
    "## Individual Risk Category Decisions"
   ]
  },
  {
   "cell_type": "code",
   "execution_count": null,
   "id": "46b2e048",
   "metadata": {},
   "outputs": [],
   "source": []
  },
  {
   "cell_type": "markdown",
   "id": "44f5ddf2",
   "metadata": {},
   "source": [
    "# Risk Classification - N-Grams"
   ]
  },
  {
   "cell_type": "code",
   "execution_count": 96,
   "id": "85979d75",
   "metadata": {},
   "outputs": [],
   "source": [
    "def try_variety_of_models(x_train_tfidf, y_train, x_test_tfidf, y_test):\n",
    "    \"\"\"\n",
    "    Try a variety of models and report the results.\n",
    "\n",
    "    Parameters:\n",
    "    - x_train_tfidf: TF-IDF transformed training data.\n",
    "    - y_train: Training labels.\n",
    "    - x_test_tfidf: TF-IDF transformed test data.\n",
    "    - y_test: Test labels.\n",
    "\n",
    "    Returns:\n",
    "    - Dictionary containing the classification reports for each model.\n",
    "    \"\"\"\n",
    "    models = {\n",
    "        'Multinomial Naive Bayes': MultinomialNB(),\n",
    "        'Logistic Regression': LogisticRegression(),\n",
    "        'Random Forest': RandomForestClassifier(),\n",
    "        'Support Vector Machine': SVC()\n",
    "    }\n",
    "\n",
    "    results = {}\n",
    "\n",
    "    for model_name, model in models.items():\n",
    "        # Perform cross-validation on the training data\n",
    "        scores = cross_val_score(model, x_train_tfidf, y_train, cv=5)\n",
    "\n",
    "        # Fit the model on the training data\n",
    "        model.fit(x_train_tfidf, y_train)\n",
    "\n",
    "        # Make predictions on the test data\n",
    "        predictions = model.predict(x_test_tfidf)\n",
    "\n",
    "        # Generate classification report\n",
    "        report = classification_report(y_test, predictions)\n",
    "\n",
    "        # Store the results\n",
    "        results[model_name] = {\n",
    "            'Cross-Validation Scores': scores,\n",
    "            'Test Set Classification Report': report\n",
    "        }\n",
    "\n",
    "    return results"
   ]
  },
  {
   "cell_type": "code",
   "execution_count": null,
   "id": "7b7112ba",
   "metadata": {},
   "outputs": [],
   "source": []
  },
  {
   "cell_type": "markdown",
   "id": "4476669d",
   "metadata": {},
   "source": [
    "## Bigrams"
   ]
  },
  {
   "cell_type": "code",
   "execution_count": 97,
   "id": "222e665f",
   "metadata": {},
   "outputs": [],
   "source": [
    "def vectorize_text_with_ngrams(text_data, labels, ngram_range=(1, 2), test_size=0.2):\n",
    "    \"\"\"\n",
    "    Vectorize text data using TF-IDF with specified n-gram range.\n",
    "\n",
    "    Parameters:\n",
    "    - text_data: List of text data.\n",
    "    - labels: List of corresponding labels.\n",
    "    - ngram_range: Tuple specifying the range of n-grams (default is (1, 2)).\n",
    "    - test_size: Fraction of the dataset to be used as the test set (default is 0.2).\n",
    "    - random_state: Seed for random number generation (default is None).\n",
    "\n",
    "    Returns:\n",
    "    - Tuple (train_tfidf, test_tfidf, y_train, y_test)\n",
    "      - train_tfidf: TF-IDF transformed training data.\n",
    "      - test_tfidf: TF-IDF transformed test data.\n",
    "      - y_train: Training labels.\n",
    "      - y_test: Test labels.\n",
    "    \"\"\"\n",
    "    # Split the data\n",
    "    x_train, x_test, y_train, y_test = train_test_split(text_data, labels, test_size=test_size, random_state= 2)\n",
    "\n",
    "    # Vectorize using TF-IDF\n",
    "    vectorizer = TfidfVectorizer(ngram_range=ngram_range)\n",
    "    x_train_tfidf = vectorizer.fit_transform(x_train)\n",
    "    x_test_tfidf = vectorizer.transform(x_test)\n",
    "\n",
    "    return x_train_tfidf, x_test_tfidf, y_train, y_test\n",
    "\n",
    "\n"
   ]
  },
  {
   "cell_type": "code",
   "execution_count": 98,
   "id": "35cc37f7",
   "metadata": {},
   "outputs": [],
   "source": [
    "ngram_range = (1, 2)    # You can adjust the n-gram range as needed\n",
    "ng_x_train_tfidf, ng_x_test_tfidf, ng_y_train, ng_y_test = vectorize_text_with_ngrams(combined_texts, risk_labels, ngram_range=ngram_range, test_size=0.2)"
   ]
  },
  {
   "cell_type": "code",
   "execution_count": 99,
   "id": "0eb5dcd3",
   "metadata": {},
   "outputs": [
    {
     "name": "stdout",
     "output_type": "stream",
     "text": [
      "Accuracy: 0.47423352902804955\n",
      "Classification Report:\n",
      "              precision    recall  f1-score   support\n",
      "\n",
      "        high       0.52      0.90      0.66       552\n",
      "         low       0.00      0.00      0.00       400\n",
      "         mod       0.40      0.40      0.40       581\n",
      "\n",
      "    accuracy                           0.47      1533\n",
      "   macro avg       0.31      0.43      0.35      1533\n",
      "weighted avg       0.34      0.47      0.39      1533\n",
      "\n"
     ]
    }
   ],
   "source": [
    "nb_classifier = MultinomialNB()\n",
    "nb_classifier.fit(ng_x_train_tfidf, ng_y_train)\n",
    "\n",
    "ng_y_pred = nb_classifier.predict(ng_x_test_tfidf)\n",
    "\n",
    "accuracy = accuracy_score(ng_y_test, ng_y_pred)\n",
    "print(\"Accuracy:\", accuracy)\n",
    "\n",
    "\n",
    "print(\"Classification Report:\")\n",
    "print(classification_report(ng_y_test, ng_y_pred))"
   ]
  },
  {
   "cell_type": "code",
   "execution_count": 100,
   "id": "855a35ea",
   "metadata": {},
   "outputs": [
    {
     "name": "stdout",
     "output_type": "stream",
     "text": [
      "Accuracy: 0.6007827788649707\n"
     ]
    }
   ],
   "source": [
    "from scipy.sparse import hstack\n",
    "logistic_reg = LogisticRegression(random_state=2)\n",
    "logistic_reg.fit(ng_x_train_tfidf, ng_y_train)\n",
    "\n",
    "# Make predictions on the test set\n",
    "ng_y_pred = logistic_reg.predict(ng_x_test_tfidf)\n",
    "\n",
    "# Evaluate the model\n",
    "accuracy = accuracy_score(ng_y_test, ng_y_pred)\n",
    "print(\"Accuracy:\", accuracy)"
   ]
  },
  {
   "cell_type": "code",
   "execution_count": 101,
   "id": "8c37c249",
   "metadata": {},
   "outputs": [],
   "source": [
    "ngram_rf = RandomForestClassifier(random_state=2)\n",
    "ngram_rf.fit(ng_x_train_tfidf,ng_y_train)\n",
    "\n",
    "ngram_rf_pred = ngram_rf.predict(ng_x_test_tfidf)\n",
    "\n",
    "accuracy = accuracy_score(ng_y_test, ngram_rf_pred)"
   ]
  },
  {
   "cell_type": "code",
   "execution_count": 109,
   "id": "fcd770c7",
   "metadata": {
    "scrolled": true
   },
   "outputs": [
    {
     "data": {
      "text/plain": [
       "0.5551206784083497"
      ]
     },
     "execution_count": 109,
     "metadata": {},
     "output_type": "execute_result"
    }
   ],
   "source": [
    "accuracy"
   ]
  },
  {
   "cell_type": "code",
   "execution_count": null,
   "id": "12e02684",
   "metadata": {},
   "outputs": [],
   "source": []
  },
  {
   "cell_type": "code",
   "execution_count": null,
   "id": "ed653064",
   "metadata": {},
   "outputs": [],
   "source": [
    "results = try_variety_of_models(ng_x_train_tfidf, ng_y_train, ng_x_test_tfidf, ng_y_test)\n",
    "\n",
    "# Print the results\n",
    "for model_name, result in results.items():\n",
    "    print(f\"Results for {model_name}:\")\n",
    "    print(\"Cross-Validation Scores:\", result['Cross-Validation Scores'])\n",
    "    print(\"Test Set Classification Report:\")\n",
    "    print(result['Test Set Classification Report'])\n",
    "    print(\"\\n\")"
   ]
  },
  {
   "cell_type": "markdown",
   "id": "1cd050ed",
   "metadata": {},
   "source": [
    "## Trigrams"
   ]
  },
  {
   "cell_type": "code",
   "execution_count": null,
   "id": "ffe09e0c",
   "metadata": {},
   "outputs": [],
   "source": [
    "ngram_range = (1, 3)    # You can adjust the n-gram range as needed\n",
    "trig_x_train_tfidf, trig_x_test_tfidf, trig_y_train, trig_y_test = vectorize_text_with_ngrams(combined_texts, risk_labels, ngram_range=ngram_range, test_size=0.2)"
   ]
  },
  {
   "cell_type": "code",
   "execution_count": null,
   "id": "c2ac2f15",
   "metadata": {},
   "outputs": [],
   "source": [
    "results = try_variety_of_models(trig_x_train_tfidf, trig_y_train, trig_x_test_tfidf, trig_y_test)\n",
    "\n",
    "# Print the results\n",
    "for model_name, result in results.items():\n",
    "    print(f\"Results for {model_name}:\")\n",
    "    print(\"Cross-Validation Scores:\", result['Cross-Validation Scores'])\n",
    "    print(\"Test Set Classification Report:\")\n",
    "    print(result['Test Set Classification Report'])\n",
    "    print(\"\\n\")"
   ]
  },
  {
   "cell_type": "code",
   "execution_count": null,
   "id": "fac52a7c",
   "metadata": {},
   "outputs": [],
   "source": []
  },
  {
   "cell_type": "code",
   "execution_count": null,
   "id": "42db4c57",
   "metadata": {},
   "outputs": [],
   "source": []
  },
  {
   "cell_type": "code",
   "execution_count": null,
   "id": "c35874f7",
   "metadata": {},
   "outputs": [],
   "source": []
  },
  {
   "cell_type": "code",
   "execution_count": null,
   "id": "79ac9198",
   "metadata": {},
   "outputs": [],
   "source": [
    "ngram_range = (1, 5)\n",
    "fivegram_x_train_tfidf, fivegram_x_test_tfidf, fivegram_y_train, fivegram_y_test = vectorize_text_with_ngrams(combined_texts, risk_labels, ngram_range=ngram_range, test_size=0.2)\n"
   ]
  },
  {
   "cell_type": "code",
   "execution_count": null,
   "id": "1e541e46",
   "metadata": {},
   "outputs": [],
   "source": [
    "results_fivegram = try_variety_of_models(fivegram_x_train_tfidf, fivegram_y_train, fivegram_x_test_tfidf, fivegram_y_test)\n",
    "\n",
    "# Print the results\n",
    "for model_name, result in results_fivegram.items():\n",
    "    print(f\"Results for {model_name} with 5-grams:\")\n",
    "    print(\"Cross-Validation Scores:\", result['Cross-Validation Scores'])\n",
    "    print(\"Test Set Classification Report:\")\n",
    "    print(result['Test Set Classification Report'])\n",
    "    print(\"\\n\")"
   ]
  },
  {
   "cell_type": "markdown",
   "id": "1b011c54",
   "metadata": {},
   "source": [
    "# SVOs"
   ]
  },
  {
   "cell_type": "code",
   "execution_count": 102,
   "id": "3edc2469",
   "metadata": {},
   "outputs": [
    {
     "name": "stdout",
     "output_type": "stream",
     "text": [
      "✔ Download and installation successful\n",
      "You can now load the package via spacy.load('en_core_web_sm')\n"
     ]
    }
   ],
   "source": [
    "import spacy\n",
    "from subject_object_extraction import findSVOs\n",
    "\n",
    "# Download the English model\n",
    "spacy.cli.download(\"en_core_web_sm\")\n",
    "parser = spacy.load('en_core_web_sm')\n",
    "svo_data = data.copy()"
   ]
  },
  {
   "cell_type": "code",
   "execution_count": 103,
   "id": "b311bb97",
   "metadata": {},
   "outputs": [],
   "source": [
    "svo_data['combined_text_svo'] = ''\n",
    "\n",
    "for index, row in svo_data.iterrows():\n",
    "    text = row['combined_text']\n",
    "    parsed_text = parser(text)\n",
    "    svos = findSVOs(parsed_text)\n",
    "    svo_data.at[index, 'combined_text_svo'] = svos\n",
    "    "
   ]
  },
  {
   "cell_type": "code",
   "execution_count": null,
   "id": "1bd143cf",
   "metadata": {},
   "outputs": [],
   "source": []
  },
  {
   "cell_type": "code",
   "execution_count": 104,
   "id": "9290d073",
   "metadata": {
    "scrolled": true
   },
   "outputs": [
    {
     "data": {
      "text/html": [
       "<div>\n",
       "<style scoped>\n",
       "    .dataframe tbody tr th:only-of-type {\n",
       "        vertical-align: middle;\n",
       "    }\n",
       "\n",
       "    .dataframe tbody tr th {\n",
       "        vertical-align: top;\n",
       "    }\n",
       "\n",
       "    .dataframe thead th {\n",
       "        text-align: right;\n",
       "    }\n",
       "</style>\n",
       "<table border=\"1\" class=\"dataframe\">\n",
       "  <thead>\n",
       "    <tr style=\"text-align: right;\">\n",
       "      <th></th>\n",
       "      <th>wfdss_risk</th>\n",
       "      <th>wfdss_org_id</th>\n",
       "      <th>wfdss_id</th>\n",
       "      <th>orgneed_id</th>\n",
       "      <th>rr_id</th>\n",
       "      <th>fire_name</th>\n",
       "      <th>latitude</th>\n",
       "      <th>longitude</th>\n",
       "      <th>geographic_area</th>\n",
       "      <th>geo_area_name</th>\n",
       "      <th>...</th>\n",
       "      <th>rrf_rr_desc_1</th>\n",
       "      <th>orgf_org_value_desc</th>\n",
       "      <th>orgf_org_value_desc2</th>\n",
       "      <th>orgf_notes</th>\n",
       "      <th>disttowild</th>\n",
       "      <th>name</th>\n",
       "      <th>acreage</th>\n",
       "      <th>combined_text</th>\n",
       "      <th>multi-jurisdictional</th>\n",
       "      <th>combined_text_svo</th>\n",
       "    </tr>\n",
       "  </thead>\n",
       "  <tbody>\n",
       "    <tr>\n",
       "      <th>0</th>\n",
       "      <td>1129395 - mod</td>\n",
       "      <td>1129395-1137632</td>\n",
       "      <td>1129395</td>\n",
       "      <td>1137632</td>\n",
       "      <td>1137625.0</td>\n",
       "      <td>Buck #1</td>\n",
       "      <td>29.92550</td>\n",
       "      <td>-84.94720</td>\n",
       "      <td>1</td>\n",
       "      <td>Southern</td>\n",
       "      <td>...</td>\n",
       "      <td>mod</td>\n",
       "      <td>T3 Organization</td>\n",
       "      <td>Type 3</td>\n",
       "      <td>based relative organizational needs indicated ...</td>\n",
       "      <td>13729.609590</td>\n",
       "      <td>Mud Swamp/New River Wilderness</td>\n",
       "      <td>8075.0</td>\n",
       "      <td>fuel conditions close based lack control lines...</td>\n",
       "      <td>1</td>\n",
       "      <td>[(conditions, persist, behavior), (conditions,...</td>\n",
       "    </tr>\n",
       "    <tr>\n",
       "      <th>1</th>\n",
       "      <td>1145279 - high</td>\n",
       "      <td>1145279-1145712</td>\n",
       "      <td>1145279</td>\n",
       "      <td>1145712</td>\n",
       "      <td>1145711.0</td>\n",
       "      <td>49er</td>\n",
       "      <td>34.84439</td>\n",
       "      <td>-92.80926</td>\n",
       "      <td>1</td>\n",
       "      <td>Southern</td>\n",
       "      <td>...</td>\n",
       "      <td>high</td>\n",
       "      <td>Short T2 IMT</td>\n",
       "      <td>Type 2</td>\n",
       "      <td>type organization available final estimated si...</td>\n",
       "      <td>7723.559640</td>\n",
       "      <td>Flatside Wilderness</td>\n",
       "      <td>10180.0</td>\n",
       "      <td>rugged terrain parts starting remote indirect ...</td>\n",
       "      <td>1</td>\n",
       "      <td>[(parts, starting, tactics), (tactics, using, ...</td>\n",
       "    </tr>\n",
       "    <tr>\n",
       "      <th>2</th>\n",
       "      <td>1145279 - mod</td>\n",
       "      <td>1145279-1145720</td>\n",
       "      <td>1145279</td>\n",
       "      <td>1145720</td>\n",
       "      <td>1145719.0</td>\n",
       "      <td>49er</td>\n",
       "      <td>34.84439</td>\n",
       "      <td>-92.80926</td>\n",
       "      <td>1</td>\n",
       "      <td>Southern</td>\n",
       "      <td>...</td>\n",
       "      <td>mod</td>\n",
       "      <td>T3 Organization</td>\n",
       "      <td>Type 3</td>\n",
       "      <td></td>\n",
       "      <td>7723.559640</td>\n",
       "      <td>Flatside Wilderness</td>\n",
       "      <td>10180.0</td>\n",
       "      <td>predicted winds put smoke little rock</td>\n",
       "      <td>1</td>\n",
       "      <td>[(winds, put, smoke)]</td>\n",
       "    </tr>\n",
       "    <tr>\n",
       "      <th>3</th>\n",
       "      <td>1148295 - mod</td>\n",
       "      <td>1148295-1148479</td>\n",
       "      <td>1148295</td>\n",
       "      <td>1148479</td>\n",
       "      <td>1148477.0</td>\n",
       "      <td>Clear-Cut</td>\n",
       "      <td>26.21003</td>\n",
       "      <td>-81.36806</td>\n",
       "      <td>1</td>\n",
       "      <td>Southern</td>\n",
       "      <td>...</td>\n",
       "      <td>mod</td>\n",
       "      <td>T3 Organization</td>\n",
       "      <td>Type 3</td>\n",
       "      <td>managed type qualified type type helicopter sa...</td>\n",
       "      <td>35199.123460</td>\n",
       "      <td>Marjory Stoneman Douglas Wilderness</td>\n",
       "      <td>1296500.0</td>\n",
       "      <td>behavior mainly creeping hardwood hits torches...</td>\n",
       "      <td>1</td>\n",
       "      <td>[(behavior, creeping, hardwood), (torches, thr...</td>\n",
       "    </tr>\n",
       "    <tr>\n",
       "      <th>4</th>\n",
       "      <td>1154074 - mod</td>\n",
       "      <td>1154074-1157125</td>\n",
       "      <td>1154074</td>\n",
       "      <td>1157125</td>\n",
       "      <td>1157122.0</td>\n",
       "      <td>Hopkins Prairie</td>\n",
       "      <td>29.28650</td>\n",
       "      <td>-81.71430</td>\n",
       "      <td>1</td>\n",
       "      <td>Southern</td>\n",
       "      <td>...</td>\n",
       "      <td>mod</td>\n",
       "      <td>T3 Organization</td>\n",
       "      <td>Type 3</td>\n",
       "      <td>although indicies measures ensure containment ...</td>\n",
       "      <td>4272.071047</td>\n",
       "      <td>Juniper Prairie Wilderness</td>\n",
       "      <td>14293.0</td>\n",
       "      <td>smoldering active unburned fuel lines continue...</td>\n",
       "      <td>1</td>\n",
       "      <td>[(smoldering, continues, structures), (activit...</td>\n",
       "    </tr>\n",
       "    <tr>\n",
       "      <th>...</th>\n",
       "      <td>...</td>\n",
       "      <td>...</td>\n",
       "      <td>...</td>\n",
       "      <td>...</td>\n",
       "      <td>...</td>\n",
       "      <td>...</td>\n",
       "      <td>...</td>\n",
       "      <td>...</td>\n",
       "      <td>...</td>\n",
       "      <td>...</td>\n",
       "      <td>...</td>\n",
       "      <td>...</td>\n",
       "      <td>...</td>\n",
       "      <td>...</td>\n",
       "      <td>...</td>\n",
       "      <td>...</td>\n",
       "      <td>...</td>\n",
       "      <td>...</td>\n",
       "      <td>...</td>\n",
       "      <td>...</td>\n",
       "      <td>...</td>\n",
       "    </tr>\n",
       "    <tr>\n",
       "      <th>7660</th>\n",
       "      <td>864752 - low</td>\n",
       "      <td>864752-865386</td>\n",
       "      <td>864752</td>\n",
       "      <td>865386</td>\n",
       "      <td>865381.0</td>\n",
       "      <td>Raspberry Mountain</td>\n",
       "      <td>34.38083</td>\n",
       "      <td>-93.99472</td>\n",
       "      <td>1</td>\n",
       "      <td>Southern</td>\n",
       "      <td>...</td>\n",
       "      <td>low</td>\n",
       "      <td>T3 Organization</td>\n",
       "      <td>Type 3</td>\n",
       "      <td>type ic assigned daily complexity analysis tim...</td>\n",
       "      <td>1953.154026</td>\n",
       "      <td>Caney Creek Wilderness</td>\n",
       "      <td>14262.0</td>\n",
       "      <td>fuel model steep trending mountain slope sprea...</td>\n",
       "      <td>1</td>\n",
       "      <td>[(model, trending, slope), (months, scattered,...</td>\n",
       "    </tr>\n",
       "    <tr>\n",
       "      <th>7661</th>\n",
       "      <td>867259 - low</td>\n",
       "      <td>867259-868253</td>\n",
       "      <td>867259</td>\n",
       "      <td>868253</td>\n",
       "      <td>868252.0</td>\n",
       "      <td>Skegg Again</td>\n",
       "      <td>37.25854</td>\n",
       "      <td>-82.34452</td>\n",
       "      <td>1</td>\n",
       "      <td>Southern</td>\n",
       "      <td>...</td>\n",
       "      <td>low</td>\n",
       "      <td>T3 Organization</td>\n",
       "      <td>Type 3</td>\n",
       "      <td>although functional primarily difficult access...</td>\n",
       "      <td>68002.602360</td>\n",
       "      <td>Stone Mountain Wilderness</td>\n",
       "      <td>3273.0</td>\n",
       "      <td>although weeks since last abnormally dry accor...</td>\n",
       "      <td>1</td>\n",
       "      <td>[(winds, distance, homes), (homes, distance, h...</td>\n",
       "    </tr>\n",
       "    <tr>\n",
       "      <th>7662</th>\n",
       "      <td>867259 - mod</td>\n",
       "      <td>867259-867920</td>\n",
       "      <td>867259</td>\n",
       "      <td>867920</td>\n",
       "      <td>867919.0</td>\n",
       "      <td>Skegg Again</td>\n",
       "      <td>37.25854</td>\n",
       "      <td>-82.34452</td>\n",
       "      <td>1</td>\n",
       "      <td>Southern</td>\n",
       "      <td>...</td>\n",
       "      <td>mod</td>\n",
       "      <td>Short T2 IMT</td>\n",
       "      <td>Type 2</td>\n",
       "      <td></td>\n",
       "      <td>68002.602360</td>\n",
       "      <td>Stone Mountain Wilderness</td>\n",
       "      <td>3273.0</td>\n",
       "      <td>primary homes forecast winds remain homes im...</td>\n",
       "      <td>1</td>\n",
       "      <td>[(winds, remain, homes), (rain, considered, fo...</td>\n",
       "    </tr>\n",
       "    <tr>\n",
       "      <th>7663</th>\n",
       "      <td>867813 - mod</td>\n",
       "      <td>867813-868713</td>\n",
       "      <td>867813</td>\n",
       "      <td>868713</td>\n",
       "      <td>868670.0</td>\n",
       "      <td>MORU WILDFIRE</td>\n",
       "      <td>43.87558</td>\n",
       "      <td>-103.44956</td>\n",
       "      <td>2</td>\n",
       "      <td>Rocky Mountain</td>\n",
       "      <td>...</td>\n",
       "      <td>mod</td>\n",
       "      <td>T3 Organization</td>\n",
       "      <td>Type 3</td>\n",
       "      <td>strong type organization staff functions fille...</td>\n",
       "      <td>841.695208</td>\n",
       "      <td>Black Elk Wilderness</td>\n",
       "      <td>13534.0</td>\n",
       "      <td>surface torching slash heavy fuels become stan...</td>\n",
       "      <td>1</td>\n",
       "      <td>[(surface, torching, fuels), (surface, become,...</td>\n",
       "    </tr>\n",
       "    <tr>\n",
       "      <th>7664</th>\n",
       "      <td>873657 - mod</td>\n",
       "      <td>873657-873701</td>\n",
       "      <td>873657</td>\n",
       "      <td>873701</td>\n",
       "      <td>873677.0</td>\n",
       "      <td>Stoney Point</td>\n",
       "      <td>35.61278</td>\n",
       "      <td>-93.58667</td>\n",
       "      <td>1</td>\n",
       "      <td>Southern</td>\n",
       "      <td>...</td>\n",
       "      <td>mod</td>\n",
       "      <td>T3 Organization</td>\n",
       "      <td>Type 3</td>\n",
       "      <td></td>\n",
       "      <td>25999.997500</td>\n",
       "      <td>Upper Buffalo Wilderness</td>\n",
       "      <td>11978.0</td>\n",
       "      <td>dry conditions  private structures close</td>\n",
       "      <td>1</td>\n",
       "      <td>[]</td>\n",
       "    </tr>\n",
       "  </tbody>\n",
       "</table>\n",
       "<p>7665 rows × 92 columns</p>\n",
       "</div>"
      ],
      "text/plain": [
       "          wfdss_risk     wfdss_org_id  wfdss_id  orgneed_id      rr_id  \\\n",
       "0      1129395 - mod  1129395-1137632   1129395     1137632  1137625.0   \n",
       "1     1145279 - high  1145279-1145712   1145279     1145712  1145711.0   \n",
       "2      1145279 - mod  1145279-1145720   1145279     1145720  1145719.0   \n",
       "3      1148295 - mod  1148295-1148479   1148295     1148479  1148477.0   \n",
       "4      1154074 - mod  1154074-1157125   1154074     1157125  1157122.0   \n",
       "...              ...              ...       ...         ...        ...   \n",
       "7660    864752 - low    864752-865386    864752      865386   865381.0   \n",
       "7661    867259 - low    867259-868253    867259      868253   868252.0   \n",
       "7662    867259 - mod    867259-867920    867259      867920   867919.0   \n",
       "7663    867813 - mod    867813-868713    867813      868713   868670.0   \n",
       "7664    873657 - mod    873657-873701    873657      873701   873677.0   \n",
       "\n",
       "               fire_name  latitude  longitude  geographic_area  \\\n",
       "0                Buck #1  29.92550  -84.94720                1   \n",
       "1                   49er  34.84439  -92.80926                1   \n",
       "2                   49er  34.84439  -92.80926                1   \n",
       "3              Clear-Cut  26.21003  -81.36806                1   \n",
       "4        Hopkins Prairie  29.28650  -81.71430                1   \n",
       "...                  ...       ...        ...              ...   \n",
       "7660  Raspberry Mountain  34.38083  -93.99472                1   \n",
       "7661         Skegg Again  37.25854  -82.34452                1   \n",
       "7662         Skegg Again  37.25854  -82.34452                1   \n",
       "7663       MORU WILDFIRE  43.87558 -103.44956                2   \n",
       "7664      Stoney Point    35.61278  -93.58667                1   \n",
       "\n",
       "       geo_area_name  ... rrf_rr_desc_1  orgf_org_value_desc  \\\n",
       "0           Southern  ...           mod      T3 Organization   \n",
       "1           Southern  ...          high         Short T2 IMT   \n",
       "2           Southern  ...           mod      T3 Organization   \n",
       "3           Southern  ...           mod      T3 Organization   \n",
       "4           Southern  ...           mod      T3 Organization   \n",
       "...              ...  ...           ...                  ...   \n",
       "7660        Southern  ...           low      T3 Organization   \n",
       "7661        Southern  ...           low      T3 Organization   \n",
       "7662        Southern  ...           mod         Short T2 IMT   \n",
       "7663  Rocky Mountain  ...           mod      T3 Organization   \n",
       "7664        Southern  ...           mod      T3 Organization   \n",
       "\n",
       "      orgf_org_value_desc2                                         orgf_notes  \\\n",
       "0                   Type 3  based relative organizational needs indicated ...   \n",
       "1                   Type 2  type organization available final estimated si...   \n",
       "2                   Type 3                                                      \n",
       "3                   Type 3  managed type qualified type type helicopter sa...   \n",
       "4                   Type 3  although indicies measures ensure containment ...   \n",
       "...                    ...                                                ...   \n",
       "7660                Type 3  type ic assigned daily complexity analysis tim...   \n",
       "7661                Type 3  although functional primarily difficult access...   \n",
       "7662                Type 2                                                      \n",
       "7663                Type 3  strong type organization staff functions fille...   \n",
       "7664                Type 3                                                      \n",
       "\n",
       "        disttowild                                 name    acreage  \\\n",
       "0     13729.609590       Mud Swamp/New River Wilderness     8075.0   \n",
       "1      7723.559640                  Flatside Wilderness    10180.0   \n",
       "2      7723.559640                  Flatside Wilderness    10180.0   \n",
       "3     35199.123460  Marjory Stoneman Douglas Wilderness  1296500.0   \n",
       "4      4272.071047           Juniper Prairie Wilderness    14293.0   \n",
       "...            ...                                  ...        ...   \n",
       "7660   1953.154026               Caney Creek Wilderness    14262.0   \n",
       "7661  68002.602360            Stone Mountain Wilderness     3273.0   \n",
       "7662  68002.602360            Stone Mountain Wilderness     3273.0   \n",
       "7663    841.695208                 Black Elk Wilderness    13534.0   \n",
       "7664  25999.997500             Upper Buffalo Wilderness    11978.0   \n",
       "\n",
       "                                          combined_text multi-jurisdictional  \\\n",
       "0     fuel conditions close based lack control lines...                    1   \n",
       "1     rugged terrain parts starting remote indirect ...                    1   \n",
       "2             predicted winds put smoke little rock                        1   \n",
       "3     behavior mainly creeping hardwood hits torches...                    1   \n",
       "4     smoldering active unburned fuel lines continue...                    1   \n",
       "...                                                 ...                  ...   \n",
       "7660  fuel model steep trending mountain slope sprea...                    1   \n",
       "7661  although weeks since last abnormally dry accor...                    1   \n",
       "7662    primary homes forecast winds remain homes im...                    1   \n",
       "7663  surface torching slash heavy fuels become stan...                    1   \n",
       "7664       dry conditions  private structures close                        1   \n",
       "\n",
       "                                      combined_text_svo  \n",
       "0     [(conditions, persist, behavior), (conditions,...  \n",
       "1     [(parts, starting, tactics), (tactics, using, ...  \n",
       "2                                 [(winds, put, smoke)]  \n",
       "3     [(behavior, creeping, hardwood), (torches, thr...  \n",
       "4     [(smoldering, continues, structures), (activit...  \n",
       "...                                                 ...  \n",
       "7660  [(model, trending, slope), (months, scattered,...  \n",
       "7661  [(winds, distance, homes), (homes, distance, h...  \n",
       "7662  [(winds, remain, homes), (rain, considered, fo...  \n",
       "7663  [(surface, torching, fuels), (surface, become,...  \n",
       "7664                                                 []  \n",
       "\n",
       "[7665 rows x 92 columns]"
      ]
     },
     "execution_count": 104,
     "metadata": {},
     "output_type": "execute_result"
    }
   ],
   "source": [
    "svo_data"
   ]
  },
  {
   "cell_type": "code",
   "execution_count": 105,
   "id": "c6ff6342",
   "metadata": {},
   "outputs": [],
   "source": [
    "svos = svo_data['combined_text_svo']\n",
    "labels = svo_data['rrf_rr_desc']\n",
    "\n",
    "svo_strings = [' '.join(map(str, svo)) for svo in svos]\n",
    "\n",
    "subjects = [' '.join([svo[0] for svo in svo_pair]) for svo_pair in svos]\n",
    "verbs = [' '.join([svo[1] for svo in svo_pair]) for svo_pair in svos]\n",
    "objects = [' '.join([svo[2] for svo in svo_pair]) for svo_pair in svos]\n"
   ]
  },
  {
   "cell_type": "code",
   "execution_count": 106,
   "id": "9739ed34",
   "metadata": {},
   "outputs": [],
   "source": [
    "assert len(subjects) == len(labels), \"Inconsistent lengths of subjects and labels\""
   ]
  },
  {
   "cell_type": "code",
   "execution_count": 107,
   "id": "572a7cc1",
   "metadata": {},
   "outputs": [
    {
     "name": "stdout",
     "output_type": "stream",
     "text": [
      "\n",
      "Top SVOs for Risk Category: mod\n",
      "('season', 'ending', 'event'): 103 occurrences\n",
      "('terrain', 'pose', 'problems'): 29 occurrences\n",
      "('range', 'spotting', 'rates'): 28 occurrences\n",
      "('barriers', 'spread', 'barriers'): 25 occurrences\n",
      "('barriers', 'spread', 'fuels'): 19 occurrences\n",
      "\n",
      "Top SVOs for Risk Category: high\n",
      "('season', 'ending', 'event'): 135 occurrences\n",
      "('operations', 'taking', 'place'): 85 occurrences\n",
      "('range', 'spotting', 'rates'): 52 occurrences\n",
      "('barriers', 'spread', 'barriers'): 52 occurrences\n",
      "('action', 'supporting', 'units'): 42 occurrences\n",
      "\n",
      "Top SVOs for Risk Category: low\n",
      "('season', 'ending', 'event'): 98 occurrences\n",
      "('smoke', 'turned', 'unit'): 18 occurrences\n",
      "('support', 'use', 'role'): 16 occurrences\n",
      "('barriers', 'spread', 'barriers'): 15 occurrences\n",
      "('season', 'ending', 'events'): 12 occurrences\n"
     ]
    }
   ],
   "source": [
    "for risk_category in labels.unique():\n",
    "    print(f\"\\nTop SVOs for Risk Category: {risk_category}\")\n",
    "    \n",
    "    # Filter rows for the current risk category\n",
    "    rows_for_risk = svo_data[labels == risk_category]\n",
    "    \n",
    "    # Flatten the list of SVOs for these rows\n",
    "    all_svos = [svo for svo_pair in rows_for_risk['combined_text_svo'] for svo in svo_pair]\n",
    "    \n",
    "    # Get the most common SVOs and their counts\n",
    "    most_common_svos = Counter(all_svos).most_common(5)  # Change 5 to the desired number of top SVOs\n",
    "    \n",
    "    # Print the most common SVOs and their counts\n",
    "    for svo, count in most_common_svos:\n",
    "        print(f\"{svo}: {count} occurrences\")"
   ]
  },
  {
   "cell_type": "code",
   "execution_count": 108,
   "id": "710c672f",
   "metadata": {},
   "outputs": [
    {
     "name": "stdout",
     "output_type": "stream",
     "text": [
      "\n",
      "Top Disproportionately Common SVOs for Risk Category: mod\n",
      "('cooperators', 'neighboring', 'neighbors'): Relative Frequency 0.9000\n",
      "('frequency', 'iaps', 'issues'): Relative Frequency 0.8750\n",
      "('activity', 'projected', 'part'): Relative Frequency 0.8750\n",
      "('smoke', 'reduce', 'infrastructure'): Relative Frequency 0.8750\n",
      "('number', 'using', 'agency'): Relative Frequency 0.8571\n",
      "\n",
      "Top Disproportionately Common SVOs for Risk Category: high\n",
      "('levels', 'varied', 'frequency'): Relative Frequency 0.9000\n",
      "('effectiveness', 'needed', 'measures'): Relative Frequency 0.9000\n",
      "('actions', 'required', 'agency'): Relative Frequency 0.9000\n",
      "('operations', 'taking', 'place'): Relative Frequency 0.8947\n",
      "('rates', 'spread', 'growth'): Relative Frequency 0.8889\n",
      "\n",
      "Top Disproportionately Common SVOs for Risk Category: low\n",
      "('growth', 'remain', 'category'): Relative Frequency 0.8889\n",
      "('option', 'share', 'managing'): Relative Frequency 0.8750\n",
      "('discussions', 'taken', 'wildlife'): Relative Frequency 0.8571\n",
      "('option', 'share', 'objective'): Relative Frequency 0.8571\n",
      "('barriers', 'spread', 'cffdrs'): Relative Frequency 0.8333\n"
     ]
    }
   ],
   "source": [
    "all_svos = [svo for svo_pair in svos for svo in svo_pair]\n",
    "overall_counts = Counter(all_svos)\n",
    "\n",
    "cutoff_threshold = 0.9\n",
    "\n",
    "# Iterate through unique risk categories\n",
    "for risk_category in labels.unique():\n",
    "    print(f\"\\nTop Disproportionately Common SVOs for Risk Category: {risk_category}\")\n",
    "    \n",
    "    # Filter rows for the current risk category\n",
    "    rows_for_risk = svo_data[labels == risk_category]\n",
    "    \n",
    "    # Flatten the list of SVOs for these rows\n",
    "    svo_counts_for_risk = [svo for svo_pair in rows_for_risk['combined_text_svo'] for svo in svo_pair]\n",
    "    \n",
    "    # Calculate the distribution of SVOs within the current risk category\n",
    "    counts_for_risk = Counter(svo_counts_for_risk)\n",
    "    \n",
    "    # Calculate the relative frequencies and find disproportionately common SVOs\n",
    "    disproportionate_svos = {\n",
    "        svo: (count / overall_counts[svo]) for svo, count in counts_for_risk.items()\n",
    "        if overall_counts[svo] > 0 and (count / overall_counts[svo]) <= cutoff_threshold\n",
    "    }\n",
    "    \n",
    "    # Sort and print the most disproportionately common SVOs\n",
    "    for svo, relative_frequency in sorted(disproportionate_svos.items(), key=lambda x: x[1], reverse=True)[:5]:\n",
    "        print(f\"{svo}: Relative Frequency {relative_frequency:.4f}\")"
   ]
  },
  {
   "cell_type": "code",
   "execution_count": 110,
   "id": "356be7ff",
   "metadata": {},
   "outputs": [
    {
     "name": "stdout",
     "output_type": "stream",
     "text": [
      "\n",
      "### Subjects ###\n",
      "Accuracy: 0.45\n",
      "Classification Report:\n",
      "               precision    recall  f1-score   support\n",
      "\n",
      "        high       0.52      0.57      0.54       552\n",
      "         low       0.39      0.23      0.29       400\n",
      "         mod       0.42      0.50      0.45       581\n",
      "\n",
      "    accuracy                           0.45      1533\n",
      "   macro avg       0.44      0.43      0.43      1533\n",
      "weighted avg       0.45      0.45      0.44      1533\n",
      "\n",
      "\n",
      "### Verbs ###\n",
      "Accuracy: 0.45\n",
      "Classification Report:\n",
      "               precision    recall  f1-score   support\n",
      "\n",
      "        high       0.50      0.55      0.52       552\n",
      "         low       0.43      0.24      0.31       400\n",
      "         mod       0.40      0.49      0.44       581\n",
      "\n",
      "    accuracy                           0.45      1533\n",
      "   macro avg       0.44      0.43      0.42      1533\n",
      "weighted avg       0.45      0.45      0.44      1533\n",
      "\n",
      "\n",
      "### Objects ###\n",
      "Accuracy: 0.45\n",
      "Classification Report:\n",
      "               precision    recall  f1-score   support\n",
      "\n",
      "        high       0.51      0.58      0.54       552\n",
      "         low       0.42      0.23      0.29       400\n",
      "         mod       0.41      0.48      0.44       581\n",
      "\n",
      "    accuracy                           0.45      1533\n",
      "   macro avg       0.45      0.43      0.43      1533\n",
      "weighted avg       0.45      0.45      0.44      1533\n",
      "\n"
     ]
    }
   ],
   "source": [
    "# Split the data into training and testing sets for subjects\n",
    "x_train_sub, x_test_sub, y_train_sub, y_test_sub = train_test_split(subjects, labels, test_size=0.2, random_state=2)\n",
    "\n",
    "# Use TF-IDF vectorization for subjects\n",
    "tfidf_vectorizer_sub = TfidfVectorizer()\n",
    "x_train_tfidf_sub = tfidf_vectorizer_sub.fit_transform(x_train_sub)\n",
    "x_test_tfidf_sub = tfidf_vectorizer_sub.transform(x_test_sub)\n",
    "\n",
    "# Create a Logistic Regression model for subjects\n",
    "model_sub = LogisticRegression(random_state=2)\n",
    "model_sub.fit(x_train_tfidf_sub, y_train_sub)\n",
    "y_pred_sub = model_sub.predict(x_test_tfidf_sub)\n",
    "accuracy_sub = accuracy_score(y_test_sub, y_pred_sub)\n",
    "report_sub = classification_report(y_test_sub, y_pred_sub)\n",
    "\n",
    "# Display evaluation metrics for Subjects\n",
    "print(\"\\n### Subjects ###\")\n",
    "print(f\"Accuracy: {accuracy_sub:.2f}\")\n",
    "print(\"Classification Report:\\n\", report_sub)\n",
    "\n",
    "\n",
    "# Split the data into training and testing sets for verbs\n",
    "x_train_verb, x_test_verb, y_train_verb, y_test_verb = train_test_split(verbs, labels, test_size=0.2, random_state=2)\n",
    "\n",
    "# Use TF-IDF vectorization for verbs\n",
    "tfidf_vectorizer_verb = TfidfVectorizer()\n",
    "x_train_tfidf_verb = tfidf_vectorizer_verb.fit_transform(x_train_verb)\n",
    "x_test_tfidf_verb = tfidf_vectorizer_verb.transform(x_test_verb)\n",
    "\n",
    "# Create a Logistic Regression model for verbs\n",
    "model_verb = LogisticRegression(random_state=2)\n",
    "model_verb.fit(x_train_tfidf_verb, y_train_verb)\n",
    "y_pred_verb = model_verb.predict(x_test_tfidf_verb)\n",
    "accuracy_verb = accuracy_score(y_test_verb, y_pred_verb)\n",
    "report_verb = classification_report(y_test_verb, y_pred_verb)\n",
    "\n",
    "# Display evaluation metrics for Verbs\n",
    "print(\"\\n### Verbs ###\")\n",
    "print(f\"Accuracy: {accuracy_verb:.2f}\")\n",
    "print(\"Classification Report:\\n\", report_verb)\n",
    "\n",
    "\n",
    "# Split the data into training and testing sets for objects\n",
    "x_train_obj, x_test_obj, y_train_obj, y_test_obj = train_test_split(objects, labels, test_size=0.2, random_state=2)\n",
    "\n",
    "# Use TF-IDF vectorization for objects\n",
    "tfidf_vectorizer_obj = TfidfVectorizer()\n",
    "x_train_tfidf_obj = tfidf_vectorizer_obj.fit_transform(x_train_obj)\n",
    "x_test_tfidf_obj = tfidf_vectorizer_obj.transform(x_test_obj)\n",
    "\n",
    "# Create a Logistic Regression model for objects\n",
    "model_obj = LogisticRegression(random_state=2)\n",
    "model_obj.fit(x_train_tfidf_obj, y_train_obj)\n",
    "y_pred_obj = model_obj.predict(x_test_tfidf_obj)\n",
    "accuracy_obj = accuracy_score(y_test_obj, y_pred_obj)\n",
    "report_obj = classification_report(y_test_obj, y_pred_obj)\n",
    "\n",
    "# Display evaluation metrics for Objects\n",
    "print(\"\\n### Objects ###\")\n",
    "print(f\"Accuracy: {accuracy_obj:.2f}\")\n",
    "print(\"Classification Report:\\n\", report_obj)"
   ]
  },
  {
   "cell_type": "code",
   "execution_count": 111,
   "id": "61763a36",
   "metadata": {},
   "outputs": [],
   "source": [
    "x_train, x_test, y_train, y_test = train_test_split(svo_strings, labels, test_size=0.2, random_state=2)\n",
    "\n",
    "tfidf_vectorizer = TfidfVectorizer()\n",
    "x_train_tfidf = tfidf_vectorizer.fit_transform(x_train)\n",
    "x_test_tfidf = tfidf_vectorizer.transform(x_test)\n"
   ]
  },
  {
   "cell_type": "code",
   "execution_count": 112,
   "id": "01e0ef4b",
   "metadata": {},
   "outputs": [
    {
     "name": "stdout",
     "output_type": "stream",
     "text": [
      "Accuracy: 0.48\n",
      "Classification Report:\n",
      "               precision    recall  f1-score   support\n",
      "\n",
      "        high       0.53      0.63      0.58       552\n",
      "         low       0.54      0.24      0.34       400\n",
      "         mod       0.42      0.51      0.46       581\n",
      "\n",
      "    accuracy                           0.48      1533\n",
      "   macro avg       0.50      0.46      0.46      1533\n",
      "weighted avg       0.49      0.48      0.47      1533\n",
      "\n"
     ]
    }
   ],
   "source": [
    "model = RandomForestClassifier()\n",
    "\n",
    "model.fit(x_train_tfidf, y_train)\n",
    "\n",
    "y_pred = model.predict(x_test_tfidf)\n",
    "\n",
    "accuracy = accuracy_score(y_test, y_pred)\n",
    "report = classification_report(y_test, y_pred)\n",
    "\n",
    "print(f\"Accuracy: {accuracy:.2f}\")\n",
    "print(\"Classification Report:\\n\", report)"
   ]
  },
  {
   "cell_type": "code",
   "execution_count": null,
   "id": "c95d6494",
   "metadata": {},
   "outputs": [],
   "source": []
  },
  {
   "cell_type": "markdown",
   "id": "3adf024b",
   "metadata": {},
   "source": [
    "# Final Model and Insights"
   ]
  },
  {
   "cell_type": "markdown",
   "id": "bcfba751",
   "metadata": {},
   "source": [
    "## Best Individual Model - Penalized Logistic Regression"
   ]
  },
  {
   "cell_type": "code",
   "execution_count": 145,
   "id": "14c910cc",
   "metadata": {},
   "outputs": [
    {
     "name": "stdout",
     "output_type": "stream",
     "text": [
      "A penalized logistic regression model classifying risk has an accuracy of 0.6033920417482062\n",
      "\n",
      "Classification Report:\n",
      "              precision    recall  f1-score   support\n",
      "\n",
      "        high       0.69      0.75      0.72       552\n",
      "         low       0.62      0.46      0.53       400\n",
      "         mod       0.51      0.56      0.53       581\n",
      "\n",
      "    accuracy                           0.60      1533\n",
      "   macro avg       0.61      0.59      0.60      1533\n",
      "weighted avg       0.61      0.60      0.60      1533\n",
      "\n"
     ]
    }
   ],
   "source": [
    "plr_model, lrx_train, lrx_test,\\\n",
    "lry_train, lry_test = train_linear_reg(combined_texts,risk_labels,'l2',1.1,1000)\n",
    "\n",
    "lry_pred = plr_model.predict(lrx_test)\n",
    "plr_score = accuracy_score(lry_test, lry_pred)\n",
    "\n",
    "print(f\"A penalized logistic regression model classifying risk has an accuracy of {plr_score}\\n\")\n",
    "print(\"Classification Report:\")\n",
    "print(classification_report(lry_test, lry_pred))"
   ]
  },
  {
   "cell_type": "markdown",
   "id": "4242aebd",
   "metadata": {},
   "source": [
    "## Best Ensemble - Stacker"
   ]
  },
  {
   "cell_type": "code",
   "execution_count": null,
   "id": "ea92dfde",
   "metadata": {},
   "outputs": [],
   "source": [
    "best_rf_classifier,*_ = best_random_forest(combined_text, labels, 1000)\n",
    "best_nb_classifier, *_ = train_nb_classifier(combined_texts,risk_labels,.2,.1)"
   ]
  },
  {
   "cell_type": "code",
   "execution_count": null,
   "id": "e45fe28e",
   "metadata": {},
   "outputs": [],
   "source": [
    "estimators = [('PLR',plr_model),('RF', en_rf_classifier), ('NB_alpha', best_nb_classifier)]"
   ]
  },
  {
   "cell_type": "code",
   "execution_count": null,
   "id": "bbef0280",
   "metadata": {},
   "outputs": [],
   "source": [
    "stacker = StackingClassifier(estimators=estimators, final_estimator=LogisticRegression())\n",
    "\n",
    "stacker.fit(x_train,y_train)"
   ]
  },
  {
   "cell_type": "code",
   "execution_count": null,
   "id": "9dda5b21",
   "metadata": {},
   "outputs": [],
   "source": [
    "stack_pred = stacker.predict(x_test)\n",
    "\n",
    "stack_score = accuracy_score(y_test, stack_pred)\n",
    "\n",
    "stack_score"
   ]
  },
  {
   "cell_type": "markdown",
   "id": "cfe97c1d",
   "metadata": {},
   "source": [
    "## Can It Be improved?"
   ]
  },
  {
   "cell_type": "code",
   "execution_count": null,
   "id": "7dc2cacc",
   "metadata": {},
   "outputs": [],
   "source": []
  },
  {
   "cell_type": "code",
   "execution_count": null,
   "id": "c6c64f3e",
   "metadata": {},
   "outputs": [],
   "source": []
  },
  {
   "cell_type": "markdown",
   "id": "6d752650",
   "metadata": {},
   "source": [
    "## Features Driving Risk"
   ]
  },
  {
   "cell_type": "code",
   "execution_count": null,
   "id": "65495d7e",
   "metadata": {},
   "outputs": [],
   "source": []
  },
  {
   "cell_type": "markdown",
   "id": "24faf653",
   "metadata": {},
   "source": [
    "# Specific Questions"
   ]
  },
  {
   "cell_type": "code",
   "execution_count": null,
   "id": "94bf944e",
   "metadata": {},
   "outputs": [],
   "source": []
  },
  {
   "cell_type": "code",
   "execution_count": 83,
   "id": "37c9f1ab",
   "metadata": {},
   "outputs": [],
   "source": [
    "lem_data = data.copy()"
   ]
  },
  {
   "cell_type": "code",
   "execution_count": 84,
   "id": "f2fe4d14",
   "metadata": {
    "scrolled": true
   },
   "outputs": [],
   "source": [
    "from nltk.stem import WordNetLemmatizer\n",
    "from nltk.corpus import wordnet\n",
    "\n",
    "\n",
    "# Initialize the WordNet lemmatizer\n",
    "lemmatizer = WordNetLemmatizer()\n",
    "\n",
    "# Function to convert NLTK's POS tags to WordNet's POS tags\n",
    "def nltk_to_wordnet_pos(nltk_tag):\n",
    "    if nltk_tag.startswith('J'):\n",
    "        return wordnet.ADJ\n",
    "    elif nltk_tag.startswith('V'):\n",
    "        return wordnet.VERB\n",
    "    elif nltk_tag.startswith('N'):\n",
    "        return wordnet.NOUN\n",
    "    elif nltk_tag.startswith('R'):\n",
    "        return wordnet.ADV\n",
    "    else:\n",
    "        return None\n",
    "\n",
    "# Function to lemmatize a single token\n",
    "def lemmatize_token(token, pos_tag):\n",
    "    wordnet_pos = nltk_to_wordnet_pos(pos_tag)\n",
    "    if wordnet_pos is not None:\n",
    "        return lemmatizer.lemmatize(token, pos=wordnet_pos)\n",
    "    else:\n",
    "        return lemmatizer.lemmatize(token)\n",
    "\n",
    "# Function to lemmatize text in a column\n",
    "def lemmatize_text_column(text_column):\n",
    "    lemmatized_text = []\n",
    "    for text in text_column:\n",
    "        tokens = nltk.word_tokenize(text)\n",
    "        pos_tags = nltk.pos_tag(tokens)\n",
    "        lemmatized_tokens = [lemmatize_token(token, pos_tag) for token, pos_tag in pos_tags]\n",
    "        lemmatized_text.append(' '.join(lemmatized_tokens))\n",
    "    return lemmatized_text\n",
    "\n",
    "\n",
    "\n",
    "\n",
    "# Lemmatize the text column\n",
    "lem_data['lemmatized_text'] = lemmatize_text_column(lem_data['combined_text'])\n"
   ]
  },
  {
   "cell_type": "code",
   "execution_count": 85,
   "id": "4b961a92",
   "metadata": {},
   "outputs": [],
   "source": [
    "lem_text = lem_data['lemmatized_text']\n",
    "lem_labels = lem_data['rrf_rr_desc']\n",
    "\n",
    "lem_plr_model, lem_lrx_train, lem_lrx_test,\\\n",
    "lem_lry_train, lem_lry_test = train_linear_reg(lem_text,lem_labels,'l2',1,1000)"
   ]
  },
  {
   "cell_type": "code",
   "execution_count": 86,
   "id": "7c894bc9",
   "metadata": {},
   "outputs": [],
   "source": [
    "lem_lry_pred = lem_plr_model.predict(lem_lrx_test)\n",
    "lem_plr_score = accuracy_score(lem_lry_test, lem_lry_pred)"
   ]
  },
  {
   "cell_type": "code",
   "execution_count": 87,
   "id": "298149ad",
   "metadata": {},
   "outputs": [
    {
     "data": {
      "text/plain": [
       "0.6060013046314416"
      ]
     },
     "execution_count": 87,
     "metadata": {},
     "output_type": "execute_result"
    }
   ],
   "source": [
    "lem_plr_score"
   ]
  },
  {
   "cell_type": "code",
   "execution_count": 88,
   "id": "efe2aaa2",
   "metadata": {},
   "outputs": [
    {
     "data": {
      "text/plain": [
       "0.5923026744944553"
      ]
     },
     "execution_count": 88,
     "metadata": {},
     "output_type": "execute_result"
    }
   ],
   "source": [
    "plr_score"
   ]
  },
  {
   "cell_type": "code",
   "execution_count": null,
   "id": "f785a3f6",
   "metadata": {},
   "outputs": [],
   "source": []
  }
 ],
 "metadata": {
  "kernelspec": {
   "display_name": "Python 3 (ipykernel)",
   "language": "python",
   "name": "python3"
  },
  "language_info": {
   "codemirror_mode": {
    "name": "ipython",
    "version": 3
   },
   "file_extension": ".py",
   "mimetype": "text/x-python",
   "name": "python",
   "nbconvert_exporter": "python",
   "pygments_lexer": "ipython3",
   "version": "3.9.12"
  },
  "toc": {
   "base_numbering": 1,
   "nav_menu": {},
   "number_sections": true,
   "sideBar": true,
   "skip_h1_title": false,
   "title_cell": "Table of Contents",
   "title_sidebar": "Contents",
   "toc_cell": false,
   "toc_position": {
    "height": "calc(100% - 180px)",
    "left": "10px",
    "top": "150px",
    "width": "282.181px"
   },
   "toc_section_display": true,
   "toc_window_display": true
  }
 },
 "nbformat": 4,
 "nbformat_minor": 5
}
